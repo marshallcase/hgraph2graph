{
 "cells": [
  {
   "cell_type": "code",
   "execution_count": 215,
   "id": "dfc6968b",
   "metadata": {},
   "outputs": [],
   "source": [
    "##vocab test script\n",
    "#imports\n",
    "import multiprocessing\n",
    "from multiprocessing import Pool\n",
    "import math, random, sys\n",
    "import pickle\n",
    "import argparse\n",
    "from functools import partial\n",
    "import torch\n",
    "import numpy\n",
    "from rdkit import Chem\n",
    "from rdkit.Chem.Draw import IPythonConsole\n",
    "from rdkit.Chem import rdDepictor\n",
    "from rdkit.Chem.Draw import rdMolDraw2D\n",
    "from hgraph import MolGraph, common_atom_vocab, PairVocab\n",
    "import rdkit\n",
    "import rdkit.Chem as Chem\n",
    "import networkx as nx\n",
    "from hgraph.chemutils import *\n",
    "from hgraph.nnutils import *\n",
    "import numpy as np\n",
    "import matplotlib.pyplot as plt\n",
    "from IPython.display import SVG\n",
    "import time\n",
    "from rdkit.Chem import Draw\n",
    "import itertools\n",
    "from collections import Counter"
   ]
  },
  {
   "cell_type": "code",
   "execution_count": 2,
   "id": "c0d85716",
   "metadata": {},
   "outputs": [],
   "source": [
    "#process from get_vocab.py\n",
    "def process(data):\n",
    "    vocab = set()\n",
    "    for line in data:\n",
    "        s = line.strip(\"\\r\\n \")\n",
    "        hmol = MolGraph(s)\n",
    "        for node,attr in hmol.mol_tree.nodes(data=True):\n",
    "            smiles = attr['smiles']\n",
    "            vocab.add( attr['label'] )\n",
    "            for i,s in attr['inter_label']:\n",
    "                vocab.add( (smiles, s) )\n",
    "    return vocab"
   ]
  },
  {
   "cell_type": "code",
   "execution_count": 3,
   "id": "b2fa9b76",
   "metadata": {},
   "outputs": [
    {
     "name": "stdout",
     "output_type": "stream",
     "text": [
      "['N[C@@H]([C@]([H])(O)C)C(=O)N[C@@H](CSCC(C3)=O)C(=O)N[C@@H](C(C)C)C(=O)N1[C@@H](CCC1)C(=O)N[C@@H](CCC(=O)O)C(=O)N[C@@H](CC1=CN=C-N1)C(=O)N[C@@H](CS3)C(=O)N[C@@H](CO)C(=O)N[C@@H](CSCC(C3)=O)C(=O)N[C@@H](Cc1ccc(O)cc1)C(=O)N[C@@H](CCCNC(=N)N)C(=O)N[C@@H](CS3)C(=O)N1[C@@H](CCC1)C(=O)O\\n', 'N[C@@H]([C@]([H])(O)C)C(=O)N[C@@H](CSCC(C4)=O)C(=O)N[C@@H](C(C)C)C(=O)N1[C@@H](CCC1)C(=O)N[C@@H](CCC(=O)O)C(=O)N[C@@H](CC1=CN=C-N1)C(=O)N[C@@H](CS3)C(=O)N[C@@H](CO)C(=O)N[C@@H](CSCC(C3)=O)C(=O)N[C@@H](Cc1ccc(O)cc1)C(=O)N[C@@H](CCCNC(=N)N)C(=O)N[C@@H](CS4)C(=O)N1[C@@H](CCC1)C(=O)O\\n', 'N[C@@H]([C@]([H])(O)C)C(=O)N[C@@H](CSCC(C3)=O)C(=O)N[C@@H](C(C)C)C(=O)N1[C@@H](CCC1)C(=O)N[C@@H](CCC(=O)O)C(=O)N[C@@H](CC1=CN=C-N1)C(=O)N[C@@H](CSCC(C4)=O)C(=O)N[C@@H](CO)C(=O)N[C@@H](CS3)C(=O)N[C@@H](Cc1ccc(O)cc1)C(=O)N[C@@H](CCCNC(=N)N)C(=O)N[C@@H](CS4)C(=O)N1[C@@H](CCC1)C(=O)O\\n', 'N[C@@H](CCCCN)C(=O)N[C@@H](CSCC(C3)=O)C(=O)N[C@@H](Cc1ccccc1)C(=O)N[C@@H](CC(=O)O)C(=O)N[C@@H](CS3)C(=O)N[C@@H](CSCC(C3)=O)C(=O)N[C@@H](Cc1ccc(O)cc1)C(=O)N[C@@H](CCCNC(=N)N)C(=O)N[C@@H](CS3)C(=O)N1[C@@H](CCC1)C(=O)O\\n', 'N[C@@H](CCCCN)C(=O)N[C@@H](CSCC(C4)=O)C(=O)N[C@@H](Cc1ccccc1)C(=O)N[C@@H](CC(=O)O)C(=O)N[C@@H](CS3)C(=O)N[C@@H](CSCC(C3)=O)C(=O)N[C@@H](Cc1ccc(O)cc1)C(=O)N[C@@H](CCCNC(=N)N)C(=O)N[C@@H](CS4)C(=O)N1[C@@H](CCC1)C(=O)O\\n']\n"
     ]
    }
   ],
   "source": [
    "#manual vocab import\n",
    "with open('data/chembl/cyclic_peptide_smiles.txt') as f:\n",
    "    contents = f.readlines()\n",
    "print(contents[:5])"
   ]
  },
  {
   "cell_type": "code",
   "execution_count": 4,
   "id": "f09157ac",
   "metadata": {},
   "outputs": [
    {
     "name": "stdout",
     "output_type": "stream",
     "text": [
      "['N[C@@H](C(C)C)C(=O)N[C@@H](CSCC(C4)=O)C(=O)N[C@@H](Cc1ccccc1)C(=O)N[C@@H](CCCNC(=N)N)C(=O)N[C@@H](CS3)C(=O)N[C@@H](CSCC(C3)=O)C(=O)N[C@@H](CC(=O)N)C(=O)N[C@@H](C(C)C)C(=O)N[C@@H](C(C)C)C(=O)N[C@@H]([C@]([H])(O)C)C(=O)N[C@@H](CS4)C(=O)N[C@@H](CO)C(=O)O', 'N[C@@H](Cc1ccccc1)C(=O)N[C@@H](CSCC(C3)=O)C(=O)N1[C@@H](CCC1)C(=O)N[C@@H](CSCC(C4)=O)C(=O)N[C@@H](CS3)C(=O)N[C@@H](CO)C(=O)N[C@@H](CCCNC(=N)N)C(=O)N[C@@H](CC(=CN2)C1=C2C=CC=C1)C(=O)N[C@@H](CO)C(=O)N[C@@H](CS4)C(=O)N[C@@H](CCC(=O)N)C(=O)O', 'N[C@@H](CO)C(=O)N[C@@H](CSCC(C4)=O)C(=O)N[C@@H](Cc1ccc(O)cc1)C(=O)N[C@@H](CO)C(=O)N[C@@H](Cc1ccccc1)C(=O)N[C@@H](CS3)C(=O)N[C@@H](CC(=O)O)C(=O)N[C@@H](CCCNC(=N)N)C(=O)N[C@@H](CSCC(C3)=O)C(=O)N[C@@H](CS4)C(=O)N[C@@H](CCCNC(=N)N)C(=O)O', 'N[C@@H](CO)C(=O)N[C@@H](CSCC(C4)=O)C(=O)N[C@@H](Cc1ccc(O)cc1)C(=O)N[C@@H](CCCNC(=N)N)C(=O)N[C@@H](CS3)C(=O)N[C@@H](CO)C(=O)N[C@@H](CSCC(C3)=O)C(=O)N[C@@H](CS4)C(=O)N[C@@H](CC(=O)O)C(=O)O', 'N[C@@H](CO)C(=O)N[C@@H](CSCC(C4)=O)C(=O)N[C@@H](CC(=CN2)C1=C2C=CC=C1)C(=O)N[C@@H](CCCNC(=N)N)C(=O)N[C@@H](CS3)C(=O)N[C@@H](CO)C(=O)N[C@@H](CSCC(C3)=O)C(=O)N[C@@H](C)C(=O)N[C@@H](C(C)C)C(=O)N1[C@@H](CCC1)C(=O)N[C@@H](CS4)C(=O)N[C@@H](Cc1ccccc1)C(=O)O']\n"
     ]
    }
   ],
   "source": [
    "data = [mol.split()[:2] for mol in contents] #drop new line token\n",
    "data = np.hstack(data)\n",
    "data = list(set(data)) #prevent duplicates\n",
    "print(data[:5])"
   ]
  },
  {
   "cell_type": "code",
   "execution_count": 5,
   "id": "414ef348",
   "metadata": {},
   "outputs": [
    {
     "name": "stdout",
     "output_type": "stream",
     "text": [
      "0\n",
      "{'ismiles': 'C[NH2:1]', 'inter_label': [(0, 'C[NH2:1]')], 'smiles': 'CN', 'label': ('CN', 'C[NH2:1]'), 'cluster': (0, 1), 'assm_cands': []}\n",
      "1\n",
      "{'ismiles': 'C[CH3:1]', 'inter_label': [(1, 'C[CH3:1]')], 'smiles': 'CC', 'label': ('CC', 'C[CH3:1]'), 'cluster': (1, 2), 'assm_cands': []}\n",
      "2\n",
      "{'ismiles': 'C[CH3:1]', 'inter_label': [(2, 'C[CH3:1]')], 'smiles': 'CC', 'label': ('CC', 'C[CH3:1]'), 'cluster': (2, 3), 'assm_cands': []}\n",
      "3\n",
      "{'ismiles': 'C[CH3:1]', 'inter_label': [(2, 'C[CH3:1]')], 'smiles': 'CC', 'label': ('CC', 'C[CH3:1]'), 'cluster': (2, 4), 'assm_cands': []}\n",
      "4\n",
      "{'ismiles': 'C[CH3:1]', 'inter_label': [(1, 'C[CH3:1]')], 'smiles': 'CC', 'label': ('CC', 'C[CH3:1]'), 'cluster': (1, 5), 'assm_cands': []}\n",
      "5\n",
      "{'ismiles': 'O=[CH2:1]', 'inter_label': [(5, 'O=[CH2:1]')], 'smiles': 'C=O', 'label': ('C=O', 'O=[CH2:1]'), 'cluster': (5, 6), 'assm_cands': []}\n",
      "6\n",
      "{'ismiles': 'N[CH3:1]', 'inter_label': [(5, 'N[CH3:1]')], 'smiles': 'CN', 'label': ('CN', 'N[CH3:1]'), 'cluster': (5, 7), 'assm_cands': []}\n",
      "7\n",
      "{'ismiles': 'C[NH2:1]', 'inter_label': [(7, 'C[NH2:1]')], 'smiles': 'CN', 'label': ('CN', 'C[NH2:1]'), 'cluster': (7, 8), 'assm_cands': []}\n",
      "8\n",
      "{'ismiles': 'O=[CH2:1]', 'inter_label': [(12, 'O=[CH2:1]')], 'smiles': 'C=O', 'label': ('C=O', 'O=[CH2:1]'), 'cluster': (12, 14), 'assm_cands': [12, 8, 9, 10, 11, 13, 87, 86, 85, 84, 82, 78, 77, 75, 71, 70, 68, 64, 63, 61, 56, 55, 53, 46, 45, 43, 40, 39, 37, 29, 28, 26, 18, 17, 15]}\n",
      "9\n",
      "{'ismiles': 'O=[CH2:1]', 'inter_label': [(15, 'O=[CH2:1]')], 'smiles': 'C=O', 'label': ('C=O', 'O=[CH2:1]'), 'cluster': (15, 16), 'assm_cands': [15, 8, 9, 10, 11, 12, 13, 87, 86, 85, 84, 82, 78, 77, 75, 71, 70, 68, 64, 63, 61, 56, 55, 53, 46, 45, 43, 40, 39, 37, 29, 28, 26, 18, 17]}\n",
      "10\n",
      "{'ismiles': 'C[CH3:1]', 'inter_label': [(18, 'C[CH3:1]')], 'smiles': 'CC', 'label': ('CC', 'C[CH3:1]'), 'cluster': (18, 19), 'assm_cands': [18, 8, 9, 10, 11, 12, 13, 87, 86, 85, 84, 82, 78, 77, 75, 71, 70, 68, 64, 63, 61, 56, 55, 53, 46, 45, 43, 40, 39, 37, 29, 28, 26, 17, 15]}\n",
      "11\n",
      "{'ismiles': 'C[CH3:1]', 'inter_label': [(19, 'C[CH3:1]')], 'smiles': 'CC', 'label': ('CC', 'C[CH3:1]'), 'cluster': (19, 20), 'assm_cands': []}\n",
      "12\n",
      "{'ismiles': 'O=[CH2:1]', 'inter_label': [(26, 'O=[CH2:1]')], 'smiles': 'C=O', 'label': ('C=O', 'O=[CH2:1]'), 'cluster': (26, 27), 'assm_cands': [26, 8, 9, 10, 11, 12, 13, 87, 86, 85, 84, 82, 78, 77, 75, 71, 70, 68, 64, 63, 61, 56, 55, 53, 46, 45, 43, 40, 39, 37, 29, 28, 18, 17, 15]}\n",
      "13\n",
      "{'ismiles': 'C[CH3:1]', 'inter_label': [(29, 'C[CH3:1]')], 'smiles': 'CC', 'label': ('CC', 'C[CH3:1]'), 'cluster': (29, 30), 'assm_cands': [29, 8, 9, 10, 11, 12, 13, 87, 86, 85, 84, 82, 78, 77, 75, 71, 70, 68, 64, 63, 61, 56, 55, 53, 46, 45, 43, 40, 39, 37, 28, 26, 18, 17, 15]}\n",
      "14\n",
      "{'ismiles': 'C[CH3:1]', 'inter_label': [(30, 'C[CH3:1]')], 'smiles': 'CC', 'label': ('CC', 'C[CH3:1]'), 'cluster': (30, 31), 'assm_cands': []}\n",
      "15\n",
      "{'ismiles': 'C[CH3:1]', 'inter_label': [(31, 'C[CH3:1]')], 'smiles': 'CC', 'label': ('CC', 'C[CH3:1]'), 'cluster': (31, 32), 'assm_cands': []}\n",
      "16\n",
      "{'ismiles': 'N[CH3:1]', 'inter_label': [(32, 'N[CH3:1]')], 'smiles': 'CN', 'label': ('CN', 'N[CH3:1]'), 'cluster': (32, 33), 'assm_cands': []}\n",
      "17\n",
      "{'ismiles': 'C[NH2:1]', 'inter_label': [(33, 'C[NH2:1]')], 'smiles': 'CN', 'label': ('CN', 'C[NH2:1]'), 'cluster': (33, 34), 'assm_cands': []}\n",
      "18\n",
      "{'ismiles': 'N=[CH2:1]', 'inter_label': [(34, 'N=[CH2:1]')], 'smiles': 'C=N', 'label': ('C=N', 'N=[CH2:1]'), 'cluster': (34, 35), 'assm_cands': []}\n",
      "19\n",
      "{'ismiles': 'N[CH3:1]', 'inter_label': [(34, 'N[CH3:1]')], 'smiles': 'CN', 'label': ('CN', 'N[CH3:1]'), 'cluster': (34, 36), 'assm_cands': []}\n",
      "20\n",
      "{'ismiles': 'O=[CH2:1]', 'inter_label': [(37, 'O=[CH2:1]')], 'smiles': 'C=O', 'label': ('C=O', 'O=[CH2:1]'), 'cluster': (37, 38), 'assm_cands': [37, 8, 9, 10, 11, 12, 13, 87, 86, 85, 84, 82, 78, 77, 75, 71, 70, 68, 64, 63, 61, 56, 55, 53, 46, 45, 43, 40, 39, 29, 28, 26, 18, 17, 15]}\n",
      "21\n",
      "{'ismiles': 'O=[CH2:1]', 'inter_label': [(43, 'O=[CH2:1]')], 'smiles': 'C=O', 'label': ('C=O', 'O=[CH2:1]'), 'cluster': (43, 44), 'assm_cands': [43, 8, 9, 10, 11, 12, 13, 87, 86, 85, 84, 82, 78, 77, 75, 71, 70, 68, 64, 63, 61, 56, 55, 53, 46, 45, 40, 39, 37, 29, 28, 26, 18, 17, 15]}\n",
      "22\n",
      "{'ismiles': 'O=[CH2:1]', 'inter_label': [(50, 'O=[CH2:1]')], 'smiles': 'C=O', 'label': ('C=O', 'O=[CH2:1]'), 'cluster': (50, 52), 'assm_cands': [50, 41, 40, 43, 45, 46, 47, 48, 49, 51, 42]}\n",
      "23\n",
      "{'ismiles': 'O=[CH2:1]', 'inter_label': [(53, 'O=[CH2:1]')], 'smiles': 'C=O', 'label': ('C=O', 'O=[CH2:1]'), 'cluster': (53, 54), 'assm_cands': [53, 8, 9, 10, 11, 12, 13, 87, 86, 85, 84, 82, 78, 77, 75, 71, 70, 68, 64, 63, 61, 56, 55, 46, 45, 43, 40, 39, 37, 29, 28, 26, 18, 17, 15]}\n",
      "24\n",
      "{'ismiles': 'C[CH3:1]', 'inter_label': [(56, 'C[CH3:1]')], 'smiles': 'CC', 'label': ('CC', 'C[CH3:1]'), 'cluster': (56, 57), 'assm_cands': [56, 8, 9, 10, 11, 12, 13, 87, 86, 85, 84, 82, 78, 77, 75, 71, 70, 68, 64, 63, 61, 55, 53, 46, 45, 43, 40, 39, 37, 29, 28, 26, 18, 17, 15]}\n",
      "25\n",
      "{'ismiles': 'C[CH3:1]', 'inter_label': [(57, 'C[CH3:1]')], 'smiles': 'CC', 'label': ('CC', 'C[CH3:1]'), 'cluster': (57, 58), 'assm_cands': []}\n",
      "26\n",
      "{'ismiles': 'O=[CH2:1]', 'inter_label': [(58, 'O=[CH2:1]')], 'smiles': 'C=O', 'label': ('C=O', 'O=[CH2:1]'), 'cluster': (58, 59), 'assm_cands': []}\n",
      "27\n",
      "{'ismiles': 'N[CH3:1]', 'inter_label': [(58, 'N[CH3:1]')], 'smiles': 'CN', 'label': ('CN', 'N[CH3:1]'), 'cluster': (58, 60), 'assm_cands': []}\n",
      "28\n",
      "{'ismiles': 'O=[CH2:1]', 'inter_label': [(61, 'O=[CH2:1]')], 'smiles': 'C=O', 'label': ('C=O', 'O=[CH2:1]'), 'cluster': (61, 62), 'assm_cands': [61, 8, 9, 10, 11, 12, 13, 87, 86, 85, 84, 82, 78, 77, 75, 71, 70, 68, 64, 63, 56, 55, 53, 46, 45, 43, 40, 39, 37, 29, 28, 26, 18, 17, 15]}\n",
      "29\n",
      "{'ismiles': 'C[CH3:1]', 'inter_label': [(64, 'C[CH3:1]')], 'smiles': 'CC', 'label': ('CC', 'C[CH3:1]'), 'cluster': (64, 65), 'assm_cands': [64, 8, 9, 10, 11, 12, 13, 87, 86, 85, 84, 82, 78, 77, 75, 71, 70, 68, 63, 61, 56, 55, 53, 46, 45, 43, 40, 39, 37, 29, 28, 26, 18, 17, 15]}\n",
      "30\n",
      "{'ismiles': 'C[CH3:1]', 'inter_label': [(65, 'C[CH3:1]')], 'smiles': 'CC', 'label': ('CC', 'C[CH3:1]'), 'cluster': (65, 66), 'assm_cands': []}\n",
      "31\n",
      "{'ismiles': 'C[CH3:1]', 'inter_label': [(65, 'C[CH3:1]')], 'smiles': 'CC', 'label': ('CC', 'C[CH3:1]'), 'cluster': (65, 67), 'assm_cands': []}\n",
      "32\n",
      "{'ismiles': 'O=[CH2:1]', 'inter_label': [(68, 'O=[CH2:1]')], 'smiles': 'C=O', 'label': ('C=O', 'O=[CH2:1]'), 'cluster': (68, 69), 'assm_cands': [68, 8, 9, 10, 11, 12, 13, 87, 86, 85, 84, 82, 78, 77, 75, 71, 70, 64, 63, 61, 56, 55, 53, 46, 45, 43, 40, 39, 37, 29, 28, 26, 18, 17, 15]}\n",
      "33\n",
      "{'ismiles': 'C[CH3:1]', 'inter_label': [(71, 'C[CH3:1]')], 'smiles': 'CC', 'label': ('CC', 'C[CH3:1]'), 'cluster': (71, 72), 'assm_cands': [71, 8, 9, 10, 11, 12, 13, 87, 86, 85, 84, 82, 78, 77, 75, 70, 68, 64, 63, 61, 56, 55, 53, 46, 45, 43, 40, 39, 37, 29, 28, 26, 18, 17, 15]}\n",
      "34\n",
      "{'ismiles': 'C[CH3:1]', 'inter_label': [(72, 'C[CH3:1]')], 'smiles': 'CC', 'label': ('CC', 'C[CH3:1]'), 'cluster': (72, 73), 'assm_cands': []}\n",
      "35\n",
      "{'ismiles': 'C[CH3:1]', 'inter_label': [(72, 'C[CH3:1]')], 'smiles': 'CC', 'label': ('CC', 'C[CH3:1]'), 'cluster': (72, 74), 'assm_cands': []}\n",
      "36\n",
      "{'ismiles': 'O=[CH2:1]', 'inter_label': [(75, 'O=[CH2:1]')], 'smiles': 'C=O', 'label': ('C=O', 'O=[CH2:1]'), 'cluster': (75, 76), 'assm_cands': [75, 8, 9, 10, 11, 12, 13, 87, 86, 85, 84, 82, 78, 77, 71, 70, 68, 64, 63, 61, 56, 55, 53, 46, 45, 43, 40, 39, 37, 29, 28, 26, 18, 17, 15]}\n",
      "37\n",
      "{'ismiles': 'C[CH3:1]', 'inter_label': [(78, 'C[CH3:1]')], 'smiles': 'CC', 'label': ('CC', 'C[CH3:1]'), 'cluster': (78, 79), 'assm_cands': [78, 8, 9, 10, 11, 12, 13, 87, 86, 85, 84, 82, 77, 75, 71, 70, 68, 64, 63, 61, 56, 55, 53, 46, 45, 43, 40, 39, 37, 29, 28, 26, 18, 17, 15]}\n",
      "38\n",
      "{'ismiles': 'O[CH3:1]', 'inter_label': [(79, 'O[CH3:1]')], 'smiles': 'CO', 'label': ('CO', 'O[CH3:1]'), 'cluster': (79, 80), 'assm_cands': []}\n",
      "39\n",
      "{'ismiles': 'C[CH3:1]', 'inter_label': [(79, 'C[CH3:1]')], 'smiles': 'CC', 'label': ('CC', 'C[CH3:1]'), 'cluster': (79, 81), 'assm_cands': []}\n",
      "40\n",
      "{'ismiles': 'O=[CH2:1]', 'inter_label': [(82, 'O=[CH2:1]')], 'smiles': 'C=O', 'label': ('C=O', 'O=[CH2:1]'), 'cluster': (82, 83), 'assm_cands': [82, 8, 9, 10, 11, 12, 13, 87, 86, 85, 84, 78, 77, 75, 71, 70, 68, 64, 63, 61, 56, 55, 53, 46, 45, 43, 40, 39, 37, 29, 28, 26, 18, 17, 15]}\n",
      "41\n",
      "{'ismiles': 'C[CH3:1]', 'inter_label': [(85, 'C[CH3:1]')], 'smiles': 'CC', 'label': ('CC', 'C[CH3:1]'), 'cluster': (85, 88), 'assm_cands': [85, 8, 9, 10, 11, 12, 13, 87, 86, 84, 82, 78, 77, 75, 71, 70, 68, 64, 63, 61, 56, 55, 53, 46, 45, 43, 40, 39, 37, 29, 28, 26, 18, 17, 15]}\n",
      "42\n",
      "{'ismiles': 'O=[CH2:1]', 'inter_label': [(88, 'O=[CH2:1]')], 'smiles': 'C=O', 'label': ('C=O', 'O=[CH2:1]'), 'cluster': (88, 89), 'assm_cands': []}\n",
      "43\n",
      "{'ismiles': 'N[CH3:1]', 'inter_label': [(88, 'N[CH3:1]')], 'smiles': 'CN', 'label': ('CN', 'N[CH3:1]'), 'cluster': (88, 90), 'assm_cands': []}\n",
      "44\n",
      "{'ismiles': 'C[NH2:1]', 'inter_label': [(90, 'C[NH2:1]')], 'smiles': 'CN', 'label': ('CN', 'C[NH2:1]'), 'cluster': (90, 91), 'assm_cands': []}\n",
      "45\n",
      "{'ismiles': 'C[CH3:1]', 'inter_label': [(91, 'C[CH3:1]')], 'smiles': 'CC', 'label': ('CC', 'C[CH3:1]'), 'cluster': (91, 92), 'assm_cands': []}\n",
      "46\n",
      "{'ismiles': 'O[CH3:1]', 'inter_label': [(92, 'O[CH3:1]')], 'smiles': 'CO', 'label': ('CO', 'O[CH3:1]'), 'cluster': (92, 93), 'assm_cands': []}\n",
      "47\n",
      "{'ismiles': 'C[CH3:1]', 'inter_label': [(91, 'C[CH3:1]')], 'smiles': 'CC', 'label': ('CC', 'C[CH3:1]'), 'cluster': (91, 94), 'assm_cands': []}\n",
      "48\n",
      "{'ismiles': 'O=[CH2:1]', 'inter_label': [(94, 'O=[CH2:1]')], 'smiles': 'C=O', 'label': ('C=O', 'O=[CH2:1]'), 'cluster': (94, 95), 'assm_cands': []}\n",
      "49\n",
      "{'ismiles': 'O[CH3:1]', 'inter_label': [(94, 'O[CH3:1]')], 'smiles': 'CO', 'label': ('CO', 'O[CH3:1]'), 'cluster': (94, 96), 'assm_cands': []}\n",
      "50\n",
      "{'ismiles': 'C1CSCCNCCNCCNCCNCCNCCNCCNCCNCCNC[CH2:1]CSC1', 'inter_label': [(8, 'C1CSCCNCCNCCNCCNCCNCCNCCNCCNCCNC[CH2:1]CSC1')], 'smiles': 'C1CNCCNCCNCCNCCNCCNCCNCCNCCNCCSCCCSC1', 'label': ('C1CNCCNCCNCCNCCNCCNCCNCCNCCNCCSCCCSC1', 'C1CSCCNCCNCCNCCNCCNCCNCCNCCNCCNC[CH2:1]CSC1'), 'cluster': (8, 9, 10, 11, 12, 13, 87, 86, 85, 84, 82, 78, 77, 75, 71, 70, 68, 64, 63, 61, 56, 55, 53, 46, 45, 43, 40, 39, 37, 29, 28, 26, 18, 17, 15), 'assm_cands': []}\n",
      "51\n",
      "{'ismiles': 'C1=CC=[CH:1]C=C1', 'inter_label': [(20, 'C1=CC=[CH:1]C=C1')], 'smiles': 'C1=CC=CC=C1', 'label': ('C1=CC=CC=C1', 'C1=CC=[CH:1]C=C1'), 'cluster': (21, 22, 23, 24, 25, 20), 'assm_cands': []}\n",
      "52\n",
      "{'ismiles': 'C1CSC[CH2:1][CH2:1][NH:1][CH2:1]CSC1', 'inter_label': [(40, 'C1CSCCNC[CH2:1]CSC1'), (46, 'C1CN[CH2:1]CSCCCSC1')], 'smiles': 'C1CNCCSCCCSC1', 'label': ('C1CNCCSCCCSC1', 'C1CSC[CH2:1][CH2:1][NH:1][CH2:1]CSC1'), 'cluster': (41, 40, 43, 45, 46, 47, 48, 49, 50, 51, 42), 'assm_cands': [(40, 46), (8, 11), (9, 12), (10, 13), (11, 87), (12, 86), (13, 85), (87, 84), (86, 82), (85, 78), (84, 77), (82, 75), (78, 71), (77, 70), (75, 68), (71, 64), (70, 63), (68, 61), (64, 56), (63, 55), (61, 53), (56, 46), (55, 45), (53, 43), (46, 40), (45, 39), (43, 37), (40, 29), (39, 28), (37, 26), (29, 18), (28, 17), (26, 15), (18, 8), (17, 9), (15, 10), (11, 8), (12, 9), (13, 10), (87, 11), (86, 12), (85, 13), (84, 87), (82, 86), (78, 85), (77, 84), (75, 82), (71, 78), (70, 77), (68, 75), (64, 71), (63, 70), (61, 68), (56, 64), (55, 63), (53, 61), (46, 56), (45, 55), (43, 53), (39, 45), (37, 43), (29, 40), (28, 39), (26, 37), (18, 29), (17, 28), (15, 26), (8, 18), (9, 17), (10, 15)]}\n",
      "53\n",
      "{'ismiles': 'C', 'inter_label': [(1, 'C')], 'smiles': 'C', 'label': ('C', 'C'), 'cluster': [1], 'assm_cands': []}\n",
      "54\n",
      "{'ismiles': 'C', 'inter_label': [(2, 'C')], 'smiles': 'C', 'label': ('C', 'C'), 'cluster': [2], 'assm_cands': []}\n",
      "55\n",
      "{'ismiles': 'C', 'inter_label': [(5, 'C')], 'smiles': 'C', 'label': ('C', 'C'), 'cluster': [5], 'assm_cands': []}\n",
      "56\n",
      "{'ismiles': 'C', 'inter_label': [(34, 'C')], 'smiles': 'C', 'label': ('C', 'C'), 'cluster': [34], 'assm_cands': []}\n",
      "57\n",
      "{'ismiles': 'C', 'inter_label': [(58, 'C')], 'smiles': 'C', 'label': ('C', 'C'), 'cluster': [58], 'assm_cands': []}\n",
      "58\n",
      "{'ismiles': 'C', 'inter_label': [(65, 'C')], 'smiles': 'C', 'label': ('C', 'C'), 'cluster': [65], 'assm_cands': []}\n",
      "59\n",
      "{'ismiles': 'C', 'inter_label': [(72, 'C')], 'smiles': 'C', 'label': ('C', 'C'), 'cluster': [72], 'assm_cands': []}\n",
      "60\n",
      "{'ismiles': 'C', 'inter_label': [(79, 'C')], 'smiles': 'C', 'label': ('C', 'C'), 'cluster': [79], 'assm_cands': []}\n",
      "61\n",
      "{'ismiles': 'C', 'inter_label': [(88, 'C')], 'smiles': 'C', 'label': ('C', 'C'), 'cluster': [88], 'assm_cands': []}\n",
      "62\n",
      "{'ismiles': 'C', 'inter_label': [(91, 'C')], 'smiles': 'C', 'label': ('C', 'C'), 'cluster': [91], 'assm_cands': []}\n",
      "63\n",
      "{'ismiles': 'C', 'inter_label': [(94, 'C')], 'smiles': 'C', 'label': ('C', 'C'), 'cluster': [94], 'assm_cands': []}\n"
     ]
    }
   ],
   "source": [
    "vocab = set()\n",
    "for line in data[:1]:\n",
    "    hmol = MolGraph(line)\n",
    "    for node,attr in hmol.mol_tree.nodes(data=True):\n",
    "        print(node)\n",
    "        print(attr)"
   ]
  },
  {
   "cell_type": "code",
   "execution_count": 6,
   "id": "08158e14",
   "metadata": {},
   "outputs": [
    {
     "data": {
      "text/plain": [
       "[(0, 1), (1, 2), (1, 3), (1, 4), (4, 5, 6, 7, 8)]"
      ]
     },
     "execution_count": 6,
     "metadata": {},
     "output_type": "execute_result"
    }
   ],
   "source": [
    "clusters, atom_cls = MolGraph('CC(C)(C)P1=COB=N1').find_clusters()\n",
    "clusters #clusters are the atoms connected by bonds, grouped as more than pairs if it's part of a ring"
   ]
  },
  {
   "cell_type": "code",
   "execution_count": 7,
   "id": "0647b602",
   "metadata": {},
   "outputs": [
    {
     "data": {
      "text/plain": [
       "[[0], [0, 1, 2, 3], [1], [2], [3, 4], [4], [4], [4], [4]]"
      ]
     },
     "execution_count": 7,
     "metadata": {},
     "output_type": "execute_result"
    }
   ],
   "source": [
    "atom_cls #atom_cls tells you which atoms are part of which bonds (clusters)"
   ]
  },
  {
   "cell_type": "code",
   "execution_count": 8,
   "id": "7196d5dd",
   "metadata": {},
   "outputs": [],
   "source": [
    "#build a graph from the molecule components\n",
    "graph = nx.empty_graph( len(clusters) )\n",
    "for atom,nei_cls in enumerate(atom_cls):\n",
    "    if len(nei_cls) <= 1: #is this atom only attached to one other atom? if so, skip this atom\n",
    "        continue\n",
    "    bonds = [c for c in nei_cls if len(clusters[c]) == 2]\n",
    "    rings = [c for c in nei_cls if len(clusters[c]) > 4] #need to change to 2\n",
    "    if len(nei_cls) > 2 and len(bonds) >= 2:\n",
    "        clusters.append([atom])\n",
    "        c2 = len(clusters) - 1\n",
    "        graph.add_node(c2)\n",
    "        for c1 in nei_cls:\n",
    "            graph.add_edge(c1, c2, weight = 100)\n",
    "\n",
    "    elif len(rings) > 2: #Bee Hives, len(nei_cls) > 2 \n",
    "        clusters.append([atom]) #temporary value, need to change\n",
    "        c2 = len(clusters) - 1\n",
    "        graph.add_node(c2)\n",
    "        for c1 in nei_cls:\n",
    "            graph.add_edge(c1, c2, weight = 100)\n",
    "    else:\n",
    "        for i,c1 in enumerate(nei_cls):\n",
    "            for c2 in nei_cls[i + 1:]:\n",
    "                inter = set(clusters[c1]) & set(clusters[c2])\n",
    "                graph.add_edge(c1, c2, weight = len(inter))"
   ]
  },
  {
   "cell_type": "code",
   "execution_count": 9,
   "id": "475e08d2",
   "metadata": {},
   "outputs": [
    {
     "name": "stdout",
     "output_type": "stream",
     "text": [
      "[[0, 1, 2, 3]]\n",
      "[0, 1, 2, 3]\n",
      "[]\n"
     ]
    }
   ],
   "source": [
    "#test with one atom that's connected to more than one atom, but not part of a ring\n",
    "print(atom_cls[1:2])\n",
    "graph = nx.empty_graph( len(clusters) )\n",
    "for atom,nei_cls in enumerate(atom_cls[1:2]):\n",
    "    if len(nei_cls) <= 1: #is this atom only attached to one other atom? if so, skip this atom\n",
    "        continue\n",
    "    bonds = [c for c in nei_cls if len(clusters[c]) == 2]\n",
    "    rings = [c for c in nei_cls if len(clusters[c]) > 4] #need to change to 2\n",
    "    \n",
    "    \n",
    "print(bonds)\n",
    "print(rings)"
   ]
  },
  {
   "cell_type": "code",
   "execution_count": 10,
   "id": "e442a2ec",
   "metadata": {},
   "outputs": [
    {
     "name": "stdout",
     "output_type": "stream",
     "text": [
      "[[3, 4]]\n",
      "[3]\n",
      "[4]\n"
     ]
    }
   ],
   "source": [
    "#test with one atom that's connected to more than one atom and is part of a ring\n",
    "print(atom_cls[4:5])\n",
    "graph = nx.empty_graph( len(clusters) )\n",
    "for atom,nei_cls in enumerate(atom_cls[4:5]):\n",
    "    if len(nei_cls) <= 1: #is this atom only attached to one other atom? if so, skip this atom\n",
    "        continue\n",
    "    bonds = [c for c in nei_cls if len(clusters[c]) == 2]\n",
    "    rings = [c for c in nei_cls if len(clusters[c]) > 4] #need to change to 2\n",
    "    \n",
    "    \n",
    "print(bonds)\n",
    "print(rings)"
   ]
  },
  {
   "cell_type": "code",
   "execution_count": 11,
   "id": "755f8a12",
   "metadata": {},
   "outputs": [
    {
     "name": "stdout",
     "output_type": "stream",
     "text": [
      "atom is connected to other non-ring atoms\n",
      "atom index: 1\n",
      "connected atom indices: [0, 1, 2, 3]\n",
      "indices of bonds from clusters: [0, 1, 2, 3]\n",
      "indices of rings from clusters: []\n",
      "new cluster vector: [(0, 1), (1, 2), (1, 3), (1, 4), (4, 5, 6, 7, 8), [1]]\n",
      "name of new graph node: 5\n",
      "other atom\n",
      "atom index: 4\n",
      "connected atom indices: [3, 4]\n",
      "indices of bonds from clusters: [3]\n",
      "indices of rings from clusters: [4]\n"
     ]
    }
   ],
   "source": [
    "clusters, atom_cls = MolGraph('CC(C)(C)P1=COB=N1').find_clusters()\n",
    "graph = nx.empty_graph( len(clusters) )\n",
    "for atom_index,atoms_connected in enumerate(atom_cls):\n",
    "    if len(atoms_connected) <= 1: #is this atom only attached to one other atom? if so, skip this atom\n",
    "        continue\n",
    "    bonds = [c for c in atoms_connected if len(clusters[c]) == 2]\n",
    "    rings = [c for c in atoms_connected if len(clusters[c]) > 4] #need to change to 2\n",
    "\n",
    "    \n",
    "    if len(atoms_connected) > 2 and len(bonds) >= 2: #if the atom is connected to more than 2 atoms, has more than one bond (and is therefore not part of a ring?)\n",
    "        print('atom is connected to other non-ring atoms')\n",
    "        print('atom index: ' + str(atom_index))\n",
    "        print('connected atom indices: ' + str(atoms_connected))\n",
    "        print('indices of bonds from clusters: ' + str(bonds))\n",
    "        print('indices of rings from clusters: ' + str(rings))\n",
    "        clusters.append([atom_index])\n",
    "        print('new cluster vector: ' + str(clusters))\n",
    "        c2 = len(clusters) - 1\n",
    "        print('name of new graph node: ' + str(c2))\n",
    "        graph.add_node(c2)\n",
    "        for c1 in atoms_connected:\n",
    "            graph.add_edge(c1, c2, weight = 100)\n",
    "\n",
    "    elif len(rings) > 2: #Bee Hives, len(nei_cls) > 2 \n",
    "        clusters.append([atom_index]) #temporary value, need to change\n",
    "        c2 = len(clusters) - 1\n",
    "        graph.add_node(c2)\n",
    "        for c1 in atoms_connected:\n",
    "            graph.add_edge(c1, c2, weight = 100)\n",
    "    else:\n",
    "        print('other atom')\n",
    "        print('atom index: ' + str(atom_index))\n",
    "        print('connected atom indices: ' + str(atoms_connected))\n",
    "        print('indices of bonds from clusters: ' + str(bonds))\n",
    "        print('indices of rings from clusters: ' + str(rings))\n",
    "        for i,c1 in enumerate(atoms_connected):\n",
    "            for c2 in atoms_connected[i + 1:]:\n",
    "                inter = set(clusters[c1]) & set(clusters[c2])\n",
    "                graph.add_edge(c1, c2, weight = len(inter))"
   ]
  },
  {
   "cell_type": "code",
   "execution_count": 12,
   "id": "82b5a9bd-8481-4f76-b978-8730ec7a4b1e",
   "metadata": {
    "tags": []
   },
   "outputs": [
    {
     "data": {
      "image/png": "[encoded data removed]",
      "text/plain": [
       "<Figure size 640x480 with 1 Axes>"
      ]
     },
     "metadata": {},
     "output_type": "display_data"
    }
   ],
   "source": [
    "nx.draw(graph,with_labels=True)\n",
    "plt.show()"
   ]
  },
  {
   "cell_type": "code",
   "execution_count": 13,
   "id": "849fe4b1-ed47-4301-a489-2b133667d940",
   "metadata": {},
   "outputs": [
    {
     "name": "stdout",
     "output_type": "stream",
     "text": [
      "<rdkit.Chem.rdchem.Bond object at 0x149f88f88170>\n",
      "6\n",
      "6\n",
      "<rdkit.Chem.rdchem.Bond object at 0x149f88f881c0>\n",
      "6\n",
      "6\n",
      "<rdkit.Chem.rdchem.Bond object at 0x149f88f88170>\n",
      "6\n",
      "6\n",
      "<rdkit.Chem.rdchem.Bond object at 0x149f88f881c0>\n",
      "6\n",
      "15\n",
      "<rdkit.Chem.rdchem.Bond object at 0x149f88f88170>\n",
      "15\n",
      "6\n",
      "<rdkit.Chem.rdchem.Bond object at 0x149f88f881c0>\n",
      "6\n",
      "8\n",
      "<rdkit.Chem.rdchem.Bond object at 0x149f88f88170>\n",
      "8\n",
      "5\n",
      "<rdkit.Chem.rdchem.Bond object at 0x149f88f881c0>\n",
      "5\n",
      "7\n",
      "<rdkit.Chem.rdchem.Bond object at 0x149f88f88170>\n",
      "7\n",
      "15\n",
      "[(0, 1), (1, 2), (1, 3), (1, 4)]\n"
     ]
    }
   ],
   "source": [
    "mol = get_mol('CC(C)(C)P1=COB=N1')\n",
    "n_atoms = mol.GetNumAtoms()\n",
    "if n_atoms == 1: #special case\n",
    "    output = [(0,)], [[0]]\n",
    "\n",
    "clusters = []\n",
    "#this for loop adds clusters for all non-ring atoms\n",
    "for bond in mol.GetBonds():\n",
    "    print(bond)\n",
    "    a1 = bond.GetBeginAtom().GetIdx() #atom index for the start of the bond\n",
    "    a2 = bond.GetEndAtom().GetIdx() #atom index for the end of the bond\n",
    "    print(bond.GetBeginAtom().GetAtomicNum())\n",
    "    print(bond.GetEndAtom().GetAtomicNum())\n",
    "    if not bond.IsInRing():\n",
    "        clusters.append( (a1,a2) )\n",
    "\n",
    "# ssr = [tuple(x) for x in Chem.GetSymmSSSR(mol)]\n",
    "# clusters.extend(ssr)\n",
    "\n",
    "# if 0 not in clusters[0]: #root is not node[0]\n",
    "#     for i,cls in enumerate(clusters):\n",
    "#         if 0 in cls:\n",
    "#             clusters = [clusters[i]] + clusters[:i] + clusters[i+1:]\n",
    "#             #clusters[i], clusters[0] = clusters[0], clusters[i]\n",
    "#             break\n",
    "\n",
    "# atom_cls = [[] for i in range(n_atoms)]\n",
    "# for i in range(len(clusters)):\n",
    "#     for atom in clusters[i]:\n",
    "#         atom_cls[atom].append(i)\n",
    "\n",
    "print(clusters)"
   ]
  },
  {
   "cell_type": "code",
   "execution_count": 14,
   "id": "f5a952d9-9299-477a-9ea3-f196c858385c",
   "metadata": {},
   "outputs": [],
   "source": [
    "def moltosvg(mol, molSize = (300,300), kekulize = True):\n",
    "    mc = Chem.Mol(mol.ToBinary())\n",
    "    if kekulize:\n",
    "        try:\n",
    "            Chem.Kekulize(mc)\n",
    "        except:\n",
    "            mc = Chem.Mol(mol.ToBinary())\n",
    "    if not mc.GetNumConformers():\n",
    "        rdDepictor.Compute2DCoords(mc)\n",
    "    drawer = rdMolDraw2D.MolDraw2DSVG(molSize[0],molSize[1])\n",
    "    drawer.DrawMolecule(mc)\n",
    "    drawer.FinishDrawing()\n",
    "    svg = drawer.GetDrawingText()\n",
    "    return svg.replace('svg:','')"
   ]
  },
  {
   "cell_type": "code",
   "execution_count": 15,
   "id": "0817ca78-85db-468e-8482-8b03182f733f",
   "metadata": {},
   "outputs": [
    {
     "data": {
      "image/svg+xml": [
       "<svg baseProfile=\"full\" height=\"300px\" version=\"1.1\" width=\"300px\" xml:space=\"preserve\" xmlns=\"http://www.w3.org/2000/svg\" xmlns:rdkit=\"http://www.rdkit.org/xml\" xmlns:xlink=\"http://www.w3.org/1999/xlink\">\n",
       "<!-- END OF HEADER -->\n",
       "<rect height=\"300\" style=\"opacity:1.0;fill:#FFFFFF;stroke:none\" width=\"300\" x=\"0\" y=\"0\"> </rect>\n",
       "<path class=\"bond-0\" d=\"M 212.544,223.82 212.544,150\" style=\"fill:none;fill-rule:evenodd;stroke:#000000;stroke-width:2px;stroke-linecap:butt;stroke-linejoin:miter;stroke-opacity:1\"/>\n",
       "<path class=\"bond-1\" d=\"M 212.544,150 212.544,76.1803\" style=\"fill:none;fill-rule:evenodd;stroke:#000000;stroke-width:2px;stroke-linecap:butt;stroke-linejoin:miter;stroke-opacity:1\"/>\n",
       "<path class=\"bond-2\" d=\"M 212.544,150 286.364,150\" style=\"fill:none;fill-rule:evenodd;stroke:#000000;stroke-width:2px;stroke-linecap:butt;stroke-linejoin:miter;stroke-opacity:1\"/>\n",
       "<path class=\"bond-3\" d=\"M 212.544,150 181.887,150\" style=\"fill:none;fill-rule:evenodd;stroke:#000000;stroke-width:2px;stroke-linecap:butt;stroke-linejoin:miter;stroke-opacity:1\"/>\n",
       "<path class=\"bond-3\" d=\"M 181.887,150 151.23,150\" style=\"fill:none;fill-rule:evenodd;stroke:#FF7F00;stroke-width:2px;stroke-linecap:butt;stroke-linejoin:miter;stroke-opacity:1\"/>\n",
       "<path class=\"bond-4\" d=\"M 133.275,142.5 114.305,116.389\" style=\"fill:none;fill-rule:evenodd;stroke:#FF7F00;stroke-width:2px;stroke-linecap:butt;stroke-linejoin:miter;stroke-opacity:1\"/>\n",
       "<path class=\"bond-4\" d=\"M 114.305,116.389 95.334,90.2786\" style=\"fill:none;fill-rule:evenodd;stroke:#000000;stroke-width:2px;stroke-linecap:butt;stroke-linejoin:miter;stroke-opacity:1\"/>\n",
       "<path class=\"bond-4\" d=\"M 115.64,143.345 102.36,125.067\" style=\"fill:none;fill-rule:evenodd;stroke:#FF7F00;stroke-width:2px;stroke-linecap:butt;stroke-linejoin:miter;stroke-opacity:1\"/>\n",
       "<path class=\"bond-4\" d=\"M 102.36,125.067 89.0809,106.79\" style=\"fill:none;fill-rule:evenodd;stroke:#000000;stroke-width:2px;stroke-linecap:butt;stroke-linejoin:miter;stroke-opacity:1\"/>\n",
       "<path class=\"bond-8\" d=\"M 133.275,157.5 117.029,179.861\" style=\"fill:none;fill-rule:evenodd;stroke:#FF7F00;stroke-width:2px;stroke-linecap:butt;stroke-linejoin:miter;stroke-opacity:1\"/>\n",
       "<path class=\"bond-8\" d=\"M 117.029,179.861 100.783,202.221\" style=\"fill:none;fill-rule:evenodd;stroke:#0000FF;stroke-width:2px;stroke-linecap:butt;stroke-linejoin:miter;stroke-opacity:1\"/>\n",
       "<path class=\"bond-5\" d=\"M 95.334,90.2786 63.7331,100.546\" style=\"fill:none;fill-rule:evenodd;stroke:#000000;stroke-width:2px;stroke-linecap:butt;stroke-linejoin:miter;stroke-opacity:1\"/>\n",
       "<path class=\"bond-5\" d=\"M 63.7331,100.546 32.1321,110.814\" style=\"fill:none;fill-rule:evenodd;stroke:#FF0000;stroke-width:2px;stroke-linecap:butt;stroke-linejoin:miter;stroke-opacity:1\"/>\n",
       "<path class=\"bond-6\" d=\"M 25.1273,120.59 25.1273,150\" style=\"fill:none;fill-rule:evenodd;stroke:#FF0000;stroke-width:2px;stroke-linecap:butt;stroke-linejoin:miter;stroke-opacity:1\"/>\n",
       "<path class=\"bond-6\" d=\"M 25.1273,150 25.1273,179.41\" style=\"fill:none;fill-rule:evenodd;stroke:#000000;stroke-width:2px;stroke-linecap:butt;stroke-linejoin:miter;stroke-opacity:1\"/>\n",
       "<path class=\"bond-7\" d=\"M 31.1327,188.861 59.9831,198.235\" style=\"fill:none;fill-rule:evenodd;stroke:#000000;stroke-width:2px;stroke-linecap:butt;stroke-linejoin:miter;stroke-opacity:1\"/>\n",
       "<path class=\"bond-7\" d=\"M 59.9831,198.235 88.8334,207.609\" style=\"fill:none;fill-rule:evenodd;stroke:#0000FF;stroke-width:2px;stroke-linecap:butt;stroke-linejoin:miter;stroke-opacity:1\"/>\n",
       "<path class=\"bond-7\" d=\"M 44.3501,177.632 64.5454,184.194\" style=\"fill:none;fill-rule:evenodd;stroke:#000000;stroke-width:2px;stroke-linecap:butt;stroke-linejoin:miter;stroke-opacity:1\"/>\n",
       "<path class=\"bond-7\" d=\"M 64.5454,184.194 84.7406,190.756\" style=\"fill:none;fill-rule:evenodd;stroke:#0000FF;stroke-width:2px;stroke-linecap:butt;stroke-linejoin:miter;stroke-opacity:1\"/>\n",
       "<text style=\"font-size:15px;font-style:normal;font-weight:normal;fill-opacity:1;stroke:none;font-family:sans-serif;text-anchor:start;fill:#FF7F00\" x=\"126.218\" y=\"157.5\"><tspan>PH</tspan></text>\n",
       "<text style=\"font-size:15px;font-style:normal;font-weight:normal;fill-opacity:1;stroke:none;font-family:sans-serif;text-anchor:start;fill:#FF0000\" x=\"18.1225\" y=\"120.59\"><tspan>O</tspan></text>\n",
       "<text style=\"font-size:15px;font-style:normal;font-weight:normal;fill-opacity:1;stroke:none;font-family:sans-serif;text-anchor:start;fill:#000000\" x=\"19.1219\" y=\"194.41\"><tspan>B</tspan></text>\n",
       "<text style=\"font-size:15px;font-style:normal;font-weight:normal;fill-opacity:1;stroke:none;font-family:sans-serif;text-anchor:start;fill:#0000FF\" x=\"88.8334\" y=\"217.221\"><tspan>N</tspan></text>\n",
       "</svg>"
      ],
      "text/plain": [
       "<IPython.core.display.SVG object>"
      ]
     },
     "execution_count": 15,
     "metadata": {},
     "output_type": "execute_result"
    }
   ],
   "source": [
    "SVG(moltosvg(mol))"
   ]
  },
  {
   "cell_type": "code",
   "execution_count": 16,
   "id": "b9e63cb9-d234-493a-b85b-fb23f7afdf2c",
   "metadata": {},
   "outputs": [
    {
     "ename": "TypeError",
     "evalue": "_GetSubstructMatch() missing 1 required positional argument: 'query'",
     "output_type": "error",
     "traceback": [
      "\u001b[0;31m---------------------------------------------------------------------------\u001b[0m",
      "\u001b[0;31mTypeError\u001b[0m                                 Traceback (most recent call last)",
      "\u001b[0;32m/tmp/ipykernel_2222827/1823564344.py\u001b[0m in \u001b[0;36m<module>\u001b[0;34m\u001b[0m\n\u001b[0;32m----> 1\u001b[0;31m \u001b[0mmol\u001b[0m\u001b[0;34m.\u001b[0m\u001b[0mGetSubstructMatch\u001b[0m\u001b[0;34m(\u001b[0m\u001b[0;34m)\u001b[0m\u001b[0;34m\u001b[0m\u001b[0;34m\u001b[0m\u001b[0m\n\u001b[0m",
      "\u001b[0;31mTypeError\u001b[0m: _GetSubstructMatch() missing 1 required positional argument: 'query'"
     ]
    }
   ],
   "source": []
  },
  {
   "cell_type": "code",
   "execution_count": 187,
   "id": "6b31187f-80f1-487b-8fe6-3fc172fb6af1",
   "metadata": {},
   "outputs": [
    {
     "data": {
      "image/png": "[encoded data removed]",
      "text/plain": [
       "<rdkit.Chem.rdchem.Mol at 0x149f88ec0a30>"
      ]
     },
     "execution_count": 187,
     "metadata": {},
     "output_type": "execute_result"
    }
   ],
   "source": [
    "peptide = 'OC(C[C@@H](C(N[C@H](C(N[C@H](C(N[C@H](C(NCC(N[C@H](C(N[C@@]([H])([C@@H](C)CC)C(N[C@@H](CC(C)C)C(N[C@H](C(N[C@H](C(N[C@@H](CC1=CC=CC=C1)C(N2CCC[C@H]2C(N[C@H](C(N[C@@]([C@H](O)C)(C(N[C@H](C(N[C@H](C(N[C@H](C(N[C@H](C(N[C@H](C(O)=O)CSC3)=O)CSCC3=O)=O)C(C)C)=O)CC4=CC=C(O)C=C4)=O)CC5=CNC6=C5C=CC=C6)=O)[H])=O)CO)=O)=O)=O)CCSC)=O)CCCCN[H])=O)=O)=O)CC7=CNC=N7)=O)=O)CCC(N)=O)=O)CCC(O)=O)=O)CS[H])=O)NC([C@@H](NC([C@@H](NC([C@H](C)NC(CN)=O)=O)CCCNC(N)=N)=O)CC(N)=O)=O)=O'\n",
    "peptide = get_mol(peptide)\n",
    "peptide"
   ]
  },
  {
   "cell_type": "code",
   "execution_count": 352,
   "id": "b27543fa-f2dd-4a74-9295-d52be04178c3",
   "metadata": {},
   "outputs": [
    {
     "name": "stdout",
     "output_type": "stream",
     "text": [
      "carbonyl oxygen of proline: 120\n",
      "proline atoms: ((120, 49, 50, 51, 52, 53, 54),)\n",
      "[ 85  76  77  78  91  73  74  75  95  70  71  72 104  67  68  69 115  64\n",
      "  65  66 116  58  59  60 119  55  56  57 121  39  40  41 126  36  37  38\n",
      " 132  33  34  35 133  26  27  28 134  19  20  21 141  16  17  18 142  13\n",
      "  14  15 148  10  11  12 154   7   8   9 157   4   5   6 172 169 168 166\n",
      " 173 165 164 163 181 162 161 160 186 159 158   3 120  49  50  51  52  53\n",
      "  54]\n",
      "terminal atoms: [78, 170]\n",
      "terminus 1: 6\n",
      "terminus 2: 6\n",
      "[171 170]\n",
      "[78 80 81 79]\n"
     ]
    },
    {
     "data": {
      "text/plain": [
       "[array([85, 76, 75, 77, 78]),\n",
       " array([91, 73, 72, 74, 75]),\n",
       " array([95, 70, 69, 71, 72]),\n",
       " array([104,  67,  66,  68,  69]),\n",
       " array([115,  64,  60,  65,  66]),\n",
       " array([116,  58,  57,  59,  60]),\n",
       " array([119,  55,  54,  56,  57]),\n",
       " array([121,  39,  38,  40,  41]),\n",
       " array([126,  36,  35,  37,  38]),\n",
       " array([132,  33,  28,  34,  35]),\n",
       " array([133,  26,  21,  27,  28]),\n",
       " array([134,  19,  18,  20,  21]),\n",
       " array([141,  16,  15,  17,  18]),\n",
       " array([142,  13,  12,  14,  15]),\n",
       " array([148,  10,   9,  11,  12]),\n",
       " array([154,   7,   6,   8,   9]),\n",
       " array([157,   4,   3,   5,   6]),\n",
       " array([172, 169, 170, 168, 166]),\n",
       " array([173, 165, 166, 164, 163]),\n",
       " array([181, 162, 163, 161, 160]),\n",
       " array([186, 159, 160, 158,   3]),\n",
       " array([120,  49,  50,  51,  52,  53,  54]),\n",
       " array([171, 170]),\n",
       " array([78, 80, 81, 79])]"
      ]
     },
     "execution_count": 352,
     "metadata": {},
     "output_type": "execute_result"
    }
   ],
   "source": [
    "#define matches for side chain traversal\n",
    "match_molecule = 'O=CN[C@H3]'\n",
    "matches = peptide.GetSubstructMatches(Chem.MolFromSmiles(match_molecule),useChirality=True)\n",
    "# print(matches)\n",
    "\n",
    "#define matches with overlap for clusters (for tree_decomp method)\n",
    "match_molecule_with_overlap = 'O=C(C)NC'\n",
    "matches_with_overlap = peptide.GetSubstructMatches(Chem.MolFromSmiles(match_molecule_with_overlap),useChirality=True)\n",
    "matches_with_overlap\n",
    "# print(matches_with_overlap)\n",
    "\n",
    "#separately define proline, because the backbone creates double recognition\n",
    "proline = 'O=CN1CCC[C@H2]1'\n",
    "proline_match = peptide.GetSubstructMatches(Chem.MolFromSmiles(proline),useChirality=True)\n",
    "proline_O = proline_match[0][0]\n",
    "print('carbonyl oxygen of proline: ' + str(proline_match[0][0]))\n",
    "print('proline atoms: ' + str(proline_match))\n",
    "\n",
    "#update cluster with correct proline cluster\n",
    "clusters = [i for i in np.array(matches_with_overlap).reshape(23,5)]\n",
    "clusters = [cluster for cluster in clusters if proline_O not in cluster]\n",
    "clusters.append(np.array(proline_match[0]))\n",
    "# clusters\n",
    "\n",
    "#remove proline cluster from match and match_with_overlap\n",
    "matches = [match for match in matches if proline_O not in match]\n",
    "# matches_with_overlap = [match for match in matches_with_overlap if proline_O not in match]\n",
    "\n",
    "backbone_atoms = np.array(matches).reshape((21,4))\n",
    "c_alphas = backbone_atoms[:,3]\n",
    "# atoms[:,0] are carbonyl oxygens\n",
    "# atoms[:,1] are sp2-carbons with carbonyls\n",
    "# atoms[:,2] are nitrogens\n",
    "# atoms[:,3] are functional group holding carbons\n",
    "backbone_atoms = np.hstack(np.array(backbone_atoms))\n",
    "backbone_atoms = np.concatenate((backbone_atoms,proline_match[0]))\n",
    "# print([peptide.GetAtomWithIdx(int(x)).GetAtomicNum() for x in c_alphas])\n",
    "\n",
    "backbone_atoms_with_overlap = np.hstack(np.array(matches_with_overlap)[:,[2,4]])\n",
    "backbone_atoms_with_overlap\n",
    "backbone_atoms_with_overlap = Counter(backbone_atoms_with_overlap)\n",
    "# print(backbone_atoms_with_overlap)\n",
    "\n",
    "termini = list([atom for atom in backbone_atoms_with_overlap if (backbone_atoms_with_overlap[atom]==1) and (atom not in proline_match[0])])\n",
    "print('terminal atoms: ' + str(termini))\n",
    "print('terminus 1: ' + str(peptide.GetAtomWithIdx(int(termini[0])).GetAtomicNum()))\n",
    "print('terminus 2: ' + str(peptide.GetAtomWithIdx(int(termini[1])).GetAtomicNum()))\n",
    "\n",
    "#assign n and c terminus based on # of bonds to other atoms\n",
    "if len(peptide.GetAtomWithIdx(int(termini[1])).GetNeighbors()) == 2:\n",
    "    n_terminal_atom = int(termini[1])\n",
    "    c_terminal_atom = int(termini[0])\n",
    "else:\n",
    "    c_terminal_atom = int(termini[1])\n",
    "    n_terminal_atom = int(termini[0])\n",
    "\n",
    "#extract atom indices of the n terminus\n",
    "n_terminus = np.array([],dtype=int)\n",
    "for neighbor in peptide.GetAtomWithIdx(n_terminal_atom).GetNeighbors():\n",
    "    if neighbor.GetIdx() not in backbone_atoms:\n",
    "        n_terminus = np.append(n_terminus, int(neighbor.GetIdx()))\n",
    "        # print(neighbor.GetIdx())\n",
    "\n",
    "n_terminus = np.append(n_terminus, n_terminal_atom)\n",
    "print(n_terminus)\n",
    "clusters.append(n_terminus)\n",
    "\n",
    "#extract atom indices of the c terminus\n",
    "c_terminus = np.array([],dtype=int) \n",
    "for neighbor in peptide.GetAtomWithIdx(c_terminal_atom).GetNeighbors():\n",
    "    if neighbor.GetIdx() not in backbone_atoms:\n",
    "        if 8 in [atom.GetAtomicNum() for atom in peptide.GetAtomWithIdx(neighbor.GetIdx()).GetNeighbors()]:\n",
    "            c_terminus = np.append(c_terminus, [int(new_neighbor.GetIdx()) for new_neighbor in peptide.GetAtomWithIdx(neighbor.GetIdx()).GetNeighbors()])\n",
    "            c_terminus = np.append(c_terminus, [neighbor.GetIdx()])\n",
    "        # print(neighbor.GetIdx())\n",
    "print(c_terminus)\n",
    "clusters.append(c_terminus)\n",
    "clusters"
   ]
  },
  {
   "cell_type": "code",
   "execution_count": 353,
   "id": "e76a3f22-71f9-4140-b248-24979c079786",
   "metadata": {},
   "outputs": [
    {
     "name": "stdout",
     "output_type": "stream",
     "text": [
      "starting c_alpha atom index: 78\n",
      "c terminus skipped: 78\n",
      "starting c_alpha atom index: 75\n",
      "complete mapped side chain: [86, 87, 88, 89, 90, 84, 83, 82]\n",
      "starting c_alpha atom index: 72\n",
      "complete mapped side chain: [92, 93, 94]\n",
      "starting c_alpha atom index: 69\n",
      "complete mapped side chain: [96, 97, 98, 103, 99, 102, 100, 101]\n",
      "starting c_alpha atom index: 66\n",
      "complete mapped side chain: [105, 106, 107, 110, 108, 109, 111, 114, 112, 113]\n",
      "starting c_alpha atom index: 60\n",
      "complete mapped side chain: [61, 62, 63]\n",
      "starting c_alpha atom index: 57\n",
      "complete mapped side chain: [117, 118]\n",
      "starting c_alpha atom index: 41\n",
      "complete mapped side chain: [42, 43, 44, 48, 45, 47, 46]\n",
      "starting c_alpha atom index: 38\n",
      "complete mapped side chain: [122, 123, 124, 125]\n",
      "starting c_alpha atom index: 35\n",
      "complete mapped side chain: [127, 128, 129, 130, 131]\n",
      "starting c_alpha atom index: 28\n",
      "complete mapped side chain: [29, 30, 31, 32]\n",
      "starting c_alpha atom index: 21\n",
      "complete mapped side chain: [22, 23, 24, 25]\n",
      "starting c_alpha atom index: 18\n",
      "complete mapped side chain: [135, 136, 137, 140, 138, 139]\n",
      "starting c_alpha atom index: 15\n",
      "starting c_alpha atom index: 12\n",
      "complete mapped side chain: [143, 144, 145, 146, 147]\n",
      "starting c_alpha atom index: 9\n",
      "complete mapped side chain: [149, 150, 151, 152, 153]\n",
      "starting c_alpha atom index: 6\n",
      "complete mapped side chain: [155, 156]\n",
      "starting c_alpha atom index: 166\n",
      "complete mapped side chain: [167]\n",
      "starting c_alpha atom index: 163\n",
      "complete mapped side chain: [174, 175, 176, 177, 178, 179, 180]\n",
      "starting c_alpha atom index: 160\n",
      "complete mapped side chain: [182, 183, 184, 185]\n",
      "starting c_alpha atom index: 3\n",
      "complete mapped side chain: [2, 1, 0, 187]\n"
     ]
    },
    {
     "data": {
      "text/plain": [
       "[array([85, 76, 75, 77, 78]),\n",
       " array([91, 73, 72, 74, 75]),\n",
       " array([95, 70, 69, 71, 72]),\n",
       " array([104,  67,  66,  68,  69]),\n",
       " array([115,  64,  60,  65,  66]),\n",
       " array([116,  58,  57,  59,  60]),\n",
       " array([119,  55,  54,  56,  57]),\n",
       " array([121,  39,  38,  40,  41]),\n",
       " array([126,  36,  35,  37,  38]),\n",
       " array([132,  33,  28,  34,  35]),\n",
       " array([133,  26,  21,  27,  28]),\n",
       " array([134,  19,  18,  20,  21]),\n",
       " array([141,  16,  15,  17,  18]),\n",
       " array([142,  13,  12,  14,  15]),\n",
       " array([148,  10,   9,  11,  12]),\n",
       " array([154,   7,   6,   8,   9]),\n",
       " array([157,   4,   3,   5,   6]),\n",
       " array([172, 169, 170, 168, 166]),\n",
       " array([173, 165, 166, 164, 163]),\n",
       " array([181, 162, 163, 161, 160]),\n",
       " array([186, 159, 160, 158,   3]),\n",
       " array([120,  49,  50,  51,  52,  53,  54]),\n",
       " array([171, 170]),\n",
       " array([78, 80, 81, 79]),\n",
       " array([86, 87, 88, 89, 90, 84, 83, 82, 75]),\n",
       " array([92, 93, 94, 72]),\n",
       " array([ 96,  97,  98, 103,  99, 102, 100, 101,  69]),\n",
       " array([105, 106, 107, 110, 108, 109, 111, 114, 112, 113,  66]),\n",
       " array([61, 62, 63, 60]),\n",
       " array([117, 118,  57]),\n",
       " array([42, 43, 44, 48, 45, 47, 46, 41]),\n",
       " array([122, 123, 124, 125,  38]),\n",
       " array([127, 128, 129, 130, 131,  35]),\n",
       " array([29, 30, 31, 32, 28]),\n",
       " array([22, 23, 24, 25, 21]),\n",
       " array([135, 136, 137, 140, 138, 139,  18]),\n",
       " array([143, 144, 145, 146, 147,  12]),\n",
       " array([149, 150, 151, 152, 153,   9]),\n",
       " array([155, 156,   6]),\n",
       " array([167, 166]),\n",
       " array([174, 175, 176, 177, 178, 179, 180, 163]),\n",
       " array([182, 183, 184, 185, 160]),\n",
       " array([  2,   1,   0, 187,   3])]"
      ]
     },
     "execution_count": 353,
     "metadata": {},
     "output_type": "execute_result"
    }
   ],
   "source": [
    "##recursively identify alpha carbons, and map the atom indices that contain their side chains\n",
    "c_alphas_neighbors = [peptide.GetAtomWithIdx(int(x)).GetNeighbors() for x in c_alphas]\n",
    "\n",
    "for index,c_alpha in enumerate(c_alphas):\n",
    "    c_alpha_neighbors = peptide.GetAtomWithIdx(int(c_alpha)).GetNeighbors()\n",
    "    print('starting c_alpha atom index: ' + str(c_alpha))\n",
    "    # print('neighbor indices: ' +str([neighbor.GetIdx() for neighbor in c_alpha_neighbors]))\n",
    "    # print('neighbor atomic masses: ' + str([neighbor.GetAtomicNum() for neighbor in c_alpha_neighbors]))\n",
    "    # print('starting atoms: ' + str([c_alpha_neighbor.GetIdx() for c_alpha_neighbor in c_alpha_neighbors]))\n",
    "    if c_alpha == c_terminal_atom:\n",
    "        print('c terminus skipped: ' + str(c_alpha))\n",
    "        continue\n",
    "    if c_alpha in proline_match[0]:\n",
    "        print('skipped proline')\n",
    "        continue\n",
    "    for neighbor in c_alpha_neighbors:\n",
    "        if (neighbor.GetIdx() not in backbone_atoms) and (neighbor.GetAtomicNum() == 6):\n",
    "            # print('starting side chain atom: '+str(neighbor.GetIdx()) + ', atomic num: ' + str(neighbor.GetAtomicNum()))\n",
    "            side_chain_atoms = np.array([neighbor.GetIdx()])\n",
    "            new_neighbors = neighbor.GetNeighbors()\n",
    "            # print('starting neighbor atom(s): ' + str([new_neighbor.GetIdx() for new_neighbor in new_neighbors]) + ', atomic num(s): ' + str([new_neighbor.GetAtomicNum() for new_neighbor in new_neighbors]))\n",
    "            atoms_to_examine = np.array([])\n",
    "            while(len(new_neighbors) > 0):\n",
    "                for new_neighbor in new_neighbors:\n",
    "                    if (new_neighbor.GetIdx() not in side_chain_atoms) and (new_neighbor.GetIdx() not in backbone_atoms):\n",
    "                        # print('new neighbor atom found, index: ' + str(new_neighbor.GetIdx()))\n",
    "                        side_chain_atoms = np.append(side_chain_atoms,new_neighbor.GetIdx())\n",
    "                        # print('side_chain_atom(s): ' + str(side_chain_atoms))\n",
    "                        atoms_to_examine = np.append(atoms_to_examine,new_neighbor.GetIdx())\n",
    "                        # print('atom(s) to examine: ' + str(atoms_to_examine))\n",
    "                    elif new_neighbor.GetIdx()  in side_chain_atoms:\n",
    "                        # print('already found this atom in side chain: ' + str(new_neighbor.GetIdx()))\n",
    "                        continue\n",
    "                    elif new_neighbor.GetIdx() in backbone_atoms:\n",
    "                        # print('already found this atom in back bone: ' + str(new_neighbor.GetIdx()))\n",
    "                        continue\n",
    "                if len(atoms_to_examine) == 0:\n",
    "                    # print('no new atoms to explore')\n",
    "                    break\n",
    "                else:\n",
    "                    new_neighbors = np.hstack([peptide.GetAtomWithIdx(int(atom)).GetNeighbors() for atom in atoms_to_examine])\n",
    "                    # print('new neighbors to investigate: ' + str([new_neighbor.GetIdx() for new_neighbor in new_neighbors]))\n",
    "                    atoms_to_examine = np.array([])\n",
    "            print('complete mapped side chain: ' + str([x for x in side_chain_atoms]))\n",
    "            clusters.append(np.concatenate([np.array([x for x in side_chain_atoms]),np.array([c_alpha])]))\n",
    "    #neighbors are not in a consistent order\n",
    "\n",
    "clusters\n",
    "# [peptide.GetAtomWithIdx(x).GetNeighbors() for x in c_alphas]"
   ]
  },
  {
   "cell_type": "code",
   "execution_count": 359,
   "id": "ee2e7f53-dd81-422e-a6f6-ba516e8b533f",
   "metadata": {},
   "outputs": [
    {
     "name": "stdout",
     "output_type": "stream",
     "text": [
      "molecule clusters identified correctly\n"
     ]
    }
   ],
   "source": [
    "#check if all atoms are in a cluster\n",
    "test = np.hstack(clusters)\n",
    "test = set(np.sort(test))\n",
    "if len(test) == len(peptide.GetAtoms()):\n",
    "    print('molecule clusters identified correctly')"
   ]
  },
  {
   "cell_type": "code",
   "execution_count": 360,
   "id": "bbfd365f-c0ca-42c6-8848-d43aa5390dc8",
   "metadata": {},
   "outputs": [],
   "source": [
    "#get atom_cls\n",
    "atom_cls = [[] for i in range(len(peptide.GetAtoms()))]\n",
    "for i in range(len(clusters)):\n",
    "    for atom in clusters[i]:\n",
    "        atom_cls[atom].append(i)"
   ]
  },
  {
   "cell_type": "code",
   "execution_count": 327,
   "id": "373ec05f-688c-4e16-a152-72b024a47c1f",
   "metadata": {},
   "outputs": [],
   "source": [
    "def mol_with_atom_index(mol):\n",
    "    for atom in mol.GetAtoms():\n",
    "        atom.SetAtomMapNum(atom.GetIdx())\n",
    "    return mol"
   ]
  },
  {
   "cell_type": "code",
   "execution_count": 200,
   "id": "1109f188-84b0-4419-bcd0-4e29b544a44c",
   "metadata": {},
   "outputs": [
    {
     "data": {
      "image/png": "[encoded data removed]",
      "text/plain": [
       "<rdkit.Chem.rdchem.Mol at 0x149f88ec0a30>"
      ]
     },
     "execution_count": 200,
     "metadata": {},
     "output_type": "execute_result"
    }
   ],
   "source": [
    "mol_with_atom_index(peptide)"
   ]
  },
  {
   "cell_type": "code",
   "execution_count": 109,
   "id": "15df3545-9511-4dcc-8343-5e9b5c38bf3f",
   "metadata": {},
   "outputs": [
    {
     "ename": "AttributeError",
     "evalue": "module 'rdkit.Chem.Draw.IPythonConsole' has no attribute 'drawOptions'",
     "output_type": "error",
     "traceback": [
      "\u001b[0;31m---------------------------------------------------------------------------\u001b[0m",
      "\u001b[0;31mAttributeError\u001b[0m                            Traceback (most recent call last)",
      "\u001b[0;32m/tmp/ipykernel_2222827/1663644549.py\u001b[0m in \u001b[0;36m<module>\u001b[0;34m\u001b[0m\n\u001b[0;32m----> 1\u001b[0;31m \u001b[0mIPythonConsole\u001b[0m\u001b[0;34m.\u001b[0m\u001b[0mdrawOptions\u001b[0m\u001b[0;34m.\u001b[0m\u001b[0maddAtomIndices\u001b[0m \u001b[0;34m=\u001b[0m \u001b[0;32mTrue\u001b[0m\u001b[0;34m\u001b[0m\u001b[0;34m\u001b[0m\u001b[0m\n\u001b[0m\u001b[1;32m      2\u001b[0m \u001b[0mIPythonConsole\u001b[0m\u001b[0;34m.\u001b[0m\u001b[0mmolSize\u001b[0m \u001b[0;34m=\u001b[0m \u001b[0;36m300\u001b[0m\u001b[0;34m,\u001b[0m\u001b[0;36m300\u001b[0m\u001b[0;34m\u001b[0m\u001b[0;34m\u001b[0m\u001b[0m\n",
      "\u001b[0;31mAttributeError\u001b[0m: module 'rdkit.Chem.Draw.IPythonConsole' has no attribute 'drawOptions'"
     ]
    }
   ],
   "source": [
    "IPythonConsole.drawOptions.addAtomIndices = True\n",
    "IPythonConsole.molSize = 300,300"
   ]
  },
  {
   "cell_type": "code",
   "execution_count": 201,
   "id": "7834bac6-5dad-4c1e-b24e-eecbef0d3d4f",
   "metadata": {},
   "outputs": [],
   "source": [
    "Draw.MolToFile(peptide, \"peptide.png\",size=(6000,6000))"
   ]
  },
  {
   "cell_type": "code",
   "execution_count": null,
   "id": "ed2f5849-59a2-4ee6-bde7-07cbf2c53677",
   "metadata": {},
   "outputs": [],
   "source": [
    "##updated tree_decomp for peptide\n",
    "def tree_decomp(self):\n",
    "    clusters = self.clusters\n",
    "    graph = nx.empty_graph( len(clusters) )\n",
    "    for atom, nei_cls in enumerate(self.atom_cls):\n",
    "        if len(nei_cls) <= 1: continue\n",
    "        bonds = [c for c in nei_cls if len(clusters[c]) == 2]\n",
    "        rings = [c for c in nei_cls if len(clusters[c]) > 4] #need to change to 2\n",
    "\n",
    "        if len(nei_cls) > 2 and len(bonds) >= 2:\n",
    "            clusters.append([atom])\n",
    "            c2 = len(clusters) - 1\n",
    "            graph.add_node(c2)\n",
    "            for c1 in nei_cls:\n",
    "                graph.add_edge(c1, c2, weight = 100)\n",
    "\n",
    "        elif len(rings) > 2: #Bee Hives, len(nei_cls) > 2 \n",
    "            clusters.append([atom]) #temporary value, need to change\n",
    "            c2 = len(clusters) - 1\n",
    "            graph.add_node(c2)\n",
    "            for c1 in nei_cls:\n",
    "                graph.add_edge(c1, c2, weight = 100)\n",
    "        else:\n",
    "            for i,c1 in enumerate(nei_cls):\n",
    "                for c2 in nei_cls[i + 1:]:\n",
    "                    inter = set(clusters[c1]) & set(clusters[c2])\n",
    "                    graph.add_edge(c1, c2, weight = len(inter))\n",
    "\n",
    "    n, m = len(graph.nodes), len(graph.edges)\n",
    "    assert n - m <= 1 #must be connected\n",
    "    return graph if n - m == 1 else nx.maximum_spanning_tree(graph)"
   ]
  },
  {
   "cell_type": "code",
   "execution_count": null,
   "id": "7dd66b84-0045-4358-afd4-d2f538d575d0",
   "metadata": {},
   "outputs": [],
   "source": []
  }
 ],
 "metadata": {
  "kernelspec": {
   "display_name": "hgraph-rdkit",
   "language": "python",
   "name": "hgraph-rdkit"
  },
  "language_info": {
   "codemirror_mode": {
    "name": "ipython",
    "version": 3
   },
   "file_extension": ".py",
   "mimetype": "text/x-python",
   "name": "python",
   "nbconvert_exporter": "python",
   "pygments_lexer": "ipython3",
   "version": "3.7.6"
  }
 },
 "nbformat": 4,
 "nbformat_minor": 5
}
