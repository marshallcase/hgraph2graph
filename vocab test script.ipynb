{
 "cells": [
  {
   "cell_type": "code",
   "execution_count": 162,
   "id": "dfc6968b",
   "metadata": {},
   "outputs": [],
   "source": [
    "##vocab test script\n",
    "#imports\n",
    "import multiprocessing\n",
    "from multiprocessing import Pool\n",
    "import math, random, sys\n",
    "import pickle\n",
    "import argparse\n",
    "from functools import partial\n",
    "import torch\n",
    "import numpy\n",
    "from rdkit import Chem\n",
    "from rdkit.Chem.Draw import IPythonConsole\n",
    "from rdkit.Chem import rdDepictor\n",
    "from rdkit.Chem.Draw import rdMolDraw2D\n",
    "from hgraph import MolGraph, common_atom_vocab, PairVocab\n",
    "import rdkit\n",
    "import rdkit.Chem as Chem\n",
    "import networkx as nx\n",
    "from hgraph.chemutils import *\n",
    "from hgraph.nnutils import *\n",
    "import numpy as np\n",
    "import matplotlib.pyplot as plt\n",
    "from IPython.display import SVG\n",
    "import time\n",
    "from rdkit.Chem import Draw"
   ]
  },
  {
   "cell_type": "code",
   "execution_count": 2,
   "id": "c0d85716",
   "metadata": {},
   "outputs": [],
   "source": [
    "#process from get_vocab.py\n",
    "def process(data):\n",
    "    vocab = set()\n",
    "    for line in data:\n",
    "        s = line.strip(\"\\r\\n \")\n",
    "        hmol = MolGraph(s)\n",
    "        for node,attr in hmol.mol_tree.nodes(data=True):\n",
    "            smiles = attr['smiles']\n",
    "            vocab.add( attr['label'] )\n",
    "            for i,s in attr['inter_label']:\n",
    "                vocab.add( (smiles, s) )\n",
    "    return vocab"
   ]
  },
  {
   "cell_type": "code",
   "execution_count": 3,
   "id": "b2fa9b76",
   "metadata": {},
   "outputs": [
    {
     "name": "stdout",
     "output_type": "stream",
     "text": [
      "['N[C@@H]([C@]([H])(O)C)C(=O)N[C@@H](CSCC(C3)=O)C(=O)N[C@@H](C(C)C)C(=O)N1[C@@H](CCC1)C(=O)N[C@@H](CCC(=O)O)C(=O)N[C@@H](CC1=CN=C-N1)C(=O)N[C@@H](CS3)C(=O)N[C@@H](CO)C(=O)N[C@@H](CSCC(C3)=O)C(=O)N[C@@H](Cc1ccc(O)cc1)C(=O)N[C@@H](CCCNC(=N)N)C(=O)N[C@@H](CS3)C(=O)N1[C@@H](CCC1)C(=O)O\\n', 'N[C@@H]([C@]([H])(O)C)C(=O)N[C@@H](CSCC(C4)=O)C(=O)N[C@@H](C(C)C)C(=O)N1[C@@H](CCC1)C(=O)N[C@@H](CCC(=O)O)C(=O)N[C@@H](CC1=CN=C-N1)C(=O)N[C@@H](CS3)C(=O)N[C@@H](CO)C(=O)N[C@@H](CSCC(C3)=O)C(=O)N[C@@H](Cc1ccc(O)cc1)C(=O)N[C@@H](CCCNC(=N)N)C(=O)N[C@@H](CS4)C(=O)N1[C@@H](CCC1)C(=O)O\\n', 'N[C@@H]([C@]([H])(O)C)C(=O)N[C@@H](CSCC(C3)=O)C(=O)N[C@@H](C(C)C)C(=O)N1[C@@H](CCC1)C(=O)N[C@@H](CCC(=O)O)C(=O)N[C@@H](CC1=CN=C-N1)C(=O)N[C@@H](CSCC(C4)=O)C(=O)N[C@@H](CO)C(=O)N[C@@H](CS3)C(=O)N[C@@H](Cc1ccc(O)cc1)C(=O)N[C@@H](CCCNC(=N)N)C(=O)N[C@@H](CS4)C(=O)N1[C@@H](CCC1)C(=O)O\\n', 'N[C@@H](CCCCN)C(=O)N[C@@H](CSCC(C3)=O)C(=O)N[C@@H](Cc1ccccc1)C(=O)N[C@@H](CC(=O)O)C(=O)N[C@@H](CS3)C(=O)N[C@@H](CSCC(C3)=O)C(=O)N[C@@H](Cc1ccc(O)cc1)C(=O)N[C@@H](CCCNC(=N)N)C(=O)N[C@@H](CS3)C(=O)N1[C@@H](CCC1)C(=O)O\\n', 'N[C@@H](CCCCN)C(=O)N[C@@H](CSCC(C4)=O)C(=O)N[C@@H](Cc1ccccc1)C(=O)N[C@@H](CC(=O)O)C(=O)N[C@@H](CS3)C(=O)N[C@@H](CSCC(C3)=O)C(=O)N[C@@H](Cc1ccc(O)cc1)C(=O)N[C@@H](CCCNC(=N)N)C(=O)N[C@@H](CS4)C(=O)N1[C@@H](CCC1)C(=O)O\\n']\n"
     ]
    }
   ],
   "source": [
    "#manual vocab import\n",
    "with open('data/chembl/cyclic_peptide_smiles.txt') as f:\n",
    "    contents = f.readlines()\n",
    "print(contents[:5])"
   ]
  },
  {
   "cell_type": "code",
   "execution_count": 4,
   "id": "f09157ac",
   "metadata": {},
   "outputs": [
    {
     "name": "stdout",
     "output_type": "stream",
     "text": [
      "['N[C@@H](CCCNC(=N)N)C(=O)N[C@@H](CSCC(C3)=O)C(=O)N[C@@H](Cc1ccc(O)cc1)C(=O)N[C@@H](CO)C(=O)N[C@@H](CSCC(C4)=O)C(=O)N[C@@H](CS3)C(=O)N[C@@H](CC1=CN=C-N1)C(=O)N1[C@@H](CCC1)C(=O)N[C@@H](CCC(=O)N)C(=O)N[C@@H](CC(=O)N)C(=O)N[C@@H](CC(=CN2)C1=C2C=CC=C1)C(=O)N[C@@H](CO)C(=O)N[C@@H](CS4)C(=O)N1[C@@H](CCC1)C(=O)O', 'N[C@@H](Cc1ccccc1)C(=O)N[C@@H](CSCC(C3)=O)C(=O)N[C@@H](CC(=O)O)C(=O)N[C@@H](CC(=CN2)C1=C2C=CC=C1)C(=O)N[C@@H](CS3)C(=O)N[C@@H](CSCC(C3)=O)C(=O)N[C@@H](Cc1ccc(O)cc1)C(=O)N[C@@H](CCCNC(=N)N)C(=O)N[C@@H](CS3)C(=O)N1[C@@H](CCC1)C(=O)O', 'N[C@@H](C(C)C)C(=O)N[C@@H](CSCC(C4)=O)C(=O)N[C@@H](Cc1ccccc1)C(=O)N[C@@H](CCCNC(=N)N)C(=O)N[C@@H](CS3)C(=O)N[C@@H](CCC(=O)N)C(=O)N[C@@H](CSCC(C3)=O)C(=O)N[C@@H](CC(C)C)C(=O)N[C@@H](C(C)C)C(=O)N[C@@H](CS4)C(=O)N[C@@H](CO)C(=O)O', 'N[C@@H]([H])C(=O)N[C@@H](CSCC(C3)=O)C(=O)N1[C@@H](CCC1)C(=O)N[C@@H]([C@]([H])(CC)C)C(=O)N[C@@H](CO)C(=O)N[C@@H](CSCC(C4)=O)C(=O)N[C@@H](CS3)C(=O)N[C@@H](CCCNC(=N)N)C(=O)N[C@@H](CS4)C(=O)N1[C@@H](CCC1)C(=O)O', 'N[C@@H](C(C)C)C(=O)N[C@@H](CSCC(C3)=O)C(=O)N[C@@H]([H])C(=O)N[C@@H](CCCNC(=N)N)C(=O)N[C@@H](CSCC(C4)=O)C(=O)N[C@@H](CO)C(=O)N[C@@H](CS3)C(=O)N[C@@H]([C@]([H])(CC)C)C(=O)N[C@@H](Cc1ccc(O)cc1)C(=O)N[C@@H](CS4)C(=O)N[C@@H](CC(C)C)C(=O)O']\n"
     ]
    }
   ],
   "source": [
    "data = [mol.split()[:2] for mol in contents] #drop new line token\n",
    "data = np.hstack(data)\n",
    "data = list(set(data)) #prevent duplicates\n",
    "print(data[:5])"
   ]
  },
  {
   "cell_type": "code",
   "execution_count": 5,
   "id": "414ef348",
   "metadata": {},
   "outputs": [
    {
     "name": "stdout",
     "output_type": "stream",
     "text": [
      "0\n",
      "{'ismiles': 'C[NH2:1]', 'inter_label': [(0, 'C[NH2:1]')], 'smiles': 'CN', 'label': ('CN', 'C[NH2:1]'), 'cluster': (0, 1), 'assm_cands': []}\n",
      "1\n",
      "{'ismiles': 'C[CH3:1]', 'inter_label': [(1, 'C[CH3:1]')], 'smiles': 'CC', 'label': ('CC', 'C[CH3:1]'), 'cluster': (1, 2), 'assm_cands': []}\n",
      "2\n",
      "{'ismiles': 'C[CH3:1]', 'inter_label': [(2, 'C[CH3:1]')], 'smiles': 'CC', 'label': ('CC', 'C[CH3:1]'), 'cluster': (2, 3), 'assm_cands': []}\n",
      "3\n",
      "{'ismiles': 'C[CH3:1]', 'inter_label': [(3, 'C[CH3:1]')], 'smiles': 'CC', 'label': ('CC', 'C[CH3:1]'), 'cluster': (3, 4), 'assm_cands': []}\n",
      "4\n",
      "{'ismiles': 'N[CH3:1]', 'inter_label': [(4, 'N[CH3:1]')], 'smiles': 'CN', 'label': ('CN', 'N[CH3:1]'), 'cluster': (4, 5), 'assm_cands': []}\n",
      "5\n",
      "{'ismiles': 'C[NH2:1]', 'inter_label': [(5, 'C[NH2:1]')], 'smiles': 'CN', 'label': ('CN', 'C[NH2:1]'), 'cluster': (5, 6), 'assm_cands': []}\n",
      "6\n",
      "{'ismiles': 'N=[CH2:1]', 'inter_label': [(6, 'N=[CH2:1]')], 'smiles': 'C=N', 'label': ('C=N', 'N=[CH2:1]'), 'cluster': (6, 7), 'assm_cands': []}\n",
      "7\n",
      "{'ismiles': 'N[CH3:1]', 'inter_label': [(6, 'N[CH3:1]')], 'smiles': 'CN', 'label': ('CN', 'N[CH3:1]'), 'cluster': (6, 8), 'assm_cands': []}\n",
      "8\n",
      "{'ismiles': 'C[CH3:1]', 'inter_label': [(1, 'C[CH3:1]')], 'smiles': 'CC', 'label': ('CC', 'C[CH3:1]'), 'cluster': (1, 9), 'assm_cands': []}\n",
      "9\n",
      "{'ismiles': 'O=[CH2:1]', 'inter_label': [(9, 'O=[CH2:1]')], 'smiles': 'C=O', 'label': ('C=O', 'O=[CH2:1]'), 'cluster': (9, 10), 'assm_cands': []}\n",
      "10\n",
      "{'ismiles': 'N[CH3:1]', 'inter_label': [(9, 'N[CH3:1]')], 'smiles': 'CN', 'label': ('CN', 'N[CH3:1]'), 'cluster': (9, 11), 'assm_cands': []}\n",
      "11\n",
      "{'ismiles': 'C[NH2:1]', 'inter_label': [(11, 'C[NH2:1]')], 'smiles': 'CN', 'label': ('CN', 'C[NH2:1]'), 'cluster': (11, 12), 'assm_cands': []}\n",
      "12\n",
      "{'ismiles': 'O=[CH2:1]', 'inter_label': [(16, 'O=[CH2:1]')], 'smiles': 'C=O', 'label': ('C=O', 'O=[CH2:1]'), 'cluster': (16, 18), 'assm_cands': [16, 12, 19, 21, 22, 31, 33, 34, 37, 39, 40, 47, 49, 50, 51, 52, 17, 15, 14, 13]}\n",
      "13\n",
      "{'ismiles': 'O=[CH2:1]', 'inter_label': [(19, 'O=[CH2:1]')], 'smiles': 'C=O', 'label': ('C=O', 'O=[CH2:1]'), 'cluster': (19, 20), 'assm_cands': [19, 12, 21, 22, 31, 33, 34, 37, 39, 40, 47, 49, 50, 51, 52, 17, 16, 15, 14, 13]}\n",
      "14\n",
      "{'ismiles': 'C[CH3:1]', 'inter_label': [(22, 'C[CH3:1]')], 'smiles': 'CC', 'label': ('CC', 'C[CH3:1]'), 'cluster': (22, 23), 'assm_cands': [22, 12, 19, 21, 31, 33, 34, 37, 39, 40, 47, 49, 50, 51, 52, 17, 16, 15, 14, 13]}\n",
      "15\n",
      "{'ismiles': 'C[CH3:1]', 'inter_label': [(23, 'C[CH3:1]')], 'smiles': 'CC', 'label': ('CC', 'C[CH3:1]'), 'cluster': (23, 24), 'assm_cands': []}\n",
      "16\n",
      "{'ismiles': 'O[CH3:1]', 'inter_label': [(27, 'O[CH3:1]')], 'smiles': 'CO', 'label': ('CO', 'O[CH3:1]'), 'cluster': (27, 28), 'assm_cands': [27, 25, 26, 29, 30, 24]}\n",
      "17\n",
      "{'ismiles': 'O=[CH2:1]', 'inter_label': [(31, 'O=[CH2:1]')], 'smiles': 'C=O', 'label': ('C=O', 'O=[CH2:1]'), 'cluster': (31, 32), 'assm_cands': [31, 12, 19, 21, 22, 33, 34, 37, 39, 40, 47, 49, 50, 51, 52, 17, 16, 15, 14, 13]}\n",
      "18\n",
      "{'ismiles': 'C[CH3:1]', 'inter_label': [(34, 'C[CH3:1]')], 'smiles': 'CC', 'label': ('CC', 'C[CH3:1]'), 'cluster': (34, 35), 'assm_cands': [34, 12, 19, 21, 22, 31, 33, 37, 39, 40, 47, 49, 50, 51, 52, 17, 16, 15, 14, 13]}\n",
      "19\n",
      "{'ismiles': 'O[CH3:1]', 'inter_label': [(35, 'O[CH3:1]')], 'smiles': 'CO', 'label': ('CO', 'O[CH3:1]'), 'cluster': (35, 36), 'assm_cands': []}\n",
      "20\n",
      "{'ismiles': 'O=[CH2:1]', 'inter_label': [(37, 'O=[CH2:1]')], 'smiles': 'C=O', 'label': ('C=O', 'O=[CH2:1]'), 'cluster': (37, 38), 'assm_cands': [37, 12, 19, 21, 22, 31, 33, 34, 39, 40, 47, 49, 50, 51, 52, 17, 16, 15, 14, 13]}\n",
      "21\n",
      "{'ismiles': 'O=[CH2:1]', 'inter_label': [(44, 'O=[CH2:1]')], 'smiles': 'C=O', 'label': ('C=O', 'O=[CH2:1]'), 'cluster': (44, 46), 'assm_cands': [44, 41, 42, 43, 45, 112, 111, 110, 109, 107, 104, 103, 101, 90, 89, 87, 82, 81, 79, 73, 72, 70, 66, 65, 63, 56, 55, 53, 50, 49, 47, 40]}\n",
      "22\n",
      "{'ismiles': 'O=[CH2:1]', 'inter_label': [(47, 'O=[CH2:1]')], 'smiles': 'C=O', 'label': ('C=O', 'O=[CH2:1]'), 'cluster': (47, 48), 'assm_cands': [47, 12, 19, 21, 22, 31, 33, 34, 37, 39, 40, 49, 50, 51, 52, 17, 16, 15, 14, 13]}\n",
      "23\n",
      "{'ismiles': 'O=[CH2:1]', 'inter_label': [(53, 'O=[CH2:1]')], 'smiles': 'C=O', 'label': ('C=O', 'O=[CH2:1]'), 'cluster': (53, 54), 'assm_cands': [53, 41, 42, 43, 44, 45, 112, 111, 110, 109, 107, 104, 103, 101, 90, 89, 87, 82, 81, 79, 73, 72, 70, 66, 65, 63, 56, 55, 50, 49, 47, 40]}\n",
      "24\n",
      "{'ismiles': 'C[CH3:1]', 'inter_label': [(56, 'C[CH3:1]')], 'smiles': 'CC', 'label': ('CC', 'C[CH3:1]'), 'cluster': (56, 57), 'assm_cands': [56, 41, 42, 43, 44, 45, 112, 111, 110, 109, 107, 104, 103, 101, 90, 89, 87, 82, 81, 79, 73, 72, 70, 66, 65, 63, 55, 53, 50, 49, 47, 40]}\n",
      "25\n",
      "{'ismiles': 'C[CH3:1]', 'inter_label': [(57, 'C[CH3:1]')], 'smiles': 'CC', 'label': ('CC', 'C[CH3:1]'), 'cluster': (57, 58), 'assm_cands': []}\n",
      "26\n",
      "{'ismiles': 'O=[CH2:1]', 'inter_label': [(63, 'O=[CH2:1]')], 'smiles': 'C=O', 'label': ('C=O', 'O=[CH2:1]'), 'cluster': (63, 64), 'assm_cands': [63, 41, 42, 43, 44, 45, 112, 111, 110, 109, 107, 104, 103, 101, 90, 89, 87, 82, 81, 79, 73, 72, 70, 66, 65, 56, 55, 53, 50, 49, 47, 40]}\n",
      "27\n",
      "{'ismiles': 'O=[CH2:1]', 'inter_label': [(70, 'O=[CH2:1]')], 'smiles': 'C=O', 'label': ('C=O', 'O=[CH2:1]'), 'cluster': (70, 71), 'assm_cands': [70, 41, 42, 43, 44, 45, 112, 111, 110, 109, 107, 104, 103, 101, 90, 89, 87, 82, 81, 79, 73, 72, 66, 65, 63, 56, 55, 53, 50, 49, 47, 40]}\n",
      "28\n",
      "{'ismiles': 'C[CH3:1]', 'inter_label': [(73, 'C[CH3:1]')], 'smiles': 'CC', 'label': ('CC', 'C[CH3:1]'), 'cluster': (73, 74), 'assm_cands': [73, 41, 42, 43, 44, 45, 112, 111, 110, 109, 107, 104, 103, 101, 90, 89, 87, 82, 81, 79, 72, 70, 66, 65, 63, 56, 55, 53, 50, 49, 47, 40]}\n",
      "29\n",
      "{'ismiles': 'C[CH3:1]', 'inter_label': [(74, 'C[CH3:1]')], 'smiles': 'CC', 'label': ('CC', 'C[CH3:1]'), 'cluster': (74, 75), 'assm_cands': []}\n",
      "30\n",
      "{'ismiles': 'C[CH3:1]', 'inter_label': [(75, 'C[CH3:1]')], 'smiles': 'CC', 'label': ('CC', 'C[CH3:1]'), 'cluster': (75, 76), 'assm_cands': []}\n",
      "31\n",
      "{'ismiles': 'O=[CH2:1]', 'inter_label': [(76, 'O=[CH2:1]')], 'smiles': 'C=O', 'label': ('C=O', 'O=[CH2:1]'), 'cluster': (76, 77), 'assm_cands': []}\n",
      "32\n",
      "{'ismiles': 'N[CH3:1]', 'inter_label': [(76, 'N[CH3:1]')], 'smiles': 'CN', 'label': ('CN', 'N[CH3:1]'), 'cluster': (76, 78), 'assm_cands': []}\n",
      "33\n",
      "{'ismiles': 'O=[CH2:1]', 'inter_label': [(79, 'O=[CH2:1]')], 'smiles': 'C=O', 'label': ('C=O', 'O=[CH2:1]'), 'cluster': (79, 80), 'assm_cands': [79, 41, 42, 43, 44, 45, 112, 111, 110, 109, 107, 104, 103, 101, 90, 89, 87, 82, 81, 73, 72, 70, 66, 65, 63, 56, 55, 53, 50, 49, 47, 40]}\n",
      "34\n",
      "{'ismiles': 'C[CH3:1]', 'inter_label': [(82, 'C[CH3:1]')], 'smiles': 'CC', 'label': ('CC', 'C[CH3:1]'), 'cluster': (82, 83), 'assm_cands': [82, 41, 42, 43, 44, 45, 112, 111, 110, 109, 107, 104, 103, 101, 90, 89, 87, 81, 79, 73, 72, 70, 66, 65, 63, 56, 55, 53, 50, 49, 47, 40]}\n",
      "35\n",
      "{'ismiles': 'C[CH3:1]', 'inter_label': [(83, 'C[CH3:1]')], 'smiles': 'CC', 'label': ('CC', 'C[CH3:1]'), 'cluster': (83, 84), 'assm_cands': []}\n",
      "36\n",
      "{'ismiles': 'O=[CH2:1]', 'inter_label': [(84, 'O=[CH2:1]')], 'smiles': 'C=O', 'label': ('C=O', 'O=[CH2:1]'), 'cluster': (84, 85), 'assm_cands': []}\n",
      "37\n",
      "{'ismiles': 'N[CH3:1]', 'inter_label': [(84, 'N[CH3:1]')], 'smiles': 'CN', 'label': ('CN', 'N[CH3:1]'), 'cluster': (84, 86), 'assm_cands': []}\n",
      "38\n",
      "{'ismiles': 'O=[CH2:1]', 'inter_label': [(87, 'O=[CH2:1]')], 'smiles': 'C=O', 'label': ('C=O', 'O=[CH2:1]'), 'cluster': (87, 88), 'assm_cands': [87, 41, 42, 43, 44, 45, 112, 111, 110, 109, 107, 104, 103, 101, 90, 89, 82, 81, 79, 73, 72, 70, 66, 65, 63, 56, 55, 53, 50, 49, 47, 40]}\n",
      "39\n",
      "{'ismiles': 'C[CH3:1]', 'inter_label': [(90, 'C[CH3:1]')], 'smiles': 'CC', 'label': ('CC', 'C[CH3:1]'), 'cluster': (90, 91), 'assm_cands': [90, 41, 42, 43, 44, 45, 112, 111, 110, 109, 107, 104, 103, 101, 89, 87, 82, 81, 79, 73, 72, 70, 66, 65, 63, 56, 55, 53, 50, 49, 47, 40]}\n",
      "40\n",
      "{'ismiles': 'C[CH3:1]', 'inter_label': [(91, 'C[CH3:1]')], 'smiles': 'CC', 'label': ('CC', 'C[CH3:1]'), 'cluster': (91, 92), 'assm_cands': []}\n",
      "41\n",
      "{'ismiles': 'O=[CH2:1]', 'inter_label': [(101, 'O=[CH2:1]')], 'smiles': 'C=O', 'label': ('C=O', 'O=[CH2:1]'), 'cluster': (101, 102), 'assm_cands': [101, 41, 42, 43, 44, 45, 112, 111, 110, 109, 107, 104, 103, 90, 89, 87, 82, 81, 79, 73, 72, 70, 66, 65, 63, 56, 55, 53, 50, 49, 47, 40]}\n",
      "42\n",
      "{'ismiles': 'C[CH3:1]', 'inter_label': [(104, 'C[CH3:1]')], 'smiles': 'CC', 'label': ('CC', 'C[CH3:1]'), 'cluster': (104, 105), 'assm_cands': [104, 41, 42, 43, 44, 45, 112, 111, 110, 109, 107, 103, 101, 90, 89, 87, 82, 81, 79, 73, 72, 70, 66, 65, 63, 56, 55, 53, 50, 49, 47, 40]}\n",
      "43\n",
      "{'ismiles': 'O[CH3:1]', 'inter_label': [(105, 'O[CH3:1]')], 'smiles': 'CO', 'label': ('CO', 'O[CH3:1]'), 'cluster': (105, 106), 'assm_cands': []}\n",
      "44\n",
      "{'ismiles': 'O=[CH2:1]', 'inter_label': [(107, 'O=[CH2:1]')], 'smiles': 'C=O', 'label': ('C=O', 'O=[CH2:1]'), 'cluster': (107, 108), 'assm_cands': [107, 41, 42, 43, 44, 45, 112, 111, 110, 109, 104, 103, 101, 90, 89, 87, 82, 81, 79, 73, 72, 70, 66, 65, 63, 56, 55, 53, 50, 49, 47, 40]}\n",
      "45\n",
      "{'ismiles': 'C[CH3:1]', 'inter_label': [(110, 'C[CH3:1]')], 'smiles': 'CC', 'label': ('CC', 'C[CH3:1]'), 'cluster': (110, 113), 'assm_cands': [110, 41, 42, 43, 44, 45, 112, 111, 109, 107, 104, 103, 101, 90, 89, 87, 82, 81, 79, 73, 72, 70, 66, 65, 63, 56, 55, 53, 50, 49, 47, 40]}\n",
      "46\n",
      "{'ismiles': 'O=[CH2:1]', 'inter_label': [(113, 'O=[CH2:1]')], 'smiles': 'C=O', 'label': ('C=O', 'O=[CH2:1]'), 'cluster': (113, 114), 'assm_cands': []}\n",
      "47\n",
      "{'ismiles': 'N[CH3:1]', 'inter_label': [(113, 'N[CH3:1]')], 'smiles': 'CN', 'label': ('CN', 'N[CH3:1]'), 'cluster': (113, 115), 'assm_cands': []}\n",
      "48\n",
      "{'ismiles': 'C[CH3:1]', 'inter_label': [(116, 'C[CH3:1]')], 'smiles': 'CC', 'label': ('CC', 'C[CH3:1]'), 'cluster': (116, 120), 'assm_cands': [116, 115, 118, 117]}\n",
      "49\n",
      "{'ismiles': 'O=[CH2:1]', 'inter_label': [(120, 'O=[CH2:1]')], 'smiles': 'C=O', 'label': ('C=O', 'O=[CH2:1]'), 'cluster': (120, 121), 'assm_cands': []}\n",
      "50\n",
      "{'ismiles': 'O[CH3:1]', 'inter_label': [(120, 'O[CH3:1]')], 'smiles': 'CO', 'label': ('CO', 'O[CH3:1]'), 'cluster': (120, 122), 'assm_cands': []}\n",
      "51\n",
      "{'ismiles': 'C1CSCCNCCNCCNCCNC[CH2:1]CSC1', 'inter_label': [(12, 'C1CSCCNCCNCCNCCNC[CH2:1]CSC1')], 'smiles': 'C1CNCCNCCNCCNCCSCCCSC1', 'label': ('C1CNCCNCCNCCNCCSCCCSC1', 'C1CSCCNCCNCCNCCNC[CH2:1]CSC1'), 'cluster': (12, 19, 21, 22, 31, 33, 34, 37, 39, 40, 47, 49, 50, 51, 52, 17, 16, 15, 14, 13), 'assm_cands': []}\n",
      "52\n",
      "{'ismiles': 'C1=CC=[CH:1]C=C1', 'inter_label': [(24, 'C1=CC=[CH:1]C=C1')], 'smiles': 'C1=CC=CC=C1', 'label': ('C1=CC=CC=C1', 'C1=CC=[CH:1]C=C1'), 'cluster': (25, 26, 27, 29, 30, 24), 'assm_cands': []}\n",
      "53\n",
      "{'ismiles': 'C1CSCCNCCNCCNCCNCCNCCNCCNC[CH2:1][NH:1][CH2:1][CH2:1]CSC1', 'inter_label': [(40, 'C1CSCCNCCNCCNCCNCCNCCNCCNCCNC[CH2:1]CSC1'), (50, 'C1CN[CH2:1]CNCCNCCNCCNCCNCCNCCNCCSCCCSC1')], 'smiles': 'C1CNCCNCCNCCNCCNCCNCCNCCNCCSCCCSC1', 'label': ('C1CNCCNCCNCCNCCNCCNCCNCCNCCSCCCSC1', 'C1CSCCNCCNCCNCCNCCNCCNCCNC[CH2:1][NH:1][CH2:1][CH2:1]CSC1'), 'cluster': (41, 42, 43, 44, 45, 112, 111, 110, 109, 107, 104, 103, 101, 90, 89, 87, 82, 81, 79, 73, 72, 70, 66, 65, 63, 56, 55, 53, 50, 49, 47, 40), 'assm_cands': [(40, 50), (12, 22), (19, 31), (21, 33), (22, 34), (31, 37), (33, 39), (34, 40), (37, 47), (39, 49), (47, 51), (49, 52), (50, 17), (51, 16), (52, 15), (17, 14), (16, 13), (15, 12), (14, 19), (13, 21), (22, 12), (31, 19), (33, 21), (34, 22), (37, 31), (39, 33), (40, 34), (47, 37), (49, 39), (50, 40), (51, 47), (52, 49), (17, 50), (16, 51), (15, 52), (14, 17), (13, 16), (12, 15), (19, 14), (21, 13)]}\n",
      "54\n",
      "{'ismiles': 'C1=NC=[CH:1]N1', 'inter_label': [(58, 'C1=NC=[CH:1]N1')], 'smiles': 'C1=CNC=N1', 'label': ('C1=CNC=N1', 'C1=NC=[CH:1]N1'), 'cluster': (59, 58, 62, 61, 60), 'assm_cands': []}\n",
      "55\n",
      "{'ismiles': 'C1C[CH2:1][NH:1]C1', 'inter_label': [(65, 'C1CC[NH:1]C1'), (66, 'C1CN[CH2:1]C1')], 'smiles': 'C1CCNC1', 'label': ('C1CCNC1', 'C1C[CH2:1][NH:1]C1'), 'cluster': (67, 66, 65, 69, 68), 'assm_cands': [(65, 66), (41, 42), (42, 43), (43, 44), (44, 45), (45, 112), (112, 111), (111, 110), (110, 109), (109, 107), (107, 104), (104, 103), (103, 101), (101, 90), (90, 89), (89, 87), (87, 82), (82, 81), (81, 79), (79, 73), (73, 72), (72, 70), (70, 66), (66, 65), (65, 63), (63, 56), (56, 55), (55, 53), (53, 50), (50, 49), (49, 47), (47, 40), (40, 41), (42, 41), (43, 42), (44, 43), (45, 44), (112, 45), (111, 112), (110, 111), (109, 110), (107, 109), (104, 107), (103, 104), (101, 103), (90, 101), (89, 90), (87, 89), (82, 87), (81, 82), (79, 81), (73, 79), (72, 73), (70, 72), (66, 70), (63, 65), (56, 63), (55, 56), (53, 55), (50, 53), (49, 50), (47, 49), (40, 47), (41, 40)]}\n",
      "56\n",
      "{'ismiles': 'C1=C[CH:1]=CN1', 'inter_label': [(92, 'C1=C[CH:1]=CN1')], 'smiles': 'C1=CNC=C1', 'label': ('C1=CNC=C1', 'C1=C[CH:1]=CN1'), 'cluster': (93, 92, 95, 96, 94), 'assm_cands': []}\n",
      "57\n",
      "{'ismiles': 'C1=C[CH:1]=[CH:1]C=C1', 'inter_label': [(95, 'C1=CC=[CH:1]C=C1'), (96, 'C1=CC=[CH:1]C=C1')], 'smiles': 'C1=CC=CC=C1', 'label': ('C1=CC=CC=C1', 'C1=C[CH:1]=[CH:1]C=C1'), 'cluster': (97, 98, 99, 100, 95, 96), 'assm_cands': [(95, 96), (93, 92), (92, 95), (96, 94), (94, 93)]}\n",
      "58\n",
      "{'ismiles': 'C1CC[NH:1]C1', 'inter_label': [(115, 'C1CC[NH:1]C1')], 'smiles': 'C1CCNC1', 'label': ('C1CCNC1', 'C1CC[NH:1]C1'), 'cluster': (116, 115, 119, 118, 117), 'assm_cands': []}\n",
      "59\n",
      "{'ismiles': 'C', 'inter_label': [(1, 'C')], 'smiles': 'C', 'label': ('C', 'C'), 'cluster': [1], 'assm_cands': []}\n",
      "60\n",
      "{'ismiles': 'C', 'inter_label': [(6, 'C')], 'smiles': 'C', 'label': ('C', 'C'), 'cluster': [6], 'assm_cands': []}\n",
      "61\n",
      "{'ismiles': 'C', 'inter_label': [(9, 'C')], 'smiles': 'C', 'label': ('C', 'C'), 'cluster': [9], 'assm_cands': []}\n",
      "62\n",
      "{'ismiles': 'C', 'inter_label': [(76, 'C')], 'smiles': 'C', 'label': ('C', 'C'), 'cluster': [76], 'assm_cands': []}\n",
      "63\n",
      "{'ismiles': 'C', 'inter_label': [(84, 'C')], 'smiles': 'C', 'label': ('C', 'C'), 'cluster': [84], 'assm_cands': []}\n",
      "64\n",
      "{'ismiles': 'C', 'inter_label': [(113, 'C')], 'smiles': 'C', 'label': ('C', 'C'), 'cluster': [113], 'assm_cands': []}\n",
      "65\n",
      "{'ismiles': 'C', 'inter_label': [(120, 'C')], 'smiles': 'C', 'label': ('C', 'C'), 'cluster': [120], 'assm_cands': []}\n"
     ]
    }
   ],
   "source": [
    "vocab = set()\n",
    "for line in data[:1]:\n",
    "    hmol = MolGraph(line)\n",
    "    for node,attr in hmol.mol_tree.nodes(data=True):\n",
    "        print(node)\n",
    "        print(attr)"
   ]
  },
  {
   "cell_type": "code",
   "execution_count": 8,
   "id": "08158e14",
   "metadata": {},
   "outputs": [
    {
     "data": {
      "text/plain": [
       "[(0, 1), (1, 2), (1, 3), (1, 4), (4, 5, 6, 7, 8)]"
      ]
     },
     "execution_count": 8,
     "metadata": {},
     "output_type": "execute_result"
    }
   ],
   "source": [
    "clusters, atom_cls = MolGraph('CC(C)(C)P1=COB=N1').find_clusters()\n",
    "clusters #clusters are the atoms connected by bonds, grouped as more than pairs if it's part of a ring"
   ]
  },
  {
   "cell_type": "code",
   "execution_count": 9,
   "id": "0647b602",
   "metadata": {},
   "outputs": [
    {
     "data": {
      "text/plain": [
       "[[0], [0, 1, 2, 3], [1], [2], [3, 4], [4], [4], [4], [4]]"
      ]
     },
     "execution_count": 9,
     "metadata": {},
     "output_type": "execute_result"
    }
   ],
   "source": [
    "atom_cls #atom_cls tells you which atoms are part of which bonds (clusters)"
   ]
  },
  {
   "cell_type": "code",
   "execution_count": 10,
   "id": "7196d5dd",
   "metadata": {},
   "outputs": [],
   "source": [
    "#build a graph from the molecule components\n",
    "graph = nx.empty_graph( len(clusters) )\n",
    "for atom,nei_cls in enumerate(atom_cls):\n",
    "    if len(nei_cls) <= 1: #is this atom only attached to one other atom? if so, skip this atom\n",
    "        continue\n",
    "    bonds = [c for c in nei_cls if len(clusters[c]) == 2]\n",
    "    rings = [c for c in nei_cls if len(clusters[c]) > 4] #need to change to 2\n",
    "    if len(nei_cls) > 2 and len(bonds) >= 2:\n",
    "        clusters.append([atom])\n",
    "        c2 = len(clusters) - 1\n",
    "        graph.add_node(c2)\n",
    "        for c1 in nei_cls:\n",
    "            graph.add_edge(c1, c2, weight = 100)\n",
    "\n",
    "    elif len(rings) > 2: #Bee Hives, len(nei_cls) > 2 \n",
    "        clusters.append([atom]) #temporary value, need to change\n",
    "        c2 = len(clusters) - 1\n",
    "        graph.add_node(c2)\n",
    "        for c1 in nei_cls:\n",
    "            graph.add_edge(c1, c2, weight = 100)\n",
    "    else:\n",
    "        for i,c1 in enumerate(nei_cls):\n",
    "            for c2 in nei_cls[i + 1:]:\n",
    "                inter = set(clusters[c1]) & set(clusters[c2])\n",
    "                graph.add_edge(c1, c2, weight = len(inter))"
   ]
  },
  {
   "cell_type": "code",
   "execution_count": 11,
   "id": "475e08d2",
   "metadata": {},
   "outputs": [
    {
     "name": "stdout",
     "output_type": "stream",
     "text": [
      "[[0, 1, 2, 3]]\n",
      "[0, 1, 2, 3]\n",
      "[]\n"
     ]
    }
   ],
   "source": [
    "#test with one atom that's connected to more than one atom, but not part of a ring\n",
    "print(atom_cls[1:2])\n",
    "graph = nx.empty_graph( len(clusters) )\n",
    "for atom,nei_cls in enumerate(atom_cls[1:2]):\n",
    "    if len(nei_cls) <= 1: #is this atom only attached to one other atom? if so, skip this atom\n",
    "        continue\n",
    "    bonds = [c for c in nei_cls if len(clusters[c]) == 2]\n",
    "    rings = [c for c in nei_cls if len(clusters[c]) > 4] #need to change to 2\n",
    "    \n",
    "    \n",
    "print(bonds)\n",
    "print(rings)"
   ]
  },
  {
   "cell_type": "code",
   "execution_count": 12,
   "id": "e442a2ec",
   "metadata": {},
   "outputs": [
    {
     "name": "stdout",
     "output_type": "stream",
     "text": [
      "[[3, 4]]\n",
      "[3]\n",
      "[4]\n"
     ]
    }
   ],
   "source": [
    "#test with one atom that's connected to more than one atom and is part of a ring\n",
    "print(atom_cls[4:5])\n",
    "graph = nx.empty_graph( len(clusters) )\n",
    "for atom,nei_cls in enumerate(atom_cls[4:5]):\n",
    "    if len(nei_cls) <= 1: #is this atom only attached to one other atom? if so, skip this atom\n",
    "        continue\n",
    "    bonds = [c for c in nei_cls if len(clusters[c]) == 2]\n",
    "    rings = [c for c in nei_cls if len(clusters[c]) > 4] #need to change to 2\n",
    "    \n",
    "    \n",
    "print(bonds)\n",
    "print(rings)"
   ]
  },
  {
   "cell_type": "code",
   "execution_count": 13,
   "id": "755f8a12",
   "metadata": {},
   "outputs": [
    {
     "name": "stdout",
     "output_type": "stream",
     "text": [
      "atom is connected to other non-ring atoms\n",
      "atom index: 1\n",
      "connected atom indices: [0, 1, 2, 3]\n",
      "indices of bonds from clusters: [0, 1, 2, 3]\n",
      "indices of rings from clusters: []\n",
      "new cluster vector: [(0, 1), (1, 2), (1, 3), (1, 4), (4, 5, 6, 7, 8), [1]]\n",
      "name of new graph node: 5\n",
      "other atom\n",
      "atom index: 4\n",
      "connected atom indices: [3, 4]\n",
      "indices of bonds from clusters: [3]\n",
      "indices of rings from clusters: [4]\n"
     ]
    }
   ],
   "source": [
    "clusters, atom_cls = MolGraph('CC(C)(C)P1=COB=N1').find_clusters()\n",
    "graph = nx.empty_graph( len(clusters) )\n",
    "for atom_index,atoms_connected in enumerate(atom_cls):\n",
    "    if len(atoms_connected) <= 1: #is this atom only attached to one other atom? if so, skip this atom\n",
    "        continue\n",
    "    bonds = [c for c in atoms_connected if len(clusters[c]) == 2]\n",
    "    rings = [c for c in atoms_connected if len(clusters[c]) > 4] #need to change to 2\n",
    "\n",
    "    \n",
    "    if len(atoms_connected) > 2 and len(bonds) >= 2: #if the atom is connected to more than 2 atoms, has more than one bond (and is therefore not part of a ring?)\n",
    "        print('atom is connected to other non-ring atoms')\n",
    "        print('atom index: ' + str(atom_index))\n",
    "        print('connected atom indices: ' + str(atoms_connected))\n",
    "        print('indices of bonds from clusters: ' + str(bonds))\n",
    "        print('indices of rings from clusters: ' + str(rings))\n",
    "        clusters.append([atom_index])\n",
    "        print('new cluster vector: ' + str(clusters))\n",
    "        c2 = len(clusters) - 1\n",
    "        print('name of new graph node: ' + str(c2))\n",
    "        graph.add_node(c2)\n",
    "        for c1 in atoms_connected:\n",
    "            graph.add_edge(c1, c2, weight = 100)\n",
    "\n",
    "    elif len(rings) > 2: #Bee Hives, len(nei_cls) > 2 \n",
    "        clusters.append([atom_index]) #temporary value, need to change\n",
    "        c2 = len(clusters) - 1\n",
    "        graph.add_node(c2)\n",
    "        for c1 in atoms_connected:\n",
    "            graph.add_edge(c1, c2, weight = 100)\n",
    "    else:\n",
    "        print('other atom')\n",
    "        print('atom index: ' + str(atom_index))\n",
    "        print('connected atom indices: ' + str(atoms_connected))\n",
    "        print('indices of bonds from clusters: ' + str(bonds))\n",
    "        print('indices of rings from clusters: ' + str(rings))\n",
    "        for i,c1 in enumerate(atoms_connected):\n",
    "            for c2 in atoms_connected[i + 1:]:\n",
    "                inter = set(clusters[c1]) & set(clusters[c2])\n",
    "                graph.add_edge(c1, c2, weight = len(inter))"
   ]
  },
  {
   "cell_type": "code",
   "execution_count": 14,
   "id": "82b5a9bd-8481-4f76-b978-8730ec7a4b1e",
   "metadata": {
    "tags": []
   },
   "outputs": [
    {
     "data": {
      "image/png": "[encoded data removed]",
      "text/plain": [
       "<Figure size 640x480 with 1 Axes>"
      ]
     },
     "metadata": {},
     "output_type": "display_data"
    }
   ],
   "source": [
    "nx.draw(graph,with_labels=True)\n",
    "plt.show()"
   ]
  },
  {
   "cell_type": "code",
   "execution_count": 15,
   "id": "849fe4b1-ed47-4301-a489-2b133667d940",
   "metadata": {},
   "outputs": [
    {
     "name": "stdout",
     "output_type": "stream",
     "text": [
      "<rdkit.Chem.rdchem.Bond object at 0x14e564088ee0>\n",
      "6\n",
      "6\n",
      "<rdkit.Chem.rdchem.Bond object at 0x14e56bc263a0>\n",
      "6\n",
      "6\n",
      "<rdkit.Chem.rdchem.Bond object at 0x14e564104da0>\n",
      "6\n",
      "6\n",
      "<rdkit.Chem.rdchem.Bond object at 0x14e56bc263a0>\n",
      "6\n",
      "15\n",
      "<rdkit.Chem.rdchem.Bond object at 0x14e564104da0>\n",
      "15\n",
      "6\n",
      "<rdkit.Chem.rdchem.Bond object at 0x14e56bc263a0>\n",
      "6\n",
      "8\n",
      "<rdkit.Chem.rdchem.Bond object at 0x14e564104da0>\n",
      "8\n",
      "5\n",
      "<rdkit.Chem.rdchem.Bond object at 0x14e56bc263a0>\n",
      "5\n",
      "7\n",
      "<rdkit.Chem.rdchem.Bond object at 0x14e564104da0>\n",
      "7\n",
      "15\n",
      "[(0, 1), (1, 2), (1, 3), (1, 4)]\n"
     ]
    }
   ],
   "source": [
    "mol = get_mol('CC(C)(C)P1=COB=N1')\n",
    "n_atoms = mol.GetNumAtoms()\n",
    "if n_atoms == 1: #special case\n",
    "    output = [(0,)], [[0]]\n",
    "\n",
    "clusters = []\n",
    "#this for loop adds clusters for all non-ring atoms\n",
    "for bond in mol.GetBonds():\n",
    "    print(bond)\n",
    "    a1 = bond.GetBeginAtom().GetIdx() #atom index for the start of the bond\n",
    "    a2 = bond.GetEndAtom().GetIdx() #atom index for the end of the bond\n",
    "    print(bond.GetBeginAtom().GetAtomicNum())\n",
    "    print(bond.GetEndAtom().GetAtomicNum())\n",
    "    if not bond.IsInRing():\n",
    "        clusters.append( (a1,a2) )\n",
    "\n",
    "# ssr = [tuple(x) for x in Chem.GetSymmSSSR(mol)]\n",
    "# clusters.extend(ssr)\n",
    "\n",
    "# if 0 not in clusters[0]: #root is not node[0]\n",
    "#     for i,cls in enumerate(clusters):\n",
    "#         if 0 in cls:\n",
    "#             clusters = [clusters[i]] + clusters[:i] + clusters[i+1:]\n",
    "#             #clusters[i], clusters[0] = clusters[0], clusters[i]\n",
    "#             break\n",
    "\n",
    "# atom_cls = [[] for i in range(n_atoms)]\n",
    "# for i in range(len(clusters)):\n",
    "#     for atom in clusters[i]:\n",
    "#         atom_cls[atom].append(i)\n",
    "\n",
    "print(clusters)"
   ]
  },
  {
   "cell_type": "code",
   "execution_count": 16,
   "id": "f5a952d9-9299-477a-9ea3-f196c858385c",
   "metadata": {},
   "outputs": [],
   "source": [
    "def moltosvg(mol, molSize = (300,300), kekulize = True):\n",
    "    mc = Chem.Mol(mol.ToBinary())\n",
    "    if kekulize:\n",
    "        try:\n",
    "            Chem.Kekulize(mc)\n",
    "        except:\n",
    "            mc = Chem.Mol(mol.ToBinary())\n",
    "    if not mc.GetNumConformers():\n",
    "        rdDepictor.Compute2DCoords(mc)\n",
    "    drawer = rdMolDraw2D.MolDraw2DSVG(molSize[0],molSize[1])\n",
    "    drawer.DrawMolecule(mc)\n",
    "    drawer.FinishDrawing()\n",
    "    svg = drawer.GetDrawingText()\n",
    "    return svg.replace('svg:','')"
   ]
  },
  {
   "cell_type": "code",
   "execution_count": 17,
   "id": "0817ca78-85db-468e-8482-8b03182f733f",
   "metadata": {},
   "outputs": [
    {
     "data": {
      "image/svg+xml": [
       "<svg baseProfile=\"full\" height=\"300px\" version=\"1.1\" width=\"300px\" xml:space=\"preserve\" xmlns=\"http://www.w3.org/2000/svg\" xmlns:rdkit=\"http://www.rdkit.org/xml\" xmlns:xlink=\"http://www.w3.org/1999/xlink\">\n",
       "<!-- END OF HEADER -->\n",
       "<rect height=\"300\" style=\"opacity:1.0;fill:#FFFFFF;stroke:none\" width=\"300\" x=\"0\" y=\"0\"> </rect>\n",
       "<path class=\"bond-0\" d=\"M 212.544,223.82 212.544,150\" style=\"fill:none;fill-rule:evenodd;stroke:#000000;stroke-width:2px;stroke-linecap:butt;stroke-linejoin:miter;stroke-opacity:1\"/>\n",
       "<path class=\"bond-1\" d=\"M 212.544,150 212.544,76.1803\" style=\"fill:none;fill-rule:evenodd;stroke:#000000;stroke-width:2px;stroke-linecap:butt;stroke-linejoin:miter;stroke-opacity:1\"/>\n",
       "<path class=\"bond-2\" d=\"M 212.544,150 286.364,150\" style=\"fill:none;fill-rule:evenodd;stroke:#000000;stroke-width:2px;stroke-linecap:butt;stroke-linejoin:miter;stroke-opacity:1\"/>\n",
       "<path class=\"bond-3\" d=\"M 212.544,150 181.887,150\" style=\"fill:none;fill-rule:evenodd;stroke:#000000;stroke-width:2px;stroke-linecap:butt;stroke-linejoin:miter;stroke-opacity:1\"/>\n",
       "<path class=\"bond-3\" d=\"M 181.887,150 151.23,150\" style=\"fill:none;fill-rule:evenodd;stroke:#FF7F00;stroke-width:2px;stroke-linecap:butt;stroke-linejoin:miter;stroke-opacity:1\"/>\n",
       "<path class=\"bond-4\" d=\"M 133.275,142.5 114.305,116.389\" style=\"fill:none;fill-rule:evenodd;stroke:#FF7F00;stroke-width:2px;stroke-linecap:butt;stroke-linejoin:miter;stroke-opacity:1\"/>\n",
       "<path class=\"bond-4\" d=\"M 114.305,116.389 95.334,90.2786\" style=\"fill:none;fill-rule:evenodd;stroke:#000000;stroke-width:2px;stroke-linecap:butt;stroke-linejoin:miter;stroke-opacity:1\"/>\n",
       "<path class=\"bond-4\" d=\"M 115.64,143.345 102.36,125.067\" style=\"fill:none;fill-rule:evenodd;stroke:#FF7F00;stroke-width:2px;stroke-linecap:butt;stroke-linejoin:miter;stroke-opacity:1\"/>\n",
       "<path class=\"bond-4\" d=\"M 102.36,125.067 89.0809,106.79\" style=\"fill:none;fill-rule:evenodd;stroke:#000000;stroke-width:2px;stroke-linecap:butt;stroke-linejoin:miter;stroke-opacity:1\"/>\n",
       "<path class=\"bond-8\" d=\"M 133.275,157.5 117.029,179.861\" style=\"fill:none;fill-rule:evenodd;stroke:#FF7F00;stroke-width:2px;stroke-linecap:butt;stroke-linejoin:miter;stroke-opacity:1\"/>\n",
       "<path class=\"bond-8\" d=\"M 117.029,179.861 100.783,202.221\" style=\"fill:none;fill-rule:evenodd;stroke:#0000FF;stroke-width:2px;stroke-linecap:butt;stroke-linejoin:miter;stroke-opacity:1\"/>\n",
       "<path class=\"bond-5\" d=\"M 95.334,90.2786 63.7331,100.546\" style=\"fill:none;fill-rule:evenodd;stroke:#000000;stroke-width:2px;stroke-linecap:butt;stroke-linejoin:miter;stroke-opacity:1\"/>\n",
       "<path class=\"bond-5\" d=\"M 63.7331,100.546 32.1321,110.814\" style=\"fill:none;fill-rule:evenodd;stroke:#FF0000;stroke-width:2px;stroke-linecap:butt;stroke-linejoin:miter;stroke-opacity:1\"/>\n",
       "<path class=\"bond-6\" d=\"M 25.1273,120.59 25.1273,150\" style=\"fill:none;fill-rule:evenodd;stroke:#FF0000;stroke-width:2px;stroke-linecap:butt;stroke-linejoin:miter;stroke-opacity:1\"/>\n",
       "<path class=\"bond-6\" d=\"M 25.1273,150 25.1273,179.41\" style=\"fill:none;fill-rule:evenodd;stroke:#000000;stroke-width:2px;stroke-linecap:butt;stroke-linejoin:miter;stroke-opacity:1\"/>\n",
       "<path class=\"bond-7\" d=\"M 31.1327,188.861 59.9831,198.235\" style=\"fill:none;fill-rule:evenodd;stroke:#000000;stroke-width:2px;stroke-linecap:butt;stroke-linejoin:miter;stroke-opacity:1\"/>\n",
       "<path class=\"bond-7\" d=\"M 59.9831,198.235 88.8334,207.609\" style=\"fill:none;fill-rule:evenodd;stroke:#0000FF;stroke-width:2px;stroke-linecap:butt;stroke-linejoin:miter;stroke-opacity:1\"/>\n",
       "<path class=\"bond-7\" d=\"M 44.3501,177.632 64.5454,184.194\" style=\"fill:none;fill-rule:evenodd;stroke:#000000;stroke-width:2px;stroke-linecap:butt;stroke-linejoin:miter;stroke-opacity:1\"/>\n",
       "<path class=\"bond-7\" d=\"M 64.5454,184.194 84.7406,190.756\" style=\"fill:none;fill-rule:evenodd;stroke:#0000FF;stroke-width:2px;stroke-linecap:butt;stroke-linejoin:miter;stroke-opacity:1\"/>\n",
       "<text style=\"font-size:15px;font-style:normal;font-weight:normal;fill-opacity:1;stroke:none;font-family:sans-serif;text-anchor:start;fill:#FF7F00\" x=\"126.218\" y=\"157.5\"><tspan>PH</tspan></text>\n",
       "<text style=\"font-size:15px;font-style:normal;font-weight:normal;fill-opacity:1;stroke:none;font-family:sans-serif;text-anchor:start;fill:#FF0000\" x=\"18.1225\" y=\"120.59\"><tspan>O</tspan></text>\n",
       "<text style=\"font-size:15px;font-style:normal;font-weight:normal;fill-opacity:1;stroke:none;font-family:sans-serif;text-anchor:start;fill:#000000\" x=\"19.1219\" y=\"194.41\"><tspan>B</tspan></text>\n",
       "<text style=\"font-size:15px;font-style:normal;font-weight:normal;fill-opacity:1;stroke:none;font-family:sans-serif;text-anchor:start;fill:#0000FF\" x=\"88.8334\" y=\"217.221\"><tspan>N</tspan></text>\n",
       "</svg>"
      ],
      "text/plain": [
       "<IPython.core.display.SVG object>"
      ]
     },
     "execution_count": 17,
     "metadata": {},
     "output_type": "execute_result"
    }
   ],
   "source": [
    "SVG(moltosvg(mol))"
   ]
  },
  {
   "cell_type": "code",
   "execution_count": 18,
   "id": "b9e63cb9-d234-493a-b85b-fb23f7afdf2c",
   "metadata": {},
   "outputs": [
    {
     "ename": "TypeError",
     "evalue": "_GetSubstructMatch() missing 1 required positional argument: 'query'",
     "output_type": "error",
     "traceback": [
      "\u001b[0;31m---------------------------------------------------------------------------\u001b[0m",
      "\u001b[0;31mTypeError\u001b[0m                                 Traceback (most recent call last)",
      "\u001b[0;32m/tmp/ipykernel_3966191/1823564344.py\u001b[0m in \u001b[0;36m<module>\u001b[0;34m\u001b[0m\n\u001b[0;32m----> 1\u001b[0;31m \u001b[0mmol\u001b[0m\u001b[0;34m.\u001b[0m\u001b[0mGetSubstructMatch\u001b[0m\u001b[0;34m(\u001b[0m\u001b[0;34m)\u001b[0m\u001b[0;34m\u001b[0m\u001b[0;34m\u001b[0m\u001b[0m\n\u001b[0m",
      "\u001b[0;31mTypeError\u001b[0m: _GetSubstructMatch() missing 1 required positional argument: 'query'"
     ]
    }
   ],
   "source": [
    "mol.GetSubstructMatch()"
   ]
  },
  {
   "cell_type": "code",
   "execution_count": 81,
   "id": "6b31187f-80f1-487b-8fe6-3fc172fb6af1",
   "metadata": {},
   "outputs": [
    {
     "data": {
      "image/png": "[encoded data removed]",
      "text/plain": [
       "<rdkit.Chem.rdchem.Mol at 0x14e56402c800>"
      ]
     },
     "execution_count": 81,
     "metadata": {},
     "output_type": "execute_result"
    }
   ],
   "source": [
    "peptide = 'OC(C[C@H](NC([C@H](CC(N)=O)NC([C@H](CCCNC(N)=N)NC([C@@H](N[H])C)=O)=O)=O)C(N[C@@H](CS[H])C(N[C@@H](CCC(O)=O)C(N[C@@H](CCC(N)=O)C(NCC(N[C@@H](CC1=CNC=N1)C(N[C@@](C(N[C@H](C(N[C@@H](CCCCN[H])C(N[C@@H](CCSC)C(N[C@H](C(N2CCC[C@H]2C(N[C@@H](CO)C(N[C@@]([H])([C@@H](C)O)C(N[C@@H](CC3=CNC4=C3C=CC=C4)C(N[C@@H](CC(C=C5)=CC=C5O)C(N[C@@H](C(C)C)C(N[C@@H](CSCC6=O)C(N[C@@H](CSC6)C(O)=O)=O)=O)=O)=O)=O)=O)=O)=O)CC7=CC=CC=C7)=O)=O)=O)CC(C)C)=O)([H])[C@H](CC)C)=O)=O)=O)=O)=O)=O)=O'\n",
    "peptide = get_mol(peptide)\n",
    "peptide"
   ]
  },
  {
   "cell_type": "code",
   "execution_count": 56,
   "id": "b27543fa-f2dd-4a74-9295-d52be04178c3",
   "metadata": {},
   "outputs": [
    {
     "data": {
      "text/plain": [
       "((26, 22, 21, 13),\n",
       " (27, 12, 11, 6),\n",
       " (28, 5, 4, 3),\n",
       " (150, 141, 142, 143),\n",
       " (151, 133, 134, 135),\n",
       " (152, 127, 128, 129),\n",
       " (153, 116, 117, 118),\n",
       " (154, 103, 104, 105),\n",
       " (155, 97, 98, 99),\n",
       " (156, 92, 93, 94),\n",
       " (157, 86, 87, 88),\n",
       " (157, 86, 87, 91),\n",
       " (165, 83, 84, 85),\n",
       " (166, 76, 77, 78),\n",
       " (167, 68, 69, 70),\n",
       " (172, 65, 66, 67),\n",
       " (177, 62, 63, 64),\n",
       " (178, 53, 54, 55),\n",
       " (179, 50, 51, 52),\n",
       " (180, 42, 43, 44),\n",
       " (181, 34, 35, 36),\n",
       " (182, 29, 30, 31))"
      ]
     },
     "execution_count": 56,
     "metadata": {},
     "output_type": "execute_result"
    }
   ],
   "source": [
    "match_molecule = 'O=CN[C@H3]'\n",
    "matches = peptide.GetSubstructMatches(Chem.MolFromSmiles(match_molecule),useChirality=True)\n",
    "matches"
   ]
  },
  {
   "cell_type": "code",
   "execution_count": 170,
   "id": "e76a3f22-71f9-4140-b248-24979c079786",
   "metadata": {},
   "outputs": [
    {
     "name": "stdout",
     "output_type": "stream",
     "text": [
      "[6, 6, 6, 6, 6, 6, 6, 6, 6, 6, 6, 6, 6, 6, 6, 6, 6, 6, 6, 6, 6, 6]\n",
      "starting c_alpha atom index: 13\n",
      "already found this atom in back bone: 13\n",
      "already found this atom in side chain: 14\n",
      "already found this atom in side chain: 15\n",
      "already found this atom in side chain: 16\n",
      "already found this atom in side chain: 17\n",
      "already found this atom in side chain: 18\n",
      "already found this atom in side chain: 18\n",
      "no new atoms to explore\n",
      "complete mapped side chain: [14, 15, 16, 17, 18, 19, 20]\n",
      "starting c_alpha atom index: 6\n",
      "already found this atom in back bone: 6\n",
      "already found this atom in side chain: 7\n",
      "already found this atom in side chain: 8\n",
      "already found this atom in side chain: 8\n",
      "no new atoms to explore\n",
      "complete mapped side chain: [7, 8, 9, 10]\n",
      "starting c_alpha atom index: 3\n",
      "already found this atom in back bone: 3\n",
      "already found this atom in side chain: 2\n",
      "already found this atom in side chain: 1\n",
      "already found this atom in side chain: 1\n",
      "no new atoms to explore\n",
      "complete mapped side chain: [2, 1, 0, 183]\n",
      "starting c_alpha atom index: 143\n",
      "already found this atom in back bone: 143\n",
      "already found this atom in side chain: 144\n",
      "already found this atom in side chain: 145\n",
      "already found this atom in side chain: 146\n",
      "already found this atom in side chain: 139\n",
      "already found this atom in side chain: 139\n",
      "already found this atom in side chain: 138\n",
      "already found this atom in back bone: 135\n",
      "already found this atom in side chain: 137\n",
      "no new atoms to explore\n",
      "complete mapped side chain: [144, 145, 146, 139, 138, 140, 137, 136]\n",
      "already found this atom in back bone: 143\n",
      "already found this atom in side chain: 147\n",
      "already found this atom in side chain: 147\n",
      "no new atoms to explore\n",
      "complete mapped side chain: [147, 148, 149]\n",
      "starting c_alpha atom index: 135\n",
      "already found this atom in back bone: 135\n",
      "already found this atom in side chain: 136\n",
      "already found this atom in side chain: 137\n",
      "already found this atom in side chain: 138\n",
      "already found this atom in side chain: 139\n",
      "already found this atom in side chain: 139\n",
      "already found this atom in side chain: 146\n",
      "already found this atom in back bone: 143\n",
      "already found this atom in side chain: 145\n",
      "no new atoms to explore\n",
      "complete mapped side chain: [136, 137, 138, 139, 140, 146, 145, 144]\n",
      "starting c_alpha atom index: 129\n",
      "already found this atom in back bone: 129\n",
      "already found this atom in side chain: 130\n",
      "already found this atom in side chain: 130\n",
      "no new atoms to explore\n",
      "complete mapped side chain: [130, 131, 132]\n",
      "starting c_alpha atom index: 118\n",
      "already found this atom in back bone: 118\n",
      "already found this atom in side chain: 119\n",
      "already found this atom in side chain: 120\n",
      "already found this atom in side chain: 120\n",
      "already found this atom in side chain: 121\n",
      "already found this atom in side chain: 123\n",
      "already found this atom in side chain: 125\n",
      "already found this atom in side chain: 124\n",
      "already found this atom in side chain: 122\n",
      "already found this atom in side chain: 125\n",
      "no new atoms to explore\n",
      "complete mapped side chain: [119, 120, 121, 123, 122, 124, 125, 126]\n",
      "starting c_alpha atom index: 105\n",
      "already found this atom in back bone: 105\n",
      "already found this atom in side chain: 106\n",
      "already found this atom in side chain: 107\n",
      "already found this atom in side chain: 107\n",
      "already found this atom in side chain: 108\n",
      "already found this atom in side chain: 110\n",
      "already found this atom in side chain: 109\n",
      "already found this atom in side chain: 111\n",
      "already found this atom in side chain: 111\n",
      "already found this atom in side chain: 110\n",
      "already found this atom in side chain: 112\n",
      "already found this atom in side chain: 114\n",
      "already found this atom in side chain: 113\n",
      "already found this atom in side chain: 115\n",
      "no new atoms to explore\n",
      "complete mapped side chain: [106, 107, 108, 111, 109, 110, 112, 115, 113, 114]\n",
      "starting c_alpha atom index: 99\n",
      "already found this atom in back bone: 99\n",
      "already found this atom in side chain: 100\n",
      "already found this atom in side chain: 100\n",
      "no new atoms to explore\n",
      "complete mapped side chain: [100, 101, 102]\n",
      "starting c_alpha atom index: 94\n",
      "already found this atom in back bone: 94\n",
      "already found this atom in side chain: 95\n",
      "no new atoms to explore\n",
      "complete mapped side chain: [95, 96]\n",
      "starting c_alpha atom index: 88\n",
      "already found this atom in back bone: 88\n",
      "already found this atom in side chain: 89\n",
      "already found this atom in back bone: 91\n",
      "no new atoms to explore\n",
      "complete mapped side chain: [89, 90]\n",
      "starting c_alpha atom index: 91\n",
      "already found this atom in back bone: 91\n",
      "already found this atom in back bone: 88\n",
      "already found this atom in side chain: 90\n",
      "no new atoms to explore\n",
      "complete mapped side chain: [90, 89]\n",
      "starting c_alpha atom index: 85\n",
      "already found this atom in back bone: 85\n",
      "already found this atom in side chain: 158\n",
      "already found this atom in side chain: 159\n",
      "already found this atom in side chain: 159\n",
      "already found this atom in side chain: 160\n",
      "already found this atom in side chain: 162\n",
      "already found this atom in side chain: 164\n",
      "already found this atom in side chain: 161\n",
      "already found this atom in side chain: 163\n",
      "no new atoms to explore\n",
      "complete mapped side chain: [158, 159, 160, 164, 161, 163, 162]\n",
      "starting c_alpha atom index: 78\n",
      "already found this atom in back bone: 78\n",
      "already found this atom in side chain: 79\n",
      "already found this atom in side chain: 80\n",
      "already found this atom in side chain: 81\n",
      "no new atoms to explore\n",
      "complete mapped side chain: [79, 80, 81, 82]\n",
      "starting c_alpha atom index: 70\n",
      "already found this atom in back bone: 70\n",
      "already found this atom in side chain: 71\n",
      "already found this atom in side chain: 72\n",
      "already found this atom in side chain: 73\n",
      "already found this atom in side chain: 74\n",
      "no new atoms to explore\n",
      "complete mapped side chain: [71, 72, 73, 74, 75]\n",
      "starting c_alpha atom index: 67\n",
      "already found this atom in back bone: 67\n",
      "already found this atom in side chain: 168\n",
      "already found this atom in side chain: 169\n",
      "already found this atom in side chain: 169\n",
      "no new atoms to explore\n",
      "complete mapped side chain: [168, 169, 170, 171]\n",
      "starting c_alpha atom index: 64\n",
      "already found this atom in back bone: 64\n",
      "already found this atom in side chain: 173\n",
      "already found this atom in side chain: 173\n",
      "already found this atom in side chain: 174\n",
      "no new atoms to explore\n",
      "complete mapped side chain: [173, 174, 176, 175]\n",
      "starting c_alpha atom index: 55\n",
      "already found this atom in back bone: 55\n",
      "already found this atom in side chain: 56\n",
      "already found this atom in side chain: 57\n",
      "already found this atom in side chain: 57\n",
      "already found this atom in side chain: 58\n",
      "already found this atom in side chain: 60\n",
      "already found this atom in side chain: 59\n",
      "already found this atom in side chain: 61\n",
      "no new atoms to explore\n",
      "complete mapped side chain: [56, 57, 58, 61, 59, 60]\n",
      "starting c_alpha atom index: 52\n",
      "starting c_alpha atom index: 44\n",
      "already found this atom in back bone: 44\n",
      "already found this atom in side chain: 45\n",
      "already found this atom in side chain: 46\n",
      "already found this atom in side chain: 47\n",
      "already found this atom in side chain: 47\n",
      "no new atoms to explore\n",
      "complete mapped side chain: [45, 46, 47, 48, 49]\n",
      "starting c_alpha atom index: 36\n",
      "already found this atom in back bone: 36\n",
      "already found this atom in side chain: 37\n",
      "already found this atom in side chain: 38\n",
      "already found this atom in side chain: 39\n",
      "already found this atom in side chain: 39\n",
      "no new atoms to explore\n",
      "complete mapped side chain: [37, 38, 39, 40, 41]\n",
      "starting c_alpha atom index: 31\n",
      "already found this atom in back bone: 31\n",
      "already found this atom in side chain: 32\n",
      "no new atoms to explore\n",
      "complete mapped side chain: [32, 33]\n"
     ]
    }
   ],
   "source": [
    "##recursively identify alpha carbons, and map the atom indices that contain their side chains\n",
    "\n",
    "backbone_atoms = np.array(matches).reshape((22,4))\n",
    "c_alphas = backbone_atoms[:,3]\n",
    "#atoms[:,0] are carbonyl oxygens\n",
    "#atoms[:,1] are sp2-carbons with carbonyls\n",
    "#atoms[:,2] are nitrogens\n",
    "#atoms[:,3] are functional group holding carbons\n",
    "backbone_atoms = np.hstack(np.array(backbone_atoms))\n",
    "c_alphas\n",
    "print([peptide.GetAtomWithIdx(int(x)).GetAtomicNum() for x in c_alphas])\n",
    "\n",
    "c_alphas_neighbors = [peptide.GetAtomWithIdx(int(x)).GetNeighbors() for x in c_alphas]\n",
    "\n",
    "for index,c_alpha in enumerate(c_alphas):\n",
    "    c_alpha_neighbors = peptide.GetAtomWithIdx(int(c_alpha)).GetNeighbors()\n",
    "    print('starting c_alpha atom index: ' + str(c_alpha))\n",
    "    # print('neighbor indices: ' +str([neighbor.GetIdx() for neighbor in c_alpha_neighbors]))\n",
    "    # print('neighbor atomic masses: ' + str([neighbor.GetAtomicNum() for neighbor in c_alpha_neighbors]))\n",
    "    # print('starting atoms: ' + str([c_alpha_neighbor.GetIdx() for c_alpha_neighbor in c_alpha_neighbors]))\n",
    "    for neighbor in c_alpha_neighbors:\n",
    "        if (neighbor.GetIdx() not in backbone_atoms) and (neighbor.GetAtomicNum() == 6):\n",
    "            # print('starting side chain atom: '+str(neighbor.GetIdx()) + ', atomic num: ' + str(neighbor.GetAtomicNum()))\n",
    "            side_chain_atoms = np.array([neighbor.GetIdx()])\n",
    "            new_neighbors = neighbor.GetNeighbors()\n",
    "            # print('starting neighbor atom(s): ' + str([new_neighbor.GetIdx() for new_neighbor in new_neighbors]) + ', atomic num(s): ' + str([new_neighbor.GetAtomicNum() for new_neighbor in new_neighbors]))\n",
    "            atoms_to_examine = np.array([])\n",
    "            while(len(new_neighbors) > 0):\n",
    "                for new_neighbor in new_neighbors:\n",
    "                    if (new_neighbor.GetIdx() not in side_chain_atoms) and (new_neighbor.GetIdx() not in backbone_atoms):\n",
    "                        # print('new neighbor atom found, index: ' + str(new_neighbor.GetIdx()))\n",
    "                        side_chain_atoms = np.append(side_chain_atoms,new_neighbor.GetIdx())\n",
    "                        # print('side_chain_atom(s): ' + str(side_chain_atoms))\n",
    "                        atoms_to_examine = np.append(atoms_to_examine,new_neighbor.GetIdx())\n",
    "                        # print('atom(s) to examine: ' + str(atoms_to_examine))\n",
    "                    elif new_neighbor.GetIdx()  in side_chain_atoms:\n",
    "                        print('already found this atom in side chain: ' + str(new_neighbor.GetIdx()))\n",
    "                    elif new_neighbor.GetIdx() in backbone_atoms:\n",
    "                        print('already found this atom in back bone: ' + str(new_neighbor.GetIdx()))\n",
    "                if len(atoms_to_examine) == 0:\n",
    "                    print('no new atoms to explore')\n",
    "                    break\n",
    "                else:\n",
    "                    new_neighbors = np.hstack([peptide.GetAtomWithIdx(int(atom)).GetNeighbors() for atom in atoms_to_examine])\n",
    "                    # print('new neighbors to investigate: ' + str([new_neighbor.GetIdx() for new_neighbor in new_neighbors]))\n",
    "                    atoms_to_examine = np.array([])\n",
    "            print('complete mapped side chain: ' + str([x for x in side_chain_atoms]))\n",
    "    #neighbors are not in a consistent order\n",
    "\n",
    "\n",
    "# [peptide.GetAtomWithIdx(x).GetNeighbors() for x in c_alphas]"
   ]
  },
  {
   "cell_type": "code",
   "execution_count": 156,
   "id": "7458b900-a325-4ffb-8221-a2e1eb721650",
   "metadata": {},
   "outputs": [
    {
     "name": "stdout",
     "output_type": "stream",
     "text": [
      "starting atoms: [30, 32, 34]\n",
      "starting side chain atom: 32, atomic num: 6\n",
      "starting neighbor atom(s): [31, 33], atomic num(s): [6, 16]\n",
      "already found this atom in back bone: 31\n",
      "new neighbor atom found, index: 33\n",
      "side_chain_atom(s): [32 33]\n",
      "atom(s) to examine: [33.]\n",
      "new neighbors to investigate: [32]\n",
      "already found this atom in side chain: 32\n",
      "no new atoms to explore\n",
      "complete mapped side chain: [32, 33]\n"
     ]
    }
   ],
   "source": [
    "##recursively map the atom indices that contain their side chains (For a single side chain)\n",
    "\n",
    "print('starting atoms: ' + str([c_alpha_neighbor.GetIdx() for c_alpha_neighbor in c_alpha_neighbors]))\n",
    "for neighbor in c_alpha_neighbors:\n",
    "    if (neighbor.GetIdx() not in backbone_atoms) and (neighbor.GetAtomicNum() == 6):\n",
    "        print('starting side chain atom: '+str(neighbor.GetIdx()) + ', atomic num: ' + str(neighbor.GetAtomicNum()))\n",
    "        side_chain_atoms = np.array([neighbor.GetIdx()])\n",
    "        new_neighbors = neighbor.GetNeighbors()\n",
    "        print('starting neighbor atom(s): ' + str([new_neighbor.GetIdx() for new_neighbor in new_neighbors]) + ', atomic num(s): ' + str([new_neighbor.GetAtomicNum() for new_neighbor in new_neighbors]))\n",
    "        atoms_to_examine = np.array([])\n",
    "        while(len(new_neighbors) > 0):\n",
    "            for new_neighbor in new_neighbors:\n",
    "                if (new_neighbor.GetIdx() not in side_chain_atoms) and (new_neighbor.GetIdx() not in backbone_atoms):\n",
    "                    print('new neighbor atom found, index: ' + str(new_neighbor.GetIdx()))\n",
    "                    side_chain_atoms = np.append(side_chain_atoms,new_neighbor.GetIdx())\n",
    "                    print('side_chain_atom(s): ' + str(side_chain_atoms))\n",
    "                    atoms_to_examine = np.append(atoms_to_examine,new_neighbor.GetIdx())\n",
    "                    print('atom(s) to examine: ' + str(atoms_to_examine))\n",
    "                elif new_neighbor.GetIdx()  in side_chain_atoms:\n",
    "                    print('already found this atom in side chain: ' + str(new_neighbor.GetIdx()))\n",
    "                elif new_neighbor.GetIdx() in backbone_atoms:\n",
    "                    print('already found this atom in back bone: ' + str(new_neighbor.GetIdx()))\n",
    "            if len(atoms_to_examine) == 0:\n",
    "                print('no new atoms to explore')\n",
    "                break\n",
    "            else:\n",
    "                new_neighbors = np.hstack([peptide.GetAtomWithIdx(int(atom)).GetNeighbors() for atom in atoms_to_examine])\n",
    "                print('new neighbors to investigate: ' + str([new_neighbor.GetIdx() for new_neighbor in new_neighbors]))\n",
    "                atoms_to_examine = np.array([])\n",
    "                time.sleep(1)\n",
    "        print('complete mapped side chain: ' + str([x for x in side_chain_atoms]))"
   ]
  },
  {
   "cell_type": "code",
   "execution_count": 158,
   "id": "373ec05f-688c-4e16-a152-72b024a47c1f",
   "metadata": {},
   "outputs": [],
   "source": [
    "def mol_with_atom_index(mol):\n",
    "    for atom in mol.GetAtoms():\n",
    "        atom.SetAtomMapNum(atom.GetIdx())\n",
    "    return mol"
   ]
  },
  {
   "cell_type": "code",
   "execution_count": 159,
   "id": "1109f188-84b0-4419-bcd0-4e29b544a44c",
   "metadata": {},
   "outputs": [
    {
     "data": {
      "image/png": "[encoded data removed]",
      "text/plain": [
       "<rdkit.Chem.rdchem.Mol at 0x14e56402c800>"
      ]
     },
     "execution_count": 159,
     "metadata": {},
     "output_type": "execute_result"
    }
   ],
   "source": [
    "mol_with_atom_index(peptide)"
   ]
  },
  {
   "cell_type": "code",
   "execution_count": 168,
   "id": "15df3545-9511-4dcc-8343-5e9b5c38bf3f",
   "metadata": {},
   "outputs": [
    {
     "ename": "AttributeError",
     "evalue": "module 'rdkit.Chem.Draw.IPythonConsole' has no attribute 'drawOptions'",
     "output_type": "error",
     "traceback": [
      "\u001b[0;31m---------------------------------------------------------------------------\u001b[0m",
      "\u001b[0;31mAttributeError\u001b[0m                            Traceback (most recent call last)",
      "\u001b[0;32m/tmp/ipykernel_3966191/1663644549.py\u001b[0m in \u001b[0;36m<module>\u001b[0;34m\u001b[0m\n\u001b[0;32m----> 1\u001b[0;31m \u001b[0mIPythonConsole\u001b[0m\u001b[0;34m.\u001b[0m\u001b[0mdrawOptions\u001b[0m\u001b[0;34m.\u001b[0m\u001b[0maddAtomIndices\u001b[0m \u001b[0;34m=\u001b[0m \u001b[0;32mTrue\u001b[0m\u001b[0;34m\u001b[0m\u001b[0;34m\u001b[0m\u001b[0m\n\u001b[0m\u001b[1;32m      2\u001b[0m \u001b[0mIPythonConsole\u001b[0m\u001b[0;34m.\u001b[0m\u001b[0mmolSize\u001b[0m \u001b[0;34m=\u001b[0m \u001b[0;36m300\u001b[0m\u001b[0;34m,\u001b[0m\u001b[0;36m300\u001b[0m\u001b[0;34m\u001b[0m\u001b[0;34m\u001b[0m\u001b[0m\n",
      "\u001b[0;31mAttributeError\u001b[0m: module 'rdkit.Chem.Draw.IPythonConsole' has no attribute 'drawOptions'"
     ]
    }
   ],
   "source": [
    "IPythonConsole.drawOptions.addAtomIndices = True\n",
    "IPythonConsole.molSize = 300,300"
   ]
  },
  {
   "cell_type": "code",
   "execution_count": 167,
   "id": "7834bac6-5dad-4c1e-b24e-eecbef0d3d4f",
   "metadata": {},
   "outputs": [],
   "source": [
    "Draw.MolToFile(peptide, \"peptide.png\",size=(6000,6000))"
   ]
  },
  {
   "cell_type": "code",
   "execution_count": null,
   "id": "ed2f5849-59a2-4ee6-bde7-07cbf2c53677",
   "metadata": {},
   "outputs": [],
   "source": []
  }
 ],
 "metadata": {
  "kernelspec": {
   "display_name": "hgraph-rdkit",
   "language": "python",
   "name": "hgraph-rdkit"
  },
  "language_info": {
   "codemirror_mode": {
    "name": "ipython",
    "version": 3
   },
   "file_extension": ".py",
   "mimetype": "text/x-python",
   "name": "python",
   "nbconvert_exporter": "python",
   "pygments_lexer": "ipython3",
   "version": "3.7.6"
  }
 },
 "nbformat": 4,
 "nbformat_minor": 5
}
