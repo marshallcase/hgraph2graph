{
 "cells": [
  {
   "cell_type": "code",
   "execution_count": 33,
   "id": "63d3b480-7815-46ef-b03c-08224b3b9fc0",
   "metadata": {},
   "outputs": [],
   "source": [
    "#generation debugging \n",
    "import torch\n",
    "import torch.nn as nn\n",
    "import torch.optim as optim\n",
    "import torch.optim.lr_scheduler as lr_scheduler\n",
    "from torch.utils.data import DataLoader\n",
    "import networkx as nx\n",
    "import rdkit\n",
    "import math, random, sys\n",
    "import numpy as np\n",
    "import argparse\n",
    "import os\n",
    "from tqdm.auto import tqdm\n",
    "import pickle\n",
    "from hgraph import *\n",
    "from hgraph.inc_graph import *\n",
    "from hgraph.encoder import *\n",
    "import matplotlib.pyplot as plt"
   ]
  },
  {
   "cell_type": "code",
   "execution_count": 2,
   "id": "0455dac4-291a-45fc-866a-f7fb2ced103c",
   "metadata": {},
   "outputs": [],
   "source": [
    "vocab = '/home/marcase/hgraph2graph/data/chembl/cyclic_vocab_new.txt'\n",
    "vocab = [x.strip(\"\\r\\n \").split() for x in open(vocab)]\n",
    "vocab = PairVocab(vocab)"
   ]
  },
  {
   "cell_type": "code",
   "execution_count": 11,
   "id": "3f9a9fa1-eaf1-464f-9154-c30e01016f91",
   "metadata": {},
   "outputs": [],
   "source": [
    "class Args:\n",
    "    train = 'cyclic_preprocessed_new/'\n",
    "    vocab = vocab\n",
    "    save_dir = 'test/'\n",
    "    atom_vocab = common_atom_vocab\n",
    "    load_model = None\n",
    "    seed = 7\n",
    "    rnn_type = 'LSTM'\n",
    "    hidden_size=125\n",
    "    embed_size=250\n",
    "    batch_size=1\n",
    "    latent_size=32\n",
    "    depthT=15\n",
    "    depthG=15\n",
    "    diterT=1\n",
    "    diterG=3\n",
    "    dropout=0.0\n",
    "    lr = 1e-3\n",
    "    clip_norm=5.0\n",
    "    step_beta=0.001\n",
    "    max_beta=1.0\n",
    "    warmup=10000\n",
    "    kl_anneal_iter=2000\n",
    "    epoch=20\n",
    "    anneal_rate=0.9\n",
    "    anneal_iter=25000\n",
    "    print_iter=50\n",
    "    save_iter=5000\n",
    "    \n",
    "args=Args()\n",
    "\n",
    "model = HierVAE(args).cuda()"
   ]
  },
  {
   "cell_type": "code",
   "execution_count": 12,
   "id": "3d9a34d9-479b-4303-bbaa-ae9c705687fb",
   "metadata": {},
   "outputs": [
    {
     "name": "stdout",
     "output_type": "stream",
     "text": [
      "Model #Params: 1353K\n"
     ]
    },
    {
     "data": {
      "text/plain": [
       "HierVAE(\n",
       "  (encoder): HierMPNEncoder(\n",
       "    (E_c): Sequential(\n",
       "      (0): Embedding(23, 250)\n",
       "      (1): Dropout(p=0.0, inplace=False)\n",
       "    )\n",
       "    (E_i): Sequential(\n",
       "      (0): Embedding(28, 250)\n",
       "      (1): Dropout(p=0.0, inplace=False)\n",
       "    )\n",
       "    (W_c): Sequential(\n",
       "      (0): Linear(in_features=375, out_features=125, bias=True)\n",
       "      (1): ReLU()\n",
       "      (2): Dropout(p=0.0, inplace=False)\n",
       "    )\n",
       "    (W_i): Sequential(\n",
       "      (0): Linear(in_features=375, out_features=125, bias=True)\n",
       "      (1): ReLU()\n",
       "      (2): Dropout(p=0.0, inplace=False)\n",
       "    )\n",
       "    (W_root): Sequential(\n",
       "      (0): Linear(in_features=250, out_features=125, bias=True)\n",
       "      (1): Tanh()\n",
       "    )\n",
       "    (tree_encoder): MPNEncoder(\n",
       "      (W_o): Sequential(\n",
       "        (0): Linear(in_features=250, out_features=125, bias=True)\n",
       "        (1): ReLU()\n",
       "        (2): Dropout(p=0.0, inplace=False)\n",
       "      )\n",
       "      (rnn): LSTM(\n",
       "        (W_i): Sequential(\n",
       "          (0): Linear(in_features=300, out_features=125, bias=True)\n",
       "          (1): Sigmoid()\n",
       "        )\n",
       "        (W_o): Sequential(\n",
       "          (0): Linear(in_features=300, out_features=125, bias=True)\n",
       "          (1): Sigmoid()\n",
       "        )\n",
       "        (W_f): Sequential(\n",
       "          (0): Linear(in_features=300, out_features=125, bias=True)\n",
       "          (1): Sigmoid()\n",
       "        )\n",
       "        (W): Sequential(\n",
       "          (0): Linear(in_features=300, out_features=125, bias=True)\n",
       "          (1): Tanh()\n",
       "        )\n",
       "      )\n",
       "    )\n",
       "    (inter_encoder): MPNEncoder(\n",
       "      (W_o): Sequential(\n",
       "        (0): Linear(in_features=250, out_features=125, bias=True)\n",
       "        (1): ReLU()\n",
       "        (2): Dropout(p=0.0, inplace=False)\n",
       "      )\n",
       "      (rnn): LSTM(\n",
       "        (W_i): Sequential(\n",
       "          (0): Linear(in_features=300, out_features=125, bias=True)\n",
       "          (1): Sigmoid()\n",
       "        )\n",
       "        (W_o): Sequential(\n",
       "          (0): Linear(in_features=300, out_features=125, bias=True)\n",
       "          (1): Sigmoid()\n",
       "        )\n",
       "        (W_f): Sequential(\n",
       "          (0): Linear(in_features=300, out_features=125, bias=True)\n",
       "          (1): Sigmoid()\n",
       "        )\n",
       "        (W): Sequential(\n",
       "          (0): Linear(in_features=300, out_features=125, bias=True)\n",
       "          (1): Tanh()\n",
       "        )\n",
       "      )\n",
       "    )\n",
       "    (graph_encoder): MPNEncoder(\n",
       "      (W_o): Sequential(\n",
       "        (0): Linear(in_features=163, out_features=125, bias=True)\n",
       "        (1): ReLU()\n",
       "        (2): Dropout(p=0.0, inplace=False)\n",
       "      )\n",
       "      (rnn): LSTM(\n",
       "        (W_i): Sequential(\n",
       "          (0): Linear(in_features=217, out_features=125, bias=True)\n",
       "          (1): Sigmoid()\n",
       "        )\n",
       "        (W_o): Sequential(\n",
       "          (0): Linear(in_features=217, out_features=125, bias=True)\n",
       "          (1): Sigmoid()\n",
       "        )\n",
       "        (W_f): Sequential(\n",
       "          (0): Linear(in_features=217, out_features=125, bias=True)\n",
       "          (1): Sigmoid()\n",
       "        )\n",
       "        (W): Sequential(\n",
       "          (0): Linear(in_features=217, out_features=125, bias=True)\n",
       "          (1): Tanh()\n",
       "        )\n",
       "      )\n",
       "    )\n",
       "  )\n",
       "  (decoder): HierMPNDecoder(\n",
       "    (hmpn): IncHierMPNEncoder(\n",
       "      (E_c): Sequential(\n",
       "        (0): Embedding(23, 250)\n",
       "        (1): Dropout(p=0.0, inplace=False)\n",
       "      )\n",
       "      (E_i): Sequential(\n",
       "        (0): Embedding(28, 250)\n",
       "        (1): Dropout(p=0.0, inplace=False)\n",
       "      )\n",
       "      (W_c): Sequential(\n",
       "        (0): Linear(in_features=375, out_features=125, bias=True)\n",
       "        (1): ReLU()\n",
       "        (2): Dropout(p=0.0, inplace=False)\n",
       "      )\n",
       "      (W_i): Sequential(\n",
       "        (0): Linear(in_features=375, out_features=125, bias=True)\n",
       "        (1): ReLU()\n",
       "        (2): Dropout(p=0.0, inplace=False)\n",
       "      )\n",
       "      (tree_encoder): IncMPNEncoder(\n",
       "        (W_o): Sequential(\n",
       "          (0): Linear(in_features=250, out_features=125, bias=True)\n",
       "          (1): ReLU()\n",
       "          (2): Dropout(p=0.0, inplace=False)\n",
       "        )\n",
       "        (rnn): LSTM(\n",
       "          (W_i): Sequential(\n",
       "            (0): Linear(in_features=300, out_features=125, bias=True)\n",
       "            (1): Sigmoid()\n",
       "          )\n",
       "          (W_o): Sequential(\n",
       "            (0): Linear(in_features=300, out_features=125, bias=True)\n",
       "            (1): Sigmoid()\n",
       "          )\n",
       "          (W_f): Sequential(\n",
       "            (0): Linear(in_features=300, out_features=125, bias=True)\n",
       "            (1): Sigmoid()\n",
       "          )\n",
       "          (W): Sequential(\n",
       "            (0): Linear(in_features=300, out_features=125, bias=True)\n",
       "            (1): Tanh()\n",
       "          )\n",
       "        )\n",
       "      )\n",
       "      (inter_encoder): IncMPNEncoder(\n",
       "        (W_o): Sequential(\n",
       "          (0): Linear(in_features=250, out_features=125, bias=True)\n",
       "          (1): ReLU()\n",
       "          (2): Dropout(p=0.0, inplace=False)\n",
       "        )\n",
       "        (rnn): LSTM(\n",
       "          (W_i): Sequential(\n",
       "            (0): Linear(in_features=300, out_features=125, bias=True)\n",
       "            (1): Sigmoid()\n",
       "          )\n",
       "          (W_o): Sequential(\n",
       "            (0): Linear(in_features=300, out_features=125, bias=True)\n",
       "            (1): Sigmoid()\n",
       "          )\n",
       "          (W_f): Sequential(\n",
       "            (0): Linear(in_features=300, out_features=125, bias=True)\n",
       "            (1): Sigmoid()\n",
       "          )\n",
       "          (W): Sequential(\n",
       "            (0): Linear(in_features=300, out_features=125, bias=True)\n",
       "            (1): Tanh()\n",
       "          )\n",
       "        )\n",
       "      )\n",
       "      (graph_encoder): IncMPNEncoder(\n",
       "        (W_o): Sequential(\n",
       "          (0): Linear(in_features=163, out_features=125, bias=True)\n",
       "          (1): ReLU()\n",
       "          (2): Dropout(p=0.0, inplace=False)\n",
       "        )\n",
       "        (rnn): LSTM(\n",
       "          (W_i): Sequential(\n",
       "            (0): Linear(in_features=217, out_features=125, bias=True)\n",
       "            (1): Sigmoid()\n",
       "          )\n",
       "          (W_o): Sequential(\n",
       "            (0): Linear(in_features=217, out_features=125, bias=True)\n",
       "            (1): Sigmoid()\n",
       "          )\n",
       "          (W_f): Sequential(\n",
       "            (0): Linear(in_features=217, out_features=125, bias=True)\n",
       "            (1): Sigmoid()\n",
       "          )\n",
       "          (W): Sequential(\n",
       "            (0): Linear(in_features=217, out_features=125, bias=True)\n",
       "            (1): Tanh()\n",
       "          )\n",
       "        )\n",
       "      )\n",
       "    )\n",
       "    (rnn_cell): LSTM(\n",
       "      (W_i): Sequential(\n",
       "        (0): Linear(in_features=300, out_features=125, bias=True)\n",
       "        (1): Sigmoid()\n",
       "      )\n",
       "      (W_o): Sequential(\n",
       "        (0): Linear(in_features=300, out_features=125, bias=True)\n",
       "        (1): Sigmoid()\n",
       "      )\n",
       "      (W_f): Sequential(\n",
       "        (0): Linear(in_features=300, out_features=125, bias=True)\n",
       "        (1): Sigmoid()\n",
       "      )\n",
       "      (W): Sequential(\n",
       "        (0): Linear(in_features=300, out_features=125, bias=True)\n",
       "        (1): Tanh()\n",
       "      )\n",
       "    )\n",
       "    (E_assm): Sequential(\n",
       "      (0): Embedding(28, 250)\n",
       "      (1): Dropout(p=0.0, inplace=False)\n",
       "    )\n",
       "    (topoNN): Sequential(\n",
       "      (0): Linear(in_features=157, out_features=125, bias=True)\n",
       "      (1): ReLU()\n",
       "      (2): Dropout(p=0.0, inplace=False)\n",
       "      (3): Linear(in_features=125, out_features=1, bias=True)\n",
       "    )\n",
       "    (clsNN): Sequential(\n",
       "      (0): Linear(in_features=157, out_features=125, bias=True)\n",
       "      (1): ReLU()\n",
       "      (2): Dropout(p=0.0, inplace=False)\n",
       "      (3): Linear(in_features=125, out_features=23, bias=True)\n",
       "    )\n",
       "    (iclsNN): Sequential(\n",
       "      (0): Linear(in_features=157, out_features=125, bias=True)\n",
       "      (1): ReLU()\n",
       "      (2): Dropout(p=0.0, inplace=False)\n",
       "      (3): Linear(in_features=125, out_features=28, bias=True)\n",
       "    )\n",
       "    (matchNN): Sequential(\n",
       "      (0): Linear(in_features=425, out_features=125, bias=True)\n",
       "      (1): ReLU()\n",
       "    )\n",
       "    (W_assm): Linear(in_features=125, out_features=32, bias=True)\n",
       "    (W_root): Linear(in_features=32, out_features=125, bias=True)\n",
       "    (topo_loss): BCEWithLogitsLoss()\n",
       "    (cls_loss): CrossEntropyLoss()\n",
       "    (icls_loss): CrossEntropyLoss()\n",
       "    (assm_loss): CrossEntropyLoss()\n",
       "  )\n",
       "  (R_mean): Linear(in_features=125, out_features=32, bias=True)\n",
       "  (R_var): Linear(in_features=125, out_features=32, bias=True)\n",
       ")"
      ]
     },
     "execution_count": 12,
     "metadata": {},
     "output_type": "execute_result"
    }
   ],
   "source": [
    "print(\"Model #Params: %dK\" % (sum([x.nelement() for x in model.parameters()]) / 1000,))\n",
    "model"
   ]
  },
  {
   "cell_type": "code",
   "execution_count": 13,
   "id": "be0608da-2c68-47b1-9294-a446d237caef",
   "metadata": {},
   "outputs": [],
   "source": [
    "for param in model.parameters():\n",
    "    if param.dim() == 1:\n",
    "        nn.init.constant_(param, 0)\n",
    "    else:\n",
    "        nn.init.xavier_normal_(param)\n",
    "optimizer = optim.Adam(model.parameters(), lr=args.lr)\n",
    "scheduler = lr_scheduler.ExponentialLR(optimizer, args.anneal_rate)\n",
    "\n",
    "if args.load_model:\n",
    "    print('continuing from checkpoint ' + args.load_model)\n",
    "    model_state, optimizer_state, total_step, beta = torch.load(args.load_model)\n",
    "    model.load_state_dict(model_state)\n",
    "    optimizer.load_state_dict(optimizer_state)\n",
    "else:\n",
    "    total_step = beta = 0\n",
    "param_norm = lambda m: math.sqrt(sum([p.norm().item() ** 2 for p in m.parameters()]))\n",
    "grad_norm = lambda m: math.sqrt(sum([p.grad.norm().item() ** 2 for p in m.parameters() if p.grad is not None]))\n",
    "meters = np.zeros(6)\n"
   ]
  },
  {
   "cell_type": "code",
   "execution_count": 14,
   "id": "40bfdb59-8732-496e-83b9-d93d460624b0",
   "metadata": {},
   "outputs": [],
   "source": [
    "epoch = range(args.epoch)[0]\n",
    "dataset = DataFolder(args.train,args.batch_size)\n"
   ]
  },
  {
   "cell_type": "code",
   "execution_count": 15,
   "id": "19b1efca-def5-46a5-a296-3b0b094d4d47",
   "metadata": {},
   "outputs": [],
   "source": [
    "# #begin training the model\n",
    "# for batch in tqdm(dataset):\n",
    "#     total_step += 1\n",
    "#     model.zero_grad()\n",
    "#     loss, kl_div, wacc, iacc, tacc, sacc = model(*batch, beta=beta)"
   ]
  },
  {
   "cell_type": "code",
   "execution_count": 16,
   "id": "5749de5f-58f0-4378-bdb1-60f2c4ff90d6",
   "metadata": {},
   "outputs": [],
   "source": [
    "data_file0 = os.path.join(dataset.data_folder,'tensors-0.pkl')\n",
    "with open(data_file0,'rb') as f:\n",
    "    batches = pickle.load(f)"
   ]
  },
  {
   "cell_type": "code",
   "execution_count": 19,
   "id": "d4ee826d-e94f-45ea-bd95-095069659867",
   "metadata": {},
   "outputs": [
    {
     "data": {
      "image/png": "[encoded data removed]",
      "text/plain": [
       "<Figure size 640x480 with 1 Axes>"
      ]
     },
     "metadata": {},
     "output_type": "display_data"
    }
   ],
   "source": [
    "nx.draw(batches[0][0][0])\n",
    "plt.show()"
   ]
  },
  {
   "cell_type": "code",
   "execution_count": 20,
   "id": "8dce7bb9-2526-45fd-b4b1-349f6baf5fb7",
   "metadata": {},
   "outputs": [
    {
     "data": {
      "image/png": "[encoded data removed]",
      "text/plain": [
       "<Figure size 640x480 with 1 Axes>"
      ]
     },
     "metadata": {},
     "output_type": "display_data"
    }
   ],
   "source": [
    "nx.draw(batches[0][0][1])\n",
    "plt.show()\n",
    "\n",
    "#just realized I have no idea what format the tensorized molecules are in. let's go back and check the tensorize function"
   ]
  },
  {
   "cell_type": "code",
   "execution_count": 20,
   "id": "db527a00-e43f-40e1-b078-78bd871a51bb",
   "metadata": {},
   "outputs": [],
   "source": [
    "#from model.sample()\n",
    "batch_size = args.batch_size\n",
    "latent_size = args.latent_size\n",
    "root_vecs = torch.randn(batch_size, latent_size).cuda()"
   ]
  },
  {
   "cell_type": "code",
   "execution_count": 23,
   "id": "eedd6972-2e97-47b5-ac8e-694671bcc5ae",
   "metadata": {},
   "outputs": [
    {
     "data": {
      "text/plain": [
       "1"
      ]
     },
     "execution_count": 23,
     "metadata": {},
     "output_type": "execute_result"
    }
   ],
   "source": [
    "#from HierMPNDecoder.decode()\n",
    "src_root_vecs, src_tree_vecs, src_graph_vecs = root_vecs,root_vecs,root_vecs\n",
    "batch_size = len(src_root_vecs)\n",
    "batch_size"
   ]
  },
  {
   "cell_type": "code",
   "execution_count": 31,
   "id": "34b97185-7dbf-4225-ab34-86aea505ad62",
   "metadata": {},
   "outputs": [
    {
     "name": "stdout",
     "output_type": "stream",
     "text": [
      "(100, 2)\n"
     ]
    },
    {
     "data": {
      "image/png": "[encoded data removed]",
      "text/plain": [
       "<Figure size 640x480 with 1 Axes>"
      ]
     },
     "metadata": {},
     "output_type": "display_data"
    }
   ],
   "source": [
    "tree_batch = IncTree(batch_size, node_fdim=2, edge_fdim=3)\n",
    "nx.draw(tree_batch.graph)"
   ]
  },
  {
   "cell_type": "code",
   "execution_count": 42,
   "id": "c02e0261-8a50-444e-b338-cd3072969e05",
   "metadata": {},
   "outputs": [
    {
     "data": {
      "text/plain": [
       "IncHierMPNEncoder(\n",
       "  (E_c): Sequential(\n",
       "    (0): Embedding(23, 250)\n",
       "    (1): Dropout(p=0.0, inplace=False)\n",
       "  )\n",
       "  (E_i): Sequential(\n",
       "    (0): Embedding(28, 250)\n",
       "    (1): Dropout(p=0.0, inplace=False)\n",
       "  )\n",
       "  (W_c): Sequential(\n",
       "    (0): Linear(in_features=375, out_features=125, bias=True)\n",
       "    (1): ReLU()\n",
       "    (2): Dropout(p=0.0, inplace=False)\n",
       "  )\n",
       "  (W_i): Sequential(\n",
       "    (0): Linear(in_features=375, out_features=125, bias=True)\n",
       "    (1): ReLU()\n",
       "    (2): Dropout(p=0.0, inplace=False)\n",
       "  )\n",
       "  (tree_encoder): IncMPNEncoder(\n",
       "    (W_o): Sequential(\n",
       "      (0): Linear(in_features=250, out_features=125, bias=True)\n",
       "      (1): ReLU()\n",
       "      (2): Dropout(p=0.0, inplace=False)\n",
       "    )\n",
       "    (rnn): LSTM(\n",
       "      (W_i): Sequential(\n",
       "        (0): Linear(in_features=300, out_features=125, bias=True)\n",
       "        (1): Sigmoid()\n",
       "      )\n",
       "      (W_o): Sequential(\n",
       "        (0): Linear(in_features=300, out_features=125, bias=True)\n",
       "        (1): Sigmoid()\n",
       "      )\n",
       "      (W_f): Sequential(\n",
       "        (0): Linear(in_features=300, out_features=125, bias=True)\n",
       "        (1): Sigmoid()\n",
       "      )\n",
       "      (W): Sequential(\n",
       "        (0): Linear(in_features=300, out_features=125, bias=True)\n",
       "        (1): Tanh()\n",
       "      )\n",
       "    )\n",
       "  )\n",
       "  (inter_encoder): IncMPNEncoder(\n",
       "    (W_o): Sequential(\n",
       "      (0): Linear(in_features=250, out_features=125, bias=True)\n",
       "      (1): ReLU()\n",
       "      (2): Dropout(p=0.0, inplace=False)\n",
       "    )\n",
       "    (rnn): LSTM(\n",
       "      (W_i): Sequential(\n",
       "        (0): Linear(in_features=300, out_features=125, bias=True)\n",
       "        (1): Sigmoid()\n",
       "      )\n",
       "      (W_o): Sequential(\n",
       "        (0): Linear(in_features=300, out_features=125, bias=True)\n",
       "        (1): Sigmoid()\n",
       "      )\n",
       "      (W_f): Sequential(\n",
       "        (0): Linear(in_features=300, out_features=125, bias=True)\n",
       "        (1): Sigmoid()\n",
       "      )\n",
       "      (W): Sequential(\n",
       "        (0): Linear(in_features=300, out_features=125, bias=True)\n",
       "        (1): Tanh()\n",
       "      )\n",
       "    )\n",
       "  )\n",
       "  (graph_encoder): IncMPNEncoder(\n",
       "    (W_o): Sequential(\n",
       "      (0): Linear(in_features=163, out_features=125, bias=True)\n",
       "      (1): ReLU()\n",
       "      (2): Dropout(p=0.0, inplace=False)\n",
       "    )\n",
       "    (rnn): LSTM(\n",
       "      (W_i): Sequential(\n",
       "        (0): Linear(in_features=217, out_features=125, bias=True)\n",
       "        (1): Sigmoid()\n",
       "      )\n",
       "      (W_o): Sequential(\n",
       "        (0): Linear(in_features=217, out_features=125, bias=True)\n",
       "        (1): Sigmoid()\n",
       "      )\n",
       "      (W_f): Sequential(\n",
       "        (0): Linear(in_features=217, out_features=125, bias=True)\n",
       "        (1): Sigmoid()\n",
       "      )\n",
       "      (W): Sequential(\n",
       "        (0): Linear(in_features=217, out_features=125, bias=True)\n",
       "        (1): Tanh()\n",
       "      )\n",
       "    )\n",
       "  )\n",
       ")"
      ]
     },
     "execution_count": 42,
     "metadata": {},
     "output_type": "execute_result"
    }
   ],
   "source": [
    "hmpn = IncHierMPNEncoder(args.vocab, args.atom_vocab, args.rnn_type, args.embed_size, args.hidden_size, args.depthT, args.depthG, args.dropout)\n",
    "hmpn"
   ]
  },
  {
   "cell_type": "code",
   "execution_count": 48,
   "id": "36d9cad5-5b11-44ff-acc6-f34085d6b117",
   "metadata": {},
   "outputs": [
    {
     "name": "stdout",
     "output_type": "stream",
     "text": [
      "(100, 38)\n"
     ]
    },
    {
     "data": {
      "image/png": "[encoded data removed]",
      "text/plain": [
       "<Figure size 640x480 with 1 Axes>"
      ]
     },
     "metadata": {},
     "output_type": "display_data"
    }
   ],
   "source": [
    "graph_batch = IncGraph(args.atom_vocab, batch_size, node_fdim=hmpn.atom_size, edge_fdim=hmpn.atom_size + hmpn.bond_size)\n",
    "nx.draw(graph_batch.graph)"
   ]
  },
  {
   "cell_type": "code",
   "execution_count": 80,
   "id": "983cb9b1-a89e-4689-a1a3-1dd01d29e18a",
   "metadata": {},
   "outputs": [],
   "source": [
    "def get_cls_score(src_tree_vecs, batch_idx, cls_vecs, cls_labs):\n",
    "    use_attention = False\n",
    "    if use_attention:\n",
    "        cls_cxt = self.attention(src_tree_vecs, batch_idx, cls_vecs, self.A_cls)\n",
    "    else:\n",
    "        cls_cxt = src_tree_vecs.index_select(index=batch_idx, dim=0).cuda()\n",
    "\n",
    "    cls_vecs = torch.cat([cls_vecs, cls_cxt], dim=-1).cuda()\n",
    "    clsNN = nn.Sequential(\n",
    "                nn.Linear(args.hidden_size + args.latent_size, args.hidden_size),\n",
    "                nn.ReLU(),\n",
    "                nn.Dropout(args.dropout),\n",
    "                nn.Linear(args.hidden_size, args.vocab.size()[0])\n",
    "        ).cuda()\n",
    "    iclsNN = nn.Sequential(\n",
    "                nn.Linear(args.hidden_size + args.latent_size, args.hidden_size),\n",
    "                nn.ReLU(),\n",
    "                nn.Dropout(args.dropout),\n",
    "                nn.Linear(args.hidden_size, args.vocab.size()[1])\n",
    "        ).cuda()\n",
    "    cls_scores = clsNN(cls_vecs)\n",
    "\n",
    "    if cls_labs is None: #inference mode\n",
    "        icls_scores = iclsNN(cls_vecs) #no masking\n",
    "    else:\n",
    "        vocab_masks = args.vocab.get_mask(cls_labs)\n",
    "        icls_scores = iclsNN(cls_vecs) + vocab_masks #apply mask by log(x + mask): mask=0 or -INF\n",
    "    return cls_scores, icls_scores"
   ]
  },
  {
   "cell_type": "code",
   "execution_count": 96,
   "id": "00d1b1b5-c598-46df-8f67-48c0a5a9299f",
   "metadata": {},
   "outputs": [],
   "source": [
    "stack = [[] for i in range(batch_size)]\n",
    "W_root = nn.Linear(args.latent_size, args.hidden_size).cuda()\n",
    "init_vecs = src_root_vecs if args.latent_size == args.hidden_size else W_root(src_root_vecs)\n",
    "itensor = torch.LongTensor([]).cuda()\n",
    "batch_idx = itensor.new_tensor(range(batch_size))\n",
    "cls_scores, icls_scores = get_cls_score(src_tree_vecs, batch_idx, init_vecs, None)\n",
    "root_cls = cls_scores.max(dim=-1)[1]\n",
    "icls_scores = icls_scores + args.vocab.get_mask(root_cls)\n",
    "root_cls, root_icls = root_cls.tolist(), icls_scores.max(dim=-1)[1].tolist()"
   ]
  },
  {
   "cell_type": "code",
   "execution_count": 103,
   "id": "d38035ac-5978-489e-82b9-33d9ce2add2b",
   "metadata": {},
   "outputs": [],
   "source": [
    "super_root = tree_batch.add_node() \n",
    "for bid in range(batch_size):\n",
    "    clab, ilab = root_cls[bid], root_icls[bid]\n",
    "    root_idx = tree_batch.add_node( batch_idx.new_tensor([clab, ilab]) )\n",
    "    tree_batch.add_edge(super_root, root_idx) \n",
    "    stack[bid].append(root_idx)\n",
    "\n",
    "    root_smiles = args.vocab.get_ismiles(ilab)\n",
    "    new_atoms, new_bonds, attached = graph_batch.add_mol(bid, root_smiles, [], 0)\n",
    "    tree_batch.register_cgraph(root_idx, new_atoms, new_bonds, attached)"
   ]
  },
  {
   "cell_type": "code",
   "execution_count": 110,
   "id": "1819a370-d1b5-40d7-9853-52f88a630aac",
   "metadata": {},
   "outputs": [
    {
     "data": {
      "image/png": "[encoded data removed]",
      "text/plain": [
       "<Figure size 640x480 with 1 Axes>"
      ]
     },
     "metadata": {},
     "output_type": "display_data"
    }
   ],
   "source": [
    "nx.draw(tree_batch.graph)"
   ]
  },
  {
   "cell_type": "code",
   "execution_count": 144,
   "id": "f0c42b7c-4732-49c4-80cf-ea20df1bf641",
   "metadata": {},
   "outputs": [],
   "source": [
    "class HTuple():\n",
    "    def __init__(self, node=None, mess=None, vmask=None, emask=None):\n",
    "        self.node, self.mess = node, mess\n",
    "        self.vmask, self.emask = vmask, emask\n",
    "#invariance: tree_tensors is equal to inter_tensors (but inter_tensor's init_vec is 0)\n",
    "tree_tensors = tree_batch.get_tensors()\n",
    "graph_tensors = graph_batch.get_tensors()\n",
    "\n",
    "htree = HTuple( mess = hmpn.tree_encoder.rnn.get_init_state(tree_tensors[1]) )\n",
    "hinter = HTuple( mess = hmpn.tree_encoder.rnn.get_init_state(tree_tensors[1]) )\n",
    "hgraph = HTuple( mess = hmpn.tree_encoder.rnn.get_init_state(graph_tensors[1]) )\n",
    "h = hmpn.tree_encoder.rnn.get_hidden_state(htree.mess)\n",
    "h[1 : batch_size + 1] = init_vecs #wiring root (only for tree, not inter)"
   ]
  },
  {
   "cell_type": "code",
   "execution_count": 199,
   "id": "6c4a8a6d-b26d-4c09-8459-fb54da0bb7c0",
   "metadata": {},
   "outputs": [
    {
     "data": {
      "text/plain": [
       "[1, 2, 3, 4]"
      ]
     },
     "execution_count": 199,
     "metadata": {},
     "output_type": "execute_result"
    }
   ],
   "source": [
    "tree_batch.get_cluster_edges(cur_tree_nodes)"
   ]
  },
  {
   "cell_type": "code",
   "execution_count": 192,
   "id": "b0583b92-f0e8-491b-b790-d6ef98acc094",
   "metadata": {},
   "outputs": [],
   "source": [
    "#decode one step at a time\n",
    "t=0 #up to max_decode_step, which is 100 by default\n",
    "batch_list = [ bid for bid in range(batch_size) if len(stack[bid]) > 0 ]"
   ]
  },
  {
   "cell_type": "code",
   "execution_count": 193,
   "id": "8be2ae81-69ce-40d9-b310-5b1bdb087938",
   "metadata": {},
   "outputs": [],
   "source": [
    "batch_idx = batch_idx.new_tensor(batch_list)\n",
    "cur_tree_nodes = [stack[bid][-1] for bid in batch_list]\n",
    "subtree = batch_idx.new_tensor(cur_tree_nodes).cuda(), batch_idx.new_tensor([]).cuda()\n",
    "subgraph = batch_idx.new_tensor( tree_batch.get_cluster_nodes(cur_tree_nodes) ).cuda(), batch_idx.new_tensor( tree_batch.get_cluster_edges(cur_tree_nodes) ).cuda()"
   ]
  },
  {
   "cell_type": "code",
   "execution_count": 162,
   "id": "76b7de62-6037-424f-8ad0-467a8566f125",
   "metadata": {},
   "outputs": [
    {
     "ename": "RuntimeError",
     "evalue": "Expected all tensors to be on the same device, but found at least two devices, cpu and cuda:0! (when checking argument for argument mat1 in method wrapper_addmm)",
     "output_type": "error",
     "traceback": [
      "\u001b[0;31m---------------------------------------------------------------------------\u001b[0m",
      "\u001b[0;31mRuntimeError\u001b[0m                              Traceback (most recent call last)",
      "\u001b[0;32m/tmp/ipykernel_978098/3475310427.py\u001b[0m in \u001b[0;36m<module>\u001b[0;34m\u001b[0m\n\u001b[0;32m----> 1\u001b[0;31m \u001b[0mhtree\u001b[0m\u001b[0;34m,\u001b[0m \u001b[0mhinter\u001b[0m\u001b[0;34m,\u001b[0m \u001b[0mhgraph\u001b[0m \u001b[0;34m=\u001b[0m \u001b[0mhmpn\u001b[0m\u001b[0;34m(\u001b[0m\u001b[0mtree_tensors\u001b[0m\u001b[0;34m,\u001b[0m \u001b[0mtree_tensors\u001b[0m\u001b[0;34m,\u001b[0m \u001b[0mgraph_tensors\u001b[0m\u001b[0;34m,\u001b[0m \u001b[0mhtree\u001b[0m\u001b[0;34m,\u001b[0m \u001b[0mhinter\u001b[0m\u001b[0;34m,\u001b[0m \u001b[0mhgraph\u001b[0m\u001b[0;34m,\u001b[0m \u001b[0msubtree\u001b[0m\u001b[0;34m,\u001b[0m \u001b[0msubgraph\u001b[0m\u001b[0;34m)\u001b[0m\u001b[0;34m\u001b[0m\u001b[0;34m\u001b[0m\u001b[0m\n\u001b[0m\u001b[1;32m      2\u001b[0m \u001b[0;32mdef\u001b[0m \u001b[0mget_topo_score\u001b[0m\u001b[0;34m(\u001b[0m\u001b[0mself\u001b[0m\u001b[0;34m,\u001b[0m \u001b[0msrc_tree_vecs\u001b[0m\u001b[0;34m,\u001b[0m \u001b[0mbatch_idx\u001b[0m\u001b[0;34m,\u001b[0m \u001b[0mtopo_vecs\u001b[0m\u001b[0;34m)\u001b[0m\u001b[0;34m:\u001b[0m\u001b[0;34m\u001b[0m\u001b[0;34m\u001b[0m\u001b[0m\n\u001b[1;32m      3\u001b[0m     \u001b[0muse_attention\u001b[0m \u001b[0;34m=\u001b[0m \u001b[0;32mFalse\u001b[0m\u001b[0;34m\u001b[0m\u001b[0;34m\u001b[0m\u001b[0m\n\u001b[1;32m      4\u001b[0m     \u001b[0;32mif\u001b[0m \u001b[0muse_attention\u001b[0m\u001b[0;34m:\u001b[0m\u001b[0;34m\u001b[0m\u001b[0;34m\u001b[0m\u001b[0m\n\u001b[1;32m      5\u001b[0m         \u001b[0mtopo_cxt\u001b[0m \u001b[0;34m=\u001b[0m \u001b[0mself\u001b[0m\u001b[0;34m.\u001b[0m\u001b[0mattention\u001b[0m\u001b[0;34m(\u001b[0m\u001b[0msrc_tree_vecs\u001b[0m\u001b[0;34m,\u001b[0m \u001b[0mbatch_idx\u001b[0m\u001b[0;34m,\u001b[0m \u001b[0mtopo_vecs\u001b[0m\u001b[0;34m,\u001b[0m \u001b[0mself\u001b[0m\u001b[0;34m.\u001b[0m\u001b[0mA_topo\u001b[0m\u001b[0;34m)\u001b[0m\u001b[0;34m\u001b[0m\u001b[0;34m\u001b[0m\u001b[0m\n",
      "\u001b[0;32m~/.conda/envs/hgraph-rdkit/lib/python3.7/site-packages/torch/nn/modules/module.py\u001b[0m in \u001b[0;36m_call_impl\u001b[0;34m(self, *input, **kwargs)\u001b[0m\n\u001b[1;32m   1128\u001b[0m         if not (self._backward_hooks or self._forward_hooks or self._forward_pre_hooks or _global_backward_hooks\n\u001b[1;32m   1129\u001b[0m                 or _global_forward_hooks or _global_forward_pre_hooks):\n\u001b[0;32m-> 1130\u001b[0;31m             \u001b[0;32mreturn\u001b[0m \u001b[0mforward_call\u001b[0m\u001b[0;34m(\u001b[0m\u001b[0;34m*\u001b[0m\u001b[0minput\u001b[0m\u001b[0;34m,\u001b[0m \u001b[0;34m**\u001b[0m\u001b[0mkwargs\u001b[0m\u001b[0;34m)\u001b[0m\u001b[0;34m\u001b[0m\u001b[0;34m\u001b[0m\u001b[0m\n\u001b[0m\u001b[1;32m   1131\u001b[0m         \u001b[0;31m# Do not call functions when jit is used\u001b[0m\u001b[0;34m\u001b[0m\u001b[0;34m\u001b[0m\u001b[0;34m\u001b[0m\u001b[0m\n\u001b[1;32m   1132\u001b[0m         \u001b[0mfull_backward_hooks\u001b[0m\u001b[0;34m,\u001b[0m \u001b[0mnon_full_backward_hooks\u001b[0m \u001b[0;34m=\u001b[0m \u001b[0;34m[\u001b[0m\u001b[0;34m]\u001b[0m\u001b[0;34m,\u001b[0m \u001b[0;34m[\u001b[0m\u001b[0;34m]\u001b[0m\u001b[0;34m\u001b[0m\u001b[0;34m\u001b[0m\u001b[0m\n",
      "\u001b[0;32m~/hgraph2graph/hgraph/encoder.py\u001b[0m in \u001b[0;36mforward\u001b[0;34m(self, tree_tensors, inter_tensors, graph_tensors, htree, hinter, hgraph, subtree, subgraph)\u001b[0m\n\u001b[1;32m    217\u001b[0m         \u001b[0;32mif\u001b[0m \u001b[0mlen\u001b[0m\u001b[0;34m(\u001b[0m\u001b[0msubgraph\u001b[0m\u001b[0;34m[\u001b[0m\u001b[0;36m0\u001b[0m\u001b[0;34m]\u001b[0m\u001b[0;34m)\u001b[0m \u001b[0;34m+\u001b[0m \u001b[0mlen\u001b[0m\u001b[0;34m(\u001b[0m\u001b[0msubgraph\u001b[0m\u001b[0;34m[\u001b[0m\u001b[0;36m1\u001b[0m\u001b[0;34m]\u001b[0m\u001b[0;34m)\u001b[0m \u001b[0;34m>\u001b[0m \u001b[0;36m0\u001b[0m\u001b[0;34m:\u001b[0m\u001b[0;34m\u001b[0m\u001b[0;34m\u001b[0m\u001b[0m\n\u001b[1;32m    218\u001b[0m             \u001b[0msub_graph_tensors\u001b[0m \u001b[0;34m=\u001b[0m \u001b[0mself\u001b[0m\u001b[0;34m.\u001b[0m\u001b[0mget_sub_tensor\u001b[0m\u001b[0;34m(\u001b[0m\u001b[0mgraph_tensors\u001b[0m\u001b[0;34m,\u001b[0m \u001b[0msubgraph\u001b[0m\u001b[0;34m)\u001b[0m\u001b[0;34m[\u001b[0m\u001b[0;34m:\u001b[0m\u001b[0;34m-\u001b[0m\u001b[0;36m1\u001b[0m\u001b[0;34m]\u001b[0m \u001b[0;31m#graph tensor is already embedded\u001b[0m\u001b[0;34m\u001b[0m\u001b[0;34m\u001b[0m\u001b[0m\n\u001b[0;32m--> 219\u001b[0;31m             \u001b[0mhgraph\u001b[0m\u001b[0;34m.\u001b[0m\u001b[0mnode\u001b[0m\u001b[0;34m,\u001b[0m \u001b[0mhgraph\u001b[0m\u001b[0;34m.\u001b[0m\u001b[0mmess\u001b[0m \u001b[0;34m=\u001b[0m \u001b[0mself\u001b[0m\u001b[0;34m.\u001b[0m\u001b[0mgraph_encoder\u001b[0m\u001b[0;34m(\u001b[0m\u001b[0msub_graph_tensors\u001b[0m\u001b[0;34m,\u001b[0m \u001b[0mhgraph\u001b[0m\u001b[0;34m.\u001b[0m\u001b[0mmess\u001b[0m\u001b[0;34m,\u001b[0m \u001b[0mnum_graph_nodes\u001b[0m\u001b[0;34m,\u001b[0m \u001b[0msubgraph\u001b[0m\u001b[0;34m)\u001b[0m\u001b[0;34m\u001b[0m\u001b[0;34m\u001b[0m\u001b[0m\n\u001b[0m\u001b[1;32m    220\u001b[0m \u001b[0;34m\u001b[0m\u001b[0m\n\u001b[1;32m    221\u001b[0m         \u001b[0;32mif\u001b[0m \u001b[0mlen\u001b[0m\u001b[0;34m(\u001b[0m\u001b[0msubtree\u001b[0m\u001b[0;34m[\u001b[0m\u001b[0;36m0\u001b[0m\u001b[0;34m]\u001b[0m\u001b[0;34m)\u001b[0m \u001b[0;34m+\u001b[0m \u001b[0mlen\u001b[0m\u001b[0;34m(\u001b[0m\u001b[0msubtree\u001b[0m\u001b[0;34m[\u001b[0m\u001b[0;36m1\u001b[0m\u001b[0;34m]\u001b[0m\u001b[0;34m)\u001b[0m \u001b[0;34m>\u001b[0m \u001b[0;36m0\u001b[0m\u001b[0;34m:\u001b[0m\u001b[0;34m\u001b[0m\u001b[0;34m\u001b[0m\u001b[0m\n",
      "\u001b[0;32m~/.conda/envs/hgraph-rdkit/lib/python3.7/site-packages/torch/nn/modules/module.py\u001b[0m in \u001b[0;36m_call_impl\u001b[0;34m(self, *input, **kwargs)\u001b[0m\n\u001b[1;32m   1128\u001b[0m         if not (self._backward_hooks or self._forward_hooks or self._forward_pre_hooks or _global_backward_hooks\n\u001b[1;32m   1129\u001b[0m                 or _global_forward_hooks or _global_forward_pre_hooks):\n\u001b[0;32m-> 1130\u001b[0;31m             \u001b[0;32mreturn\u001b[0m \u001b[0mforward_call\u001b[0m\u001b[0;34m(\u001b[0m\u001b[0;34m*\u001b[0m\u001b[0minput\u001b[0m\u001b[0;34m,\u001b[0m \u001b[0;34m**\u001b[0m\u001b[0mkwargs\u001b[0m\u001b[0;34m)\u001b[0m\u001b[0;34m\u001b[0m\u001b[0;34m\u001b[0m\u001b[0m\n\u001b[0m\u001b[1;32m   1131\u001b[0m         \u001b[0;31m# Do not call functions when jit is used\u001b[0m\u001b[0;34m\u001b[0m\u001b[0;34m\u001b[0m\u001b[0;34m\u001b[0m\u001b[0m\n\u001b[1;32m   1132\u001b[0m         \u001b[0mfull_backward_hooks\u001b[0m\u001b[0;34m,\u001b[0m \u001b[0mnon_full_backward_hooks\u001b[0m \u001b[0;34m=\u001b[0m \u001b[0;34m[\u001b[0m\u001b[0;34m]\u001b[0m\u001b[0;34m,\u001b[0m \u001b[0;34m[\u001b[0m\u001b[0;34m]\u001b[0m\u001b[0;34m\u001b[0m\u001b[0;34m\u001b[0m\u001b[0m\n",
      "\u001b[0;32m~/hgraph2graph/hgraph/encoder.py\u001b[0m in \u001b[0;36mforward\u001b[0;34m(self, tensors, h, num_nodes, subset)\u001b[0m\n\u001b[1;32m    155\u001b[0m \u001b[0;34m\u001b[0m\u001b[0m\n\u001b[1;32m    156\u001b[0m         \u001b[0;32mif\u001b[0m \u001b[0mlen\u001b[0m\u001b[0;34m(\u001b[0m\u001b[0msubmess\u001b[0m\u001b[0;34m)\u001b[0m \u001b[0;34m>\u001b[0m \u001b[0;36m0\u001b[0m\u001b[0;34m:\u001b[0m\u001b[0;34m\u001b[0m\u001b[0;34m\u001b[0m\u001b[0m\n\u001b[0;32m--> 157\u001b[0;31m             \u001b[0mh\u001b[0m \u001b[0;34m=\u001b[0m \u001b[0mself\u001b[0m\u001b[0;34m.\u001b[0m\u001b[0mrnn\u001b[0m\u001b[0;34m.\u001b[0m\u001b[0msparse_forward\u001b[0m\u001b[0;34m(\u001b[0m\u001b[0mh\u001b[0m\u001b[0;34m,\u001b[0m \u001b[0mfmess\u001b[0m\u001b[0;34m,\u001b[0m \u001b[0msubmess\u001b[0m\u001b[0;34m,\u001b[0m \u001b[0mbgraph\u001b[0m\u001b[0;34m)\u001b[0m\u001b[0;34m\u001b[0m\u001b[0;34m\u001b[0m\u001b[0m\n\u001b[0m\u001b[1;32m    158\u001b[0m \u001b[0;34m\u001b[0m\u001b[0m\n\u001b[1;32m    159\u001b[0m         \u001b[0mnei_message\u001b[0m \u001b[0;34m=\u001b[0m \u001b[0mindex_select_ND\u001b[0m\u001b[0;34m(\u001b[0m\u001b[0mself\u001b[0m\u001b[0;34m.\u001b[0m\u001b[0mrnn\u001b[0m\u001b[0;34m.\u001b[0m\u001b[0mget_hidden_state\u001b[0m\u001b[0;34m(\u001b[0m\u001b[0mh\u001b[0m\u001b[0;34m)\u001b[0m\u001b[0;34m,\u001b[0m \u001b[0;36m0\u001b[0m\u001b[0;34m,\u001b[0m \u001b[0magraph\u001b[0m\u001b[0;34m)\u001b[0m\u001b[0;34m\u001b[0m\u001b[0;34m\u001b[0m\u001b[0m\n",
      "\u001b[0;32m~/hgraph2graph/hgraph/rnn.py\u001b[0m in \u001b[0;36msparse_forward\u001b[0;34m(self, h, fmess, submess, bgraph)\u001b[0m\n\u001b[1;32m    116\u001b[0m             \u001b[0mh_nei\u001b[0m \u001b[0;34m=\u001b[0m \u001b[0mindex_select_ND\u001b[0m\u001b[0;34m(\u001b[0m\u001b[0mh\u001b[0m\u001b[0;34m,\u001b[0m \u001b[0;36m0\u001b[0m\u001b[0;34m,\u001b[0m \u001b[0mbgraph\u001b[0m\u001b[0;34m)\u001b[0m\u001b[0;34m\u001b[0m\u001b[0;34m\u001b[0m\u001b[0m\n\u001b[1;32m    117\u001b[0m             \u001b[0mc_nei\u001b[0m \u001b[0;34m=\u001b[0m \u001b[0mindex_select_ND\u001b[0m\u001b[0;34m(\u001b[0m\u001b[0mc\u001b[0m\u001b[0;34m,\u001b[0m \u001b[0;36m0\u001b[0m\u001b[0;34m,\u001b[0m \u001b[0mbgraph\u001b[0m\u001b[0;34m)\u001b[0m\u001b[0;34m\u001b[0m\u001b[0;34m\u001b[0m\u001b[0m\n\u001b[0;32m--> 118\u001b[0;31m             \u001b[0msub_h\u001b[0m\u001b[0;34m,\u001b[0m \u001b[0msub_c\u001b[0m \u001b[0;34m=\u001b[0m \u001b[0mself\u001b[0m\u001b[0;34m.\u001b[0m\u001b[0mLSTM\u001b[0m\u001b[0;34m(\u001b[0m\u001b[0mfmess\u001b[0m\u001b[0;34m,\u001b[0m \u001b[0mh_nei\u001b[0m\u001b[0;34m,\u001b[0m \u001b[0mc_nei\u001b[0m\u001b[0;34m)\u001b[0m\u001b[0;34m\u001b[0m\u001b[0;34m\u001b[0m\u001b[0m\n\u001b[0m\u001b[1;32m    119\u001b[0m             \u001b[0mh\u001b[0m \u001b[0;34m=\u001b[0m \u001b[0mindex_scatter\u001b[0m\u001b[0;34m(\u001b[0m\u001b[0msub_h\u001b[0m\u001b[0;34m,\u001b[0m \u001b[0mh\u001b[0m\u001b[0;34m,\u001b[0m \u001b[0msubmess\u001b[0m\u001b[0;34m)\u001b[0m\u001b[0;34m\u001b[0m\u001b[0;34m\u001b[0m\u001b[0m\n\u001b[1;32m    120\u001b[0m             \u001b[0mc\u001b[0m \u001b[0;34m=\u001b[0m \u001b[0mindex_scatter\u001b[0m\u001b[0;34m(\u001b[0m\u001b[0msub_c\u001b[0m\u001b[0;34m,\u001b[0m \u001b[0mc\u001b[0m\u001b[0;34m,\u001b[0m \u001b[0msubmess\u001b[0m\u001b[0;34m)\u001b[0m\u001b[0;34m\u001b[0m\u001b[0;34m\u001b[0m\u001b[0m\n",
      "\u001b[0;32m~/hgraph2graph/hgraph/rnn.py\u001b[0m in \u001b[0;36mLSTM\u001b[0;34m(self, x, h_nei, c_nei)\u001b[0m\n\u001b[1;32m     86\u001b[0m         \u001b[0mh_sum_nei\u001b[0m \u001b[0;34m=\u001b[0m \u001b[0mh_nei\u001b[0m\u001b[0;34m.\u001b[0m\u001b[0msum\u001b[0m\u001b[0;34m(\u001b[0m\u001b[0mdim\u001b[0m\u001b[0;34m=\u001b[0m\u001b[0;36m1\u001b[0m\u001b[0;34m)\u001b[0m\u001b[0;34m\u001b[0m\u001b[0;34m\u001b[0m\u001b[0m\n\u001b[1;32m     87\u001b[0m         \u001b[0mx_expand\u001b[0m \u001b[0;34m=\u001b[0m \u001b[0mx\u001b[0m\u001b[0;34m.\u001b[0m\u001b[0munsqueeze\u001b[0m\u001b[0;34m(\u001b[0m\u001b[0;36m1\u001b[0m\u001b[0;34m)\u001b[0m\u001b[0;34m.\u001b[0m\u001b[0mexpand\u001b[0m\u001b[0;34m(\u001b[0m\u001b[0;34m-\u001b[0m\u001b[0;36m1\u001b[0m\u001b[0;34m,\u001b[0m \u001b[0mh_nei\u001b[0m\u001b[0;34m.\u001b[0m\u001b[0msize\u001b[0m\u001b[0;34m(\u001b[0m\u001b[0;36m1\u001b[0m\u001b[0;34m)\u001b[0m\u001b[0;34m,\u001b[0m \u001b[0;34m-\u001b[0m\u001b[0;36m1\u001b[0m\u001b[0;34m)\u001b[0m\u001b[0;34m\u001b[0m\u001b[0;34m\u001b[0m\u001b[0m\n\u001b[0;32m---> 88\u001b[0;31m         \u001b[0mi\u001b[0m \u001b[0;34m=\u001b[0m \u001b[0mself\u001b[0m\u001b[0;34m.\u001b[0m\u001b[0mW_i\u001b[0m\u001b[0;34m(\u001b[0m \u001b[0mtorch\u001b[0m\u001b[0;34m.\u001b[0m\u001b[0mcat\u001b[0m\u001b[0;34m(\u001b[0m\u001b[0;34m[\u001b[0m\u001b[0mx\u001b[0m\u001b[0;34m,\u001b[0m \u001b[0mh_sum_nei\u001b[0m\u001b[0;34m]\u001b[0m\u001b[0;34m,\u001b[0m \u001b[0mdim\u001b[0m\u001b[0;34m=\u001b[0m\u001b[0;34m-\u001b[0m\u001b[0;36m1\u001b[0m\u001b[0;34m)\u001b[0m \u001b[0;34m)\u001b[0m\u001b[0;34m\u001b[0m\u001b[0;34m\u001b[0m\u001b[0m\n\u001b[0m\u001b[1;32m     89\u001b[0m         \u001b[0mo\u001b[0m \u001b[0;34m=\u001b[0m \u001b[0mself\u001b[0m\u001b[0;34m.\u001b[0m\u001b[0mW_o\u001b[0m\u001b[0;34m(\u001b[0m \u001b[0mtorch\u001b[0m\u001b[0;34m.\u001b[0m\u001b[0mcat\u001b[0m\u001b[0;34m(\u001b[0m\u001b[0;34m[\u001b[0m\u001b[0mx\u001b[0m\u001b[0;34m,\u001b[0m \u001b[0mh_sum_nei\u001b[0m\u001b[0;34m]\u001b[0m\u001b[0;34m,\u001b[0m \u001b[0mdim\u001b[0m\u001b[0;34m=\u001b[0m\u001b[0;34m-\u001b[0m\u001b[0;36m1\u001b[0m\u001b[0;34m)\u001b[0m \u001b[0;34m)\u001b[0m\u001b[0;34m\u001b[0m\u001b[0;34m\u001b[0m\u001b[0m\n\u001b[1;32m     90\u001b[0m         \u001b[0mf\u001b[0m \u001b[0;34m=\u001b[0m \u001b[0mself\u001b[0m\u001b[0;34m.\u001b[0m\u001b[0mW_f\u001b[0m\u001b[0;34m(\u001b[0m \u001b[0mtorch\u001b[0m\u001b[0;34m.\u001b[0m\u001b[0mcat\u001b[0m\u001b[0;34m(\u001b[0m\u001b[0;34m[\u001b[0m\u001b[0mx_expand\u001b[0m\u001b[0;34m,\u001b[0m \u001b[0mh_nei\u001b[0m\u001b[0;34m]\u001b[0m\u001b[0;34m,\u001b[0m \u001b[0mdim\u001b[0m\u001b[0;34m=\u001b[0m\u001b[0;34m-\u001b[0m\u001b[0;36m1\u001b[0m\u001b[0;34m)\u001b[0m \u001b[0;34m)\u001b[0m\u001b[0;34m\u001b[0m\u001b[0;34m\u001b[0m\u001b[0m\n",
      "\u001b[0;32m~/.conda/envs/hgraph-rdkit/lib/python3.7/site-packages/torch/nn/modules/module.py\u001b[0m in \u001b[0;36m_call_impl\u001b[0;34m(self, *input, **kwargs)\u001b[0m\n\u001b[1;32m   1128\u001b[0m         if not (self._backward_hooks or self._forward_hooks or self._forward_pre_hooks or _global_backward_hooks\n\u001b[1;32m   1129\u001b[0m                 or _global_forward_hooks or _global_forward_pre_hooks):\n\u001b[0;32m-> 1130\u001b[0;31m             \u001b[0;32mreturn\u001b[0m \u001b[0mforward_call\u001b[0m\u001b[0;34m(\u001b[0m\u001b[0;34m*\u001b[0m\u001b[0minput\u001b[0m\u001b[0;34m,\u001b[0m \u001b[0;34m**\u001b[0m\u001b[0mkwargs\u001b[0m\u001b[0;34m)\u001b[0m\u001b[0;34m\u001b[0m\u001b[0;34m\u001b[0m\u001b[0m\n\u001b[0m\u001b[1;32m   1131\u001b[0m         \u001b[0;31m# Do not call functions when jit is used\u001b[0m\u001b[0;34m\u001b[0m\u001b[0;34m\u001b[0m\u001b[0;34m\u001b[0m\u001b[0m\n\u001b[1;32m   1132\u001b[0m         \u001b[0mfull_backward_hooks\u001b[0m\u001b[0;34m,\u001b[0m \u001b[0mnon_full_backward_hooks\u001b[0m \u001b[0;34m=\u001b[0m \u001b[0;34m[\u001b[0m\u001b[0;34m]\u001b[0m\u001b[0;34m,\u001b[0m \u001b[0;34m[\u001b[0m\u001b[0;34m]\u001b[0m\u001b[0;34m\u001b[0m\u001b[0;34m\u001b[0m\u001b[0m\n",
      "\u001b[0;32m~/.conda/envs/hgraph-rdkit/lib/python3.7/site-packages/torch/nn/modules/container.py\u001b[0m in \u001b[0;36mforward\u001b[0;34m(self, input)\u001b[0m\n\u001b[1;32m    137\u001b[0m     \u001b[0;32mdef\u001b[0m \u001b[0mforward\u001b[0m\u001b[0;34m(\u001b[0m\u001b[0mself\u001b[0m\u001b[0;34m,\u001b[0m \u001b[0minput\u001b[0m\u001b[0;34m)\u001b[0m\u001b[0;34m:\u001b[0m\u001b[0;34m\u001b[0m\u001b[0;34m\u001b[0m\u001b[0m\n\u001b[1;32m    138\u001b[0m         \u001b[0;32mfor\u001b[0m \u001b[0mmodule\u001b[0m \u001b[0;32min\u001b[0m \u001b[0mself\u001b[0m\u001b[0;34m:\u001b[0m\u001b[0;34m\u001b[0m\u001b[0;34m\u001b[0m\u001b[0m\n\u001b[0;32m--> 139\u001b[0;31m             \u001b[0minput\u001b[0m \u001b[0;34m=\u001b[0m \u001b[0mmodule\u001b[0m\u001b[0;34m(\u001b[0m\u001b[0minput\u001b[0m\u001b[0;34m)\u001b[0m\u001b[0;34m\u001b[0m\u001b[0;34m\u001b[0m\u001b[0m\n\u001b[0m\u001b[1;32m    140\u001b[0m         \u001b[0;32mreturn\u001b[0m \u001b[0minput\u001b[0m\u001b[0;34m\u001b[0m\u001b[0;34m\u001b[0m\u001b[0m\n\u001b[1;32m    141\u001b[0m \u001b[0;34m\u001b[0m\u001b[0m\n",
      "\u001b[0;32m~/.conda/envs/hgraph-rdkit/lib/python3.7/site-packages/torch/nn/modules/module.py\u001b[0m in \u001b[0;36m_call_impl\u001b[0;34m(self, *input, **kwargs)\u001b[0m\n\u001b[1;32m   1128\u001b[0m         if not (self._backward_hooks or self._forward_hooks or self._forward_pre_hooks or _global_backward_hooks\n\u001b[1;32m   1129\u001b[0m                 or _global_forward_hooks or _global_forward_pre_hooks):\n\u001b[0;32m-> 1130\u001b[0;31m             \u001b[0;32mreturn\u001b[0m \u001b[0mforward_call\u001b[0m\u001b[0;34m(\u001b[0m\u001b[0;34m*\u001b[0m\u001b[0minput\u001b[0m\u001b[0;34m,\u001b[0m \u001b[0;34m**\u001b[0m\u001b[0mkwargs\u001b[0m\u001b[0;34m)\u001b[0m\u001b[0;34m\u001b[0m\u001b[0;34m\u001b[0m\u001b[0m\n\u001b[0m\u001b[1;32m   1131\u001b[0m         \u001b[0;31m# Do not call functions when jit is used\u001b[0m\u001b[0;34m\u001b[0m\u001b[0;34m\u001b[0m\u001b[0;34m\u001b[0m\u001b[0m\n\u001b[1;32m   1132\u001b[0m         \u001b[0mfull_backward_hooks\u001b[0m\u001b[0;34m,\u001b[0m \u001b[0mnon_full_backward_hooks\u001b[0m \u001b[0;34m=\u001b[0m \u001b[0;34m[\u001b[0m\u001b[0;34m]\u001b[0m\u001b[0;34m,\u001b[0m \u001b[0;34m[\u001b[0m\u001b[0;34m]\u001b[0m\u001b[0;34m\u001b[0m\u001b[0;34m\u001b[0m\u001b[0m\n",
      "\u001b[0;32m~/.conda/envs/hgraph-rdkit/lib/python3.7/site-packages/torch/nn/modules/linear.py\u001b[0m in \u001b[0;36mforward\u001b[0;34m(self, input)\u001b[0m\n\u001b[1;32m    112\u001b[0m \u001b[0;34m\u001b[0m\u001b[0m\n\u001b[1;32m    113\u001b[0m     \u001b[0;32mdef\u001b[0m \u001b[0mforward\u001b[0m\u001b[0;34m(\u001b[0m\u001b[0mself\u001b[0m\u001b[0;34m,\u001b[0m \u001b[0minput\u001b[0m\u001b[0;34m:\u001b[0m \u001b[0mTensor\u001b[0m\u001b[0;34m)\u001b[0m \u001b[0;34m->\u001b[0m \u001b[0mTensor\u001b[0m\u001b[0;34m:\u001b[0m\u001b[0;34m\u001b[0m\u001b[0;34m\u001b[0m\u001b[0m\n\u001b[0;32m--> 114\u001b[0;31m         \u001b[0;32mreturn\u001b[0m \u001b[0mF\u001b[0m\u001b[0;34m.\u001b[0m\u001b[0mlinear\u001b[0m\u001b[0;34m(\u001b[0m\u001b[0minput\u001b[0m\u001b[0;34m,\u001b[0m \u001b[0mself\u001b[0m\u001b[0;34m.\u001b[0m\u001b[0mweight\u001b[0m\u001b[0;34m,\u001b[0m \u001b[0mself\u001b[0m\u001b[0;34m.\u001b[0m\u001b[0mbias\u001b[0m\u001b[0;34m)\u001b[0m\u001b[0;34m\u001b[0m\u001b[0;34m\u001b[0m\u001b[0m\n\u001b[0m\u001b[1;32m    115\u001b[0m \u001b[0;34m\u001b[0m\u001b[0m\n\u001b[1;32m    116\u001b[0m     \u001b[0;32mdef\u001b[0m \u001b[0mextra_repr\u001b[0m\u001b[0;34m(\u001b[0m\u001b[0mself\u001b[0m\u001b[0;34m)\u001b[0m \u001b[0;34m->\u001b[0m \u001b[0mstr\u001b[0m\u001b[0;34m:\u001b[0m\u001b[0;34m\u001b[0m\u001b[0;34m\u001b[0m\u001b[0m\n",
      "\u001b[0;31mRuntimeError\u001b[0m: Expected all tensors to be on the same device, but found at least two devices, cpu and cuda:0! (when checking argument for argument mat1 in method wrapper_addmm)"
     ]
    }
   ],
   "source": [
    "htree, hinter, hgraph = hmpn(tree_tensors, tree_tensors, graph_tensors, htree, hinter, hgraph, subtree, subgraph)\n",
    "def get_topo_score(self, src_tree_vecs, batch_idx, topo_vecs):\n",
    "    use_attention = False\n",
    "    if use_attention:\n",
    "        topo_cxt = self.attention(src_tree_vecs, batch_idx, topo_vecs, self.A_topo)\n",
    "    else:\n",
    "        topo_cxt = src_tree_vecs.index_select(index=batch_idx, dim=0)\n",
    "    return self.topoNN( torch.cat([topo_vecs, topo_cxt], dim=-1) ).squeeze(-1)\n",
    "topo_scores = get_topo_score(src_tree_vecs, batch_idx, htree.node.index_select(0, subtree[0]))\n",
    "topo_scores = torch.sigmoid(topo_scores)\n",
    "if greedy:\n",
    "    topo_preds = topo_scores.tolist()\n",
    "else:\n",
    "    topo_preds = torch.bernoulli(topo_scores).tolist()"
   ]
  },
  {
   "cell_type": "code",
   "execution_count": 190,
   "id": "32c2ef75-1716-49ed-af9e-8c24be380b94",
   "metadata": {},
   "outputs": [],
   "source": [
    "hinter.node"
   ]
  },
  {
   "cell_type": "code",
   "execution_count": null,
   "id": "98549e46-ca7f-4fbe-9876-99af93610098",
   "metadata": {},
   "outputs": [],
   "source": []
  }
 ],
 "metadata": {
  "kernelspec": {
   "display_name": "hgraph-rdkit",
   "language": "python",
   "name": "hgraph-rdkit"
  },
  "language_info": {
   "codemirror_mode": {
    "name": "ipython",
    "version": 3
   },
   "file_extension": ".py",
   "mimetype": "text/x-python",
   "name": "python",
   "nbconvert_exporter": "python",
   "pygments_lexer": "ipython3",
   "version": "3.7.6"
  }
 },
 "nbformat": 4,
 "nbformat_minor": 5
}
