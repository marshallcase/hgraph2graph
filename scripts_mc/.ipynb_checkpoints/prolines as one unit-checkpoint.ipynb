{
 "cells": [
  {
   "cell_type": "code",
   "execution_count": 140,
   "id": "be937f4c-6df1-417b-92a7-424b642d8874",
   "metadata": {},
   "outputs": [],
   "source": [
    "##vocab production script\n",
    "#imports\n",
    "import multiprocessing\n",
    "from multiprocessing import Pool\n",
    "import math, random, sys\n",
    "import pickle\n",
    "import argparse\n",
    "from functools import partial\n",
    "import torch\n",
    "import numpy\n",
    "from rdkit import Chem\n",
    "from rdkit.Chem.Draw import IPythonConsole\n",
    "from rdkit.Chem import rdDepictor\n",
    "from rdkit.Chem.Draw import rdMolDraw2D\n",
    "from hgraph import MolGraph, common_atom_vocab, PairVocab\n",
    "import rdkit\n",
    "import rdkit.Chem as Chem\n",
    "import networkx as nx\n",
    "from hgraph.chemutils import *\n",
    "from hgraph.nnutils import *\n",
    "import numpy as np\n",
    "import matplotlib.pyplot as plt\n",
    "from IPython.display import SVG\n",
    "import time\n",
    "from rdkit.Chem import Draw\n",
    "import itertools\n",
    "from collections import Counter\n",
    "\n",
    "# IPythonConsole.drawOptions.addAtomIndices = True\n",
    "# IPythonConsole.molSize = 300,300\n",
    "\n",
    "#test: this change should only appear in the 'peptide' branch"
   ]
  },
  {
   "cell_type": "code",
   "execution_count": 190,
   "id": "653df2d3-2348-40f5-a7fc-949181ef7094",
   "metadata": {},
   "outputs": [],
   "source": [
    "# peptide = 'OC(C[C@@H](C(N[C@H](C(N[C@H](C(N[C@H](C(NCC(N[C@H](C(N[C@@]([H])([C@@H](C)CC)C(N[C@@H](CC(C)C)C(N[C@H](C(N[C@H](C(N[C@@H](CC1=CC=CC=C1)C(N2CCC[C@H]2C(N[C@H](C(N[C@@]([C@H](O)C)(C(N[C@H](C(N[C@H](C(N[C@H](C(N[C@H](C(N[C@H](C(O)=O)CSC3)=O)CSCC3=O)=O)C(C)C)=O)CC4=CC=C(O)C=C4)=O)CC5=CNC6=C5C=CC=C6)=O)[H])=O)CO)=O)=O)=O)CCSC)=O)CCCCN[H])=O)=O)=O)CC7=CNC=N7)=O)=O)CCC(N)=O)=O)CCC(O)=O)=O)CS[H])=O)NC([C@@H](NC([C@@H](NC([C@H](C)NC(CN)=O)=O)CCCNC(N)=N)=O)CC(N)=O)=O)=O'\n",
    "#c term proline\n",
    "# peptide = 'N[C@@H]([C@]([H])(O)C)C(=O)N[C@@H](CSCC(C3)=O)C(=O)N[C@@H](C(C)C)C(=O)N1[C@@H](CCC1)C(=O)N[C@@H](CCC(=O)O)C(=O)N[C@@H](CC1=CN=C-N1)C(=O)N[C@@H](CS3)C(=O)N[C@@H](CO)C(=O)N[C@@H](CSCC(C3)=O)C(=O)N[C@@H](Cc1ccc(O)cc1)C(=O)N[C@@H](CCCNC(=N)N)C(=O)N[C@@H](CS3)C(=O)N1[C@@H](CCC1)C(=O)O'\n",
    "#n term proline\n",
    "# peptide = 'N1[C@@H](CCC1)C(=O)N[C@@H](CSCC(C3)=O)C(=O)N[C@@H](CS3)C(=O)N[C@@H](C)C(=O)N[C@@H](CCCNC(=N)N)C(=O)N[C@@H](CSCC(C3)=O)C(=O)N1[C@@H](CCC1)C(=O)N[C@@H](CC(=CN2)C1=C2C=CC=C1)C(=O)N[C@@H](CC(=O)O)C(=O)N[C@@H](CC(=O)O)C(=O)N[C@@H](CS3)C(=O)N[C@@H](CCCNC(=N)N)C(=O)O'\n",
    "#random peptides\n",
    "# peptide = 'N[C@@H]([H])C(=O)N[C@@H](CSCC(C4)=O)C(=O)N1[C@@H](CCC1)C(=O)N[C@@H](CCC(=O)N)C(=O)N[C@@H](CS3)C(=O)N[C@@H](CC(=O)O)C(=O)N[C@@H](C(C)C)C(=O)N[C@@H](CSCC(C3)=O)C(=O)N[C@@H](Cc1ccc(O)cc1)C(=O)N[C@@H](CCCNC(=N)N)C(=O)N[C@@H](CS4)C(=O)N1[C@@H](CCC1)C(=O)O'\n",
    "#peptide with no proline\n",
    "peptide = 'N[C@@H]([C@]([H])(O)C)C(=O)N[C@@H](CSCC(C3)=O)C(=O)N[C@@H](Cc1ccc(O)cc1)C(=O)N[C@@H](CCCNC(=N)N)C(=O)N[C@@H](CS3)C(=O)N[C@@H](CCC(=O)N)C(=O)N[C@@H](CSCC(C3)=O)C(=O)N[C@@H](Cc1ccc(O)cc1)C(=O)N[C@@H](C)C(=O)N[C@@H](CS3)C(=O)N[C@@H](CO)C(=O)O'\n",
    "\n",
    "peptide = get_mol(peptide)"
   ]
  },
  {
   "cell_type": "code",
   "execution_count": 191,
   "id": "b8b80cad-2a10-45e2-aab8-19169f3a6d50",
   "metadata": {},
   "outputs": [],
   "source": [
    "def mol_with_atom_index(mol):\n",
    "    for atom in mol.GetAtoms():\n",
    "        atom.SetAtomMapNum(atom.GetIdx())\n",
    "    return mol\n",
    "\n",
    "mol_with_atom_index(peptide)\n",
    "\n",
    "Draw.MolToFile(peptide, \"peptide.png\",size=(6000,6000))"
   ]
  },
  {
   "cell_type": "code",
   "execution_count": 192,
   "id": "2468cbdd-5ce2-4737-a46e-1e7177046ab1",
   "metadata": {},
   "outputs": [
    {
     "data": {
      "text/plain": [
       "()"
      ]
     },
     "execution_count": 192,
     "metadata": {},
     "output_type": "execute_result"
    }
   ],
   "source": [
    "#separately define proline, because the backbone creates double recognition\n",
    "proline = 'O=CC1CCCN1'\n",
    "proline_matches = peptide.GetSubstructMatches(Chem.MolFromSmiles(proline),useChirality=True)\n",
    "proline_matches"
   ]
  },
  {
   "cell_type": "code",
   "execution_count": 193,
   "id": "f9fe6f7f-06f3-4180-95aa-93e71990c1f2",
   "metadata": {},
   "outputs": [
    {
     "data": {
      "text/plain": [
       "((0, 1, 5, 6),\n",
       " (7, 8, 15, 16),\n",
       " (17, 18, 27, 28),\n",
       " (29, 30, 38, 39),\n",
       " (40, 41, 44, 45),\n",
       " (46, 47, 53, 54),\n",
       " (55, 56, 63, 64),\n",
       " (65, 66, 75, 76),\n",
       " (77, 78, 80, 81),\n",
       " (82, 83, 86, 87),\n",
       " (88, 89, 92, 93))"
      ]
     },
     "execution_count": 193,
     "metadata": {},
     "output_type": "execute_result"
    }
   ],
   "source": [
    "#find all amino acids\n",
    "amino_acid_motif = 'NCC=O'\n",
    "matches = peptide.GetSubstructMatches(Chem.MolFromSmiles(amino_acid_motif),useChirality=True)\n",
    "matches"
   ]
  },
  {
   "cell_type": "code",
   "execution_count": 194,
   "id": "b47cb15f-fbc5-46d2-8e77-f44649fc806d",
   "metadata": {},
   "outputs": [
    {
     "data": {
      "text/plain": [
       "array([ 0,  1,  5,  6,  7,  8, 15, 16, 17, 18, 27, 28, 29, 30, 38, 39, 40,\n",
       "       41, 44, 45, 46, 47, 53, 54, 55, 56, 63, 64, 65, 66, 75, 76, 77, 78,\n",
       "       80, 81, 82, 83, 86, 87, 88, 89, 92, 93, 94])"
      ]
     },
     "execution_count": 194,
     "metadata": {},
     "output_type": "execute_result"
    }
   ],
   "source": [
    "#get matches with overlapping nitrogens for cluster identification (this method will not get the C-terminal amino acid)\n",
    "amino_acid_n = 'NCC(=O)N'\n",
    "matches_n = peptide.GetSubstructMatches(Chem.MolFromSmiles(amino_acid_n),useChirality=True)\n",
    "matches_n = [match_n for match_n in matches_n]\n",
    "\n",
    "#get matches with overlapping carboynl oxygens for cluster identification (this method will not get the N-terminal amino acid)\n",
    "amino_acid_c = 'O=CCNC'\n",
    "matches_c = peptide.GetSubstructMatches(Chem.MolFromSmiles(amino_acid_c),useChirality=True)\n",
    "\n",
    "#find matches that aren't prolines\n",
    "if len(proline_matches) == 0:\n",
    "    matches_without_prolines = matches\n",
    "    matches_n_no_prolines = matches_n\n",
    "    matches_c_no_prolines = matches_c\n",
    "    backbone_atoms = np.hstack(np.unique(np.concatenate((np.hstack(matches_n_no_prolines),np.hstack(matches_c_no_prolines),np.hstack(peptide.GetSubstructMatches(Chem.MolFromSmiles('NCC(O)=O'),useChirality=True))))))\n",
    "else:\n",
    "    matches_without_prolines = [match for match in matches if not any([x in np.hstack(proline_matches) for x in match])]\n",
    "    matches_n_no_prolines = [match for match in matches_n if sum([x in np.hstack(proline_matches) for x in match]) < 2]\n",
    "    matches_c_no_prolines = [match for match in matches_c if sum([x in np.hstack(proline_matches) for x in match]) < 2]\n",
    "    backbone_atoms = np.hstack(np.unique(np.concatenate((np.hstack(matches_n_no_prolines),np.hstack(matches_c_no_prolines),np.hstack(proline_matches),np.hstack(peptide.GetSubstructMatches(Chem.MolFromSmiles('NCC(O)=O'),useChirality=True))))))\n",
    "backbone_atoms"
   ]
  },
  {
   "cell_type": "code",
   "execution_count": 195,
   "id": "52e4fc9e-ac68-4d35-843a-8365a0193557",
   "metadata": {},
   "outputs": [
    {
     "data": {
      "text/plain": [
       "array([ 2,  3,  4,  9, 10, 11, 12, 13, 14, 19, 20, 21, 22, 23, 24, 25, 26,\n",
       "       31, 32, 33, 34, 35, 36, 37, 42, 43, 48, 49, 50, 51, 52, 57, 58, 59,\n",
       "       60, 61, 62, 67, 68, 69, 70, 71, 72, 73, 74, 79, 84, 85, 90, 91])"
      ]
     },
     "execution_count": 195,
     "metadata": {},
     "output_type": "execute_result"
    }
   ],
   "source": [
    "#split up side chain atoms and backbone atoms\n",
    "sidechain_atoms = np.setdiff1d(np.array(range(1,peptide.GetNumAtoms())),backbone_atoms)\n",
    "sidechain_atoms\n",
    "# sidechain_atoms"
   ]
  },
  {
   "cell_type": "code",
   "execution_count": 196,
   "id": "5ee983e5-101b-4af1-a27b-c60f5671ff49",
   "metadata": {},
   "outputs": [],
   "source": [
    "matches_double_overlap = peptide.GetSubstructMatches(Chem.MolFromSmiles('NCC(NCC=O)=O'),useChirality=True)\n",
    "matches_double_overlap = [m for m in matches_double_overlap if not any([x in sidechain_atoms for x in m])]\n",
    "count = Counter(np.hstack(matches_double_overlap))\n",
    "matches_double_overlap = [m for m in matches_double_overlap if not all(count[x] > 1 for x in m )]\n",
    "if len(matches_double_overlap) == 2:\n",
    "    n_terminus = [x for x in matches_double_overlap[0] if count[x] == 1]\n",
    "    c_terminus = [x for x in matches_double_overlap[1] if count[x] == 1]\n",
    "else:\n",
    "    print('could not identify termini correctly')"
   ]
  },
  {
   "cell_type": "code",
   "execution_count": 197,
   "id": "75f91bd6-0323-4470-ba5c-3c0faa6a631e",
   "metadata": {},
   "outputs": [
    {
     "data": {
      "text/plain": [
       "array([0, 1, 5, 6])"
      ]
     },
     "execution_count": 197,
     "metadata": {},
     "output_type": "execute_result"
    }
   ],
   "source": [
    "#identify the termini clusters\n",
    "#nterm cluster\n",
    "if len(proline_matches) != 0:\n",
    "    if any([x in np.hstack(proline_matches) for x in n_terminus]): #n_terminus is a proline\n",
    "        n_terminus = [np.array(proline) for proline in proline_matches if any([x in n_terminus for x in proline])][0]\n",
    "else: #n_terminus is not a proline\n",
    "    n_terminus = [np.array(match) for match in matches if any([x in n_terminus for x in match])][0]\n",
    "n_terminus\n"
   ]
  },
  {
   "cell_type": "code",
   "execution_count": 198,
   "id": "3e2d3a14-04ef-48d6-bcc9-5b30bccf9b83",
   "metadata": {},
   "outputs": [
    {
     "data": {
      "text/plain": [
       "array([86, 88, 89, 92, 93, 94])"
      ]
     },
     "execution_count": 198,
     "metadata": {},
     "output_type": "execute_result"
    }
   ],
   "source": [
    "#cterm cluster\n",
    "if len(proline_matches) != 0:\n",
    "    if any([x in np.hstack(proline_matches) for x in c_terminus]):\n",
    "        c_terminus = np.array(peptide.GetSubstructMatches(Chem.MolFromSmiles('CN1[C@H](C(O)=O)CCC1'),useChirality=True))[0]\n",
    "else: #c terminus is not a proline\n",
    "    c_terminus = np.array(peptide.GetSubstructMatches(Chem.MolFromSmiles('CNCC(=O)O'),useChirality=True))[0]\n",
    "c_terminus"
   ]
  },
  {
   "cell_type": "code",
   "execution_count": 199,
   "id": "0cab7766-918d-40d2-99a0-6ec49ab2485d",
   "metadata": {},
   "outputs": [
    {
     "data": {
      "text/plain": [
       "[]"
      ]
     },
     "execution_count": 199,
     "metadata": {},
     "output_type": "execute_result"
    }
   ],
   "source": [
    "#non-terminus prolines\n",
    "prolines_non_terminal = [proline for proline in proline_matches if not any([(x in c_terminus) or (x in n_terminus) for x in proline])]\n",
    "if len(prolines_non_terminal) > 0:\n",
    "    prolines_not_terminal_overlap = peptide.GetSubstructMatches(Chem.MolFromSmiles('O=CC1CCCN1C'),useChirality=True)\n",
    "    prolines_not_terminal_overlap = [proline for proline in prolines_not_terminal_overlap if any([x in np.hstack(prolines_non_terminal) for x in proline])]\n",
    "else:\n",
    "    prolines_not_terminal_overlap = []\n",
    "prolines_not_terminal_overlap"
   ]
  },
  {
   "cell_type": "code",
   "execution_count": 217,
   "id": "a751ee95-cc22-486a-911f-73d2866d330e",
   "metadata": {},
   "outputs": [
    {
     "data": {
      "text/plain": [
       "[(16, 15, 8, 7, 5),\n",
       " (28, 27, 18, 17, 15),\n",
       " (39, 38, 30, 29, 27),\n",
       " (45, 44, 41, 40, 38),\n",
       " (54, 53, 47, 46, 44),\n",
       " (64, 63, 56, 55, 53),\n",
       " (76, 75, 66, 65, 63),\n",
       " (81, 80, 78, 77, 75),\n",
       " (87, 86, 83, 82, 80),\n",
       " (86, 88, 89, 92, 93, 94),\n",
       " (0, 1, 5, 6)]"
      ]
     },
     "execution_count": 217,
     "metadata": {},
     "output_type": "execute_result"
    }
   ],
   "source": [
    "clusters = list()\n",
    "[clusters.append(match) for match in matches_c_no_prolines if sum([x in c_terminus for x in match]) < 2]\n",
    "clusters.append(tuple(c_terminus))\n",
    "clusters.append(tuple(n_terminus))\n",
    "[clusters.append(proline) for proline in prolines_not_terminal_overlap]\n",
    "clusters"
   ]
  },
  {
   "cell_type": "code",
   "execution_count": 218,
   "id": "fba9b6bf-f77e-4fee-a10d-087bc0d452de",
   "metadata": {},
   "outputs": [
    {
     "data": {
      "text/plain": [
       "array([ 1,  8, 18, 30, 41, 47, 56, 66, 78, 83, 89])"
      ]
     },
     "execution_count": 218,
     "metadata": {},
     "output_type": "execute_result"
    }
   ],
   "source": [
    "c_alphas = np.array(matches)[:,1]\n",
    "c_alphas_neighbors = [peptide.GetAtomWithIdx(int(x)).GetNeighbors() for x in c_alphas]\n",
    "sidechain_atoms_with_calphas = np.union1d(sidechain_atoms,c_alphas)\n",
    "# sidechain_atoms_with_calphas\n",
    "backbone_atoms_without_calphas = np.setdiff1d(backbone_atoms,c_alphas)\n",
    "# backbone_atoms_without_calphas\n",
    "c_alphas"
   ]
  },
  {
   "cell_type": "code",
   "execution_count": 219,
   "id": "6e8d2107-133b-4d6b-86cb-fce5d8524c21",
   "metadata": {},
   "outputs": [
    {
     "name": "stdout",
     "output_type": "stream",
     "text": [
      "starting c_alpha atom index: 1\n",
      "new stapled residue c_alpha atom found, index: 1\n",
      "complete mapped side chain: [2, 1, 3, 4]\n",
      "starting c_alpha atom index: 8\n",
      "new stapled residue c_alpha atom found, index: 8\n",
      "new stapled residue c_alpha atom found, index: 41\n",
      "complete mapped side chain: [9, 8, 10, 11, 12, 13, 14, 43, 42, 41]\n",
      "starting c_alpha atom index: 18\n",
      "new stapled residue c_alpha atom found, index: 18\n",
      "complete mapped side chain: [19, 18, 20, 21, 26, 22, 25, 23, 24]\n",
      "starting c_alpha atom index: 30\n",
      "new stapled residue c_alpha atom found, index: 30\n",
      "complete mapped side chain: [31, 30, 32, 33, 34, 35, 36, 37]\n",
      "starting c_alpha atom index: 41\n",
      "new stapled residue c_alpha atom found, index: 41\n",
      "new stapled residue c_alpha atom found, index: 8\n",
      "complete mapped side chain: [42, 41, 43, 13, 12, 11, 14, 10, 9, 8]\n",
      "starting c_alpha atom index: 47\n",
      "new stapled residue c_alpha atom found, index: 47\n",
      "complete mapped side chain: [48, 47, 49, 50, 51, 52]\n",
      "starting c_alpha atom index: 56\n",
      "new stapled residue c_alpha atom found, index: 56\n",
      "new stapled residue c_alpha atom found, index: 83\n",
      "complete mapped side chain: [57, 56, 58, 59, 60, 61, 62, 85, 84, 83]\n",
      "starting c_alpha atom index: 66\n",
      "new stapled residue c_alpha atom found, index: 66\n",
      "complete mapped side chain: [67, 66, 68, 69, 74, 70, 73, 71, 72]\n",
      "starting c_alpha atom index: 78\n",
      "new stapled residue c_alpha atom found, index: 78\n",
      "complete mapped side chain: [79, 78]\n",
      "starting c_alpha atom index: 83\n",
      "new stapled residue c_alpha atom found, index: 83\n",
      "new stapled residue c_alpha atom found, index: 56\n",
      "complete mapped side chain: [84, 83, 85, 61, 60, 59, 62, 58, 57, 56]\n",
      "starting c_alpha atom index: 89\n",
      "new stapled residue c_alpha atom found, index: 89\n",
      "complete mapped side chain: [90, 89, 91]\n"
     ]
    },
    {
     "data": {
      "text/plain": [
       "[(16, 15, 8, 7, 5),\n",
       " (28, 27, 18, 17, 15),\n",
       " (39, 38, 30, 29, 27),\n",
       " (45, 44, 41, 40, 38),\n",
       " (54, 53, 47, 46, 44),\n",
       " (64, 63, 56, 55, 53),\n",
       " (76, 75, 66, 65, 63),\n",
       " (81, 80, 78, 77, 75),\n",
       " (87, 86, 83, 82, 80),\n",
       " (86, 88, 89, 92, 93, 94),\n",
       " (0, 1, 5, 6),\n",
       " (2, 1, 3, 4),\n",
       " (9, 8, 10, 11, 12, 13, 14, 43, 42, 41),\n",
       " (19, 18, 20, 21, 26, 22, 25, 23, 24),\n",
       " (31, 30, 32, 33, 34, 35, 36, 37),\n",
       " (48, 47, 49, 50, 51, 52),\n",
       " (57, 56, 58, 59, 60, 61, 62, 85, 84, 83),\n",
       " (67, 66, 68, 69, 74, 70, 73, 71, 72),\n",
       " (79, 78),\n",
       " (90, 89, 91)]"
      ]
     },
     "execution_count": 219,
     "metadata": {},
     "output_type": "execute_result"
    }
   ],
   "source": [
    "##recursively identify alpha carbons, and map the atom indices that contain their side chains\n",
    "\n",
    "\n",
    "for index,c_alpha in enumerate(c_alphas):\n",
    "    c_alpha_neighbors = peptide.GetAtomWithIdx(int(c_alpha)).GetNeighbors()\n",
    "    print('starting c_alpha atom index: ' + str(c_alpha))\n",
    "    # print('neighbor indices: ' +str([neighbor.GetIdx() for neighbor in c_alpha_neighbors]))\n",
    "    # print('neighbor atomic masses: ' + str([neighbor.GetAtomicNum() for neighbor in c_alpha_neighbors]))\n",
    "    # print('starting atoms: ' + str([c_alpha_neighbor.GetIdx() for c_alpha_neighbor in c_alpha_neighbors]))\n",
    "    # if c_alpha in c_terminus:\n",
    "    #     print('c terminus skipped: ' + str(c_alpha))\n",
    "    #     continue\n",
    "    if len(proline_matches) != 0 :\n",
    "        if c_alpha in np.hstack(proline_matches):\n",
    "            print('skipped proline')\n",
    "        continue\n",
    "    for neighbor in c_alpha_neighbors:\n",
    "        if (neighbor.GetIdx() not in backbone_atoms) and (neighbor.GetAtomicNum() == 6):\n",
    "            # print('starting side chain atom: '+str(neighbor.GetIdx()) + ', atomic num: ' + str(neighbor.GetAtomicNum()))\n",
    "            side_chain_atoms = np.array([neighbor.GetIdx()])\n",
    "            new_neighbors = neighbor.GetNeighbors()\n",
    "            # print('starting neighbor atom(s): ' + str([new_neighbor.GetIdx() for new_neighbor in new_neighbors]) + ', atomic num(s): ' + str([new_neighbor.GetAtomicNum() for new_neighbor in new_neighbors]))\n",
    "            atoms_to_examine = np.array([])\n",
    "            while(len(new_neighbors) > 0):\n",
    "                for new_neighbor in new_neighbors:\n",
    "                    if (new_neighbor.GetIdx() in c_alphas) and (new_neighbor.GetIdx() not in sidechain_atoms):\n",
    "                        print('new stapled residue c_alpha atom found, index: ' + str(new_neighbor.GetIdx()))\n",
    "                        side_chain_atoms = np.append(side_chain_atoms,new_neighbor.GetIdx())\n",
    "                    elif (new_neighbor.GetIdx() not in side_chain_atoms) and (new_neighbor.GetIdx() not in backbone_atoms):\n",
    "                        # print('new neighbor atom found, index: ' + str(new_neighbor.GetIdx()))\n",
    "                        side_chain_atoms = np.append(side_chain_atoms,new_neighbor.GetIdx())\n",
    "                        # print('side_chain_atom(s): ' + str(side_chain_atoms))\n",
    "                        atoms_to_examine = np.append(atoms_to_examine,new_neighbor.GetIdx())\n",
    "                        # print('atom(s) to examine: ' + str(atoms_to_examine))\n",
    "                    elif new_neighbor.GetIdx()  in side_chain_atoms:\n",
    "                        # print('already found this atom in side chain: ' + str(new_neighbor.GetIdx()))\n",
    "                        continue\n",
    "                    elif new_neighbor.GetIdx() in backbone_atoms:\n",
    "                        # print('already found this atom in back bone: ' + str(new_neighbor.GetIdx()))\n",
    "                        continue\n",
    "                if len(atoms_to_examine) == 0:\n",
    "                    # print('no new atoms to explore')\n",
    "                    break\n",
    "                else:\n",
    "                    new_neighbors = np.hstack([peptide.GetAtomWithIdx(int(atom)).GetNeighbors() for atom in atoms_to_examine])\n",
    "                    # print('new neighbors to investigate: ' + str([new_neighbor.GetIdx() for new_neighbor in new_neighbors]))\n",
    "                    atoms_to_examine = np.array([])\n",
    "            print('complete mapped side chain: ' + str([x for x in side_chain_atoms]))\n",
    "            if sum([x in np.hstack(clusters) for x in side_chain_atoms]) < 3:\n",
    "                clusters.append(tuple([x for x in side_chain_atoms]))\n",
    "\n",
    "clusters\n",
    "# [peptide.GetAtomWithIdx(x).GetNeighbors() for x in c_alphas]"
   ]
  },
  {
   "cell_type": "code",
   "execution_count": 220,
   "id": "ed35c42a-e485-470b-bfed-2860dc546813",
   "metadata": {},
   "outputs": [
    {
     "data": {
      "text/plain": [
       "[[10],\n",
       " [10, 11],\n",
       " [11],\n",
       " [11],\n",
       " [11],\n",
       " [0, 10],\n",
       " [10],\n",
       " [0],\n",
       " [0, 12],\n",
       " [12],\n",
       " [12],\n",
       " [12],\n",
       " [12],\n",
       " [12],\n",
       " [12],\n",
       " [0, 1],\n",
       " [0],\n",
       " [1],\n",
       " [1, 13],\n",
       " [13],\n",
       " [13],\n",
       " [13],\n",
       " [13],\n",
       " [13],\n",
       " [13],\n",
       " [13],\n",
       " [13],\n",
       " [1, 2],\n",
       " [1],\n",
       " [2],\n",
       " [2, 14],\n",
       " [14],\n",
       " [14],\n",
       " [14],\n",
       " [14],\n",
       " [14],\n",
       " [14],\n",
       " [14],\n",
       " [2, 3],\n",
       " [2],\n",
       " [3],\n",
       " [3, 12],\n",
       " [12],\n",
       " [12],\n",
       " [3, 4],\n",
       " [3],\n",
       " [4],\n",
       " [4, 15],\n",
       " [15],\n",
       " [15],\n",
       " [15],\n",
       " [15],\n",
       " [15],\n",
       " [4, 5],\n",
       " [4],\n",
       " [5],\n",
       " [5, 16],\n",
       " [16],\n",
       " [16],\n",
       " [16],\n",
       " [16],\n",
       " [16],\n",
       " [16],\n",
       " [5, 6],\n",
       " [5],\n",
       " [6],\n",
       " [6, 17],\n",
       " [17],\n",
       " [17],\n",
       " [17],\n",
       " [17],\n",
       " [17],\n",
       " [17],\n",
       " [17],\n",
       " [17],\n",
       " [6, 7],\n",
       " [6],\n",
       " [7],\n",
       " [7, 18],\n",
       " [18],\n",
       " [7, 8],\n",
       " [7],\n",
       " [8],\n",
       " [8, 16],\n",
       " [16],\n",
       " [16],\n",
       " [8, 9],\n",
       " [8],\n",
       " [9],\n",
       " [9, 19],\n",
       " [19],\n",
       " [19],\n",
       " [9],\n",
       " [9],\n",
       " [9]]"
      ]
     },
     "execution_count": 220,
     "metadata": {},
     "output_type": "execute_result"
    }
   ],
   "source": [
    "#get atom_cls\n",
    "atom_cls = [[] for i in range(len(peptide.GetAtoms()))]\n",
    "for i in range(len(clusters)):\n",
    "    for atom in clusters[i]:\n",
    "        atom_cls[atom].append(i)\n",
    "atom_cls"
   ]
  },
  {
   "cell_type": "code",
   "execution_count": 221,
   "id": "ca0da4e0-2deb-4f23-ba2f-43366cdc1d80",
   "metadata": {},
   "outputs": [],
   "source": [
    "graph = nx.empty_graph( len(clusters) )\n",
    "for atom, nei_cls in enumerate(atom_cls):\n",
    "    if len(nei_cls) <= 1: continue\n",
    "    bonds = [c for c in nei_cls if len(clusters[c]) == 2]\n",
    "    rings = [c for c in nei_cls if len(clusters[c]) > 4] #need to change to 2\n",
    "\n",
    "    if len(nei_cls) > 2 and len(bonds) >= 2:\n",
    "        clusters.append([atom])\n",
    "        c2 = len(clusters) - 1\n",
    "        graph.add_node(c2)\n",
    "        for c1 in nei_cls:\n",
    "            graph.add_edge(c1, c2, weight = 100)\n",
    "\n",
    "    elif len(rings) > 2: #Bee Hives, len(nei_cls) > 2 \n",
    "        clusters.append([atom]) #temporary value, need to change\n",
    "        c2 = len(clusters) - 1\n",
    "        graph.add_node(c2)\n",
    "        for c1 in nei_cls:\n",
    "            graph.add_edge(c1, c2, weight = 100)\n",
    "    else:\n",
    "        for i,c1 in enumerate(nei_cls):\n",
    "            for c2 in nei_cls[i + 1:]:\n",
    "                inter = set(clusters[c1]) & set(clusters[c2])\n",
    "                graph.add_edge(c1, c2, weight = len(inter))\n",
    "\n",
    "n, m = len(graph.nodes), len(graph.edges)"
   ]
  },
  {
   "cell_type": "code",
   "execution_count": 222,
   "id": "81ff7f20-72e0-4f47-93f2-adf116f7ead9",
   "metadata": {},
   "outputs": [
    {
     "data": {
      "image/png": "[encoded data removed]",
      "text/plain": [
       "<Figure size 640x480 with 1 Axes>"
      ]
     },
     "metadata": {},
     "output_type": "display_data"
    }
   ],
   "source": [
    "nx.draw(graph,with_labels=True)\n",
    "plt.show()"
   ]
  },
  {
   "cell_type": "code",
   "execution_count": 223,
   "id": "92d0b620-2d9c-4b51-b1e2-31f524587257",
   "metadata": {},
   "outputs": [
    {
     "data": {
      "text/plain": [
       "-1"
      ]
     },
     "execution_count": 223,
     "metadata": {},
     "output_type": "execute_result"
    }
   ],
   "source": [
    "n-m"
   ]
  },
  {
   "cell_type": "code",
   "execution_count": 226,
   "id": "cecda9fa-4071-4eb6-9f59-9f80e5cdeffb",
   "metadata": {},
   "outputs": [
    {
     "name": "stdout",
     "output_type": "stream",
     "text": [
      "skipped proline\n"
     ]
    }
   ],
   "source": [
    "peptide = 'N[C@@H](CCC(=O)N)C(=O)N[C@@H](CSCC(C3)=O)C(=O)N[C@@H](C)C(=O)N[C@@H](CO)C(=O)N[C@@H](CSCC(C4)=O)C(=O)N[C@@H](CS3)C(=O)N[C@@H](Cc1ccc(O)cc1)C(=O)N[C@@H](CCCNC(=N)N)C(=O)N[C@@H](CS4)C(=O)N1[C@@H](CCC1)C(=O)O'\n",
    "mol = get_mol(peptide)\n",
    "n_atoms = mol.GetNumAtoms()\n",
    "if n_atoms == 1: #special case\n",
    "    print('1 atom')\n",
    "\n",
    "#separately define proline, because the backbone creates double recognition\n",
    "proline = 'O=CC1CCCN1'\n",
    "proline_matches = mol.GetSubstructMatches(Chem.MolFromSmiles(proline),useChirality=True)\n",
    "\n",
    "#find all amino acids\n",
    "amino_acid_motif = 'NCC=O'\n",
    "matches = mol.GetSubstructMatches(Chem.MolFromSmiles(amino_acid_motif),useChirality=True)\n",
    "\n",
    "#get matches with overlapping nitrogens for cluster identification (this method will not get the C-terminal amino acid)\n",
    "amino_acid_n = 'NCC(=O)N'\n",
    "matches_n = mol.GetSubstructMatches(Chem.MolFromSmiles(amino_acid_n),useChirality=True)\n",
    "matches_n = [match_n for match_n in matches_n]\n",
    "\n",
    "#get matches with overlapping carboynl oxygens for cluster identification (this method will not get the N-terminal amino acid)\n",
    "amino_acid_c = 'O=CCNC'\n",
    "matches_c = mol.GetSubstructMatches(Chem.MolFromSmiles(amino_acid_c),useChirality=True)\n",
    "\n",
    "#find matches that aren't prolines\n",
    "if len(proline_matches) == 0:\n",
    "    matches_without_prolines = matches\n",
    "    matches_n_no_prolines = matches_n\n",
    "    matches_c_no_prolines = matches_c\n",
    "    backbone_atoms = np.hstack(np.unique(np.concatenate((np.hstack(matches_n_no_prolines),np.hstack(matches_c_no_prolines),np.hstack(mol.GetSubstructMatches(Chem.MolFromSmiles('NCC(O)=O'),useChirality=True))))))\n",
    "else:\n",
    "    matches_without_prolines = [match for match in matches if not any([x in np.hstack(proline_matches) for x in match])]\n",
    "    matches_n_no_prolines = [match for match in matches_n if sum([x in np.hstack(proline_matches) for x in match]) < 2]\n",
    "    matches_c_no_prolines = [match for match in matches_c if sum([x in np.hstack(proline_matches) for x in match]) < 2]\n",
    "    backbone_atoms = np.hstack(np.unique(np.concatenate((np.hstack(matches_n_no_prolines),np.hstack(matches_c_no_prolines),np.hstack(proline_matches),np.hstack(mol.GetSubstructMatches(Chem.MolFromSmiles('NCC(O)=O'),useChirality=True))))))\n",
    "\n",
    "#split up side chain atoms and backbone atoms\n",
    "sidechain_atoms = np.setdiff1d(np.array(range(1,n_atoms)),backbone_atoms)\n",
    "\n",
    "#identify the c and n terminus by finding where the amino acid backbone begins and ends\n",
    "matches_double_overlap = mol.GetSubstructMatches(Chem.MolFromSmiles('NCC(NCC=O)=O'),useChirality=True)\n",
    "matches_double_overlap = [m for m in matches_double_overlap if not any([x in sidechain_atoms for x in m])]\n",
    "count = Counter(np.hstack(matches_double_overlap))\n",
    "matches_double_overlap = [m for m in matches_double_overlap if not all(count[x] > 1 for x in m )]\n",
    "if len(matches_double_overlap) == 2:\n",
    "    n_terminus = [x for x in matches_double_overlap[0] if count[x] == 1]\n",
    "    c_terminus = [x for x in matches_double_overlap[1] if count[x] == 1]\n",
    "else:\n",
    "    print('could not identify termini correctly')\n",
    "\n",
    "#identify the termini clusters\n",
    "#nterm cluster\n",
    "if len(proline_matches) != 0:\n",
    "    if any([x in np.hstack(proline_matches) for x in n_terminus]): #n_terminus is a proline\n",
    "        n_terminus = [np.array(proline) for proline in proline_matches if any([x in n_terminus for x in proline])][0]\n",
    "else: #n_terminus is not a proline\n",
    "    n_terminus = [np.array(match) for match in matches if any([x in n_terminus for x in match])][0]\n",
    "\n",
    "#cterm cluster\n",
    "if len(proline_matches) != 0:\n",
    "    if any([x in np.hstack(proline_matches) for x in c_terminus]):\n",
    "        c_terminus = np.array(mol.GetSubstructMatches(Chem.MolFromSmiles('CN1[C@H](C(O)=O)CCC1'),useChirality=True))[0]\n",
    "else: #c terminus is not a proline\n",
    "    c_terminus = np.array(mol.GetSubstructMatches(Chem.MolFromSmiles('CNCC(=O)O'),useChirality=True))[0]\n",
    "\n",
    "#non-terminus prolines\n",
    "prolines_non_terminal = [proline for proline in proline_matches if not any([(x in c_terminus) or (x in n_terminus) for x in proline])]\n",
    "if len(prolines_non_terminal) > 0:\n",
    "    prolines_not_terminal_overlap = mol.GetSubstructMatches(Chem.MolFromSmiles('O=CC1CCCN1C'),useChirality=True)\n",
    "    prolines_not_terminal_overlap = [proline for proline in prolines_not_terminal_overlap if any([x in np.hstack(prolines_non_terminal) for x in proline])]\n",
    "else:\n",
    "    prolines_not_terminal_overlap = []\n",
    "\n",
    "#define clusters from backbones, the termini, and any prolines\n",
    "clusters = list()\n",
    "[clusters.append(match) for match in matches_c_no_prolines if sum([x in c_terminus for x in match]) < 2]\n",
    "clusters.append(list(c_terminus))\n",
    "clusters.append(list(n_terminus))\n",
    "[clusters.append(proline) for proline in prolines_not_terminal_overlap]\n",
    "\n",
    "#define alpha carbons and sets of backbone/ sideatoms without and with them\n",
    "c_alphas = np.array(matches)[:,1]\n",
    "c_alphas_neighbors = [mol.GetAtomWithIdx(int(x)).GetNeighbors() for x in c_alphas]\n",
    "sidechain_atoms_with_calphas = np.union1d(sidechain_atoms,c_alphas)\n",
    "backbone_atoms_without_calphas = np.setdiff1d(backbone_atoms,c_alphas)\n",
    "\n",
    "##recursively identify alpha carbons, and map the atom indices that contain their side chains\n",
    "for index,c_alpha in enumerate(c_alphas): #iterate throguh each alpha carbon\n",
    "    c_alpha_neighbors = mol.GetAtomWithIdx(int(c_alpha)).GetNeighbors() #get the neighbors of given c_alpha. serves as starting point for molecular search\n",
    "    if len(proline_matches) != 0 :\n",
    "        if c_alpha in np.hstack(proline_matches):\n",
    "            continue\n",
    "    for neighbor in c_alpha_neighbors: #for each atom next to a c_alpha, traverse it if it's not a backbone atom and it's also a carbon\n",
    "        if (neighbor.GetIdx() not in backbone_atoms) and (neighbor.GetAtomicNum() == 6):\n",
    "            side_chain_atoms = np.array([neighbor.GetIdx()]) #define the side chain of this c_alpha as a set, starting over at each new c_alpha\n",
    "            new_neighbors = neighbor.GetNeighbors() # atoms to explore\n",
    "            atoms_to_examine = np.array([]) #next atoms to explore\n",
    "            while(len(new_neighbors) > 0): #if there are new neighbors from the previous step, proceed with side chain traversal\n",
    "                for new_neighbor in new_neighbors:\n",
    "                    if (new_neighbor.GetIdx() in c_alphas) and (new_neighbor.GetIdx() not in sidechain_atoms): #if the next atom is a c_alpha, include it (this works for non-stapled and stapled residues)\n",
    "                        side_chain_atoms = np.append(side_chain_atoms,new_neighbor.GetIdx())\n",
    "                    elif (new_neighbor.GetIdx() not in side_chain_atoms) and (new_neighbor.GetIdx() not in backbone_atoms): #if it's a regular side chain, add it, and all the new neighbors\n",
    "                        side_chain_atoms = np.append(side_chain_atoms,new_neighbor.GetIdx())\n",
    "                        atoms_to_examine = np.append(atoms_to_examine,new_neighbor.GetIdx())\n",
    "                    elif new_neighbor.GetIdx()  in side_chain_atoms: #skip previously explored side chain atoms\n",
    "                        continue\n",
    "                    elif new_neighbor.GetIdx() in backbone_atoms: #skip previously explored backbone atoms\n",
    "                        continue\n",
    "                if len(atoms_to_examine) == 0: #if there's no more atoms to examine, end traversal\n",
    "                    break\n",
    "                else:\n",
    "                    new_neighbors = np.hstack([mol.GetAtomWithIdx(int(atom)).GetNeighbors() for atom in atoms_to_examine]) #define the next step of neighbors as the atoms to examine\n",
    "                    atoms_to_examine = np.array([])\n",
    "            if sum([x in np.hstack(clusters) for x in side_chain_atoms]) < 3: #if most of this side chain has already been added as a cluster, do not add it (this commonly happens when a stapled side chain is traversed from both sides)\n",
    "                clusters.append(tuple([x for x in side_chain_atoms]))\n",
    "\n",
    "#for each atom in the molecule, find which clusters it's a part of\n",
    "atom_cls = [[] for i in range(n_atoms)]\n",
    "for i in range(len(clusters)):\n",
    "    for atom in clusters[i]:\n",
    "        atom_cls[atom].append(i)\n"
   ]
  },
  {
   "cell_type": "code",
   "execution_count": null,
   "id": "5c762e52-55c8-4278-9279-7a012a4a638b",
   "metadata": {},
   "outputs": [],
   "source": []
  }
 ],
 "metadata": {
  "kernelspec": {
   "display_name": "hgraph-rdkit",
   "language": "python",
   "name": "hgraph-rdkit"
  },
  "language_info": {
   "codemirror_mode": {
    "name": "ipython",
    "version": 3
   },
   "file_extension": ".py",
   "mimetype": "text/x-python",
   "name": "python",
   "nbconvert_exporter": "python",
   "pygments_lexer": "ipython3",
   "version": "3.7.6"
  }
 },
 "nbformat": 4,
 "nbformat_minor": 5
}
