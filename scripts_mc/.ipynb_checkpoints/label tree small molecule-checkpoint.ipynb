{
 "cells": [
  {
   "cell_type": "code",
   "execution_count": 1,
   "id": "ce564fd9-b271-45bf-8019-fd72db0cfeb9",
   "metadata": {},
   "outputs": [
    {
     "name": "stderr",
     "output_type": "stream",
     "text": [
      "/home/marcase/.conda/envs/hgraph-rdkit/lib/python3.7/site-packages/tqdm/auto.py:22: TqdmWarning: IProgress not found. Please update jupyter and ipywidgets. See https://ipywidgets.readthedocs.io/en/stable/user_install.html\n",
      "  from .autonotebook import tqdm as notebook_tqdm\n"
     ]
    }
   ],
   "source": [
    "##label_tree debugging, for small molecule\n",
    "#imports\n",
    "import multiprocessing\n",
    "from multiprocessing import Pool\n",
    "import math, random, sys\n",
    "import pickle\n",
    "import argparse\n",
    "from functools import partial\n",
    "import torch\n",
    "import numpy\n",
    "from rdkit import Chem\n",
    "from rdkit.Chem.Draw import IPythonConsole\n",
    "from rdkit.Chem import rdDepictor\n",
    "from rdkit.Chem.Draw import rdMolDraw2D\n",
    "from hgraph import MolGraph, common_atom_vocab, PairVocab\n",
    "import rdkit\n",
    "import rdkit.Chem as Chem\n",
    "import networkx as nx\n",
    "from hgraph.chemutils import *\n",
    "from hgraph.nnutils import *\n",
    "import numpy as np\n",
    "import matplotlib.pyplot as plt\n",
    "from IPython.display import SVG\n",
    "import time\n",
    "from rdkit.Chem import Draw\n",
    "import itertools\n",
    "from collections import Counter\n",
    "\n",
    "# IPythonConsole.drawOptions.addAtomIndices = True\n",
    "# IPythonConsole.molSize = 300,300"
   ]
  },
  {
   "cell_type": "code",
   "execution_count": 2,
   "id": "f2a607e8-6561-4735-aaaa-c16b950690d3",
   "metadata": {},
   "outputs": [],
   "source": [
    "#random molecule\n",
    "mol = 'CSc1ccccc1C(=O)Nc1ccc2c(c1)OCCO2'\n",
    "# mol = 'O=C(Nc1cc(OC2CO3)c3cc1)c4c(SCc5ccc(SCC2)cc5)cccc4'\n",
    "# mol = 'C12=CC=CC=C1C3=C(C=CC=C3)C4=C(C=CC=C4)C5=C2C=CC=C5'\n",
    "\n",
    "mol = get_mol(mol)\n",
    "\n",
    "\n",
    "n_atoms = mol.GetNumAtoms()\n",
    "if n_atoms == 1: #special case\n",
    "    print('one atom')\n",
    "\n",
    "clusters = []\n",
    "for bond in mol.GetBonds():\n",
    "    a1 = bond.GetBeginAtom().GetIdx()\n",
    "    a2 = bond.GetEndAtom().GetIdx()\n",
    "    if not bond.IsInRing():\n",
    "        clusters.append( (a1,a2) )\n",
    "\n",
    "ssr = [tuple(x) for x in Chem.GetSymmSSSR(mol)]\n",
    "clusters.extend(ssr)\n",
    "\n",
    "if 0 not in clusters[0]: #root is not node[0]\n",
    "    for i,cls in enumerate(clusters):\n",
    "        if 0 in cls:\n",
    "            clusters = [clusters[i]] + clusters[:i] + clusters[i+1:]\n",
    "            #clusters[i], clusters[0] = clusters[0], clusters[i]\n",
    "            break\n",
    "\n",
    "atom_cls = [[] for i in range(n_atoms)]\n",
    "for i in range(len(clusters)):\n",
    "    for atom in clusters[i]:\n",
    "        atom_cls[atom].append(i)"
   ]
  },
  {
   "cell_type": "code",
   "execution_count": 3,
   "id": "010250a6-0cb3-4e6e-812e-d881a2bac25e",
   "metadata": {},
   "outputs": [
    {
     "data": {
      "text/plain": [
       "[(0, 1),\n",
       " (1, 2),\n",
       " (7, 8),\n",
       " (8, 9),\n",
       " (8, 10),\n",
       " (10, 11),\n",
       " (2, 7, 6, 5, 4, 3),\n",
       " (12, 13, 14, 15, 16, 11),\n",
       " (17, 18, 19, 20, 14, 15)]"
      ]
     },
     "execution_count": 3,
     "metadata": {},
     "output_type": "execute_result"
    }
   ],
   "source": [
    "clusters"
   ]
  },
  {
   "cell_type": "code",
   "execution_count": 4,
   "id": "1e0476c7-a6e5-415a-b20a-ab4e2cb8e1b6",
   "metadata": {},
   "outputs": [
    {
     "data": {
      "text/plain": [
       "[[0],\n",
       " [0, 1],\n",
       " [1, 6],\n",
       " [6],\n",
       " [6],\n",
       " [6],\n",
       " [6],\n",
       " [2, 6],\n",
       " [2, 3, 4],\n",
       " [3],\n",
       " [4, 5],\n",
       " [5, 7],\n",
       " [7],\n",
       " [7],\n",
       " [7, 8],\n",
       " [7, 8],\n",
       " [7],\n",
       " [8],\n",
       " [8],\n",
       " [8],\n",
       " [8]]"
      ]
     },
     "execution_count": 4,
     "metadata": {},
     "output_type": "execute_result"
    }
   ],
   "source": [
    "atom_cls"
   ]
  },
  {
   "cell_type": "code",
   "execution_count": 5,
   "id": "09f15f47-2344-4e7d-90f5-1b09db674b40",
   "metadata": {},
   "outputs": [],
   "source": [
    "graph = nx.empty_graph( len(clusters) )\n",
    "for atom, nei_cls in enumerate(atom_cls):\n",
    "    if len(nei_cls) <= 1: continue\n",
    "    bonds = [c for c in nei_cls if len(clusters[c]) == 2]\n",
    "    rings = [c for c in nei_cls if len(clusters[c]) > 4] #need to change to 2\n",
    "\n",
    "    if len(nei_cls) > 2 and len(bonds) >= 2:\n",
    "        clusters.append([atom])\n",
    "        c2 = len(clusters) - 1\n",
    "        graph.add_node(c2)\n",
    "        for c1 in nei_cls:\n",
    "            graph.add_edge(c1, c2, weight = 100)\n",
    "\n",
    "    elif len(rings) > 2: #Bee Hives, len(nei_cls) > 2 \n",
    "        clusters.append([atom]) #temporary value, need to change\n",
    "        c2 = len(clusters) - 1\n",
    "        graph.add_node(c2)\n",
    "        for c1 in nei_cls:\n",
    "            graph.add_edge(c1, c2, weight = 100)\n",
    "    else:\n",
    "        for i,c1 in enumerate(nei_cls):\n",
    "            for c2 in nei_cls[i + 1:]:\n",
    "                inter = set(clusters[c1]) & set(clusters[c2])\n",
    "                graph.add_edge(c1, c2, weight = len(inter))\n",
    "\n",
    "n, m = len(graph.nodes), len(graph.edges)"
   ]
  },
  {
   "cell_type": "code",
   "execution_count": 6,
   "id": "44419eea-7bd3-486b-96d9-370a38de5fc6",
   "metadata": {},
   "outputs": [
    {
     "data": {
      "image/png": "[encoded data removed]",
      "text/plain": [
       "<Figure size 640x480 with 1 Axes>"
      ]
     },
     "metadata": {},
     "output_type": "display_data"
    }
   ],
   "source": [
    "nx.draw(graph,with_labels=True)\n",
    "plt.show()"
   ]
  },
  {
   "cell_type": "code",
   "execution_count": 57,
   "id": "7bde5ca8-7209-406f-9f57-e2c854f66215",
   "metadata": {},
   "outputs": [],
   "source": [
    "#dfs method from mol_graph original\n",
    "def dfs(order, pa, prev_sib, x, fa):\n",
    "    pa[x] = fa \n",
    "    sorted_child = sorted([ y for y in mol_tree[x] if y != fa ]) #better performance with fixed order\n",
    "    for idx,y in enumerate(sorted_child):\n",
    "        mol_tree[x][y]['label'] = 0 \n",
    "        mol_tree[y][x]['label'] = idx + 1 #position encoding\n",
    "        prev_sib[y] = sorted_child[:idx] \n",
    "        prev_sib[y] += [x, fa] if fa >= 0 else [x]\n",
    "        \n",
    "        # print('x: ' +str(x) + ', y: '+str(y))\n",
    "        if ((x,y,1) in order) or ((y,x,1) in order):\n",
    "            # print('trying to add duplicate path to order')\n",
    "            continue\n",
    "        else:\n",
    "            order.append( (x,y,1) )\n",
    "            dfs(order, pa, prev_sib, y, x)\n",
    "            # print((y,x,0))\n",
    "            order.append( (y,x,0) )"
   ]
  },
  {
   "cell_type": "code",
   "execution_count": 58,
   "id": "c275a564-db67-4bc3-aa31-e5996c6af9f4",
   "metadata": {},
   "outputs": [],
   "source": [
    "order, pa = [], {}\n",
    "mol_tree = nx.DiGraph(graph)\n",
    "prev_sib = [[] for i in range(len(clusters))]\n",
    "x = 0\n",
    "fa = -1\n",
    "\n",
    "# #step 1\n",
    "# pa[x] = fa\n",
    "# sorted_child = sorted([ y for y in mol_tree[x] if y != fa ])\n",
    "# for idx,y in enumerate(sorted_child):\n",
    "#     print(idx)\n",
    "#     print(y)\n",
    "#     mol_tree[x][y]['label'] = 0\n",
    "#     mol_tree[y][x]['label'] = idx + 1\n",
    "\n",
    "dfs(order,pa,prev_sib,x,fa)"
   ]
  },
  {
   "cell_type": "code",
   "execution_count": 59,
   "id": "49940675-67af-4372-b7ac-9458421b21d0",
   "metadata": {},
   "outputs": [
    {
     "data": {
      "text/plain": [
       "[(0, 1, 1),\n",
       " (1, 6, 1),\n",
       " (6, 2, 1),\n",
       " (2, 9, 1),\n",
       " (9, 3, 1),\n",
       " (3, 9, 0),\n",
       " (9, 4, 1),\n",
       " (4, 5, 1),\n",
       " (5, 7, 1),\n",
       " (7, 8, 1),\n",
       " (8, 7, 0),\n",
       " (7, 5, 0),\n",
       " (5, 4, 0),\n",
       " (4, 9, 0),\n",
       " (9, 2, 0),\n",
       " (2, 6, 0),\n",
       " (6, 1, 0),\n",
       " (1, 0, 0)]"
      ]
     },
     "execution_count": 59,
     "metadata": {},
     "output_type": "execute_result"
    }
   ],
   "source": [
    "order"
   ]
  },
  {
   "cell_type": "code",
   "execution_count": 60,
   "id": "71874147-8e98-4f07-840f-10d06c352b1b",
   "metadata": {},
   "outputs": [
    {
     "data": {
      "text/plain": [
       "{0: -1, 1: 0, 6: 1, 2: 6, 9: 2, 3: 9, 4: 9, 5: 4, 7: 5, 8: 7}"
      ]
     },
     "execution_count": 60,
     "metadata": {},
     "output_type": "execute_result"
    }
   ],
   "source": [
    "pa"
   ]
  },
  {
   "cell_type": "code",
   "execution_count": 62,
   "id": "2d099638-bddb-48d7-8a3f-20728abe8097",
   "metadata": {},
   "outputs": [
    {
     "data": {
      "text/plain": [
       "[[], [0], [6, 1], [9, 2], [3, 9, 2], [4, 9], [1, 0], [5, 4], [7, 5], [2, 6]]"
      ]
     },
     "execution_count": 62,
     "metadata": {},
     "output_type": "execute_result"
    }
   ],
   "source": [
    "prev_sib"
   ]
  },
  {
   "cell_type": "code",
   "execution_count": null,
   "id": "8e537aa9",
   "metadata": {},
   "outputs": [],
   "source": [
    "prev_sib"
   ]
  },
  {
   "cell_type": "code",
   "execution_count": null,
   "id": "6422056d",
   "metadata": {},
   "outputs": [],
   "source": [
    "fa"
   ]
  },
  {
   "cell_type": "code",
   "execution_count": null,
   "id": "6ef06427",
   "metadata": {},
   "outputs": [],
   "source": []
  },
  {
   "cell_type": "code",
   "execution_count": null,
   "id": "c188204a",
   "metadata": {},
   "outputs": [],
   "source": []
  },
  {
   "cell_type": "code",
   "execution_count": null,
   "id": "a3da98b8",
   "metadata": {},
   "outputs": [],
   "source": []
  }
 ],
 "metadata": {
  "kernelspec": {
   "display_name": "hgraph-rdkit",
   "language": "python",
   "name": "hgraph-rdkit"
  },
  "language_info": {
   "codemirror_mode": {
    "name": "ipython",
    "version": 3
   },
   "file_extension": ".py",
   "mimetype": "text/x-python",
   "name": "python",
   "nbconvert_exporter": "python",
   "pygments_lexer": "ipython3",
   "version": "3.7.6"
  }
 },
 "nbformat": 4,
 "nbformat_minor": 5
}
