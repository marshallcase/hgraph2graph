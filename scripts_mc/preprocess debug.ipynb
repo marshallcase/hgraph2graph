{
 "cells": [
  {
   "cell_type": "code",
   "execution_count": 1,
   "id": "62c152e6-f8d0-4758-8c0b-ebe0949d4509",
   "metadata": {},
   "outputs": [
    {
     "name": "stderr",
     "output_type": "stream",
     "text": [
      "/home/marcase/.conda/envs/hgraph-rdkit/lib/python3.7/site-packages/tqdm/auto.py:22: TqdmWarning: IProgress not found. Please update jupyter and ipywidgets. See https://ipywidgets.readthedocs.io/en/stable/user_install.html\n",
      "  from .autonotebook import tqdm as notebook_tqdm\n"
     ]
    }
   ],
   "source": [
    "from multiprocessing import Pool\n",
    "import math, random, sys\n",
    "sys.path.insert(0, '/home/marcase/hgraph2graph/')\n",
    "import pickle\n",
    "import argparse\n",
    "from functools import partial\n",
    "import torch\n",
    "import numpy\n",
    "from hgraph import MolGraph, common_atom_vocab, PairVocab\n",
    "import rdkit"
   ]
  },
  {
   "cell_type": "code",
   "execution_count": 24,
   "id": "dfc29a3b-d13c-4cbc-aecd-939614086f69",
   "metadata": {},
   "outputs": [],
   "source": [
    "def to_numpy(tensors):\n",
    "    convert = lambda x : x.numpy() if type(x) is torch.Tensor else x\n",
    "    a,b,c = tensors\n",
    "    b = [convert(x) for x in b[0]], [convert(x) for x in b[1]]\n",
    "    return a, b, c\n",
    "\n",
    "def tensorize(mol_batch, vocab,max_span_tree=True):\n",
    "    x = MolGraph.tensorize(mol_batch, vocab, common_atom_vocab,max_span_tree)\n",
    "    return to_numpy(x)"
   ]
  },
  {
   "cell_type": "code",
   "execution_count": 25,
   "id": "91f744fa-5aa9-4dc2-b0d2-8640c88d74c3",
   "metadata": {},
   "outputs": [
    {
     "data": {
      "text/plain": [
       "['CC',\n",
       " 'CC(C)C',\n",
       " 'CC(C)O',\n",
       " 'CCC(=O)O',\n",
       " 'CCC(C)C',\n",
       " 'CCC(N)=O',\n",
       " 'CCC1=CC=C(O)C=C1',\n",
       " 'CCC1=CC=CC=C1',\n",
       " 'CCC1=CN=CN1',\n",
       " 'CCC1=CNC2=C1C=CC=C2',\n",
       " 'CCCC(=O)O',\n",
       " 'CCCC(N)=O',\n",
       " 'CCCCCN',\n",
       " 'CCCCNC(=N)N',\n",
       " 'CCCSC',\n",
       " 'CCO',\n",
       " 'CCSCC(=O)CSCC',\n",
       " 'CN1CCCC1C(=O)O',\n",
       " 'CN1CCCC1C=O',\n",
       " 'CNCC(=O)O',\n",
       " 'CNCC=O',\n",
       " 'NCC=O',\n",
       " 'O=CC1CCCN1']"
      ]
     },
     "execution_count": 25,
     "metadata": {},
     "output_type": "execute_result"
    }
   ],
   "source": [
    "lg = rdkit.RDLogger.logger() \n",
    "lg.setLevel(rdkit.RDLogger.CRITICAL)\n",
    "\n",
    "vocab = '/home/marcase/hgraph2graph/data/cyclic_peptides/cyclic_vocab_new.txt'\n",
    "vocab = [x.strip(\"\\r\\n \").split() for x in open(vocab)]\n",
    "vocab = PairVocab(vocab)\n",
    "vocab.vocab[21][0]\n",
    "vocab.hvocab"
   ]
  },
  {
   "cell_type": "code",
   "execution_count": 26,
   "id": "a8ee652a-1444-41e2-9f55-d251439bba28",
   "metadata": {},
   "outputs": [],
   "source": [
    "class Args:\n",
    "    train = '/home/marcase/hgraph2graph/predict/X_train.txt'\n",
    "    train_labels = '/home/marcase/hgraph2graph/predict/y_train.txt'\n",
    "    test = '/home/marcase/hgraph2graph/predict/X_test.txt'\n",
    "    test_labels = '/home/marcase/hgraph2graph/predict/y_test.txt'\n",
    "    vocab = vocab\n",
    "    seed = 7\n",
    "    max_span_tree = True\n",
    "    ncpu = 16\n",
    "    mode = 'single'\n",
    "    batch_size = 32\n",
    "    \n",
    "args=Args()"
   ]
  },
  {
   "cell_type": "code",
   "execution_count": 27,
   "id": "b141a943-1c31-4ba2-9277-8d96d56ca21f",
   "metadata": {},
   "outputs": [],
   "source": [
    "pool = Pool(args.ncpu) \n",
    "random.seed(1)"
   ]
  },
  {
   "cell_type": "code",
   "execution_count": 28,
   "id": "1c0e2525-9aba-48c1-bc96-3bbfbc0290f7",
   "metadata": {},
   "outputs": [],
   "source": [
    "#dataset contains single molecules\n",
    "with open(args.train) as f:\n",
    "    data = [line.strip(\"\\r\\n \").split()[0] for line in f]\n",
    "with open(args.train_labels) as f:\n",
    "    data_labels = [int(line.strip(\"\\r\\n \").split()[0]) for line in f]"
   ]
  },
  {
   "cell_type": "code",
   "execution_count": 29,
   "id": "8bf6d26c-8d2a-4612-97b3-f8c536b30296",
   "metadata": {},
   "outputs": [],
   "source": [
    "random.shuffle(data)\n",
    "random.shuffle(data_labels)"
   ]
  },
  {
   "cell_type": "code",
   "execution_count": 30,
   "id": "e96bf234-bbe7-4e36-9fe6-022544edce9a",
   "metadata": {},
   "outputs": [],
   "source": [
    "batches = [data[i : i + args.batch_size] for i in range(0, len(data), args.batch_size)]\n",
    "batches_labels = [data_labels[i : i + args.batch_size] for i in range(0, len(data_labels), args.batch_size)]"
   ]
  },
  {
   "cell_type": "code",
   "execution_count": 31,
   "id": "5ec8663d-7de4-4a9c-ab8b-e45771e1254e",
   "metadata": {},
   "outputs": [
    {
     "name": "stdout",
     "output_type": "stream",
     "text": [
      "Batch 0 data: 32 labels: 32\n",
      "Batch 1 data: 32 labels: 32\n",
      "Batch 2 data: 32 labels: 32\n",
      "Batch 3 data: 32 labels: 32\n",
      "Batch 4 data: 32 labels: 32\n",
      "Batch 5 data: 32 labels: 32\n",
      "Batch 6 data: 32 labels: 32\n",
      "Batch 7 data: 32 labels: 32\n",
      "Batch 8 data: 32 labels: 32\n",
      "Batch 9 data: 32 labels: 32\n",
      "Batch 10 data: 32 labels: 32\n",
      "Batch 11 data: 32 labels: 32\n",
      "Batch 12 data: 32 labels: 32\n",
      "Batch 13 data: 32 labels: 32\n",
      "Batch 14 data: 32 labels: 32\n",
      "Batch 15 data: 32 labels: 32\n",
      "Batch 16 data: 32 labels: 32\n",
      "Batch 17 data: 32 labels: 32\n",
      "Batch 18 data: 32 labels: 32\n",
      "Batch 19 data: 32 labels: 32\n",
      "Batch 20 data: 32 labels: 32\n",
      "Batch 21 data: 32 labels: 32\n",
      "Batch 22 data: 32 labels: 32\n",
      "Batch 23 data: 32 labels: 32\n",
      "Batch 24 data: 32 labels: 32\n",
      "Batch 25 data: 32 labels: 32\n",
      "Batch 26 data: 32 labels: 32\n",
      "Batch 27 data: 32 labels: 32\n",
      "Batch 28 data: 32 labels: 32\n",
      "Batch 29 data: 32 labels: 32\n",
      "Batch 30 data: 32 labels: 32\n",
      "Batch 31 data: 32 labels: 32\n",
      "Batch 32 data: 32 labels: 32\n",
      "Batch 33 data: 32 labels: 32\n",
      "Batch 34 data: 32 labels: 32\n",
      "Batch 35 data: 32 labels: 32\n",
      "Batch 36 data: 32 labels: 32\n",
      "Batch 37 data: 32 labels: 32\n",
      "Batch 38 data: 32 labels: 32\n",
      "Batch 39 data: 32 labels: 32\n",
      "Batch 40 data: 32 labels: 32\n",
      "Batch 41 data: 32 labels: 32\n",
      "Batch 42 data: 32 labels: 32\n",
      "Batch 43 data: 32 labels: 32\n",
      "Batch 44 data: 32 labels: 32\n",
      "Batch 45 data: 32 labels: 32\n",
      "Batch 46 data: 32 labels: 32\n",
      "Batch 47 data: 32 labels: 32\n",
      "Batch 48 data: 32 labels: 32\n",
      "Batch 49 data: 32 labels: 32\n",
      "Batch 50 data: 32 labels: 32\n",
      "Batch 51 data: 32 labels: 32\n",
      "Batch 52 data: 32 labels: 32\n",
      "Batch 53 data: 32 labels: 32\n",
      "Batch 54 data: 32 labels: 32\n",
      "Batch 55 data: 32 labels: 32\n",
      "Batch 56 data: 32 labels: 32\n",
      "Batch 57 data: 32 labels: 32\n",
      "Batch 58 data: 32 labels: 32\n",
      "Batch 59 data: 32 labels: 32\n",
      "Batch 60 data: 32 labels: 32\n",
      "Batch 61 data: 32 labels: 32\n",
      "Batch 62 data: 32 labels: 32\n",
      "Batch 63 data: 32 labels: 32\n",
      "Batch 64 data: 32 labels: 32\n",
      "Batch 65 data: 32 labels: 32\n",
      "Batch 66 data: 32 labels: 32\n",
      "Batch 67 data: 32 labels: 32\n",
      "Batch 68 data: 32 labels: 32\n",
      "Batch 69 data: 32 labels: 32\n",
      "Batch 70 data: 32 labels: 32\n",
      "Batch 71 data: 32 labels: 32\n",
      "Batch 72 data: 32 labels: 32\n",
      "Batch 73 data: 32 labels: 32\n",
      "Batch 74 data: 32 labels: 32\n",
      "Batch 75 data: 32 labels: 32\n",
      "Batch 76 data: 32 labels: 32\n",
      "Batch 77 data: 32 labels: 32\n",
      "Batch 78 data: 32 labels: 32\n",
      "Batch 79 data: 32 labels: 32\n",
      "Batch 80 data: 32 labels: 32\n",
      "Batch 81 data: 32 labels: 32\n",
      "Batch 82 data: 32 labels: 32\n",
      "Batch 83 data: 32 labels: 32\n",
      "Batch 84 data: 29 labels: 29\n"
     ]
    }
   ],
   "source": [
    "for i in range(len(batches)):\n",
    "    print('Batch ' + str(i) + ' data: ' + str(len(batches[i])) + ' labels: ' + str(len(batches_labels[i])))"
   ]
  },
  {
   "cell_type": "code",
   "execution_count": 32,
   "id": "52d1139d-4f9c-4eb7-a274-bcac6a044664",
   "metadata": {},
   "outputs": [
    {
     "ename": "KeyboardInterrupt",
     "evalue": "",
     "output_type": "error",
     "traceback": [
      "\u001b[0;31m---------------------------------------------------------------------------\u001b[0m",
      "\u001b[0;31mKeyboardInterrupt\u001b[0m                         Traceback (most recent call last)",
      "\u001b[0;32m/tmp/ipykernel_612067/50205399.py\u001b[0m in \u001b[0;36m<module>\u001b[0;34m\u001b[0m\n\u001b[1;32m      1\u001b[0m \u001b[0mfunc\u001b[0m \u001b[0;34m=\u001b[0m \u001b[0mpartial\u001b[0m\u001b[0;34m(\u001b[0m\u001b[0mtensorize\u001b[0m\u001b[0;34m,\u001b[0m \u001b[0mvocab\u001b[0m \u001b[0;34m=\u001b[0m \u001b[0margs\u001b[0m\u001b[0;34m.\u001b[0m\u001b[0mvocab\u001b[0m\u001b[0;34m,\u001b[0m\u001b[0mmax_span_tree\u001b[0m\u001b[0;34m=\u001b[0m\u001b[0margs\u001b[0m\u001b[0;34m.\u001b[0m\u001b[0mmax_span_tree\u001b[0m\u001b[0;34m)\u001b[0m\u001b[0;34m\u001b[0m\u001b[0;34m\u001b[0m\u001b[0m\n\u001b[0;32m----> 2\u001b[0;31m \u001b[0mall_data\u001b[0m \u001b[0;34m=\u001b[0m \u001b[0mpool\u001b[0m\u001b[0;34m.\u001b[0m\u001b[0mmap\u001b[0m\u001b[0;34m(\u001b[0m\u001b[0mfunc\u001b[0m\u001b[0;34m,\u001b[0m \u001b[0mbatches\u001b[0m\u001b[0;34m)\u001b[0m\u001b[0;34m\u001b[0m\u001b[0;34m\u001b[0m\u001b[0m\n\u001b[0m",
      "\u001b[0;32m~/.conda/envs/hgraph-rdkit/lib/python3.7/multiprocessing/pool.py\u001b[0m in \u001b[0;36mmap\u001b[0;34m(self, func, iterable, chunksize)\u001b[0m\n\u001b[1;32m    266\u001b[0m         \u001b[0;32min\u001b[0m \u001b[0ma\u001b[0m \u001b[0mlist\u001b[0m \u001b[0mthat\u001b[0m \u001b[0;32mis\u001b[0m \u001b[0mreturned\u001b[0m\u001b[0;34m.\u001b[0m\u001b[0;34m\u001b[0m\u001b[0;34m\u001b[0m\u001b[0m\n\u001b[1;32m    267\u001b[0m         '''\n\u001b[0;32m--> 268\u001b[0;31m         \u001b[0;32mreturn\u001b[0m \u001b[0mself\u001b[0m\u001b[0;34m.\u001b[0m\u001b[0m_map_async\u001b[0m\u001b[0;34m(\u001b[0m\u001b[0mfunc\u001b[0m\u001b[0;34m,\u001b[0m \u001b[0miterable\u001b[0m\u001b[0;34m,\u001b[0m \u001b[0mmapstar\u001b[0m\u001b[0;34m,\u001b[0m \u001b[0mchunksize\u001b[0m\u001b[0;34m)\u001b[0m\u001b[0;34m.\u001b[0m\u001b[0mget\u001b[0m\u001b[0;34m(\u001b[0m\u001b[0;34m)\u001b[0m\u001b[0;34m\u001b[0m\u001b[0;34m\u001b[0m\u001b[0m\n\u001b[0m\u001b[1;32m    269\u001b[0m \u001b[0;34m\u001b[0m\u001b[0m\n\u001b[1;32m    270\u001b[0m     \u001b[0;32mdef\u001b[0m \u001b[0mstarmap\u001b[0m\u001b[0;34m(\u001b[0m\u001b[0mself\u001b[0m\u001b[0;34m,\u001b[0m \u001b[0mfunc\u001b[0m\u001b[0;34m,\u001b[0m \u001b[0miterable\u001b[0m\u001b[0;34m,\u001b[0m \u001b[0mchunksize\u001b[0m\u001b[0;34m=\u001b[0m\u001b[0;32mNone\u001b[0m\u001b[0;34m)\u001b[0m\u001b[0;34m:\u001b[0m\u001b[0;34m\u001b[0m\u001b[0;34m\u001b[0m\u001b[0m\n",
      "\u001b[0;32m~/.conda/envs/hgraph-rdkit/lib/python3.7/multiprocessing/pool.py\u001b[0m in \u001b[0;36mget\u001b[0;34m(self, timeout)\u001b[0m\n\u001b[1;32m    649\u001b[0m \u001b[0;34m\u001b[0m\u001b[0m\n\u001b[1;32m    650\u001b[0m     \u001b[0;32mdef\u001b[0m \u001b[0mget\u001b[0m\u001b[0;34m(\u001b[0m\u001b[0mself\u001b[0m\u001b[0;34m,\u001b[0m \u001b[0mtimeout\u001b[0m\u001b[0;34m=\u001b[0m\u001b[0;32mNone\u001b[0m\u001b[0;34m)\u001b[0m\u001b[0;34m:\u001b[0m\u001b[0;34m\u001b[0m\u001b[0;34m\u001b[0m\u001b[0m\n\u001b[0;32m--> 651\u001b[0;31m         \u001b[0mself\u001b[0m\u001b[0;34m.\u001b[0m\u001b[0mwait\u001b[0m\u001b[0;34m(\u001b[0m\u001b[0mtimeout\u001b[0m\u001b[0;34m)\u001b[0m\u001b[0;34m\u001b[0m\u001b[0;34m\u001b[0m\u001b[0m\n\u001b[0m\u001b[1;32m    652\u001b[0m         \u001b[0;32mif\u001b[0m \u001b[0;32mnot\u001b[0m \u001b[0mself\u001b[0m\u001b[0;34m.\u001b[0m\u001b[0mready\u001b[0m\u001b[0;34m(\u001b[0m\u001b[0;34m)\u001b[0m\u001b[0;34m:\u001b[0m\u001b[0;34m\u001b[0m\u001b[0;34m\u001b[0m\u001b[0m\n\u001b[1;32m    653\u001b[0m             \u001b[0;32mraise\u001b[0m \u001b[0mTimeoutError\u001b[0m\u001b[0;34m\u001b[0m\u001b[0;34m\u001b[0m\u001b[0m\n",
      "\u001b[0;32m~/.conda/envs/hgraph-rdkit/lib/python3.7/multiprocessing/pool.py\u001b[0m in \u001b[0;36mwait\u001b[0;34m(self, timeout)\u001b[0m\n\u001b[1;32m    646\u001b[0m \u001b[0;34m\u001b[0m\u001b[0m\n\u001b[1;32m    647\u001b[0m     \u001b[0;32mdef\u001b[0m \u001b[0mwait\u001b[0m\u001b[0;34m(\u001b[0m\u001b[0mself\u001b[0m\u001b[0;34m,\u001b[0m \u001b[0mtimeout\u001b[0m\u001b[0;34m=\u001b[0m\u001b[0;32mNone\u001b[0m\u001b[0;34m)\u001b[0m\u001b[0;34m:\u001b[0m\u001b[0;34m\u001b[0m\u001b[0;34m\u001b[0m\u001b[0m\n\u001b[0;32m--> 648\u001b[0;31m         \u001b[0mself\u001b[0m\u001b[0;34m.\u001b[0m\u001b[0m_event\u001b[0m\u001b[0;34m.\u001b[0m\u001b[0mwait\u001b[0m\u001b[0;34m(\u001b[0m\u001b[0mtimeout\u001b[0m\u001b[0;34m)\u001b[0m\u001b[0;34m\u001b[0m\u001b[0;34m\u001b[0m\u001b[0m\n\u001b[0m\u001b[1;32m    649\u001b[0m \u001b[0;34m\u001b[0m\u001b[0m\n\u001b[1;32m    650\u001b[0m     \u001b[0;32mdef\u001b[0m \u001b[0mget\u001b[0m\u001b[0;34m(\u001b[0m\u001b[0mself\u001b[0m\u001b[0;34m,\u001b[0m \u001b[0mtimeout\u001b[0m\u001b[0;34m=\u001b[0m\u001b[0;32mNone\u001b[0m\u001b[0;34m)\u001b[0m\u001b[0;34m:\u001b[0m\u001b[0;34m\u001b[0m\u001b[0;34m\u001b[0m\u001b[0m\n",
      "\u001b[0;32m~/.conda/envs/hgraph-rdkit/lib/python3.7/threading.py\u001b[0m in \u001b[0;36mwait\u001b[0;34m(self, timeout)\u001b[0m\n\u001b[1;32m    550\u001b[0m             \u001b[0msignaled\u001b[0m \u001b[0;34m=\u001b[0m \u001b[0mself\u001b[0m\u001b[0;34m.\u001b[0m\u001b[0m_flag\u001b[0m\u001b[0;34m\u001b[0m\u001b[0;34m\u001b[0m\u001b[0m\n\u001b[1;32m    551\u001b[0m             \u001b[0;32mif\u001b[0m \u001b[0;32mnot\u001b[0m \u001b[0msignaled\u001b[0m\u001b[0;34m:\u001b[0m\u001b[0;34m\u001b[0m\u001b[0;34m\u001b[0m\u001b[0m\n\u001b[0;32m--> 552\u001b[0;31m                 \u001b[0msignaled\u001b[0m \u001b[0;34m=\u001b[0m \u001b[0mself\u001b[0m\u001b[0;34m.\u001b[0m\u001b[0m_cond\u001b[0m\u001b[0;34m.\u001b[0m\u001b[0mwait\u001b[0m\u001b[0;34m(\u001b[0m\u001b[0mtimeout\u001b[0m\u001b[0;34m)\u001b[0m\u001b[0;34m\u001b[0m\u001b[0;34m\u001b[0m\u001b[0m\n\u001b[0m\u001b[1;32m    553\u001b[0m             \u001b[0;32mreturn\u001b[0m \u001b[0msignaled\u001b[0m\u001b[0;34m\u001b[0m\u001b[0;34m\u001b[0m\u001b[0m\n\u001b[1;32m    554\u001b[0m \u001b[0;34m\u001b[0m\u001b[0m\n",
      "\u001b[0;32m~/.conda/envs/hgraph-rdkit/lib/python3.7/threading.py\u001b[0m in \u001b[0;36mwait\u001b[0;34m(self, timeout)\u001b[0m\n\u001b[1;32m    294\u001b[0m         \u001b[0;32mtry\u001b[0m\u001b[0;34m:\u001b[0m    \u001b[0;31m# restore state no matter what (e.g., KeyboardInterrupt)\u001b[0m\u001b[0;34m\u001b[0m\u001b[0;34m\u001b[0m\u001b[0m\n\u001b[1;32m    295\u001b[0m             \u001b[0;32mif\u001b[0m \u001b[0mtimeout\u001b[0m \u001b[0;32mis\u001b[0m \u001b[0;32mNone\u001b[0m\u001b[0;34m:\u001b[0m\u001b[0;34m\u001b[0m\u001b[0;34m\u001b[0m\u001b[0m\n\u001b[0;32m--> 296\u001b[0;31m                 \u001b[0mwaiter\u001b[0m\u001b[0;34m.\u001b[0m\u001b[0macquire\u001b[0m\u001b[0;34m(\u001b[0m\u001b[0;34m)\u001b[0m\u001b[0;34m\u001b[0m\u001b[0;34m\u001b[0m\u001b[0m\n\u001b[0m\u001b[1;32m    297\u001b[0m                 \u001b[0mgotit\u001b[0m \u001b[0;34m=\u001b[0m \u001b[0;32mTrue\u001b[0m\u001b[0;34m\u001b[0m\u001b[0;34m\u001b[0m\u001b[0m\n\u001b[1;32m    298\u001b[0m             \u001b[0;32melse\u001b[0m\u001b[0;34m:\u001b[0m\u001b[0;34m\u001b[0m\u001b[0;34m\u001b[0m\u001b[0m\n",
      "\u001b[0;31mKeyboardInterrupt\u001b[0m: "
     ]
    }
   ],
   "source": [
    "func = partial(tensorize, vocab = args.vocab,max_span_tree=args.max_span_tree)\n",
    "all_data = pool.map(func, batches)"
   ]
  },
  {
   "cell_type": "code",
   "execution_count": null,
   "id": "3a10c466-7ca0-4b57-b3ac-6838bb726e15",
   "metadata": {},
   "outputs": [],
   "source": [
    "print(len(all_data))\n",
    "num_splits = len(all_data) // 1000\n",
    "if num_splits < 1000 and num_splits >= 100:\n",
    "    num_splits = len(all_data) // 100\n",
    "elif num_splits < 100:\n",
    "    num_splits = len(all_data) // 10\n",
    "print(num_splits)\n",
    "le = (len(all_data) + num_splits - 1) // num_splits\n",
    "\n",
    "for split_id in range(num_splits):\n",
    "    st = split_id * le\n",
    "    sub_data = all_data[st : st + le]\n",
    "\n",
    "    with open('tensors-%d.pkl' % split_id, 'wb') as f:\n",
    "        pickle.dump(sub_data, f, pickle.HIGHEST_PROTOCOL)"
   ]
  }
 ],
 "metadata": {
  "kernelspec": {
   "display_name": "hgraph-rdkit",
   "language": "python",
   "name": "hgraph-rdkit"
  },
  "language_info": {
   "codemirror_mode": {
    "name": "ipython",
    "version": 3
   },
   "file_extension": ".py",
   "mimetype": "text/x-python",
   "name": "python",
   "nbconvert_exporter": "python",
   "pygments_lexer": "ipython3",
   "version": "3.7.6"
  }
 },
 "nbformat": 4,
 "nbformat_minor": 5
}
