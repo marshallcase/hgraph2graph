{
 "cells": [
  {
   "cell_type": "code",
   "execution_count": 1,
   "id": "be937f4c-6df1-417b-92a7-424b642d8874",
   "metadata": {},
   "outputs": [
    {
     "name": "stderr",
     "output_type": "stream",
     "text": [
      "/home/marcase/.conda/envs/hgraph-rdkit/lib/python3.7/site-packages/tqdm/auto.py:22: TqdmWarning: IProgress not found. Please update jupyter and ipywidgets. See https://ipywidgets.readthedocs.io/en/stable/user_install.html\n",
      "  from .autonotebook import tqdm as notebook_tqdm\n"
     ]
    }
   ],
   "source": [
    "##vocab production script\n",
    "#imports\n",
    "import multiprocessing\n",
    "from multiprocessing import Pool\n",
    "import math, random, sys\n",
    "import pickle\n",
    "import argparse\n",
    "from functools import partial\n",
    "import torch\n",
    "import numpy\n",
    "from rdkit import Chem\n",
    "from rdkit.Chem.Draw import IPythonConsole\n",
    "from rdkit.Chem import rdDepictor\n",
    "from rdkit.Chem.Draw import rdMolDraw2D\n",
    "from hgraph import MolGraph, common_atom_vocab, PairVocab\n",
    "import rdkit\n",
    "import rdkit.Chem as Chem\n",
    "import networkx as nx\n",
    "from hgraph.chemutils import *\n",
    "from hgraph.nnutils import *\n",
    "import numpy as np\n",
    "import matplotlib.pyplot as plt\n",
    "from IPython.display import SVG\n",
    "import time\n",
    "from rdkit.Chem import Draw\n",
    "import itertools\n",
    "from collections import Counter\n",
    "\n",
    "# IPythonConsole.drawOptions.addAtomIndices = True\n",
    "# IPythonConsole.molSize = 300,300\n",
    "\n",
    "#test: this change should only appear in the 'peptide' branch"
   ]
  },
  {
   "cell_type": "code",
   "execution_count": 118,
   "id": "653df2d3-2348-40f5-a7fc-949181ef7094",
   "metadata": {},
   "outputs": [],
   "source": [
    "# peptide = 'OC(C[C@@H](C(N[C@H](C(N[C@H](C(N[C@H](C(NCC(N[C@H](C(N[C@@]([H])([C@@H](C)CC)C(N[C@@H](CC(C)C)C(N[C@H](C(N[C@H](C(N[C@@H](CC1=CC=CC=C1)C(N2CCC[C@H]2C(N[C@H](C(N[C@@]([C@H](O)C)(C(N[C@H](C(N[C@H](C(N[C@H](C(N[C@H](C(N[C@H](C(O)=O)CSC3)=O)CSCC3=O)=O)C(C)C)=O)CC4=CC=C(O)C=C4)=O)CC5=CNC6=C5C=CC=C6)=O)[H])=O)CO)=O)=O)=O)CCSC)=O)CCCCN[H])=O)=O)=O)CC7=CNC=N7)=O)=O)CCC(N)=O)=O)CCC(O)=O)=O)CS[H])=O)NC([C@@H](NC([C@@H](NC([C@H](C)NC(CN)=O)=O)CCCNC(N)=N)=O)CC(N)=O)=O)=O'\n",
    "#c term proline\n",
    "# peptide = 'N[C@@H]([C@]([H])(O)C)C(=O)N[C@@H](CSCC(C3)=O)C(=O)N[C@@H](C(C)C)C(=O)N1[C@@H](CCC1)C(=O)N[C@@H](CCC(=O)O)C(=O)N[C@@H](CC1=CN=C-N1)C(=O)N[C@@H](CS3)C(=O)N[C@@H](CO)C(=O)N[C@@H](CSCC(C3)=O)C(=O)N[C@@H](Cc1ccc(O)cc1)C(=O)N[C@@H](CCCNC(=N)N)C(=O)N[C@@H](CS3)C(=O)N1[C@@H](CCC1)C(=O)O'\n",
    "#n term proline\n",
    "peptide = 'N1[C@@H](CCC1)C(=O)N[C@@H](CSCC(C3)=O)C(=O)N[C@@H](CS3)C(=O)N[C@@H](C)C(=O)N[C@@H](CCCNC(=N)N)C(=O)N[C@@H](CSCC(C3)=O)C(=O)N1[C@@H](CCC1)C(=O)N[C@@H](CC(=CN2)C1=C2C=CC=C1)C(=O)N[C@@H](CC(=O)O)C(=O)N[C@@H](CC(=O)O)C(=O)N[C@@H](CS3)C(=O)N[C@@H](CCCNC(=N)N)C(=O)O'\n",
    "#random peptides\n",
    "# peptide = 'N[C@@H]([H])C(=O)N[C@@H](CSCC(C4)=O)C(=O)N1[C@@H](CCC1)C(=O)N[C@@H](CCC(=O)N)C(=O)N[C@@H](CS3)C(=O)N[C@@H](CC(=O)O)C(=O)N[C@@H](C(C)C)C(=O)N[C@@H](CSCC(C3)=O)C(=O)N[C@@H](Cc1ccc(O)cc1)C(=O)N[C@@H](CCCNC(=N)N)C(=O)N[C@@H](CS4)C(=O)N1[C@@H](CCC1)C(=O)O'\n",
    "\n",
    "peptide = get_mol(peptide)"
   ]
  },
  {
   "cell_type": "code",
   "execution_count": 119,
   "id": "b8b80cad-2a10-45e2-aab8-19169f3a6d50",
   "metadata": {},
   "outputs": [],
   "source": [
    "def mol_with_atom_index(mol):\n",
    "    for atom in mol.GetAtoms():\n",
    "        atom.SetAtomMapNum(atom.GetIdx())\n",
    "    return mol\n",
    "\n",
    "mol_with_atom_index(peptide)\n",
    "\n",
    "Draw.MolToFile(peptide, \"peptide.png\",size=(6000,6000))"
   ]
  },
  {
   "cell_type": "code",
   "execution_count": 120,
   "id": "2468cbdd-5ce2-4737-a46e-1e7177046ab1",
   "metadata": {},
   "outputs": [
    {
     "data": {
      "text/plain": [
       "((6, 5, 1, 2, 3, 4, 0), (55, 54, 50, 51, 52, 53, 49))"
      ]
     },
     "execution_count": 120,
     "metadata": {},
     "output_type": "execute_result"
    }
   ],
   "source": [
    "#separately define proline, because the backbone creates double recognition\n",
    "proline = 'O=CC1CCCN1'\n",
    "proline_matches = peptide.GetSubstructMatches(Chem.MolFromSmiles(proline),useChirality=True)\n",
    "proline_matches"
   ]
  },
  {
   "cell_type": "code",
   "execution_count": 121,
   "id": "f9fe6f7f-06f3-4180-95aa-93e71990c1f2",
   "metadata": {},
   "outputs": [
    {
     "data": {
      "text/plain": [
       "((0, 1, 5, 6),\n",
       " (7, 8, 15, 16),\n",
       " (17, 18, 21, 22),\n",
       " (23, 24, 26, 27),\n",
       " (28, 29, 37, 38),\n",
       " (39, 40, 47, 48),\n",
       " (49, 50, 54, 55),\n",
       " (56, 57, 68, 69),\n",
       " (70, 71, 76, 77),\n",
       " (78, 79, 84, 85),\n",
       " (86, 87, 90, 91),\n",
       " (92, 93, 101, 102))"
      ]
     },
     "execution_count": 121,
     "metadata": {},
     "output_type": "execute_result"
    }
   ],
   "source": [
    "#find all amino acids\n",
    "amino_acid_motif = 'NCC=O'\n",
    "matches = peptide.GetSubstructMatches(Chem.MolFromSmiles(amino_acid_motif),useChirality=True)\n",
    "matches"
   ]
  },
  {
   "cell_type": "code",
   "execution_count": 122,
   "id": "b47cb15f-fbc5-46d2-8e77-f44649fc806d",
   "metadata": {},
   "outputs": [
    {
     "data": {
      "text/plain": [
       "[(7, 8, 15, 16),\n",
       " (17, 18, 21, 22),\n",
       " (23, 24, 26, 27),\n",
       " (28, 29, 37, 38),\n",
       " (39, 40, 47, 48),\n",
       " (56, 57, 68, 69),\n",
       " (70, 71, 76, 77),\n",
       " (78, 79, 84, 85),\n",
       " (86, 87, 90, 91),\n",
       " (92, 93, 101, 102)]"
      ]
     },
     "execution_count": 122,
     "metadata": {},
     "output_type": "execute_result"
    }
   ],
   "source": [
    "#find matches that aren't prolines\n",
    "matches_without_prolines = [match for match in matches if not any([x in np.hstack(proline_matches) for x in match])]\n",
    "matches_without_prolines"
   ]
  },
  {
   "cell_type": "code",
   "execution_count": 123,
   "id": "88a5546d-0949-47b6-86a0-5bfcd269d706",
   "metadata": {},
   "outputs": [
    {
     "data": {
      "text/plain": [
       "[(0, 1, 5, 6, 7),\n",
       " (7, 8, 15, 16, 17),\n",
       " (17, 18, 21, 22, 23),\n",
       " (23, 24, 26, 27, 28),\n",
       " (28, 29, 37, 38, 39),\n",
       " (39, 40, 47, 48, 49),\n",
       " (49, 50, 54, 55, 56),\n",
       " (56, 57, 68, 69, 70),\n",
       " (70, 71, 76, 77, 78),\n",
       " (78, 79, 84, 85, 86),\n",
       " (86, 87, 90, 91, 92)]"
      ]
     },
     "execution_count": 123,
     "metadata": {},
     "output_type": "execute_result"
    }
   ],
   "source": [
    "#get matches with overlapping nitrogens for cluster identification (this method will not get the C-terminal amino acid)\n",
    "amino_acid_n = 'NCC(=O)N'\n",
    "matches_n = peptide.GetSubstructMatches(Chem.MolFromSmiles(amino_acid_n),useChirality=True)\n",
    "matches_n_no_prolines = [match for match in matches_n if sum([x in np.hstack(proline_matches) for x in match]) < 2]\n",
    "matches_n = [match_n for match_n in matches_n]\n",
    "matches_n"
   ]
  },
  {
   "cell_type": "code",
   "execution_count": 124,
   "id": "f92d2adc-b071-4ecc-8226-24160add96c4",
   "metadata": {},
   "outputs": [
    {
     "data": {
      "text/plain": [
       "((6, 5, 1, 0, 4),\n",
       " (16, 15, 8, 7, 5),\n",
       " (22, 21, 18, 17, 15),\n",
       " (27, 26, 24, 23, 21),\n",
       " (38, 37, 29, 28, 26),\n",
       " (48, 47, 40, 39, 37),\n",
       " (55, 54, 50, 49, 47),\n",
       " (55, 54, 50, 49, 53),\n",
       " (69, 68, 57, 56, 54),\n",
       " (77, 76, 71, 70, 68),\n",
       " (85, 84, 79, 78, 76),\n",
       " (91, 90, 87, 86, 84),\n",
       " (102, 101, 93, 92, 90))"
      ]
     },
     "execution_count": 124,
     "metadata": {},
     "output_type": "execute_result"
    }
   ],
   "source": [
    "#get matches with overlapping carboynl oxygens for cluster identification (this method will not get the N-terminal amino acid)\n",
    "amino_acid_c = 'O=CCNC'\n",
    "matches_c = peptide.GetSubstructMatches(Chem.MolFromSmiles(amino_acid_c),useChirality=True)\n",
    "matches_c_no_prolines = [match for match in matches_c if sum([x in np.hstack(proline_matches) for x in match]) < 2]\n",
    "matches_c"
   ]
  },
  {
   "cell_type": "code",
   "execution_count": 125,
   "id": "52e4fc9e-ac68-4d35-843a-8365a0193557",
   "metadata": {},
   "outputs": [
    {
     "data": {
      "text/plain": [
       "array([  0,   1,   2,   3,   4,   5,   6,   7,   8,  15,  16,  17,  18,\n",
       "        21,  22,  23,  24,  26,  27,  28,  29,  37,  38,  39,  40,  47,\n",
       "        48,  49,  50,  51,  52,  53,  54,  55,  56,  57,  68,  69,  70,\n",
       "        71,  76,  77,  78,  79,  84,  85,  86,  87,  90,  91,  92,  93,\n",
       "       101, 102, 103])"
      ]
     },
     "execution_count": 125,
     "metadata": {},
     "output_type": "execute_result"
    }
   ],
   "source": [
    "#split up side chain atoms and backbone atoms\n",
    "backbone_atoms = np.hstack(np.unique(np.concatenate((np.hstack(matches_n_no_prolines),np.hstack(matches_c_no_prolines),np.hstack(proline_matches),np.hstack(peptide.GetSubstructMatches(Chem.MolFromSmiles('NCC(O)=O'),useChirality=True))))))\n",
    "sidechain_atoms = np.setdiff1d(np.array(range(1,peptide.GetNumAtoms())),backbone_atoms)\n",
    "backbone_atoms\n",
    "# sidechain_atoms"
   ]
  },
  {
   "cell_type": "code",
   "execution_count": 126,
   "id": "5ee983e5-101b-4af1-a27b-c60f5671ff49",
   "metadata": {},
   "outputs": [],
   "source": [
    "matches_double_overlap = peptide.GetSubstructMatches(Chem.MolFromSmiles('NCC(NCC=O)=O'),useChirality=True)\n",
    "matches_double_overlap = [m for m in matches_double_overlap if not any([x in sidechain_atoms for x in m])]\n",
    "count = Counter(np.hstack(matches_double_overlap))\n",
    "matches_double_overlap = [m for m in matches_double_overlap if not all(count[x] > 1 for x in m )]\n",
    "if len(matches_double_overlap) == 2:\n",
    "    n_terminus = [x for x in matches_double_overlap[0] if count[x] == 1]\n",
    "    c_terminus = [x for x in matches_double_overlap[1] if count[x] == 1]\n",
    "else:\n",
    "    print('could not identify termini correctly')"
   ]
  },
  {
   "cell_type": "code",
   "execution_count": 127,
   "id": "75f91bd6-0323-4470-ba5c-3c0faa6a631e",
   "metadata": {},
   "outputs": [
    {
     "data": {
      "text/plain": [
       "array([6, 5, 1, 2, 3, 4, 0])"
      ]
     },
     "execution_count": 127,
     "metadata": {},
     "output_type": "execute_result"
    }
   ],
   "source": [
    "#identify the termini clusters\n",
    "#nterm cluster\n",
    "if any([x in np.hstack(proline_matches) for x in n_terminus]): #n_terminus is a proline\n",
    "    n_terminus = [np.array(proline) for proline in proline_matches if any([x in n_terminus for x in proline])][0]\n",
    "else: #n_terminus is not a proline\n",
    "    n_terminus = [np.array(match) for match in matches if any([x in n_terminus for x in match])][0]\n",
    "n_terminus\n"
   ]
  },
  {
   "cell_type": "code",
   "execution_count": 128,
   "id": "3e2d3a14-04ef-48d6-bcc9-5b30bccf9b83",
   "metadata": {},
   "outputs": [
    {
     "data": {
      "text/plain": [
       "array([ 90,  92,  93, 101, 102, 103])"
      ]
     },
     "execution_count": 128,
     "metadata": {},
     "output_type": "execute_result"
    }
   ],
   "source": [
    "#cterm cluster\n",
    "if any([x in np.hstack(proline_matches) for x in c_terminus]):\n",
    "    c_terminus = np.array(peptide.GetSubstructMatches(Chem.MolFromSmiles('CN1[C@H](C(O)=O)CCC1'),useChirality=True))[0]\n",
    "else: #c terminus is not a proline\n",
    "    c_terminus = np.array(peptide.GetSubstructMatches(Chem.MolFromSmiles('CNCC(=O)O'),useChirality=True))[0]\n",
    "c_terminus"
   ]
  },
  {
   "cell_type": "code",
   "execution_count": 129,
   "id": "0cab7766-918d-40d2-99a0-6ec49ab2485d",
   "metadata": {},
   "outputs": [
    {
     "data": {
      "text/plain": [
       "[(55, 54, 50, 51, 52, 53, 49, 47)]"
      ]
     },
     "execution_count": 129,
     "metadata": {},
     "output_type": "execute_result"
    }
   ],
   "source": [
    "#non-terminus prolines\n",
    "prolines_non_terminal = [proline for proline in proline_matches if not any([(x in c_terminus) or (x in n_terminus) for x in proline])]\n",
    "if len(prolines_non_terminal) > 0:\n",
    "    prolines_not_terminal_overlap = peptide.GetSubstructMatches(Chem.MolFromSmiles('O=CC1CCCN1C'),useChirality=True)\n",
    "    prolines_not_terminal_overlap = [proline for proline in prolines_not_terminal_overlap if any([x in np.hstack(prolines_non_terminal) for x in proline])]\n",
    "else:\n",
    "    prolines_not_terminal_overlap = []\n",
    "prolines_not_terminal_overlap"
   ]
  },
  {
   "cell_type": "code",
   "execution_count": 130,
   "id": "a751ee95-cc22-486a-911f-73d2866d330e",
   "metadata": {},
   "outputs": [
    {
     "data": {
      "text/plain": [
       "[(16, 15, 8, 7, 5),\n",
       " (22, 21, 18, 17, 15),\n",
       " (27, 26, 24, 23, 21),\n",
       " (38, 37, 29, 28, 26),\n",
       " (48, 47, 40, 39, 37),\n",
       " (69, 68, 57, 56, 54),\n",
       " (77, 76, 71, 70, 68),\n",
       " (85, 84, 79, 78, 76),\n",
       " (91, 90, 87, 86, 84),\n",
       " [90, 92, 93, 101, 102, 103],\n",
       " [6, 5, 1, 2, 3, 4, 0],\n",
       " (55, 54, 50, 51, 52, 53, 49, 47)]"
      ]
     },
     "execution_count": 130,
     "metadata": {},
     "output_type": "execute_result"
    }
   ],
   "source": [
    "clusters = list()\n",
    "[clusters.append(match) for match in matches_c_no_prolines if sum([x in c_terminus for x in match]) < 2]\n",
    "clusters.append(list(c_terminus))\n",
    "clusters.append(list(n_terminus))\n",
    "[clusters.append(proline) for proline in prolines_not_terminal_overlap]\n",
    "clusters"
   ]
  },
  {
   "cell_type": "code",
   "execution_count": 131,
   "id": "fba9b6bf-f77e-4fee-a10d-087bc0d452de",
   "metadata": {},
   "outputs": [
    {
     "data": {
      "text/plain": [
       "array([ 1,  8, 18, 24, 29, 40, 50, 57, 71, 79, 87, 93])"
      ]
     },
     "execution_count": 131,
     "metadata": {},
     "output_type": "execute_result"
    }
   ],
   "source": [
    "c_alphas = np.array(matches)[:,1]\n",
    "c_alphas_neighbors = [peptide.GetAtomWithIdx(int(x)).GetNeighbors() for x in c_alphas]\n",
    "sidechain_atoms_with_calphas = np.union1d(sidechain_atoms,c_alphas)\n",
    "# sidechain_atoms_with_calphas\n",
    "backbone_atoms_without_calphas = np.setdiff1d(backbone_atoms,c_alphas)\n",
    "# backbone_atoms_without_calphas\n",
    "c_alphas"
   ]
  },
  {
   "cell_type": "code",
   "execution_count": 132,
   "id": "6e8d2107-133b-4d6b-86cb-fce5d8524c21",
   "metadata": {},
   "outputs": [
    {
     "name": "stdout",
     "output_type": "stream",
     "text": [
      "starting c_alpha atom index: 1\n",
      "skipped proline\n",
      "starting c_alpha atom index: 8\n",
      "new stapled residue c_alpha atom found, index: 8\n",
      "new stapled residue c_alpha atom found, index: 18\n",
      "complete mapped side chain: [9, 8, 10, 11, 12, 13, 14, 20, 19, 18]\n",
      "starting c_alpha atom index: 18\n",
      "new stapled residue c_alpha atom found, index: 18\n",
      "new stapled residue c_alpha atom found, index: 8\n",
      "complete mapped side chain: [19, 18, 20, 13, 12, 11, 14, 10, 9, 8]\n",
      "starting c_alpha atom index: 24\n",
      "new stapled residue c_alpha atom found, index: 24\n",
      "complete mapped side chain: [25, 24]\n",
      "starting c_alpha atom index: 29\n",
      "new stapled residue c_alpha atom found, index: 29\n",
      "complete mapped side chain: [30, 29, 31, 32, 33, 34, 35, 36]\n",
      "starting c_alpha atom index: 40\n",
      "new stapled residue c_alpha atom found, index: 40\n",
      "new stapled residue c_alpha atom found, index: 87\n",
      "complete mapped side chain: [41, 40, 42, 43, 44, 45, 46, 89, 88, 87]\n",
      "starting c_alpha atom index: 50\n",
      "skipped proline\n",
      "starting c_alpha atom index: 57\n",
      "new stapled residue c_alpha atom found, index: 57\n",
      "complete mapped side chain: [58, 57, 59, 60, 62, 61, 63, 67, 64, 66, 65]\n",
      "starting c_alpha atom index: 71\n",
      "new stapled residue c_alpha atom found, index: 71\n",
      "complete mapped side chain: [72, 71, 73, 74, 75]\n",
      "starting c_alpha atom index: 79\n",
      "new stapled residue c_alpha atom found, index: 79\n",
      "complete mapped side chain: [80, 79, 81, 82, 83]\n",
      "starting c_alpha atom index: 87\n",
      "new stapled residue c_alpha atom found, index: 87\n",
      "new stapled residue c_alpha atom found, index: 40\n",
      "complete mapped side chain: [88, 87, 89, 45, 44, 43, 46, 42, 41, 40]\n",
      "starting c_alpha atom index: 93\n",
      "new stapled residue c_alpha atom found, index: 93\n",
      "complete mapped side chain: [94, 93, 95, 96, 97, 98, 99, 100]\n"
     ]
    },
    {
     "data": {
      "text/plain": [
       "[(16, 15, 8, 7, 5),\n",
       " (22, 21, 18, 17, 15),\n",
       " (27, 26, 24, 23, 21),\n",
       " (38, 37, 29, 28, 26),\n",
       " (48, 47, 40, 39, 37),\n",
       " (69, 68, 57, 56, 54),\n",
       " (77, 76, 71, 70, 68),\n",
       " (85, 84, 79, 78, 76),\n",
       " (91, 90, 87, 86, 84),\n",
       " [90, 92, 93, 101, 102, 103],\n",
       " [6, 5, 1, 2, 3, 4, 0],\n",
       " (55, 54, 50, 51, 52, 53, 49, 47),\n",
       " array([ 9,  8, 10, 11, 12, 13, 14, 20, 19, 18]),\n",
       " array([25, 24]),\n",
       " array([30, 29, 31, 32, 33, 34, 35, 36]),\n",
       " array([41, 40, 42, 43, 44, 45, 46, 89, 88, 87]),\n",
       " array([58, 57, 59, 60, 62, 61, 63, 67, 64, 66, 65]),\n",
       " array([72, 71, 73, 74, 75]),\n",
       " array([80, 79, 81, 82, 83]),\n",
       " array([ 94,  93,  95,  96,  97,  98,  99, 100])]"
      ]
     },
     "execution_count": 132,
     "metadata": {},
     "output_type": "execute_result"
    }
   ],
   "source": [
    "##recursively identify alpha carbons, and map the atom indices that contain their side chains\n",
    "\n",
    "\n",
    "for index,c_alpha in enumerate(c_alphas):\n",
    "    c_alpha_neighbors = peptide.GetAtomWithIdx(int(c_alpha)).GetNeighbors()\n",
    "    print('starting c_alpha atom index: ' + str(c_alpha))\n",
    "    # print('neighbor indices: ' +str([neighbor.GetIdx() for neighbor in c_alpha_neighbors]))\n",
    "    # print('neighbor atomic masses: ' + str([neighbor.GetAtomicNum() for neighbor in c_alpha_neighbors]))\n",
    "    # print('starting atoms: ' + str([c_alpha_neighbor.GetIdx() for c_alpha_neighbor in c_alpha_neighbors]))\n",
    "    # if c_alpha in c_terminus:\n",
    "    #     print('c terminus skipped: ' + str(c_alpha))\n",
    "    #     continue\n",
    "    if c_alpha in np.hstack(proline_matches):\n",
    "        print('skipped proline')\n",
    "        continue\n",
    "    for neighbor in c_alpha_neighbors:\n",
    "        if (neighbor.GetIdx() not in backbone_atoms) and (neighbor.GetAtomicNum() == 6):\n",
    "            # print('starting side chain atom: '+str(neighbor.GetIdx()) + ', atomic num: ' + str(neighbor.GetAtomicNum()))\n",
    "            side_chain_atoms = np.array([neighbor.GetIdx()])\n",
    "            new_neighbors = neighbor.GetNeighbors()\n",
    "            # print('starting neighbor atom(s): ' + str([new_neighbor.GetIdx() for new_neighbor in new_neighbors]) + ', atomic num(s): ' + str([new_neighbor.GetAtomicNum() for new_neighbor in new_neighbors]))\n",
    "            atoms_to_examine = np.array([])\n",
    "            while(len(new_neighbors) > 0):\n",
    "                for new_neighbor in new_neighbors:\n",
    "                    if (new_neighbor.GetIdx() in c_alphas) and (new_neighbor.GetIdx() not in sidechain_atoms):\n",
    "                        print('new stapled residue c_alpha atom found, index: ' + str(new_neighbor.GetIdx()))\n",
    "                        side_chain_atoms = np.append(side_chain_atoms,new_neighbor.GetIdx())\n",
    "                    elif (new_neighbor.GetIdx() not in side_chain_atoms) and (new_neighbor.GetIdx() not in backbone_atoms):\n",
    "                        # print('new neighbor atom found, index: ' + str(new_neighbor.GetIdx()))\n",
    "                        side_chain_atoms = np.append(side_chain_atoms,new_neighbor.GetIdx())\n",
    "                        # print('side_chain_atom(s): ' + str(side_chain_atoms))\n",
    "                        atoms_to_examine = np.append(atoms_to_examine,new_neighbor.GetIdx())\n",
    "                        # print('atom(s) to examine: ' + str(atoms_to_examine))\n",
    "                    elif new_neighbor.GetIdx()  in side_chain_atoms:\n",
    "                        # print('already found this atom in side chain: ' + str(new_neighbor.GetIdx()))\n",
    "                        continue\n",
    "                    elif new_neighbor.GetIdx() in backbone_atoms:\n",
    "                        # print('already found this atom in back bone: ' + str(new_neighbor.GetIdx()))\n",
    "                        continue\n",
    "                if len(atoms_to_examine) == 0:\n",
    "                    # print('no new atoms to explore')\n",
    "                    break\n",
    "                else:\n",
    "                    new_neighbors = np.hstack([peptide.GetAtomWithIdx(int(atom)).GetNeighbors() for atom in atoms_to_examine])\n",
    "                    # print('new neighbors to investigate: ' + str([new_neighbor.GetIdx() for new_neighbor in new_neighbors]))\n",
    "                    atoms_to_examine = np.array([])\n",
    "            print('complete mapped side chain: ' + str([x for x in side_chain_atoms]))\n",
    "            if sum([x in np.hstack(clusters) for x in side_chain_atoms]) < 3:\n",
    "                clusters.append(np.array([x for x in side_chain_atoms]))\n",
    "            # if not any([x in np.hstack(clusters) for x in side_chain_atoms]):\n",
    "            #     clusters.append(np.concatenate([np.array([x for x in side_chain_atoms]),np.array([c_alpha])]))\n",
    "            \n",
    "    #neighbors are not in a consistent order\n",
    "\n",
    "clusters\n",
    "# [peptide.GetAtomWithIdx(x).GetNeighbors() for x in c_alphas]"
   ]
  },
  {
   "cell_type": "code",
   "execution_count": 133,
   "id": "ed35c42a-e485-470b-bfed-2860dc546813",
   "metadata": {},
   "outputs": [
    {
     "data": {
      "text/plain": [
       "[[10],\n",
       " [10],\n",
       " [10],\n",
       " [10],\n",
       " [10],\n",
       " [0, 10],\n",
       " [10],\n",
       " [0],\n",
       " [0, 12],\n",
       " [12],\n",
       " [12],\n",
       " [12],\n",
       " [12],\n",
       " [12],\n",
       " [12],\n",
       " [0, 1],\n",
       " [0],\n",
       " [1],\n",
       " [1, 12],\n",
       " [12],\n",
       " [12],\n",
       " [1, 2],\n",
       " [1],\n",
       " [2],\n",
       " [2, 13],\n",
       " [13],\n",
       " [2, 3],\n",
       " [2],\n",
       " [3],\n",
       " [3, 14],\n",
       " [14],\n",
       " [14],\n",
       " [14],\n",
       " [14],\n",
       " [14],\n",
       " [14],\n",
       " [14],\n",
       " [3, 4],\n",
       " [3],\n",
       " [4],\n",
       " [4, 15],\n",
       " [15],\n",
       " [15],\n",
       " [15],\n",
       " [15],\n",
       " [15],\n",
       " [15],\n",
       " [4, 11],\n",
       " [4],\n",
       " [11],\n",
       " [11],\n",
       " [11],\n",
       " [11],\n",
       " [11],\n",
       " [5, 11],\n",
       " [11],\n",
       " [5],\n",
       " [5, 16],\n",
       " [16],\n",
       " [16],\n",
       " [16],\n",
       " [16],\n",
       " [16],\n",
       " [16],\n",
       " [16],\n",
       " [16],\n",
       " [16],\n",
       " [16],\n",
       " [5, 6],\n",
       " [5],\n",
       " [6],\n",
       " [6, 17],\n",
       " [17],\n",
       " [17],\n",
       " [17],\n",
       " [17],\n",
       " [6, 7],\n",
       " [6],\n",
       " [7],\n",
       " [7, 18],\n",
       " [18],\n",
       " [18],\n",
       " [18],\n",
       " [18],\n",
       " [7, 8],\n",
       " [7],\n",
       " [8],\n",
       " [8, 15],\n",
       " [15],\n",
       " [15],\n",
       " [8, 9],\n",
       " [8],\n",
       " [9],\n",
       " [9, 19],\n",
       " [19],\n",
       " [19],\n",
       " [19],\n",
       " [19],\n",
       " [19],\n",
       " [19],\n",
       " [19],\n",
       " [9],\n",
       " [9],\n",
       " [9]]"
      ]
     },
     "execution_count": 133,
     "metadata": {},
     "output_type": "execute_result"
    }
   ],
   "source": [
    "#get atom_cls\n",
    "atom_cls = [[] for i in range(len(peptide.GetAtoms()))]\n",
    "for i in range(len(clusters)):\n",
    "    for atom in clusters[i]:\n",
    "        atom_cls[atom].append(i)\n",
    "atom_cls"
   ]
  },
  {
   "cell_type": "code",
   "execution_count": 134,
   "id": "ca0da4e0-2deb-4f23-ba2f-43366cdc1d80",
   "metadata": {},
   "outputs": [],
   "source": [
    "graph = nx.empty_graph( len(clusters) )\n",
    "for atom, nei_cls in enumerate(atom_cls):\n",
    "    if len(nei_cls) <= 1: continue\n",
    "    bonds = [c for c in nei_cls if len(clusters[c]) == 2]\n",
    "    rings = [c for c in nei_cls if len(clusters[c]) > 4] #need to change to 2\n",
    "\n",
    "    if len(nei_cls) > 2 and len(bonds) >= 2:\n",
    "        clusters.append([atom])\n",
    "        c2 = len(clusters) - 1\n",
    "        graph.add_node(c2)\n",
    "        for c1 in nei_cls:\n",
    "            graph.add_edge(c1, c2, weight = 100)\n",
    "\n",
    "    elif len(rings) > 2: #Bee Hives, len(nei_cls) > 2 \n",
    "        clusters.append([atom]) #temporary value, need to change\n",
    "        c2 = len(clusters) - 1\n",
    "        graph.add_node(c2)\n",
    "        for c1 in nei_cls:\n",
    "            graph.add_edge(c1, c2, weight = 100)\n",
    "    else:\n",
    "        for i,c1 in enumerate(nei_cls):\n",
    "            for c2 in nei_cls[i + 1:]:\n",
    "                inter = set(clusters[c1]) & set(clusters[c2])\n",
    "                graph.add_edge(c1, c2, weight = len(inter))\n",
    "\n",
    "n, m = len(graph.nodes), len(graph.edges)"
   ]
  },
  {
   "cell_type": "code",
   "execution_count": 135,
   "id": "81ff7f20-72e0-4f47-93f2-adf116f7ead9",
   "metadata": {},
   "outputs": [
    {
     "data": {
      "image/png": "[encoded data removed]",
      "text/plain": [
       "<Figure size 640x480 with 1 Axes>"
      ]
     },
     "metadata": {},
     "output_type": "display_data"
    }
   ],
   "source": [
    "nx.draw(graph,with_labels=True)\n",
    "plt.show()"
   ]
  },
  {
   "cell_type": "code",
   "execution_count": 136,
   "id": "92d0b620-2d9c-4b51-b1e2-31f524587257",
   "metadata": {},
   "outputs": [
    {
     "data": {
      "text/plain": [
       "-1"
      ]
     },
     "execution_count": 136,
     "metadata": {},
     "output_type": "execute_result"
    }
   ],
   "source": [
    "n-m"
   ]
  },
  {
   "cell_type": "code",
   "execution_count": null,
   "id": "cecda9fa-4071-4eb6-9f59-9f80e5cdeffb",
   "metadata": {},
   "outputs": [],
   "source": []
  }
 ],
 "metadata": {
  "kernelspec": {
   "display_name": "hgraph-rdkit",
   "language": "python",
   "name": "hgraph-rdkit"
  },
  "language_info": {
   "codemirror_mode": {
    "name": "ipython",
    "version": 3
   },
   "file_extension": ".py",
   "mimetype": "text/x-python",
   "name": "python",
   "nbconvert_exporter": "python",
   "pygments_lexer": "ipython3",
   "version": "3.7.6"
  }
 },
 "nbformat": 4,
 "nbformat_minor": 5
}
