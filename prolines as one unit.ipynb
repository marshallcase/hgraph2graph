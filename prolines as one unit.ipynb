{
 "cells": [
  {
   "cell_type": "code",
   "execution_count": 1,
   "id": "be937f4c-6df1-417b-92a7-424b642d8874",
   "metadata": {},
   "outputs": [
    {
     "name": "stderr",
     "output_type": "stream",
     "text": [
      "/home/marcase/.conda/envs/hgraph-rdkit/lib/python3.7/site-packages/tqdm/auto.py:22: TqdmWarning: IProgress not found. Please update jupyter and ipywidgets. See https://ipywidgets.readthedocs.io/en/stable/user_install.html\n",
      "  from .autonotebook import tqdm as notebook_tqdm\n"
     ]
    },
    {
     "ename": "AttributeError",
     "evalue": "module 'rdkit.Chem.Draw.IPythonConsole' has no attribute 'drawOptions'",
     "output_type": "error",
     "traceback": [
      "\u001b[0;31m---------------------------------------------------------------------------\u001b[0m",
      "\u001b[0;31mAttributeError\u001b[0m                            Traceback (most recent call last)",
      "\u001b[0;32m/tmp/ipykernel_2753857/2507338882.py\u001b[0m in \u001b[0;36m<module>\u001b[0;34m\u001b[0m\n\u001b[1;32m     27\u001b[0m \u001b[0;32mfrom\u001b[0m \u001b[0mcollections\u001b[0m \u001b[0;32mimport\u001b[0m \u001b[0mCounter\u001b[0m\u001b[0;34m\u001b[0m\u001b[0;34m\u001b[0m\u001b[0m\n\u001b[1;32m     28\u001b[0m \u001b[0;34m\u001b[0m\u001b[0m\n\u001b[0;32m---> 29\u001b[0;31m \u001b[0mIPythonConsole\u001b[0m\u001b[0;34m.\u001b[0m\u001b[0mdrawOptions\u001b[0m\u001b[0;34m.\u001b[0m\u001b[0maddAtomIndices\u001b[0m \u001b[0;34m=\u001b[0m \u001b[0;32mTrue\u001b[0m\u001b[0;34m\u001b[0m\u001b[0;34m\u001b[0m\u001b[0m\n\u001b[0m\u001b[1;32m     30\u001b[0m \u001b[0mIPythonConsole\u001b[0m\u001b[0;34m.\u001b[0m\u001b[0mmolSize\u001b[0m \u001b[0;34m=\u001b[0m \u001b[0;36m300\u001b[0m\u001b[0;34m,\u001b[0m\u001b[0;36m300\u001b[0m\u001b[0;34m\u001b[0m\u001b[0;34m\u001b[0m\u001b[0m\n",
      "\u001b[0;31mAttributeError\u001b[0m: module 'rdkit.Chem.Draw.IPythonConsole' has no attribute 'drawOptions'"
     ]
    }
   ],
   "source": [
    "##vocab production script\n",
    "#imports\n",
    "import multiprocessing\n",
    "from multiprocessing import Pool\n",
    "import math, random, sys\n",
    "import pickle\n",
    "import argparse\n",
    "from functools import partial\n",
    "import torch\n",
    "import numpy\n",
    "from rdkit import Chem\n",
    "from rdkit.Chem.Draw import IPythonConsole\n",
    "from rdkit.Chem import rdDepictor\n",
    "from rdkit.Chem.Draw import rdMolDraw2D\n",
    "from hgraph import MolGraph, common_atom_vocab, PairVocab\n",
    "import rdkit\n",
    "import rdkit.Chem as Chem\n",
    "import networkx as nx\n",
    "from hgraph.chemutils import *\n",
    "from hgraph.nnutils import *\n",
    "import numpy as np\n",
    "import matplotlib.pyplot as plt\n",
    "from IPython.display import SVG\n",
    "import time\n",
    "from rdkit.Chem import Draw\n",
    "import itertools\n",
    "from collections import Counter\n",
    "\n",
    "# IPythonConsole.drawOptions.addAtomIndices = True\n",
    "# IPythonConsole.molSize = 300,300"
   ]
  },
  {
   "cell_type": "code",
   "execution_count": 273,
   "id": "653df2d3-2348-40f5-a7fc-949181ef7094",
   "metadata": {},
   "outputs": [],
   "source": [
    "# peptide = 'OC(C[C@@H](C(N[C@H](C(N[C@H](C(N[C@H](C(NCC(N[C@H](C(N[C@@]([H])([C@@H](C)CC)C(N[C@@H](CC(C)C)C(N[C@H](C(N[C@H](C(N[C@@H](CC1=CC=CC=C1)C(N2CCC[C@H]2C(N[C@H](C(N[C@@]([C@H](O)C)(C(N[C@H](C(N[C@H](C(N[C@H](C(N[C@H](C(N[C@H](C(O)=O)CSC3)=O)CSCC3=O)=O)C(C)C)=O)CC4=CC=C(O)C=C4)=O)CC5=CNC6=C5C=CC=C6)=O)[H])=O)CO)=O)=O)=O)CCSC)=O)CCCCN[H])=O)=O)=O)CC7=CNC=N7)=O)=O)CCC(N)=O)=O)CCC(O)=O)=O)CS[H])=O)NC([C@@H](NC([C@@H](NC([C@H](C)NC(CN)=O)=O)CCCNC(N)=N)=O)CC(N)=O)=O)=O'\n",
    "#c term proline\n",
    "# peptide = 'N[C@@H]([C@]([H])(O)C)C(=O)N[C@@H](CSCC(C3)=O)C(=O)N[C@@H](C(C)C)C(=O)N1[C@@H](CCC1)C(=O)N[C@@H](CCC(=O)O)C(=O)N[C@@H](CC1=CN=C-N1)C(=O)N[C@@H](CS3)C(=O)N[C@@H](CO)C(=O)N[C@@H](CSCC(C3)=O)C(=O)N[C@@H](Cc1ccc(O)cc1)C(=O)N[C@@H](CCCNC(=N)N)C(=O)N[C@@H](CS3)C(=O)N1[C@@H](CCC1)C(=O)O'\n",
    "#n term proline\n",
    "# peptide = 'N1[C@@H](CCC1)C(=O)N[C@@H](CSCC(C3)=O)C(=O)N[C@@H](CS3)C(=O)N[C@@H](C)C(=O)N[C@@H](CCCNC(=N)N)C(=O)N[C@@H](CSCC(C3)=O)C(=O)N1[C@@H](CCC1)C(=O)N[C@@H](CC(=CN2)C1=C2C=CC=C1)C(=O)N[C@@H](CC(=O)O)C(=O)N[C@@H](CC(=O)O)C(=O)N[C@@H](CS3)C(=O)N[C@@H](CCCNC(=N)N)C(=O)O'\n",
    "#random peptides\n",
    "peptide = 'N[C@@H]([H])C(=O)N[C@@H](CSCC(C4)=O)C(=O)N1[C@@H](CCC1)C(=O)N[C@@H](CCC(=O)N)C(=O)N[C@@H](CS3)C(=O)N[C@@H](CC(=O)O)C(=O)N[C@@H](C(C)C)C(=O)N[C@@H](CSCC(C3)=O)C(=O)N[C@@H](Cc1ccc(O)cc1)C(=O)N[C@@H](CCCNC(=N)N)C(=O)N[C@@H](CS4)C(=O)N1[C@@H](CCC1)C(=O)O'\n",
    "\n",
    "peptide = get_mol(peptide)"
   ]
  },
  {
   "cell_type": "code",
   "execution_count": 274,
   "id": "b8b80cad-2a10-45e2-aab8-19169f3a6d50",
   "metadata": {},
   "outputs": [],
   "source": [
    "def mol_with_atom_index(mol):\n",
    "    for atom in mol.GetAtoms():\n",
    "        atom.SetAtomMapNum(atom.GetIdx())\n",
    "    return mol\n",
    "\n",
    "mol_with_atom_index(peptide)\n",
    "\n",
    "Draw.MolToFile(peptide, \"peptide.png\",size=(6000,6000))"
   ]
  },
  {
   "cell_type": "code",
   "execution_count": 275,
   "id": "2468cbdd-5ce2-4737-a46e-1e7177046ab1",
   "metadata": {},
   "outputs": [
    {
     "data": {
      "text/plain": [
       "((20, 19, 15, 16, 17, 18, 14), (96, 95, 91, 92, 93, 94, 90))"
      ]
     },
     "execution_count": 275,
     "metadata": {},
     "output_type": "execute_result"
    }
   ],
   "source": [
    "#separately define proline, because the backbone creates double recognition\n",
    "proline = 'O=CC1CCCN1'\n",
    "proline_matches = peptide.GetSubstructMatches(Chem.MolFromSmiles(proline),useChirality=True)\n",
    "proline_matches"
   ]
  },
  {
   "cell_type": "code",
   "execution_count": 276,
   "id": "f9fe6f7f-06f3-4180-95aa-93e71990c1f2",
   "metadata": {},
   "outputs": [
    {
     "data": {
      "text/plain": [
       "((0, 1, 2, 3),\n",
       " (4, 5, 12, 13),\n",
       " (14, 15, 19, 20),\n",
       " (21, 22, 28, 29),\n",
       " (30, 31, 34, 35),\n",
       " (36, 37, 42, 43),\n",
       " (44, 45, 49, 50),\n",
       " (51, 52, 59, 60),\n",
       " (61, 62, 71, 72),\n",
       " (73, 74, 82, 83),\n",
       " (84, 85, 88, 89),\n",
       " (90, 91, 95, 96))"
      ]
     },
     "execution_count": 276,
     "metadata": {},
     "output_type": "execute_result"
    }
   ],
   "source": [
    "#find all amino acids\n",
    "amino_acid_motif = 'NCC=O'\n",
    "matches = peptide.GetSubstructMatches(Chem.MolFromSmiles(amino_acid_motif),useChirality=True)\n",
    "matches"
   ]
  },
  {
   "cell_type": "code",
   "execution_count": 277,
   "id": "b47cb15f-fbc5-46d2-8e77-f44649fc806d",
   "metadata": {},
   "outputs": [
    {
     "data": {
      "text/plain": [
       "[(0, 1, 2, 3),\n",
       " (4, 5, 12, 13),\n",
       " (21, 22, 28, 29),\n",
       " (30, 31, 34, 35),\n",
       " (36, 37, 42, 43),\n",
       " (44, 45, 49, 50),\n",
       " (51, 52, 59, 60),\n",
       " (61, 62, 71, 72),\n",
       " (73, 74, 82, 83),\n",
       " (84, 85, 88, 89)]"
      ]
     },
     "execution_count": 277,
     "metadata": {},
     "output_type": "execute_result"
    }
   ],
   "source": [
    "#find matches that aren't prolines\n",
    "matches_without_prolines = [match for match in matches if not any([x in np.hstack(proline_matches) for x in match])]\n",
    "matches_without_prolines"
   ]
  },
  {
   "cell_type": "code",
   "execution_count": 278,
   "id": "88a5546d-0949-47b6-86a0-5bfcd269d706",
   "metadata": {},
   "outputs": [
    {
     "data": {
      "text/plain": [
       "[(0, 1, 2, 3, 4),\n",
       " (4, 5, 12, 13, 14),\n",
       " (14, 15, 19, 20, 21),\n",
       " (21, 22, 28, 29, 30),\n",
       " (30, 31, 34, 35, 36),\n",
       " (36, 37, 42, 43, 44),\n",
       " (44, 45, 49, 50, 51),\n",
       " (51, 52, 59, 60, 61),\n",
       " (61, 62, 71, 72, 73),\n",
       " (73, 74, 82, 83, 84),\n",
       " (84, 85, 88, 89, 90)]"
      ]
     },
     "execution_count": 278,
     "metadata": {},
     "output_type": "execute_result"
    }
   ],
   "source": [
    "#get matches with overlapping nitrogens for cluster identification (this method will not get the C-terminal amino acid)\n",
    "amino_acid_n = 'NCC(=O)N'\n",
    "matches_n = peptide.GetSubstructMatches(Chem.MolFromSmiles(amino_acid_n),useChirality=True)\n",
    "matches_n_no_prolines = [match for match in matches_n if sum([x in np.hstack(proline_matches) for x in match]) < 2]\n",
    "matches_n = [match_n for match_n in matches_n]\n",
    "matches_n"
   ]
  },
  {
   "cell_type": "code",
   "execution_count": 279,
   "id": "f92d2adc-b071-4ecc-8226-24160add96c4",
   "metadata": {},
   "outputs": [
    {
     "data": {
      "text/plain": [
       "((13, 12, 5, 4, 2),\n",
       " (20, 19, 15, 14, 12),\n",
       " (20, 19, 15, 14, 18),\n",
       " (29, 28, 22, 21, 19),\n",
       " (35, 34, 31, 30, 28),\n",
       " (43, 42, 37, 36, 34),\n",
       " (50, 49, 45, 44, 42),\n",
       " (60, 59, 52, 51, 49),\n",
       " (72, 71, 62, 61, 59),\n",
       " (83, 82, 74, 73, 71),\n",
       " (89, 88, 85, 84, 82),\n",
       " (96, 95, 91, 90, 88),\n",
       " (96, 95, 91, 90, 94))"
      ]
     },
     "execution_count": 279,
     "metadata": {},
     "output_type": "execute_result"
    }
   ],
   "source": [
    "#get matches with overlapping carboynl oxygens for cluster identification (this method will not get the N-terminal amino acid)\n",
    "amino_acid_c = 'O=CCNC'\n",
    "matches_c = peptide.GetSubstructMatches(Chem.MolFromSmiles(amino_acid_c),useChirality=True)\n",
    "matches_c_no_prolines = [match for match in matches_c if sum([x in np.hstack(proline_matches) for x in match]) < 2]\n",
    "matches_c"
   ]
  },
  {
   "cell_type": "code",
   "execution_count": 280,
   "id": "52e4fc9e-ac68-4d35-843a-8365a0193557",
   "metadata": {},
   "outputs": [
    {
     "data": {
      "text/plain": [
       "array([ 0,  1,  2,  3,  4,  5, 12, 13, 14, 15, 16, 17, 18, 19, 20, 21, 22,\n",
       "       28, 29, 30, 31, 34, 35, 36, 37, 42, 43, 44, 45, 49, 50, 51, 52, 59,\n",
       "       60, 61, 62, 71, 72, 73, 74, 82, 83, 84, 85, 88, 89, 90, 91, 92, 93,\n",
       "       94, 95, 96, 97])"
      ]
     },
     "execution_count": 280,
     "metadata": {},
     "output_type": "execute_result"
    }
   ],
   "source": [
    "#split up side chain atoms and backbone atoms\n",
    "backbone_atoms = np.hstack(np.unique(np.concatenate((np.hstack(matches_n_no_prolines),np.hstack(matches_c_no_prolines),np.hstack(proline_matches),np.hstack(peptide.GetSubstructMatches(Chem.MolFromSmiles('NCC(O)=O'),useChirality=True))))))\n",
    "sidechain_atoms = np.setdiff1d(np.array(range(1,peptide.GetNumAtoms())),backbone_atoms)\n",
    "backbone_atoms\n",
    "# sidechain_atoms"
   ]
  },
  {
   "cell_type": "code",
   "execution_count": 281,
   "id": "5ee983e5-101b-4af1-a27b-c60f5671ff49",
   "metadata": {},
   "outputs": [],
   "source": [
    "matches_double_overlap = peptide.GetSubstructMatches(Chem.MolFromSmiles('NCC(NCC=O)=O'),useChirality=True)\n",
    "matches_double_overlap = [m for m in matches_double_overlap if not any([x in sidechain_atoms for x in m])]\n",
    "count = Counter(np.hstack(matches_double_overlap))\n",
    "matches_double_overlap = [m for m in matches_double_overlap if not all(count[x] > 1 for x in m )]\n",
    "if len(matches_double_overlap) == 2:\n",
    "    n_terminus = [x for x in matches_double_overlap[0] if count[x] == 1]\n",
    "    c_terminus = [x for x in matches_double_overlap[1] if count[x] == 1]\n",
    "else:\n",
    "    print('could not identify termini correctly')"
   ]
  },
  {
   "cell_type": "code",
   "execution_count": 282,
   "id": "75f91bd6-0323-4470-ba5c-3c0faa6a631e",
   "metadata": {},
   "outputs": [
    {
     "data": {
      "text/plain": [
       "array([0, 1, 2, 3])"
      ]
     },
     "execution_count": 282,
     "metadata": {},
     "output_type": "execute_result"
    }
   ],
   "source": [
    "#identify the termini clusters\n",
    "#nterm cluster\n",
    "if any([x in np.hstack(proline_matches) for x in n_terminus]): #n_terminus is a proline\n",
    "    n_terminus = [np.array(proline) for proline in proline_matches if any([x in n_terminus for x in proline])][0]\n",
    "else: #n_terminus is not a proline\n",
    "    n_terminus = [np.array(match) for match in matches if any([x in n_terminus for x in match])][0]\n",
    "n_terminus\n"
   ]
  },
  {
   "cell_type": "code",
   "execution_count": 283,
   "id": "3e2d3a14-04ef-48d6-bcc9-5b30bccf9b83",
   "metadata": {},
   "outputs": [
    {
     "data": {
      "text/plain": [
       "array([88, 90, 91, 95, 97, 96, 92, 93, 94])"
      ]
     },
     "execution_count": 283,
     "metadata": {},
     "output_type": "execute_result"
    }
   ],
   "source": [
    "#cterm cluster\n",
    "if any([x in np.hstack(proline_matches) for x in c_terminus]):\n",
    "    c_terminus = np.array(peptide.GetSubstructMatches(Chem.MolFromSmiles('CN1[C@H](C(O)=O)CCC1'),useChirality=True))[0]\n",
    "else: #c terminus is not a proline\n",
    "    c_terminus = np.array(peptide.GetSubstructMatches(Chem.MolFromSmiles('CNCC(=O)O'),useChirality=True))[0]\n",
    "c_terminus"
   ]
  },
  {
   "cell_type": "code",
   "execution_count": 284,
   "id": "0cab7766-918d-40d2-99a0-6ec49ab2485d",
   "metadata": {},
   "outputs": [
    {
     "data": {
      "text/plain": [
       "[(20, 19, 15, 16, 17, 18, 14, 12)]"
      ]
     },
     "execution_count": 284,
     "metadata": {},
     "output_type": "execute_result"
    }
   ],
   "source": [
    "#non-terminus prolines\n",
    "prolines_non_terminal = [proline for proline in proline_matches if not any([(x in c_terminus) or (x in n_terminus) for x in proline])]\n",
    "if len(prolines_non_terminal) > 0:\n",
    "    prolines_not_terminal_overlap = peptide.GetSubstructMatches(Chem.MolFromSmiles('O=CC1CCCN1C'),useChirality=True)\n",
    "    prolines_not_terminal_overlap = [proline for proline in prolines_not_terminal_overlap if any([x in np.hstack(prolines_non_terminal) for x in proline])]\n",
    "else:\n",
    "    prolines_not_terminal_overlap = []\n",
    "prolines_not_terminal_overlap"
   ]
  },
  {
   "cell_type": "code",
   "execution_count": 285,
   "id": "a751ee95-cc22-486a-911f-73d2866d330e",
   "metadata": {},
   "outputs": [
    {
     "data": {
      "text/plain": [
       "[(13, 12, 5, 4, 2),\n",
       " (29, 28, 22, 21, 19),\n",
       " (35, 34, 31, 30, 28),\n",
       " (43, 42, 37, 36, 34),\n",
       " (50, 49, 45, 44, 42),\n",
       " (60, 59, 52, 51, 49),\n",
       " (72, 71, 62, 61, 59),\n",
       " (83, 82, 74, 73, 71),\n",
       " (89, 88, 85, 84, 82),\n",
       " [88, 90, 91, 95, 97, 96, 92, 93, 94],\n",
       " [0, 1, 2, 3],\n",
       " (20, 19, 15, 16, 17, 18, 14, 12)]"
      ]
     },
     "execution_count": 285,
     "metadata": {},
     "output_type": "execute_result"
    }
   ],
   "source": [
    "clusters = list()\n",
    "[clusters.append(match) for match in matches_c_no_prolines if sum([x in c_terminus for x in match]) < 2]\n",
    "clusters.append(list(c_terminus))\n",
    "clusters.append(list(n_terminus))\n",
    "[clusters.append(proline) for proline in prolines_not_terminal_overlap]\n",
    "clusters"
   ]
  },
  {
   "cell_type": "code",
   "execution_count": 286,
   "id": "6e8d2107-133b-4d6b-86cb-fce5d8524c21",
   "metadata": {},
   "outputs": [
    {
     "name": "stdout",
     "output_type": "stream",
     "text": [
      "starting c_alpha atom index: 1\n",
      "starting c_alpha atom index: 5\n",
      "complete mapped side chain: [6, 7, 8, 9, 10, 11, 87, 86]\n",
      "starting c_alpha atom index: 15\n",
      "skipped proline\n",
      "starting c_alpha atom index: 22\n",
      "complete mapped side chain: [23, 24, 25, 26, 27]\n",
      "starting c_alpha atom index: 31\n",
      "complete mapped side chain: [32, 33, 57, 56, 55, 58, 54, 53]\n",
      "starting c_alpha atom index: 37\n",
      "complete mapped side chain: [38, 39, 40, 41]\n",
      "starting c_alpha atom index: 45\n",
      "complete mapped side chain: [46, 47, 48]\n",
      "starting c_alpha atom index: 52\n",
      "complete mapped side chain: [53, 54, 55, 56, 57, 58, 33, 32]\n",
      "starting c_alpha atom index: 62\n",
      "complete mapped side chain: [63, 64, 65, 70, 66, 69, 67, 68]\n",
      "starting c_alpha atom index: 74\n",
      "complete mapped side chain: [75, 76, 77, 78, 79, 80, 81]\n",
      "starting c_alpha atom index: 85\n",
      "complete mapped side chain: [86, 87, 10, 9, 8, 11, 7, 6]\n",
      "starting c_alpha atom index: 91\n",
      "skipped proline\n"
     ]
    },
    {
     "data": {
      "text/plain": [
       "[(13, 12, 5, 4, 2),\n",
       " (29, 28, 22, 21, 19),\n",
       " (35, 34, 31, 30, 28),\n",
       " (43, 42, 37, 36, 34),\n",
       " (50, 49, 45, 44, 42),\n",
       " (60, 59, 52, 51, 49),\n",
       " (72, 71, 62, 61, 59),\n",
       " (83, 82, 74, 73, 71),\n",
       " (89, 88, 85, 84, 82),\n",
       " [88, 90, 91, 95, 97, 96, 92, 93, 94],\n",
       " [0, 1, 2, 3],\n",
       " (20, 19, 15, 16, 17, 18, 14, 12),\n",
       " array([ 6,  7,  8,  9, 10, 11, 87, 86,  5]),\n",
       " array([23, 24, 25, 26, 27, 22]),\n",
       " array([32, 33, 57, 56, 55, 58, 54, 53, 31]),\n",
       " array([38, 39, 40, 41, 37]),\n",
       " array([46, 47, 48, 45]),\n",
       " array([63, 64, 65, 70, 66, 69, 67, 68, 62]),\n",
       " array([75, 76, 77, 78, 79, 80, 81, 74])]"
      ]
     },
     "execution_count": 286,
     "metadata": {},
     "output_type": "execute_result"
    }
   ],
   "source": [
    "##recursively identify alpha carbons, and map the atom indices that contain their side chains\n",
    "c_alphas = np.array(matches)[:,1]\n",
    "c_alphas_neighbors = [peptide.GetAtomWithIdx(int(x)).GetNeighbors() for x in c_alphas]\n",
    "\n",
    "for index,c_alpha in enumerate(c_alphas):\n",
    "    c_alpha_neighbors = peptide.GetAtomWithIdx(int(c_alpha)).GetNeighbors()\n",
    "    print('starting c_alpha atom index: ' + str(c_alpha))\n",
    "    # print('neighbor indices: ' +str([neighbor.GetIdx() for neighbor in c_alpha_neighbors]))\n",
    "    # print('neighbor atomic masses: ' + str([neighbor.GetAtomicNum() for neighbor in c_alpha_neighbors]))\n",
    "    # print('starting atoms: ' + str([c_alpha_neighbor.GetIdx() for c_alpha_neighbor in c_alpha_neighbors]))\n",
    "    # if c_alpha in c_terminus:\n",
    "    #     print('c terminus skipped: ' + str(c_alpha))\n",
    "    #     continue\n",
    "    if c_alpha in np.hstack(proline_matches):\n",
    "        print('skipped proline')\n",
    "        continue\n",
    "    for neighbor in c_alpha_neighbors:\n",
    "        if (neighbor.GetIdx() not in backbone_atoms) and (neighbor.GetAtomicNum() == 6):\n",
    "            # print('starting side chain atom: '+str(neighbor.GetIdx()) + ', atomic num: ' + str(neighbor.GetAtomicNum()))\n",
    "            side_chain_atoms = np.array([neighbor.GetIdx()])\n",
    "            new_neighbors = neighbor.GetNeighbors()\n",
    "            # print('starting neighbor atom(s): ' + str([new_neighbor.GetIdx() for new_neighbor in new_neighbors]) + ', atomic num(s): ' + str([new_neighbor.GetAtomicNum() for new_neighbor in new_neighbors]))\n",
    "            atoms_to_examine = np.array([])\n",
    "            while(len(new_neighbors) > 0):\n",
    "                for new_neighbor in new_neighbors:\n",
    "                    if (new_neighbor.GetIdx() not in side_chain_atoms) and (new_neighbor.GetIdx() not in backbone_atoms):\n",
    "                        # print('new neighbor atom found, index: ' + str(new_neighbor.GetIdx()))\n",
    "                        side_chain_atoms = np.append(side_chain_atoms,new_neighbor.GetIdx())\n",
    "                        # print('side_chain_atom(s): ' + str(side_chain_atoms))\n",
    "                        atoms_to_examine = np.append(atoms_to_examine,new_neighbor.GetIdx())\n",
    "                        # print('atom(s) to examine: ' + str(atoms_to_examine))\n",
    "                    elif new_neighbor.GetIdx()  in side_chain_atoms:\n",
    "                        # print('already found this atom in side chain: ' + str(new_neighbor.GetIdx()))\n",
    "                        continue\n",
    "                    elif new_neighbor.GetIdx() in backbone_atoms:\n",
    "                        # print('already found this atom in back bone: ' + str(new_neighbor.GetIdx()))\n",
    "                        continue\n",
    "                if len(atoms_to_examine) == 0:\n",
    "                    # print('no new atoms to explore')\n",
    "                    break\n",
    "                else:\n",
    "                    new_neighbors = np.hstack([peptide.GetAtomWithIdx(int(atom)).GetNeighbors() for atom in atoms_to_examine])\n",
    "                    # print('new neighbors to investigate: ' + str([new_neighbor.GetIdx() for new_neighbor in new_neighbors]))\n",
    "                    atoms_to_examine = np.array([])\n",
    "            print('complete mapped side chain: ' + str([x for x in side_chain_atoms]))\n",
    "            if not any([x in np.hstack(clusters) for x in side_chain_atoms]):\n",
    "                clusters.append(np.concatenate([np.array([x for x in side_chain_atoms]),np.array([c_alpha])]))\n",
    "    #neighbors are not in a consistent order\n",
    "\n",
    "clusters\n",
    "# [peptide.GetAtomWithIdx(x).GetNeighbors() for x in c_alphas]"
   ]
  },
  {
   "cell_type": "code",
   "execution_count": 287,
   "id": "ed35c42a-e485-470b-bfed-2860dc546813",
   "metadata": {},
   "outputs": [
    {
     "data": {
      "text/plain": [
       "[[10],\n",
       " [10],\n",
       " [0, 10],\n",
       " [10],\n",
       " [0],\n",
       " [0, 12],\n",
       " [12],\n",
       " [12],\n",
       " [12],\n",
       " [12],\n",
       " [12],\n",
       " [12],\n",
       " [0, 11],\n",
       " [0],\n",
       " [11],\n",
       " [11],\n",
       " [11],\n",
       " [11],\n",
       " [11],\n",
       " [1, 11],\n",
       " [11],\n",
       " [1],\n",
       " [1, 13],\n",
       " [13],\n",
       " [13],\n",
       " [13],\n",
       " [13],\n",
       " [13],\n",
       " [1, 2],\n",
       " [1],\n",
       " [2],\n",
       " [2, 14],\n",
       " [14],\n",
       " [14],\n",
       " [2, 3],\n",
       " [2],\n",
       " [3],\n",
       " [3, 15],\n",
       " [15],\n",
       " [15],\n",
       " [15],\n",
       " [15],\n",
       " [3, 4],\n",
       " [3],\n",
       " [4],\n",
       " [4, 16],\n",
       " [16],\n",
       " [16],\n",
       " [16],\n",
       " [4, 5],\n",
       " [4],\n",
       " [5],\n",
       " [5],\n",
       " [14],\n",
       " [14],\n",
       " [14],\n",
       " [14],\n",
       " [14],\n",
       " [14],\n",
       " [5, 6],\n",
       " [5],\n",
       " [6],\n",
       " [6, 17],\n",
       " [17],\n",
       " [17],\n",
       " [17],\n",
       " [17],\n",
       " [17],\n",
       " [17],\n",
       " [17],\n",
       " [17],\n",
       " [6, 7],\n",
       " [6],\n",
       " [7],\n",
       " [7, 18],\n",
       " [18],\n",
       " [18],\n",
       " [18],\n",
       " [18],\n",
       " [18],\n",
       " [18],\n",
       " [18],\n",
       " [7, 8],\n",
       " [7],\n",
       " [8],\n",
       " [8],\n",
       " [12],\n",
       " [12],\n",
       " [8, 9],\n",
       " [8],\n",
       " [9],\n",
       " [9],\n",
       " [9],\n",
       " [9],\n",
       " [9],\n",
       " [9],\n",
       " [9],\n",
       " [9]]"
      ]
     },
     "execution_count": 287,
     "metadata": {},
     "output_type": "execute_result"
    }
   ],
   "source": [
    "#get atom_cls\n",
    "atom_cls = [[] for i in range(len(peptide.GetAtoms()))]\n",
    "for i in range(len(clusters)):\n",
    "    for atom in clusters[i]:\n",
    "        atom_cls[atom].append(i)\n",
    "atom_cls"
   ]
  },
  {
   "cell_type": "code",
   "execution_count": 214,
   "id": "ca0da4e0-2deb-4f23-ba2f-43366cdc1d80",
   "metadata": {},
   "outputs": [
    {
     "data": {
      "text/plain": [
       "array([ 99, 101, 102, 106, 108, 107, 103, 104, 105])"
      ]
     },
     "execution_count": 214,
     "metadata": {},
     "output_type": "execute_result"
    }
   ],
   "source": []
  },
  {
   "cell_type": "code",
   "execution_count": null,
   "id": "81ff7f20-72e0-4f47-93f2-adf116f7ead9",
   "metadata": {},
   "outputs": [],
   "source": []
  }
 ],
 "metadata": {
  "kernelspec": {
   "display_name": "hgraph-rdkit",
   "language": "python",
   "name": "hgraph-rdkit"
  },
  "language_info": {
   "codemirror_mode": {
    "name": "ipython",
    "version": 3
   },
   "file_extension": ".py",
   "mimetype": "text/x-python",
   "name": "python",
   "nbconvert_exporter": "python",
   "pygments_lexer": "ipython3",
   "version": "3.7.6"
  }
 },
 "nbformat": 4,
 "nbformat_minor": 5
}
