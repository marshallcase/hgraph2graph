{
 "cells": [
  {
   "cell_type": "code",
   "execution_count": 56,
   "id": "f079d86d",
   "metadata": {},
   "outputs": [],
   "source": [
    "#create SMILES strings for positive labels, negative labels, and unlabeled dataset\n",
    "\n",
    "import pandas as pd\n",
    "import numpy as np\n",
    "import os\n",
    "from pandas import DataFrame\n",
    "import sys\n",
    "import matplotlib.pyplot as plt\n",
    "import seaborn as sns\n",
    "from sequence_to_smiles import *\n",
    "from sklearn.model_selection import train_test_split"
   ]
  },
  {
   "cell_type": "code",
   "execution_count": 4,
   "id": "cd719fd3",
   "metadata": {},
   "outputs": [],
   "source": [
    "linker_7 = 'CC(Cn)=O' #Kong et al. Nature biomedical engineering 2020\n",
    "aa_df = pd.read_excel('AA_smiles_dict.xlsx')\n",
    "aa_df = aa_df.set_index('1 letter')\n",
    "aa_dict = dict(zip(aa_df.index,aa_df['full smiles']))"
   ]
  },
  {
   "cell_type": "code",
   "execution_count": 5,
   "id": "cab812cf",
   "metadata": {},
   "outputs": [
    {
     "data": {
      "text/plain": [
       "{'A': 'N[C@@H](C)C(=O)',\n",
       " 'C': 'N[C@@H](CS)C(=O)',\n",
       " 'D': 'N[C@@H](CC(=O)O)C(=O)',\n",
       " 'E': 'N[C@@H](CCC(=O)O)C(=O)',\n",
       " 'F': 'N[C@@H](Cc1ccccc1)C(=O)',\n",
       " 'G': 'N[C@@H]([H])C(=O)',\n",
       " 'H': 'N[C@@H](CC1=CN=C-N1)C(=O)',\n",
       " 'I': 'N[C@@H]([C@]([H])(CC)C)C(=O)',\n",
       " 'K': 'N[C@@H](CCCCN)C(=O)',\n",
       " 'L': 'N[C@@H](CC(C)C)C(=O)',\n",
       " 'M': 'N[C@@H](CCSC)C(=O)',\n",
       " 'N': 'N[C@@H](CC(=O)N)C(=O)',\n",
       " 'P': 'N1[C@@H](CCC1)C(=O)',\n",
       " 'Q': 'N[C@@H](CCC(=O)N)C(=O)',\n",
       " 'R': 'N[C@@H](CCCNC(=N)N)C(=O)',\n",
       " 'S': 'N[C@@H](CO)C(=O)',\n",
       " 'T': 'N[C@@H]([C@]([H])(O)C)C(=O)',\n",
       " 'V': 'N[C@@H](C(C)C)C(=O)',\n",
       " 'W': 'N[C@@H](CC(=CN2)C1=C2C=CC=C1)C(=O)',\n",
       " 'Y': 'N[C@@H](Cc1ccc(O)cc1)C(=O)',\n",
       " 'Z': 'N[C@@H](CCN=[N+]=[N-])C(=O)'}"
      ]
     },
     "execution_count": 5,
     "metadata": {},
     "output_type": "execute_result"
    }
   ],
   "source": [
    "aa_dict"
   ]
  },
  {
   "cell_type": "code",
   "execution_count": 6,
   "id": "29e42e7f",
   "metadata": {},
   "outputs": [
    {
     "data": {
      "text/plain": [
       "0         TCVPEHCSCYRCP\n",
       "1            KCFDCCYRCP\n",
       "2            YCSLCCYRCP\n",
       "3            FCLSCCYRCP\n",
       "4             SCDCCYRCP\n",
       "              ...      \n",
       "76152    FCGGFMCDMCYRCP\n",
       "76153      SCYRCYCAVPCF\n",
       "76154     SCYRCYCPIWRCE\n",
       "76155     SCYRCYCSIRHCE\n",
       "76156     SCYRCYCSVWHCE\n",
       "Name: sequences_translated, Length: 76157, dtype: object"
      ]
     },
     "execution_count": 6,
     "metadata": {},
     "output_type": "execute_result"
    }
   ],
   "source": [
    "merged_cleaned = pd.read_csv('merged_cleaned.csv')\n",
    "merged_cleaned = merged_cleaned.loc[merged_cleaned['sequences_translated'].str.count('C')==4]\n",
    "merged_cleaned['sequences_translated']"
   ]
  },
  {
   "cell_type": "code",
   "execution_count": 7,
   "id": "861b65b9",
   "metadata": {},
   "outputs": [],
   "source": [
    "smiles_seq = getSmilesFromAA('FCGGFMCDMCYRCP')\n",
    "#smiles = [getCrosslinkedSeq(getSmilesFromAA(seq),linker_7) for seq in merged_cleaned['sequences_translated']]"
   ]
  },
  {
   "cell_type": "code",
   "execution_count": 8,
   "id": "2303a0ea",
   "metadata": {},
   "outputs": [
    {
     "data": {
      "text/plain": [
       "(32, 123, 178, 244)"
      ]
     },
     "execution_count": 8,
     "metadata": {},
     "output_type": "execute_result"
    }
   ],
   "source": [
    "c1,c2,c3,c4=[m.start() for m in re.finditer('S\\)',smiles_seq)]\n",
    "staple=linker_7\n",
    "c1,c2,c3,c4"
   ]
  },
  {
   "cell_type": "code",
   "execution_count": 9,
   "id": "f67c7c96",
   "metadata": {},
   "outputs": [],
   "source": [
    "if smiles_seq.count('S)') != 4:\n",
    "    print('incorrect number of Cys residues, needs to have four')"
   ]
  },
  {
   "cell_type": "code",
   "execution_count": 10,
   "id": "df1a4025",
   "metadata": {},
   "outputs": [],
   "source": [
    "def getCrosslinkedSeq(smiles_seq,staple):\n",
    "    #get 3 reacted products from cyclic peptide reaction from Wong et al. 2020\n",
    "    if smiles_seq.count('S)') != 4:\n",
    "        print('incorrect number of Cys residues, needs to have four')\n",
    "        return None\n",
    "    elif len(staple.split('n')) != 2:\n",
    "        print('incorrect attachment form of the linker. Linker needs to like: CC(Cn)=O where \\'n\\' is the attachment point for the second atom')\n",
    "        return None\n",
    "    else:\n",
    "        c1,c2,c3,c4=[m.start() for m in re.finditer('S\\)',smiles_seq)]\n",
    "        smiles_seq_updated_1 = smiles_seq[:c1+1]+staple.split('n')[0] + str(3) + staple.split('n')[1]+smiles_seq[c1+1:c2+1]+'3'+\\\n",
    "            smiles_seq[c2+1:c3+1] + staple.split('n')[0] + str(3) + staple.split('n')[1] + smiles_seq[c3+1:c4+1] + '3' +\\\n",
    "            smiles_seq[c4+1:]\n",
    "        smiles_seq_updated_2 = smiles_seq[:c1+1]+staple.split('n')[0] + str(4) + staple.split('n')[1]+smiles_seq[c1+1:c2+1]+'3'+\\\n",
    "            smiles_seq[c2+1:c3+1] + staple.split('n')[0] + str(3) + staple.split('n')[1] + smiles_seq[c3+1:c4+1] + '4' +\\\n",
    "            smiles_seq[c4+1:]\n",
    "        smiles_seq_updated_3 = smiles_seq[:c1+1]+staple.split('n')[0] + str(3) + staple.split('n')[1] + smiles_seq[c1+1:c2+1] +\\\n",
    "            staple.split('n')[0] + '4'+ staple.split('n')[1]+ smiles_seq[c2+1:c3+1]  + str(3)  + smiles_seq[c3+1:c4+1] + '4' +\\\n",
    "            smiles_seq[c4+1:]\n",
    "        return smiles_seq_updated_1,smiles_seq_updated_2,smiles_seq_updated_3"
   ]
  },
  {
   "cell_type": "code",
   "execution_count": 11,
   "id": "df4faaaf",
   "metadata": {},
   "outputs": [
    {
     "data": {
      "text/plain": [
       "('N[C@@H](Cc1ccccc1)C(=O)N[C@@H](CSCC(C3)=O)C(=O)N[C@@H]([H])C(=O)N[C@@H]([H])C(=O)N[C@@H](Cc1ccccc1)C(=O)N[C@@H](CCSC)C(=O)N[C@@H](CS3)C(=O)N[C@@H](CC(=O)O)C(=O)N[C@@H](CCSC)C(=O)N[C@@H](CSCC(C3)=O)C(=O)N[C@@H](Cc1ccc(O)cc1)C(=O)N[C@@H](CCCNC(=N)N)C(=O)N[C@@H](CS3)C(=O)N1[C@@H](CCC1)C(=O)O',\n",
       " 'N[C@@H](Cc1ccccc1)C(=O)N[C@@H](CSCC(C4)=O)C(=O)N[C@@H]([H])C(=O)N[C@@H]([H])C(=O)N[C@@H](Cc1ccccc1)C(=O)N[C@@H](CCSC)C(=O)N[C@@H](CS3)C(=O)N[C@@H](CC(=O)O)C(=O)N[C@@H](CCSC)C(=O)N[C@@H](CSCC(C3)=O)C(=O)N[C@@H](Cc1ccc(O)cc1)C(=O)N[C@@H](CCCNC(=N)N)C(=O)N[C@@H](CS4)C(=O)N1[C@@H](CCC1)C(=O)O',\n",
       " 'N[C@@H](Cc1ccccc1)C(=O)N[C@@H](CSCC(C3)=O)C(=O)N[C@@H]([H])C(=O)N[C@@H]([H])C(=O)N[C@@H](Cc1ccccc1)C(=O)N[C@@H](CCSC)C(=O)N[C@@H](CSCC(C4)=O)C(=O)N[C@@H](CC(=O)O)C(=O)N[C@@H](CCSC)C(=O)N[C@@H](CS3)C(=O)N[C@@H](Cc1ccc(O)cc1)C(=O)N[C@@H](CCCNC(=N)N)C(=O)N[C@@H](CS4)C(=O)N1[C@@H](CCC1)C(=O)O')"
      ]
     },
     "execution_count": 11,
     "metadata": {},
     "output_type": "execute_result"
    }
   ],
   "source": [
    "getCrosslinkedSeq(smiles_seq,linker_7)"
   ]
  },
  {
   "cell_type": "code",
   "execution_count": 17,
   "id": "7a8d3208",
   "metadata": {},
   "outputs": [
    {
     "name": "stdout",
     "output_type": "stream",
     "text": [
      "truncated length: 7616\n"
     ]
    }
   ],
   "source": [
    "smiles = [getCrosslinkedSeq(getSmilesFromAA(seq),linker_7) for seq in merged_cleaned['sequences_translated']]\n",
    "truncated_length = int(np.around(len(merged_cleaned['sequences_translated'])/10))\n",
    "print('truncated length: ' + str(truncated_length))\n",
    "smiles_truncated_data = [getCrosslinkedSeq(getSmilesFromAA(seq),linker_7) for seq in merged_cleaned['sequences_translated'][:truncated_length]]"
   ]
  },
  {
   "cell_type": "code",
   "execution_count": 18,
   "id": "4ddf94fc",
   "metadata": {},
   "outputs": [
    {
     "data": {
      "text/plain": [
       "[('N[C@@H]([C@]([H])(O)C)C(=O)N[C@@H](CSCC(C3)=O)C(=O)N[C@@H](C(C)C)C(=O)N1[C@@H](CCC1)C(=O)N[C@@H](CCC(=O)O)C(=O)N[C@@H](CC1=CN=C-N1)C(=O)N[C@@H](CS3)C(=O)N[C@@H](CO)C(=O)N[C@@H](CSCC(C3)=O)C(=O)N[C@@H](Cc1ccc(O)cc1)C(=O)N[C@@H](CCCNC(=N)N)C(=O)N[C@@H](CS3)C(=O)N1[C@@H](CCC1)C(=O)O',\n",
       "  'N[C@@H]([C@]([H])(O)C)C(=O)N[C@@H](CSCC(C4)=O)C(=O)N[C@@H](C(C)C)C(=O)N1[C@@H](CCC1)C(=O)N[C@@H](CCC(=O)O)C(=O)N[C@@H](CC1=CN=C-N1)C(=O)N[C@@H](CS3)C(=O)N[C@@H](CO)C(=O)N[C@@H](CSCC(C3)=O)C(=O)N[C@@H](Cc1ccc(O)cc1)C(=O)N[C@@H](CCCNC(=N)N)C(=O)N[C@@H](CS4)C(=O)N1[C@@H](CCC1)C(=O)O',\n",
       "  'N[C@@H]([C@]([H])(O)C)C(=O)N[C@@H](CSCC(C3)=O)C(=O)N[C@@H](C(C)C)C(=O)N1[C@@H](CCC1)C(=O)N[C@@H](CCC(=O)O)C(=O)N[C@@H](CC1=CN=C-N1)C(=O)N[C@@H](CSCC(C4)=O)C(=O)N[C@@H](CO)C(=O)N[C@@H](CS3)C(=O)N[C@@H](Cc1ccc(O)cc1)C(=O)N[C@@H](CCCNC(=N)N)C(=O)N[C@@H](CS4)C(=O)N1[C@@H](CCC1)C(=O)O'),\n",
       " ('N[C@@H](CCCCN)C(=O)N[C@@H](CSCC(C3)=O)C(=O)N[C@@H](Cc1ccccc1)C(=O)N[C@@H](CC(=O)O)C(=O)N[C@@H](CS3)C(=O)N[C@@H](CSCC(C3)=O)C(=O)N[C@@H](Cc1ccc(O)cc1)C(=O)N[C@@H](CCCNC(=N)N)C(=O)N[C@@H](CS3)C(=O)N1[C@@H](CCC1)C(=O)O',\n",
       "  'N[C@@H](CCCCN)C(=O)N[C@@H](CSCC(C4)=O)C(=O)N[C@@H](Cc1ccccc1)C(=O)N[C@@H](CC(=O)O)C(=O)N[C@@H](CS3)C(=O)N[C@@H](CSCC(C3)=O)C(=O)N[C@@H](Cc1ccc(O)cc1)C(=O)N[C@@H](CCCNC(=N)N)C(=O)N[C@@H](CS4)C(=O)N1[C@@H](CCC1)C(=O)O',\n",
       "  'N[C@@H](CCCCN)C(=O)N[C@@H](CSCC(C3)=O)C(=O)N[C@@H](Cc1ccccc1)C(=O)N[C@@H](CC(=O)O)C(=O)N[C@@H](CSCC(C4)=O)C(=O)N[C@@H](CS3)C(=O)N[C@@H](Cc1ccc(O)cc1)C(=O)N[C@@H](CCCNC(=N)N)C(=O)N[C@@H](CS4)C(=O)N1[C@@H](CCC1)C(=O)O'),\n",
       " ('N[C@@H](Cc1ccc(O)cc1)C(=O)N[C@@H](CSCC(C3)=O)C(=O)N[C@@H](CO)C(=O)N[C@@H](CC(C)C)C(=O)N[C@@H](CS3)C(=O)N[C@@H](CSCC(C3)=O)C(=O)N[C@@H](Cc1ccc(O)cc1)C(=O)N[C@@H](CCCNC(=N)N)C(=O)N[C@@H](CS3)C(=O)N1[C@@H](CCC1)C(=O)O',\n",
       "  'N[C@@H](Cc1ccc(O)cc1)C(=O)N[C@@H](CSCC(C4)=O)C(=O)N[C@@H](CO)C(=O)N[C@@H](CC(C)C)C(=O)N[C@@H](CS3)C(=O)N[C@@H](CSCC(C3)=O)C(=O)N[C@@H](Cc1ccc(O)cc1)C(=O)N[C@@H](CCCNC(=N)N)C(=O)N[C@@H](CS4)C(=O)N1[C@@H](CCC1)C(=O)O',\n",
       "  'N[C@@H](Cc1ccc(O)cc1)C(=O)N[C@@H](CSCC(C3)=O)C(=O)N[C@@H](CO)C(=O)N[C@@H](CC(C)C)C(=O)N[C@@H](CSCC(C4)=O)C(=O)N[C@@H](CS3)C(=O)N[C@@H](Cc1ccc(O)cc1)C(=O)N[C@@H](CCCNC(=N)N)C(=O)N[C@@H](CS4)C(=O)N1[C@@H](CCC1)C(=O)O'),\n",
       " ('N[C@@H](Cc1ccccc1)C(=O)N[C@@H](CSCC(C3)=O)C(=O)N[C@@H](CC(C)C)C(=O)N[C@@H](CO)C(=O)N[C@@H](CS3)C(=O)N[C@@H](CSCC(C3)=O)C(=O)N[C@@H](Cc1ccc(O)cc1)C(=O)N[C@@H](CCCNC(=N)N)C(=O)N[C@@H](CS3)C(=O)N1[C@@H](CCC1)C(=O)O',\n",
       "  'N[C@@H](Cc1ccccc1)C(=O)N[C@@H](CSCC(C4)=O)C(=O)N[C@@H](CC(C)C)C(=O)N[C@@H](CO)C(=O)N[C@@H](CS3)C(=O)N[C@@H](CSCC(C3)=O)C(=O)N[C@@H](Cc1ccc(O)cc1)C(=O)N[C@@H](CCCNC(=N)N)C(=O)N[C@@H](CS4)C(=O)N1[C@@H](CCC1)C(=O)O',\n",
       "  'N[C@@H](Cc1ccccc1)C(=O)N[C@@H](CSCC(C3)=O)C(=O)N[C@@H](CC(C)C)C(=O)N[C@@H](CO)C(=O)N[C@@H](CSCC(C4)=O)C(=O)N[C@@H](CS3)C(=O)N[C@@H](Cc1ccc(O)cc1)C(=O)N[C@@H](CCCNC(=N)N)C(=O)N[C@@H](CS4)C(=O)N1[C@@H](CCC1)C(=O)O'),\n",
       " ('N[C@@H](CO)C(=O)N[C@@H](CSCC(C3)=O)C(=O)N[C@@H](CC(=O)O)C(=O)N[C@@H](CS3)C(=O)N[C@@H](CSCC(C3)=O)C(=O)N[C@@H](Cc1ccc(O)cc1)C(=O)N[C@@H](CCCNC(=N)N)C(=O)N[C@@H](CS3)C(=O)N1[C@@H](CCC1)C(=O)O',\n",
       "  'N[C@@H](CO)C(=O)N[C@@H](CSCC(C4)=O)C(=O)N[C@@H](CC(=O)O)C(=O)N[C@@H](CS3)C(=O)N[C@@H](CSCC(C3)=O)C(=O)N[C@@H](Cc1ccc(O)cc1)C(=O)N[C@@H](CCCNC(=N)N)C(=O)N[C@@H](CS4)C(=O)N1[C@@H](CCC1)C(=O)O',\n",
       "  'N[C@@H](CO)C(=O)N[C@@H](CSCC(C3)=O)C(=O)N[C@@H](CC(=O)O)C(=O)N[C@@H](CSCC(C4)=O)C(=O)N[C@@H](CS3)C(=O)N[C@@H](Cc1ccc(O)cc1)C(=O)N[C@@H](CCCNC(=N)N)C(=O)N[C@@H](CS4)C(=O)N1[C@@H](CCC1)C(=O)O')]"
      ]
     },
     "execution_count": 18,
     "metadata": {},
     "output_type": "execute_result"
    }
   ],
   "source": [
    "smiles_truncated_data[:5]"
   ]
  },
  {
   "cell_type": "code",
   "execution_count": 19,
   "id": "e63b0cd1",
   "metadata": {},
   "outputs": [],
   "source": [
    "smiles = np.hstack(smiles)\n",
    "smiles_truncated_data = np.hstack(smiles_truncated_data)"
   ]
  },
  {
   "cell_type": "code",
   "execution_count": 20,
   "id": "8d695c71",
   "metadata": {},
   "outputs": [
    {
     "data": {
      "text/plain": [
       "array(['N[C@@H]([C@]([H])(O)C)C(=O)N[C@@H](CSCC(C3)=O)C(=O)N[C@@H](C(C)C)C(=O)N1[C@@H](CCC1)C(=O)N[C@@H](CCC(=O)O)C(=O)N[C@@H](CC1=CN=C-N1)C(=O)N[C@@H](CS3)C(=O)N[C@@H](CO)C(=O)N[C@@H](CSCC(C3)=O)C(=O)N[C@@H](Cc1ccc(O)cc1)C(=O)N[C@@H](CCCNC(=N)N)C(=O)N[C@@H](CS3)C(=O)N1[C@@H](CCC1)C(=O)O',\n",
       "       'N[C@@H]([C@]([H])(O)C)C(=O)N[C@@H](CSCC(C4)=O)C(=O)N[C@@H](C(C)C)C(=O)N1[C@@H](CCC1)C(=O)N[C@@H](CCC(=O)O)C(=O)N[C@@H](CC1=CN=C-N1)C(=O)N[C@@H](CS3)C(=O)N[C@@H](CO)C(=O)N[C@@H](CSCC(C3)=O)C(=O)N[C@@H](Cc1ccc(O)cc1)C(=O)N[C@@H](CCCNC(=N)N)C(=O)N[C@@H](CS4)C(=O)N1[C@@H](CCC1)C(=O)O',\n",
       "       'N[C@@H]([C@]([H])(O)C)C(=O)N[C@@H](CSCC(C3)=O)C(=O)N[C@@H](C(C)C)C(=O)N1[C@@H](CCC1)C(=O)N[C@@H](CCC(=O)O)C(=O)N[C@@H](CC1=CN=C-N1)C(=O)N[C@@H](CSCC(C4)=O)C(=O)N[C@@H](CO)C(=O)N[C@@H](CS3)C(=O)N[C@@H](Cc1ccc(O)cc1)C(=O)N[C@@H](CCCNC(=N)N)C(=O)N[C@@H](CS4)C(=O)N1[C@@H](CCC1)C(=O)O',\n",
       "       ...,\n",
       "       'N[C@@H](Cc1ccc(O)cc1)C(=O)N[C@@H](CSCC(C3)=O)C(=O)N[C@@H](CO)C(=O)N[C@@H](CC(C)C)C(=O)N[C@@H](CS3)C(=O)N[C@@H](CSCC(C3)=O)C(=O)N[C@@H](Cc1ccc(O)cc1)C(=O)N[C@@H](CC(=CN2)C1=C2C=CC=C1)C(=O)N[C@@H](CS3)C(=O)N1[C@@H](CCC1)C(=O)O',\n",
       "       'N[C@@H](Cc1ccc(O)cc1)C(=O)N[C@@H](CSCC(C4)=O)C(=O)N[C@@H](CO)C(=O)N[C@@H](CC(C)C)C(=O)N[C@@H](CS3)C(=O)N[C@@H](CSCC(C3)=O)C(=O)N[C@@H](Cc1ccc(O)cc1)C(=O)N[C@@H](CC(=CN2)C1=C2C=CC=C1)C(=O)N[C@@H](CS4)C(=O)N1[C@@H](CCC1)C(=O)O',\n",
       "       'N[C@@H](Cc1ccc(O)cc1)C(=O)N[C@@H](CSCC(C3)=O)C(=O)N[C@@H](CO)C(=O)N[C@@H](CC(C)C)C(=O)N[C@@H](CSCC(C4)=O)C(=O)N[C@@H](CS3)C(=O)N[C@@H](Cc1ccc(O)cc1)C(=O)N[C@@H](CC(=CN2)C1=C2C=CC=C1)C(=O)N[C@@H](CS4)C(=O)N1[C@@H](CCC1)C(=O)O'],\n",
       "      dtype='<U335')"
      ]
     },
     "execution_count": 20,
     "metadata": {},
     "output_type": "execute_result"
    }
   ],
   "source": [
    "smiles_truncated_data"
   ]
  },
  {
   "cell_type": "code",
   "execution_count": 21,
   "id": "063ea3a7",
   "metadata": {},
   "outputs": [],
   "source": [
    "smiles = pd.DataFrame(smiles)\n",
    "smiles_truncated_data = pd.DataFrame(smiles_truncated_data)"
   ]
  },
  {
   "cell_type": "code",
   "execution_count": 22,
   "id": "42944148",
   "metadata": {},
   "outputs": [
    {
     "data": {
      "text/html": [
       "<div>\n",
       "<style scoped>\n",
       "    .dataframe tbody tr th:only-of-type {\n",
       "        vertical-align: middle;\n",
       "    }\n",
       "\n",
       "    .dataframe tbody tr th {\n",
       "        vertical-align: top;\n",
       "    }\n",
       "\n",
       "    .dataframe thead th {\n",
       "        text-align: right;\n",
       "    }\n",
       "</style>\n",
       "<table border=\"1\" class=\"dataframe\">\n",
       "  <thead>\n",
       "    <tr style=\"text-align: right;\">\n",
       "      <th></th>\n",
       "      <th>0</th>\n",
       "    </tr>\n",
       "  </thead>\n",
       "  <tbody>\n",
       "    <tr>\n",
       "      <th>0</th>\n",
       "      <td>N[C@@H]([C@]([H])(O)C)C(=O)N[C@@H](CSCC(C3)=O)...</td>\n",
       "    </tr>\n",
       "    <tr>\n",
       "      <th>1</th>\n",
       "      <td>N[C@@H]([C@]([H])(O)C)C(=O)N[C@@H](CSCC(C4)=O)...</td>\n",
       "    </tr>\n",
       "    <tr>\n",
       "      <th>2</th>\n",
       "      <td>N[C@@H]([C@]([H])(O)C)C(=O)N[C@@H](CSCC(C3)=O)...</td>\n",
       "    </tr>\n",
       "    <tr>\n",
       "      <th>3</th>\n",
       "      <td>N[C@@H](CCCCN)C(=O)N[C@@H](CSCC(C3)=O)C(=O)N[C...</td>\n",
       "    </tr>\n",
       "    <tr>\n",
       "      <th>4</th>\n",
       "      <td>N[C@@H](CCCCN)C(=O)N[C@@H](CSCC(C4)=O)C(=O)N[C...</td>\n",
       "    </tr>\n",
       "    <tr>\n",
       "      <th>...</th>\n",
       "      <td>...</td>\n",
       "    </tr>\n",
       "    <tr>\n",
       "      <th>22843</th>\n",
       "      <td>N[C@@H](CO)C(=O)N[C@@H](CSCC(C4)=O)C(=O)N[C@@H...</td>\n",
       "    </tr>\n",
       "    <tr>\n",
       "      <th>22844</th>\n",
       "      <td>N[C@@H](CO)C(=O)N[C@@H](CSCC(C3)=O)C(=O)N[C@@H...</td>\n",
       "    </tr>\n",
       "    <tr>\n",
       "      <th>22845</th>\n",
       "      <td>N[C@@H](Cc1ccc(O)cc1)C(=O)N[C@@H](CSCC(C3)=O)C...</td>\n",
       "    </tr>\n",
       "    <tr>\n",
       "      <th>22846</th>\n",
       "      <td>N[C@@H](Cc1ccc(O)cc1)C(=O)N[C@@H](CSCC(C4)=O)C...</td>\n",
       "    </tr>\n",
       "    <tr>\n",
       "      <th>22847</th>\n",
       "      <td>N[C@@H](Cc1ccc(O)cc1)C(=O)N[C@@H](CSCC(C3)=O)C...</td>\n",
       "    </tr>\n",
       "  </tbody>\n",
       "</table>\n",
       "<p>22848 rows × 1 columns</p>\n",
       "</div>"
      ],
      "text/plain": [
       "                                                       0\n",
       "0      N[C@@H]([C@]([H])(O)C)C(=O)N[C@@H](CSCC(C3)=O)...\n",
       "1      N[C@@H]([C@]([H])(O)C)C(=O)N[C@@H](CSCC(C4)=O)...\n",
       "2      N[C@@H]([C@]([H])(O)C)C(=O)N[C@@H](CSCC(C3)=O)...\n",
       "3      N[C@@H](CCCCN)C(=O)N[C@@H](CSCC(C3)=O)C(=O)N[C...\n",
       "4      N[C@@H](CCCCN)C(=O)N[C@@H](CSCC(C4)=O)C(=O)N[C...\n",
       "...                                                  ...\n",
       "22843  N[C@@H](CO)C(=O)N[C@@H](CSCC(C4)=O)C(=O)N[C@@H...\n",
       "22844  N[C@@H](CO)C(=O)N[C@@H](CSCC(C3)=O)C(=O)N[C@@H...\n",
       "22845  N[C@@H](Cc1ccc(O)cc1)C(=O)N[C@@H](CSCC(C3)=O)C...\n",
       "22846  N[C@@H](Cc1ccc(O)cc1)C(=O)N[C@@H](CSCC(C4)=O)C...\n",
       "22847  N[C@@H](Cc1ccc(O)cc1)C(=O)N[C@@H](CSCC(C3)=O)C...\n",
       "\n",
       "[22848 rows x 1 columns]"
      ]
     },
     "execution_count": 22,
     "metadata": {},
     "output_type": "execute_result"
    }
   ],
   "source": [
    "smiles_truncated_data"
   ]
  },
  {
   "cell_type": "code",
   "execution_count": 23,
   "id": "4e4d6035",
   "metadata": {},
   "outputs": [],
   "source": [
    "# #output pretraining data\n",
    "# smiles.to_csv('cyclic_peptide_smiles.txt', header=None, index=None, sep=' ', mode='a')\n",
    "# smiles_truncated_data.to_csv('cyclic_peptide_smiles_truncated.txt',header=None,index=None,mode='a',sep=' ')"
   ]
  },
  {
   "cell_type": "code",
   "execution_count": 24,
   "id": "7afb99a1",
   "metadata": {},
   "outputs": [],
   "source": [
    "#output training and test data from positive and negative labels\n",
    "positive = pd.read_csv('positive_labels.csv')\n",
    "negative = pd.read_csv('negative_labels.csv')"
   ]
  },
  {
   "cell_type": "code",
   "execution_count": 26,
   "id": "d4799b98-2563-4960-98aa-a2754f696d77",
   "metadata": {},
   "outputs": [
    {
     "data": {
      "text/html": [
       "<div>\n",
       "<style scoped>\n",
       "    .dataframe tbody tr th:only-of-type {\n",
       "        vertical-align: middle;\n",
       "    }\n",
       "\n",
       "    .dataframe tbody tr th {\n",
       "        vertical-align: top;\n",
       "    }\n",
       "\n",
       "    .dataframe thead th {\n",
       "        text-align: right;\n",
       "    }\n",
       "</style>\n",
       "<table border=\"1\" class=\"dataframe\">\n",
       "  <thead>\n",
       "    <tr style=\"text-align: right;\">\n",
       "      <th></th>\n",
       "      <th>sequences_translated</th>\n",
       "      <th>Stable</th>\n",
       "    </tr>\n",
       "  </thead>\n",
       "  <tbody>\n",
       "    <tr>\n",
       "      <th>0</th>\n",
       "      <td>KCFDCCYRCP</td>\n",
       "      <td>1</td>\n",
       "    </tr>\n",
       "    <tr>\n",
       "      <th>1</th>\n",
       "      <td>YCSLCCYRCP</td>\n",
       "      <td>1</td>\n",
       "    </tr>\n",
       "    <tr>\n",
       "      <th>2</th>\n",
       "      <td>FCLSCCYRCP</td>\n",
       "      <td>1</td>\n",
       "    </tr>\n",
       "    <tr>\n",
       "      <th>3</th>\n",
       "      <td>SCDCCYRCP</td>\n",
       "      <td>1</td>\n",
       "    </tr>\n",
       "    <tr>\n",
       "      <th>4</th>\n",
       "      <td>ICTNCRSYCDRCP</td>\n",
       "      <td>1</td>\n",
       "    </tr>\n",
       "  </tbody>\n",
       "</table>\n",
       "</div>"
      ],
      "text/plain": [
       "  sequences_translated  Stable\n",
       "0           KCFDCCYRCP       1\n",
       "1           YCSLCCYRCP       1\n",
       "2           FCLSCCYRCP       1\n",
       "3            SCDCCYRCP       1\n",
       "4        ICTNCRSYCDRCP       1"
      ]
     },
     "execution_count": 26,
     "metadata": {},
     "output_type": "execute_result"
    }
   ],
   "source": [
    "positive.head()"
   ]
  },
  {
   "cell_type": "code",
   "execution_count": 27,
   "id": "e2319d1d-3a7f-44d0-a2b0-907f68d821ce",
   "metadata": {},
   "outputs": [
    {
     "data": {
      "text/html": [
       "<div>\n",
       "<style scoped>\n",
       "    .dataframe tbody tr th:only-of-type {\n",
       "        vertical-align: middle;\n",
       "    }\n",
       "\n",
       "    .dataframe tbody tr th {\n",
       "        vertical-align: top;\n",
       "    }\n",
       "\n",
       "    .dataframe thead th {\n",
       "        text-align: right;\n",
       "    }\n",
       "</style>\n",
       "<table border=\"1\" class=\"dataframe\">\n",
       "  <thead>\n",
       "    <tr style=\"text-align: right;\">\n",
       "      <th></th>\n",
       "      <th>sequences_translated</th>\n",
       "      <th>Stable</th>\n",
       "    </tr>\n",
       "  </thead>\n",
       "  <tbody>\n",
       "    <tr>\n",
       "      <th>0</th>\n",
       "      <td>TCVPEHCSCYRCP</td>\n",
       "      <td>0</td>\n",
       "    </tr>\n",
       "    <tr>\n",
       "      <th>1</th>\n",
       "      <td>YCFLCCYRCP</td>\n",
       "      <td>0</td>\n",
       "    </tr>\n",
       "    <tr>\n",
       "      <th>2</th>\n",
       "      <td>FCYRCCSWLGCD</td>\n",
       "      <td>0</td>\n",
       "    </tr>\n",
       "    <tr>\n",
       "      <th>3</th>\n",
       "      <td>FCFRCLPCEYCP</td>\n",
       "      <td>0</td>\n",
       "    </tr>\n",
       "    <tr>\n",
       "      <th>4</th>\n",
       "      <td>GCGFCDRCLPCY</td>\n",
       "      <td>0</td>\n",
       "    </tr>\n",
       "  </tbody>\n",
       "</table>\n",
       "</div>"
      ],
      "text/plain": [
       "  sequences_translated  Stable\n",
       "0        TCVPEHCSCYRCP       0\n",
       "1           YCFLCCYRCP       0\n",
       "2         FCYRCCSWLGCD       0\n",
       "3         FCFRCLPCEYCP       0\n",
       "4         GCGFCDRCLPCY       0"
      ]
     },
     "execution_count": 27,
     "metadata": {},
     "output_type": "execute_result"
    }
   ],
   "source": [
    "negative.head()"
   ]
  },
  {
   "cell_type": "code",
   "execution_count": 48,
   "id": "88613724-aafd-4551-80b1-d5aa3fb43eee",
   "metadata": {},
   "outputs": [
    {
     "data": {
      "text/html": [
       "<div>\n",
       "<style scoped>\n",
       "    .dataframe tbody tr th:only-of-type {\n",
       "        vertical-align: middle;\n",
       "    }\n",
       "\n",
       "    .dataframe tbody tr th {\n",
       "        vertical-align: top;\n",
       "    }\n",
       "\n",
       "    .dataframe thead th {\n",
       "        text-align: right;\n",
       "    }\n",
       "</style>\n",
       "<table border=\"1\" class=\"dataframe\">\n",
       "  <thead>\n",
       "    <tr style=\"text-align: right;\">\n",
       "      <th></th>\n",
       "      <th>sequences_translated</th>\n",
       "      <th>Stable</th>\n",
       "    </tr>\n",
       "  </thead>\n",
       "  <tbody>\n",
       "    <tr>\n",
       "      <th>0</th>\n",
       "      <td>KCFDCCYRCP</td>\n",
       "      <td>1</td>\n",
       "    </tr>\n",
       "    <tr>\n",
       "      <th>1</th>\n",
       "      <td>YCSLCCYRCP</td>\n",
       "      <td>1</td>\n",
       "    </tr>\n",
       "    <tr>\n",
       "      <th>2</th>\n",
       "      <td>FCLSCCYRCP</td>\n",
       "      <td>1</td>\n",
       "    </tr>\n",
       "    <tr>\n",
       "      <th>3</th>\n",
       "      <td>SCDCCYRCP</td>\n",
       "      <td>1</td>\n",
       "    </tr>\n",
       "    <tr>\n",
       "      <th>4</th>\n",
       "      <td>ICTNCRSYCDRCP</td>\n",
       "      <td>1</td>\n",
       "    </tr>\n",
       "    <tr>\n",
       "      <th>...</th>\n",
       "      <td>...</td>\n",
       "      <td>...</td>\n",
       "    </tr>\n",
       "    <tr>\n",
       "      <th>1289</th>\n",
       "      <td>ECSNFFCCRCP</td>\n",
       "      <td>0</td>\n",
       "    </tr>\n",
       "    <tr>\n",
       "      <th>1290</th>\n",
       "      <td>TCYRCTCYFCN</td>\n",
       "      <td>0</td>\n",
       "    </tr>\n",
       "    <tr>\n",
       "      <th>1291</th>\n",
       "      <td>LCFRCCVFPWCD</td>\n",
       "      <td>0</td>\n",
       "    </tr>\n",
       "    <tr>\n",
       "      <th>1292</th>\n",
       "      <td>MCFRCDCARPHCA</td>\n",
       "      <td>0</td>\n",
       "    </tr>\n",
       "    <tr>\n",
       "      <th>1293</th>\n",
       "      <td>LCSSCYRCPWCD</td>\n",
       "      <td>0</td>\n",
       "    </tr>\n",
       "  </tbody>\n",
       "</table>\n",
       "<p>1294 rows × 2 columns</p>\n",
       "</div>"
      ],
      "text/plain": [
       "     sequences_translated  Stable\n",
       "0              KCFDCCYRCP       1\n",
       "1              YCSLCCYRCP       1\n",
       "2              FCLSCCYRCP       1\n",
       "3               SCDCCYRCP       1\n",
       "4           ICTNCRSYCDRCP       1\n",
       "...                   ...     ...\n",
       "1289          ECSNFFCCRCP       0\n",
       "1290          TCYRCTCYFCN       0\n",
       "1291         LCFRCCVFPWCD       0\n",
       "1292        MCFRCDCARPHCA       0\n",
       "1293         LCSSCYRCPWCD       0\n",
       "\n",
       "[1294 rows x 2 columns]"
      ]
     },
     "execution_count": 48,
     "metadata": {},
     "output_type": "execute_result"
    }
   ],
   "source": [
    "all_data = positive.append(negative, ignore_index=True)\n",
    "all_data"
   ]
  },
  {
   "cell_type": "code",
   "execution_count": 49,
   "id": "99161336-e6d0-481f-89a8-f3645e221d81",
   "metadata": {},
   "outputs": [],
   "source": [
    "all_data['smiles1'] = [getCrosslinkedSeq(getSmilesFromAA(seq),linker_7)[0] for seq in all_data['sequences_translated']]\n",
    "all_data['smiles2'] = [getCrosslinkedSeq(getSmilesFromAA(seq),linker_7)[1] for seq in all_data['sequences_translated']]\n",
    "all_data['smiles3'] = [getCrosslinkedSeq(getSmilesFromAA(seq),linker_7)[2] for seq in all_data['sequences_translated']]"
   ]
  },
  {
   "cell_type": "code",
   "execution_count": 50,
   "id": "12b4321a-500e-4faf-90be-6a8c98f01065",
   "metadata": {},
   "outputs": [
    {
     "data": {
      "text/html": [
       "<div>\n",
       "<style scoped>\n",
       "    .dataframe tbody tr th:only-of-type {\n",
       "        vertical-align: middle;\n",
       "    }\n",
       "\n",
       "    .dataframe tbody tr th {\n",
       "        vertical-align: top;\n",
       "    }\n",
       "\n",
       "    .dataframe thead th {\n",
       "        text-align: right;\n",
       "    }\n",
       "</style>\n",
       "<table border=\"1\" class=\"dataframe\">\n",
       "  <thead>\n",
       "    <tr style=\"text-align: right;\">\n",
       "      <th></th>\n",
       "      <th>sequences_translated</th>\n",
       "      <th>Stable</th>\n",
       "      <th>smiles1</th>\n",
       "      <th>smiles2</th>\n",
       "      <th>smiles3</th>\n",
       "    </tr>\n",
       "  </thead>\n",
       "  <tbody>\n",
       "    <tr>\n",
       "      <th>0</th>\n",
       "      <td>KCFDCCYRCP</td>\n",
       "      <td>1</td>\n",
       "      <td>N[C@@H](CCCCN)C(=O)N[C@@H](CSCC(C3)=O)C(=O)N[C...</td>\n",
       "      <td>N[C@@H](CCCCN)C(=O)N[C@@H](CSCC(C4)=O)C(=O)N[C...</td>\n",
       "      <td>N[C@@H](CCCCN)C(=O)N[C@@H](CSCC(C3)=O)C(=O)N[C...</td>\n",
       "    </tr>\n",
       "    <tr>\n",
       "      <th>1</th>\n",
       "      <td>YCSLCCYRCP</td>\n",
       "      <td>1</td>\n",
       "      <td>N[C@@H](Cc1ccc(O)cc1)C(=O)N[C@@H](CSCC(C3)=O)C...</td>\n",
       "      <td>N[C@@H](Cc1ccc(O)cc1)C(=O)N[C@@H](CSCC(C4)=O)C...</td>\n",
       "      <td>N[C@@H](Cc1ccc(O)cc1)C(=O)N[C@@H](CSCC(C3)=O)C...</td>\n",
       "    </tr>\n",
       "    <tr>\n",
       "      <th>2</th>\n",
       "      <td>FCLSCCYRCP</td>\n",
       "      <td>1</td>\n",
       "      <td>N[C@@H](Cc1ccccc1)C(=O)N[C@@H](CSCC(C3)=O)C(=O...</td>\n",
       "      <td>N[C@@H](Cc1ccccc1)C(=O)N[C@@H](CSCC(C4)=O)C(=O...</td>\n",
       "      <td>N[C@@H](Cc1ccccc1)C(=O)N[C@@H](CSCC(C3)=O)C(=O...</td>\n",
       "    </tr>\n",
       "    <tr>\n",
       "      <th>3</th>\n",
       "      <td>SCDCCYRCP</td>\n",
       "      <td>1</td>\n",
       "      <td>N[C@@H](CO)C(=O)N[C@@H](CSCC(C3)=O)C(=O)N[C@@H...</td>\n",
       "      <td>N[C@@H](CO)C(=O)N[C@@H](CSCC(C4)=O)C(=O)N[C@@H...</td>\n",
       "      <td>N[C@@H](CO)C(=O)N[C@@H](CSCC(C3)=O)C(=O)N[C@@H...</td>\n",
       "    </tr>\n",
       "    <tr>\n",
       "      <th>4</th>\n",
       "      <td>ICTNCRSYCDRCP</td>\n",
       "      <td>1</td>\n",
       "      <td>N[C@@H]([C@]([H])(CC)C)C(=O)N[C@@H](CSCC(C3)=O...</td>\n",
       "      <td>N[C@@H]([C@]([H])(CC)C)C(=O)N[C@@H](CSCC(C4)=O...</td>\n",
       "      <td>N[C@@H]([C@]([H])(CC)C)C(=O)N[C@@H](CSCC(C3)=O...</td>\n",
       "    </tr>\n",
       "    <tr>\n",
       "      <th>...</th>\n",
       "      <td>...</td>\n",
       "      <td>...</td>\n",
       "      <td>...</td>\n",
       "      <td>...</td>\n",
       "      <td>...</td>\n",
       "    </tr>\n",
       "    <tr>\n",
       "      <th>1289</th>\n",
       "      <td>ECSNFFCCRCP</td>\n",
       "      <td>0</td>\n",
       "      <td>N[C@@H](CCC(=O)O)C(=O)N[C@@H](CSCC(C3)=O)C(=O)...</td>\n",
       "      <td>N[C@@H](CCC(=O)O)C(=O)N[C@@H](CSCC(C4)=O)C(=O)...</td>\n",
       "      <td>N[C@@H](CCC(=O)O)C(=O)N[C@@H](CSCC(C3)=O)C(=O)...</td>\n",
       "    </tr>\n",
       "    <tr>\n",
       "      <th>1290</th>\n",
       "      <td>TCYRCTCYFCN</td>\n",
       "      <td>0</td>\n",
       "      <td>N[C@@H]([C@]([H])(O)C)C(=O)N[C@@H](CSCC(C3)=O)...</td>\n",
       "      <td>N[C@@H]([C@]([H])(O)C)C(=O)N[C@@H](CSCC(C4)=O)...</td>\n",
       "      <td>N[C@@H]([C@]([H])(O)C)C(=O)N[C@@H](CSCC(C3)=O)...</td>\n",
       "    </tr>\n",
       "    <tr>\n",
       "      <th>1291</th>\n",
       "      <td>LCFRCCVFPWCD</td>\n",
       "      <td>0</td>\n",
       "      <td>N[C@@H](CC(C)C)C(=O)N[C@@H](CSCC(C3)=O)C(=O)N[...</td>\n",
       "      <td>N[C@@H](CC(C)C)C(=O)N[C@@H](CSCC(C4)=O)C(=O)N[...</td>\n",
       "      <td>N[C@@H](CC(C)C)C(=O)N[C@@H](CSCC(C3)=O)C(=O)N[...</td>\n",
       "    </tr>\n",
       "    <tr>\n",
       "      <th>1292</th>\n",
       "      <td>MCFRCDCARPHCA</td>\n",
       "      <td>0</td>\n",
       "      <td>N[C@@H](CCSC)C(=O)N[C@@H](CSCC(C3)=O)C(=O)N[C@...</td>\n",
       "      <td>N[C@@H](CCSC)C(=O)N[C@@H](CSCC(C4)=O)C(=O)N[C@...</td>\n",
       "      <td>N[C@@H](CCSC)C(=O)N[C@@H](CSCC(C3)=O)C(=O)N[C@...</td>\n",
       "    </tr>\n",
       "    <tr>\n",
       "      <th>1293</th>\n",
       "      <td>LCSSCYRCPWCD</td>\n",
       "      <td>0</td>\n",
       "      <td>N[C@@H](CC(C)C)C(=O)N[C@@H](CSCC(C3)=O)C(=O)N[...</td>\n",
       "      <td>N[C@@H](CC(C)C)C(=O)N[C@@H](CSCC(C4)=O)C(=O)N[...</td>\n",
       "      <td>N[C@@H](CC(C)C)C(=O)N[C@@H](CSCC(C3)=O)C(=O)N[...</td>\n",
       "    </tr>\n",
       "  </tbody>\n",
       "</table>\n",
       "<p>1294 rows × 5 columns</p>\n",
       "</div>"
      ],
      "text/plain": [
       "     sequences_translated  Stable  \\\n",
       "0              KCFDCCYRCP       1   \n",
       "1              YCSLCCYRCP       1   \n",
       "2              FCLSCCYRCP       1   \n",
       "3               SCDCCYRCP       1   \n",
       "4           ICTNCRSYCDRCP       1   \n",
       "...                   ...     ...   \n",
       "1289          ECSNFFCCRCP       0   \n",
       "1290          TCYRCTCYFCN       0   \n",
       "1291         LCFRCCVFPWCD       0   \n",
       "1292        MCFRCDCARPHCA       0   \n",
       "1293         LCSSCYRCPWCD       0   \n",
       "\n",
       "                                                smiles1  \\\n",
       "0     N[C@@H](CCCCN)C(=O)N[C@@H](CSCC(C3)=O)C(=O)N[C...   \n",
       "1     N[C@@H](Cc1ccc(O)cc1)C(=O)N[C@@H](CSCC(C3)=O)C...   \n",
       "2     N[C@@H](Cc1ccccc1)C(=O)N[C@@H](CSCC(C3)=O)C(=O...   \n",
       "3     N[C@@H](CO)C(=O)N[C@@H](CSCC(C3)=O)C(=O)N[C@@H...   \n",
       "4     N[C@@H]([C@]([H])(CC)C)C(=O)N[C@@H](CSCC(C3)=O...   \n",
       "...                                                 ...   \n",
       "1289  N[C@@H](CCC(=O)O)C(=O)N[C@@H](CSCC(C3)=O)C(=O)...   \n",
       "1290  N[C@@H]([C@]([H])(O)C)C(=O)N[C@@H](CSCC(C3)=O)...   \n",
       "1291  N[C@@H](CC(C)C)C(=O)N[C@@H](CSCC(C3)=O)C(=O)N[...   \n",
       "1292  N[C@@H](CCSC)C(=O)N[C@@H](CSCC(C3)=O)C(=O)N[C@...   \n",
       "1293  N[C@@H](CC(C)C)C(=O)N[C@@H](CSCC(C3)=O)C(=O)N[...   \n",
       "\n",
       "                                                smiles2  \\\n",
       "0     N[C@@H](CCCCN)C(=O)N[C@@H](CSCC(C4)=O)C(=O)N[C...   \n",
       "1     N[C@@H](Cc1ccc(O)cc1)C(=O)N[C@@H](CSCC(C4)=O)C...   \n",
       "2     N[C@@H](Cc1ccccc1)C(=O)N[C@@H](CSCC(C4)=O)C(=O...   \n",
       "3     N[C@@H](CO)C(=O)N[C@@H](CSCC(C4)=O)C(=O)N[C@@H...   \n",
       "4     N[C@@H]([C@]([H])(CC)C)C(=O)N[C@@H](CSCC(C4)=O...   \n",
       "...                                                 ...   \n",
       "1289  N[C@@H](CCC(=O)O)C(=O)N[C@@H](CSCC(C4)=O)C(=O)...   \n",
       "1290  N[C@@H]([C@]([H])(O)C)C(=O)N[C@@H](CSCC(C4)=O)...   \n",
       "1291  N[C@@H](CC(C)C)C(=O)N[C@@H](CSCC(C4)=O)C(=O)N[...   \n",
       "1292  N[C@@H](CCSC)C(=O)N[C@@H](CSCC(C4)=O)C(=O)N[C@...   \n",
       "1293  N[C@@H](CC(C)C)C(=O)N[C@@H](CSCC(C4)=O)C(=O)N[...   \n",
       "\n",
       "                                                smiles3  \n",
       "0     N[C@@H](CCCCN)C(=O)N[C@@H](CSCC(C3)=O)C(=O)N[C...  \n",
       "1     N[C@@H](Cc1ccc(O)cc1)C(=O)N[C@@H](CSCC(C3)=O)C...  \n",
       "2     N[C@@H](Cc1ccccc1)C(=O)N[C@@H](CSCC(C3)=O)C(=O...  \n",
       "3     N[C@@H](CO)C(=O)N[C@@H](CSCC(C3)=O)C(=O)N[C@@H...  \n",
       "4     N[C@@H]([C@]([H])(CC)C)C(=O)N[C@@H](CSCC(C3)=O...  \n",
       "...                                                 ...  \n",
       "1289  N[C@@H](CCC(=O)O)C(=O)N[C@@H](CSCC(C3)=O)C(=O)...  \n",
       "1290  N[C@@H]([C@]([H])(O)C)C(=O)N[C@@H](CSCC(C3)=O)...  \n",
       "1291  N[C@@H](CC(C)C)C(=O)N[C@@H](CSCC(C3)=O)C(=O)N[...  \n",
       "1292  N[C@@H](CCSC)C(=O)N[C@@H](CSCC(C3)=O)C(=O)N[C@...  \n",
       "1293  N[C@@H](CC(C)C)C(=O)N[C@@H](CSCC(C3)=O)C(=O)N[...  \n",
       "\n",
       "[1294 rows x 5 columns]"
      ]
     },
     "execution_count": 50,
     "metadata": {},
     "output_type": "execute_result"
    }
   ],
   "source": [
    "all_data"
   ]
  },
  {
   "cell_type": "code",
   "execution_count": 52,
   "id": "0ab4ee3d-6d10-4371-990d-555d64f6f623",
   "metadata": {},
   "outputs": [],
   "source": [
    "output_x_data = np.hstack((all_data['smiles1'],all_data['smiles2'],all_data['smiles3']))"
   ]
  },
  {
   "cell_type": "code",
   "execution_count": 53,
   "id": "266c1469-8b4b-4452-a2b2-a61573c66574",
   "metadata": {},
   "outputs": [
    {
     "data": {
      "text/plain": [
       "array(['N[C@@H](CCCCN)C(=O)N[C@@H](CSCC(C3)=O)C(=O)N[C@@H](Cc1ccccc1)C(=O)N[C@@H](CC(=O)O)C(=O)N[C@@H](CS3)C(=O)N[C@@H](CSCC(C3)=O)C(=O)N[C@@H](Cc1ccc(O)cc1)C(=O)N[C@@H](CCCNC(=N)N)C(=O)N[C@@H](CS3)C(=O)N1[C@@H](CCC1)C(=O)O',\n",
       "       'N[C@@H](Cc1ccc(O)cc1)C(=O)N[C@@H](CSCC(C3)=O)C(=O)N[C@@H](CO)C(=O)N[C@@H](CC(C)C)C(=O)N[C@@H](CS3)C(=O)N[C@@H](CSCC(C3)=O)C(=O)N[C@@H](Cc1ccc(O)cc1)C(=O)N[C@@H](CCCNC(=N)N)C(=O)N[C@@H](CS3)C(=O)N1[C@@H](CCC1)C(=O)O',\n",
       "       'N[C@@H](Cc1ccccc1)C(=O)N[C@@H](CSCC(C3)=O)C(=O)N[C@@H](CC(C)C)C(=O)N[C@@H](CO)C(=O)N[C@@H](CS3)C(=O)N[C@@H](CSCC(C3)=O)C(=O)N[C@@H](Cc1ccc(O)cc1)C(=O)N[C@@H](CCCNC(=N)N)C(=O)N[C@@H](CS3)C(=O)N1[C@@H](CCC1)C(=O)O',\n",
       "       ...,\n",
       "       'N[C@@H](CC(C)C)C(=O)N[C@@H](CSCC(C3)=O)C(=O)N[C@@H](Cc1ccccc1)C(=O)N[C@@H](CCCNC(=N)N)C(=O)N[C@@H](CSCC(C4)=O)C(=O)N[C@@H](CS3)C(=O)N[C@@H](C(C)C)C(=O)N[C@@H](Cc1ccccc1)C(=O)N1[C@@H](CCC1)C(=O)N[C@@H](CC(=CN2)C1=C2C=CC=C1)C(=O)N[C@@H](CS4)C(=O)N[C@@H](CC(=O)O)C(=O)O',\n",
       "       'N[C@@H](CCSC)C(=O)N[C@@H](CSCC(C3)=O)C(=O)N[C@@H](Cc1ccccc1)C(=O)N[C@@H](CCCNC(=N)N)C(=O)N[C@@H](CSCC(C4)=O)C(=O)N[C@@H](CC(=O)O)C(=O)N[C@@H](CS3)C(=O)N[C@@H](C)C(=O)N[C@@H](CCCNC(=N)N)C(=O)N1[C@@H](CCC1)C(=O)N[C@@H](CC1=CN=C-N1)C(=O)N[C@@H](CS4)C(=O)N[C@@H](C)C(=O)O',\n",
       "       'N[C@@H](CC(C)C)C(=O)N[C@@H](CSCC(C3)=O)C(=O)N[C@@H](CO)C(=O)N[C@@H](CO)C(=O)N[C@@H](CSCC(C4)=O)C(=O)N[C@@H](Cc1ccc(O)cc1)C(=O)N[C@@H](CCCNC(=N)N)C(=O)N[C@@H](CS3)C(=O)N1[C@@H](CCC1)C(=O)N[C@@H](CC(=CN2)C1=C2C=CC=C1)C(=O)N[C@@H](CS4)C(=O)N[C@@H](CC(=O)O)C(=O)O'],\n",
       "      dtype=object)"
      ]
     },
     "execution_count": 53,
     "metadata": {},
     "output_type": "execute_result"
    }
   ],
   "source": [
    "output_x_data"
   ]
  },
  {
   "cell_type": "code",
   "execution_count": 54,
   "id": "5a1fbd59-addb-46e6-940f-75660b0251f9",
   "metadata": {},
   "outputs": [],
   "source": [
    "output_y_data = np.hstack((all_data['Stable'],all_data['Stable'],all_data['Stable']))"
   ]
  },
  {
   "cell_type": "code",
   "execution_count": 55,
   "id": "62d5100b-c89b-40ec-97a3-793e1ed08853",
   "metadata": {},
   "outputs": [
    {
     "data": {
      "text/plain": [
       "array([1, 1, 1, ..., 0, 0, 0])"
      ]
     },
     "execution_count": 55,
     "metadata": {},
     "output_type": "execute_result"
    }
   ],
   "source": [
    "output_y_data"
   ]
  },
  {
   "cell_type": "code",
   "execution_count": 57,
   "id": "3248860d-d666-4fa9-9b7b-675a4d335aa8",
   "metadata": {},
   "outputs": [],
   "source": [
    "#split train and test data\n",
    "X_train, X_test, y_train, y_test = train_test_split(output_x_data, output_y_data, test_size=0.3, random_state=42)"
   ]
  },
  {
   "cell_type": "code",
   "execution_count": 59,
   "id": "d50b1665-0116-456e-8606-33c312cbaae2",
   "metadata": {},
   "outputs": [
    {
     "data": {
      "text/plain": [
       "array([0, 0, 1, ..., 0, 0, 1])"
      ]
     },
     "execution_count": 59,
     "metadata": {},
     "output_type": "execute_result"
    }
   ],
   "source": [
    "y_train"
   ]
  },
  {
   "cell_type": "code",
   "execution_count": 66,
   "id": "4b22ff2f-9a35-419e-93b7-100afe61abca",
   "metadata": {},
   "outputs": [],
   "source": [
    "pd.DataFrame(X_train).to_csv('X_train.txt', header=None, index=None, sep=' ', mode='a')\n",
    "pd.DataFrame(X_test).to_csv('X_test.txt', header=None, index=None, sep=' ', mode='a')\n",
    "pd.DataFrame(y_train).to_csv('y_train.txt', header=None, index=None, sep=' ', mode='a')\n",
    "pd.DataFrame(y_test).to_csv('y_test.txt', header=None, index=None, sep=' ', mode='a')"
   ]
  },
  {
   "cell_type": "code",
   "execution_count": null,
   "id": "aff40ba3-6708-42e9-b298-0484ed7c0ffb",
   "metadata": {},
   "outputs": [],
   "source": []
  }
 ],
 "metadata": {
  "kernelspec": {
   "display_name": "Python 3 (ipykernel)",
   "language": "python",
   "name": "python3"
  },
  "language_info": {
   "codemirror_mode": {
    "name": "ipython",
    "version": 3
   },
   "file_extension": ".py",
   "mimetype": "text/x-python",
   "name": "python",
   "nbconvert_exporter": "python",
   "pygments_lexer": "ipython3",
   "version": "3.9.7"
  }
 },
 "nbformat": 4,
 "nbformat_minor": 5
}
